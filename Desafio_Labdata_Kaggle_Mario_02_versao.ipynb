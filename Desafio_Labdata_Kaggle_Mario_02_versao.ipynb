{
  "nbformat": 4,
  "nbformat_minor": 0,
  "metadata": {
    "kernelspec": {
      "display_name": "Python 3",
      "language": "python",
      "name": "python3"
    },
    "language_info": {
      "codemirror_mode": {
        "name": "ipython",
        "version": 3
      },
      "file_extension": ".py",
      "mimetype": "text/x-python",
      "name": "python",
      "nbconvert_exporter": "python",
      "pygments_lexer": "ipython3",
      "version": "3.7.6"
    },
    "toc": {
      "base_numbering": 1,
      "nav_menu": {},
      "number_sections": true,
      "sideBar": true,
      "skip_h1_title": true,
      "title_cell": "Table of Contents",
      "title_sidebar": "Contents",
      "toc_cell": false,
      "toc_position": {
        "height": "calc(100% - 180px)",
        "left": "10px",
        "top": "150px",
        "width": "341.306px"
      },
      "toc_section_display": true,
      "toc_window_display": true
    },
    "varInspector": {
      "cols": {
        "lenName": 16,
        "lenType": 16,
        "lenVar": 40
      },
      "kernels_config": {
        "python": {
          "delete_cmd_postfix": "",
          "delete_cmd_prefix": "del ",
          "library": "var_list.py",
          "varRefreshCmd": "print(var_dic_list())"
        },
        "r": {
          "delete_cmd_postfix": ") ",
          "delete_cmd_prefix": "rm(",
          "library": "var_list.r",
          "varRefreshCmd": "cat(var_dic_list()) "
        }
      },
      "types_to_exclude": [
        "module",
        "function",
        "builtin_function_or_method",
        "instance",
        "_Feature"
      ],
      "window_display": false
    },
    "colab": {
      "name": "Desafio_Labdata_Kaggle_Mario_02_versao.ipynb",
      "provenance": []
    }
  },
  "cells": [
    {
      "cell_type": "markdown",
      "metadata": {
        "id": "HiFSm8MZDYrw"
      },
      "source": [
        "## Problema:\n",
        "O objetivo desta análise consiste em prever a probabilidade de churn dos clientes de uma empresa de telecomunicações, isto é, a probabilidade de o cliente deixar de ser cliente."
      ]
    },
    {
      "cell_type": "markdown",
      "metadata": {
        "id": "uJwfxXQwDYr6"
      },
      "source": [
        "## Controle de versões\n",
        "1. Versão: Seleção de variáveis - uso de variaveis selecionadas no modelo <br>\n",
        "Score: 0.77840 <br>\n",
        "2. Versão: Uso de todas as variáveis no modelo<br>\n",
        "Score: 0.78977  MELHOR SCORE ATÉ O MOMENTO !"
      ]
    },
    {
      "cell_type": "markdown",
      "metadata": {
        "id": "tjY5bX2MDYr7"
      },
      "source": [
        "## Configuração do ambiente"
      ]
    },
    {
      "cell_type": "code",
      "metadata": {
        "id": "AVJAdPAXDYr9",
        "outputId": "d2ea33b9-f786-4a82-966c-c0dda592e76b",
        "colab": {
          "base_uri": "https://localhost:8080/"
        }
      },
      "source": [
        "from platform import python_version\n",
        "print(python_version())"
      ],
      "execution_count": 1,
      "outputs": [
        {
          "output_type": "stream",
          "text": [
            "3.6.9\n"
          ],
          "name": "stdout"
        }
      ]
    },
    {
      "cell_type": "markdown",
      "metadata": {
        "id": "ejWMl_IJDYsI"
      },
      "source": [
        "## Obtenção dos dados"
      ]
    },
    {
      "cell_type": "markdown",
      "metadata": {
        "id": "R8_0bDkLDYsJ"
      },
      "source": [
        "### Importação das bibliotecas"
      ]
    },
    {
      "cell_type": "code",
      "metadata": {
        "id": "ipmgBavLDYsK"
      },
      "source": [
        "import pandas as pd\n",
        "import numpy as np\n",
        "import matplotlib.pyplot as plt\n",
        "import seaborn as sns\n",
        "import warnings\n",
        "warnings.filterwarnings(\"ignore\", category=FutureWarning)\n",
        "pd.options.display.float_format = '{:,.2f}'.format\n",
        "pd.set_option('display.max_columns', None)\n",
        "pd.set_option('display.max_rows', 72)"
      ],
      "execution_count": 2,
      "outputs": []
    },
    {
      "cell_type": "markdown",
      "metadata": {
        "id": "6KBRmlQGDYsO"
      },
      "source": [
        "### Carregamento dos dados"
      ]
    },
    {
      "cell_type": "code",
      "metadata": {
        "id": "RJDJH8YkDYsP"
      },
      "source": [
        "url = 'https://raw.githubusercontent.com/rnlima8/DSWP/master/Dataframes/train.csv'\n",
        "# dados = pd.read_csv('train.csv',sep=',')\n",
        "dados = pd.read_csv(url)"
      ],
      "execution_count": 15,
      "outputs": []
    },
    {
      "cell_type": "markdown",
      "metadata": {
        "id": "Rp0Ru47BDYsY"
      },
      "source": [
        "### Visualização das linhas iniciais de dados"
      ]
    },
    {
      "cell_type": "code",
      "metadata": {
        "id": "8ok1ecA3DYsa",
        "outputId": "a0767f8c-cbe9-4012-a91d-584703607e36",
        "colab": {
          "base_uri": "https://localhost:8080/",
          "height": 309
        }
      },
      "source": [
        "dados.head()"
      ],
      "execution_count": 16,
      "outputs": [
        {
          "output_type": "execute_result",
          "data": {
            "text/html": [
              "<div>\n",
              "<style scoped>\n",
              "    .dataframe tbody tr th:only-of-type {\n",
              "        vertical-align: middle;\n",
              "    }\n",
              "\n",
              "    .dataframe tbody tr th {\n",
              "        vertical-align: top;\n",
              "    }\n",
              "\n",
              "    .dataframe thead th {\n",
              "        text-align: right;\n",
              "    }\n",
              "</style>\n",
              "<table border=\"1\" class=\"dataframe\">\n",
              "  <thead>\n",
              "    <tr style=\"text-align: right;\">\n",
              "      <th></th>\n",
              "      <th>id</th>\n",
              "      <th>gender</th>\n",
              "      <th>SeniorCitizen</th>\n",
              "      <th>Partner</th>\n",
              "      <th>Dependents</th>\n",
              "      <th>tenure</th>\n",
              "      <th>PhoneService</th>\n",
              "      <th>MultipleLines</th>\n",
              "      <th>InternetService</th>\n",
              "      <th>OnlineSecurity</th>\n",
              "      <th>OnlineBackup</th>\n",
              "      <th>DeviceProtection</th>\n",
              "      <th>TechSupport</th>\n",
              "      <th>StreamingTV</th>\n",
              "      <th>StreamingMovies</th>\n",
              "      <th>Contract</th>\n",
              "      <th>PaperlessBilling</th>\n",
              "      <th>PaymentMethod</th>\n",
              "      <th>MonthlyCharges</th>\n",
              "      <th>TotalCharges</th>\n",
              "      <th>Churn</th>\n",
              "    </tr>\n",
              "  </thead>\n",
              "  <tbody>\n",
              "    <tr>\n",
              "      <th>0</th>\n",
              "      <td>4030</td>\n",
              "      <td>Female</td>\n",
              "      <td>0</td>\n",
              "      <td>No</td>\n",
              "      <td>No</td>\n",
              "      <td>56.00</td>\n",
              "      <td>No</td>\n",
              "      <td>No phone service</td>\n",
              "      <td>DSL</td>\n",
              "      <td>Yes</td>\n",
              "      <td>Yes</td>\n",
              "      <td>Yes</td>\n",
              "      <td>Yes</td>\n",
              "      <td>No</td>\n",
              "      <td>No</td>\n",
              "      <td>Two year</td>\n",
              "      <td>No</td>\n",
              "      <td>NaN</td>\n",
              "      <td>45.05</td>\n",
              "      <td>2560.1</td>\n",
              "      <td>0</td>\n",
              "    </tr>\n",
              "    <tr>\n",
              "      <th>1</th>\n",
              "      <td>6731</td>\n",
              "      <td>Male</td>\n",
              "      <td>0</td>\n",
              "      <td>Yes</td>\n",
              "      <td>Yes</td>\n",
              "      <td>nan</td>\n",
              "      <td>Yes</td>\n",
              "      <td>No</td>\n",
              "      <td>No</td>\n",
              "      <td>No internet service</td>\n",
              "      <td>No internet service</td>\n",
              "      <td>No internet service</td>\n",
              "      <td>No internet service</td>\n",
              "      <td>No internet service</td>\n",
              "      <td>No internet service</td>\n",
              "      <td>One year</td>\n",
              "      <td>No</td>\n",
              "      <td>Mailed check</td>\n",
              "      <td>19.65</td>\n",
              "      <td>332.65</td>\n",
              "      <td>0</td>\n",
              "    </tr>\n",
              "    <tr>\n",
              "      <th>2</th>\n",
              "      <td>6479</td>\n",
              "      <td>Female</td>\n",
              "      <td>0</td>\n",
              "      <td>Yes</td>\n",
              "      <td>No</td>\n",
              "      <td>60.00</td>\n",
              "      <td>Yes</td>\n",
              "      <td>Yes</td>\n",
              "      <td>Fiber optic</td>\n",
              "      <td>No</td>\n",
              "      <td>Yes</td>\n",
              "      <td>Yes</td>\n",
              "      <td>Yes</td>\n",
              "      <td>Yes</td>\n",
              "      <td>Yes</td>\n",
              "      <td>Two year</td>\n",
              "      <td>Yes</td>\n",
              "      <td>Credit card (automatic)</td>\n",
              "      <td>110.80</td>\n",
              "      <td>6640.7</td>\n",
              "      <td>0</td>\n",
              "    </tr>\n",
              "    <tr>\n",
              "      <th>3</th>\n",
              "      <td>6861</td>\n",
              "      <td>Female</td>\n",
              "      <td>0</td>\n",
              "      <td>No</td>\n",
              "      <td>No</td>\n",
              "      <td>37.00</td>\n",
              "      <td>Yes</td>\n",
              "      <td>Yes</td>\n",
              "      <td>Fiber optic</td>\n",
              "      <td>No</td>\n",
              "      <td>Yes</td>\n",
              "      <td>Yes</td>\n",
              "      <td>No</td>\n",
              "      <td>Yes</td>\n",
              "      <td>Yes</td>\n",
              "      <td>Month-to-month</td>\n",
              "      <td>Yes</td>\n",
              "      <td>Bank transfer (automatic)</td>\n",
              "      <td>101.90</td>\n",
              "      <td>3545.35</td>\n",
              "      <td>1</td>\n",
              "    </tr>\n",
              "    <tr>\n",
              "      <th>4</th>\n",
              "      <td>3266</td>\n",
              "      <td>Male</td>\n",
              "      <td>0</td>\n",
              "      <td>Yes</td>\n",
              "      <td>Yes</td>\n",
              "      <td>29.00</td>\n",
              "      <td>Yes</td>\n",
              "      <td>No</td>\n",
              "      <td>Fiber optic</td>\n",
              "      <td>No</td>\n",
              "      <td>No</td>\n",
              "      <td>No</td>\n",
              "      <td>No</td>\n",
              "      <td>No</td>\n",
              "      <td>No</td>\n",
              "      <td>Month-to-month</td>\n",
              "      <td>Yes</td>\n",
              "      <td>Electronic check</td>\n",
              "      <td>70.75</td>\n",
              "      <td>1974.8</td>\n",
              "      <td>1</td>\n",
              "    </tr>\n",
              "  </tbody>\n",
              "</table>\n",
              "</div>"
            ],
            "text/plain": [
              "     id  gender  SeniorCitizen Partner Dependents  tenure PhoneService  \\\n",
              "0  4030  Female              0      No         No   56.00           No   \n",
              "1  6731    Male              0     Yes        Yes     nan          Yes   \n",
              "2  6479  Female              0     Yes         No   60.00          Yes   \n",
              "3  6861  Female              0      No         No   37.00          Yes   \n",
              "4  3266    Male              0     Yes        Yes   29.00          Yes   \n",
              "\n",
              "      MultipleLines InternetService       OnlineSecurity         OnlineBackup  \\\n",
              "0  No phone service             DSL                  Yes                  Yes   \n",
              "1                No              No  No internet service  No internet service   \n",
              "2               Yes     Fiber optic                   No                  Yes   \n",
              "3               Yes     Fiber optic                   No                  Yes   \n",
              "4                No     Fiber optic                   No                   No   \n",
              "\n",
              "      DeviceProtection          TechSupport          StreamingTV  \\\n",
              "0                  Yes                  Yes                   No   \n",
              "1  No internet service  No internet service  No internet service   \n",
              "2                  Yes                  Yes                  Yes   \n",
              "3                  Yes                   No                  Yes   \n",
              "4                   No                   No                   No   \n",
              "\n",
              "       StreamingMovies        Contract PaperlessBilling  \\\n",
              "0                   No        Two year               No   \n",
              "1  No internet service        One year               No   \n",
              "2                  Yes        Two year              Yes   \n",
              "3                  Yes  Month-to-month              Yes   \n",
              "4                   No  Month-to-month              Yes   \n",
              "\n",
              "               PaymentMethod  MonthlyCharges TotalCharges  Churn  \n",
              "0                        NaN           45.05       2560.1      0  \n",
              "1               Mailed check           19.65       332.65      0  \n",
              "2    Credit card (automatic)          110.80       6640.7      0  \n",
              "3  Bank transfer (automatic)          101.90      3545.35      1  \n",
              "4           Electronic check           70.75       1974.8      1  "
            ]
          },
          "metadata": {
            "tags": []
          },
          "execution_count": 16
        }
      ]
    },
    {
      "cell_type": "markdown",
      "metadata": {
        "id": "7kt_tBwYDYsi"
      },
      "source": [
        "## Manipulação inicial do banco de dados"
      ]
    },
    {
      "cell_type": "markdown",
      "metadata": {
        "id": "Kwt8-b4gDYsk"
      },
      "source": [
        "### Renomeando o banco de dados"
      ]
    },
    {
      "cell_type": "code",
      "metadata": {
        "id": "UpihhfeeDYsl"
      },
      "source": [
        "dados = dados.rename(columns={\n",
        "    'id':'id',\n",
        "    'gender':'genero',\n",
        "    'SeniorCitizen':'Idoso',\n",
        "    'Partner':'TemParceiro',\n",
        "    'Dependents':'TemDependentes',\n",
        "    'tenure':'MesesNaCompanhia',\n",
        "    'PhoneService':'TemTelefone',\n",
        "    'MultipleLines':'MaisLinhas',\n",
        "    'InternetService':'TemInternet',\n",
        "    'OnlineSecurity':'ServicoSegurancaOnline',\n",
        "    'OnlineBackup':'ServicoBackupOnline',\n",
        "    'DeviceProtection':'ServicoProtecaoOnline',\n",
        "    'TechSupport':'ServicoSuporteOnline',\n",
        "    'StreamingTV':'ServicoTV',\n",
        "    'StreamingMovies':'ServicoPctFilmes',\n",
        "    'Contract':'Contrato',\n",
        "    'PaperlessBilling':'ContaOnline',\n",
        "    'PaymentMethod':'MetodoPagamento',\n",
        "    'MonthlyCharges':'CobrancaMensal',\n",
        "    'TotalCharges':'CobrancaTotal',\n",
        "    'Churn':'Churn'\n",
        "})"
      ],
      "execution_count": 20,
      "outputs": []
    },
    {
      "cell_type": "markdown",
      "metadata": {
        "id": "_5g_J0nqDYsr"
      },
      "source": [
        "### Visualizando o banco de dados"
      ]
    },
    {
      "cell_type": "code",
      "metadata": {
        "id": "2CT_y-jHDYss",
        "outputId": "78f79428-ed36-4f7e-a5ec-6365a7bbb355",
        "colab": {
          "base_uri": "https://localhost:8080/",
          "height": 853
        }
      },
      "source": [
        "dados.head(10).T  #.T faz a transposta da exibiçao do comando head"
      ],
      "execution_count": 21,
      "outputs": [
        {
          "output_type": "execute_result",
          "data": {
            "text/html": [
              "<div>\n",
              "<style scoped>\n",
              "    .dataframe tbody tr th:only-of-type {\n",
              "        vertical-align: middle;\n",
              "    }\n",
              "\n",
              "    .dataframe tbody tr th {\n",
              "        vertical-align: top;\n",
              "    }\n",
              "\n",
              "    .dataframe thead th {\n",
              "        text-align: right;\n",
              "    }\n",
              "</style>\n",
              "<table border=\"1\" class=\"dataframe\">\n",
              "  <thead>\n",
              "    <tr style=\"text-align: right;\">\n",
              "      <th></th>\n",
              "      <th>0</th>\n",
              "      <th>1</th>\n",
              "      <th>2</th>\n",
              "      <th>3</th>\n",
              "      <th>4</th>\n",
              "      <th>5</th>\n",
              "      <th>6</th>\n",
              "      <th>7</th>\n",
              "      <th>8</th>\n",
              "      <th>9</th>\n",
              "    </tr>\n",
              "  </thead>\n",
              "  <tbody>\n",
              "    <tr>\n",
              "      <th>id</th>\n",
              "      <td>4030</td>\n",
              "      <td>6731</td>\n",
              "      <td>6479</td>\n",
              "      <td>6861</td>\n",
              "      <td>3266</td>\n",
              "      <td>6368</td>\n",
              "      <td>5830</td>\n",
              "      <td>4476</td>\n",
              "      <td>1508</td>\n",
              "      <td>2921</td>\n",
              "    </tr>\n",
              "    <tr>\n",
              "      <th>genero</th>\n",
              "      <td>Female</td>\n",
              "      <td>Male</td>\n",
              "      <td>Female</td>\n",
              "      <td>Female</td>\n",
              "      <td>Male</td>\n",
              "      <td>Male</td>\n",
              "      <td>Male</td>\n",
              "      <td>Female</td>\n",
              "      <td>Male</td>\n",
              "      <td>Female</td>\n",
              "    </tr>\n",
              "    <tr>\n",
              "      <th>Idoso</th>\n",
              "      <td>0</td>\n",
              "      <td>0</td>\n",
              "      <td>0</td>\n",
              "      <td>0</td>\n",
              "      <td>0</td>\n",
              "      <td>0</td>\n",
              "      <td>0</td>\n",
              "      <td>0</td>\n",
              "      <td>0</td>\n",
              "      <td>0</td>\n",
              "    </tr>\n",
              "    <tr>\n",
              "      <th>TemParceiro</th>\n",
              "      <td>No</td>\n",
              "      <td>Yes</td>\n",
              "      <td>Yes</td>\n",
              "      <td>No</td>\n",
              "      <td>Yes</td>\n",
              "      <td>No</td>\n",
              "      <td>Yes</td>\n",
              "      <td>No</td>\n",
              "      <td>No</td>\n",
              "      <td>Yes</td>\n",
              "    </tr>\n",
              "    <tr>\n",
              "      <th>TemDependentes</th>\n",
              "      <td>No</td>\n",
              "      <td>Yes</td>\n",
              "      <td>No</td>\n",
              "      <td>No</td>\n",
              "      <td>Yes</td>\n",
              "      <td>No</td>\n",
              "      <td>Yes</td>\n",
              "      <td>No</td>\n",
              "      <td>No</td>\n",
              "      <td>No</td>\n",
              "    </tr>\n",
              "    <tr>\n",
              "      <th>MesesNaCompanhia</th>\n",
              "      <td>56.00</td>\n",
              "      <td>NaN</td>\n",
              "      <td>60.00</td>\n",
              "      <td>37.00</td>\n",
              "      <td>29.00</td>\n",
              "      <td>70.00</td>\n",
              "      <td>31.00</td>\n",
              "      <td>3.00</td>\n",
              "      <td>54.00</td>\n",
              "      <td>72.00</td>\n",
              "    </tr>\n",
              "    <tr>\n",
              "      <th>TemTelefone</th>\n",
              "      <td>No</td>\n",
              "      <td>Yes</td>\n",
              "      <td>Yes</td>\n",
              "      <td>Yes</td>\n",
              "      <td>Yes</td>\n",
              "      <td>No</td>\n",
              "      <td>No</td>\n",
              "      <td>Yes</td>\n",
              "      <td>Yes</td>\n",
              "      <td>Yes</td>\n",
              "    </tr>\n",
              "    <tr>\n",
              "      <th>MaisLinhas</th>\n",
              "      <td>No phone service</td>\n",
              "      <td>No</td>\n",
              "      <td>Yes</td>\n",
              "      <td>Yes</td>\n",
              "      <td>No</td>\n",
              "      <td>No phone service</td>\n",
              "      <td>No phone service</td>\n",
              "      <td>No</td>\n",
              "      <td>No</td>\n",
              "      <td>No</td>\n",
              "    </tr>\n",
              "    <tr>\n",
              "      <th>TemInternet</th>\n",
              "      <td>DSL</td>\n",
              "      <td>No</td>\n",
              "      <td>Fiber optic</td>\n",
              "      <td>Fiber optic</td>\n",
              "      <td>Fiber optic</td>\n",
              "      <td>DSL</td>\n",
              "      <td>DSL</td>\n",
              "      <td>No</td>\n",
              "      <td>No</td>\n",
              "      <td>DSL</td>\n",
              "    </tr>\n",
              "    <tr>\n",
              "      <th>ServicoSegurancaOnline</th>\n",
              "      <td>Yes</td>\n",
              "      <td>No internet service</td>\n",
              "      <td>No</td>\n",
              "      <td>No</td>\n",
              "      <td>No</td>\n",
              "      <td>Yes</td>\n",
              "      <td>Yes</td>\n",
              "      <td>No internet service</td>\n",
              "      <td>No internet service</td>\n",
              "      <td>Yes</td>\n",
              "    </tr>\n",
              "    <tr>\n",
              "      <th>ServicoBackupOnline</th>\n",
              "      <td>Yes</td>\n",
              "      <td>No internet service</td>\n",
              "      <td>Yes</td>\n",
              "      <td>Yes</td>\n",
              "      <td>No</td>\n",
              "      <td>No</td>\n",
              "      <td>No</td>\n",
              "      <td>No internet service</td>\n",
              "      <td>No internet service</td>\n",
              "      <td>Yes</td>\n",
              "    </tr>\n",
              "    <tr>\n",
              "      <th>ServicoProtecaoOnline</th>\n",
              "      <td>Yes</td>\n",
              "      <td>No internet service</td>\n",
              "      <td>Yes</td>\n",
              "      <td>Yes</td>\n",
              "      <td>No</td>\n",
              "      <td>Yes</td>\n",
              "      <td>Yes</td>\n",
              "      <td>No internet service</td>\n",
              "      <td>No internet service</td>\n",
              "      <td>Yes</td>\n",
              "    </tr>\n",
              "    <tr>\n",
              "      <th>ServicoSuporteOnline</th>\n",
              "      <td>Yes</td>\n",
              "      <td>No internet service</td>\n",
              "      <td>Yes</td>\n",
              "      <td>No</td>\n",
              "      <td>No</td>\n",
              "      <td>Yes</td>\n",
              "      <td>Yes</td>\n",
              "      <td>No internet service</td>\n",
              "      <td>No internet service</td>\n",
              "      <td>Yes</td>\n",
              "    </tr>\n",
              "    <tr>\n",
              "      <th>ServicoTV</th>\n",
              "      <td>No</td>\n",
              "      <td>No internet service</td>\n",
              "      <td>Yes</td>\n",
              "      <td>Yes</td>\n",
              "      <td>No</td>\n",
              "      <td>No</td>\n",
              "      <td>Yes</td>\n",
              "      <td>No internet service</td>\n",
              "      <td>No internet service</td>\n",
              "      <td>Yes</td>\n",
              "    </tr>\n",
              "    <tr>\n",
              "      <th>ServicoPctFilmes</th>\n",
              "      <td>No</td>\n",
              "      <td>No internet service</td>\n",
              "      <td>Yes</td>\n",
              "      <td>Yes</td>\n",
              "      <td>No</td>\n",
              "      <td>Yes</td>\n",
              "      <td>Yes</td>\n",
              "      <td>No internet service</td>\n",
              "      <td>No internet service</td>\n",
              "      <td>Yes</td>\n",
              "    </tr>\n",
              "    <tr>\n",
              "      <th>Contrato</th>\n",
              "      <td>Two year</td>\n",
              "      <td>One year</td>\n",
              "      <td>Two year</td>\n",
              "      <td>Month-to-month</td>\n",
              "      <td>Month-to-month</td>\n",
              "      <td>Two year</td>\n",
              "      <td>One year</td>\n",
              "      <td>Month-to-month</td>\n",
              "      <td>Two year</td>\n",
              "      <td>Two year</td>\n",
              "    </tr>\n",
              "    <tr>\n",
              "      <th>ContaOnline</th>\n",
              "      <td>No</td>\n",
              "      <td>No</td>\n",
              "      <td>Yes</td>\n",
              "      <td>Yes</td>\n",
              "      <td>Yes</td>\n",
              "      <td>No</td>\n",
              "      <td>No</td>\n",
              "      <td>No</td>\n",
              "      <td>No</td>\n",
              "      <td>No</td>\n",
              "    </tr>\n",
              "    <tr>\n",
              "      <th>MetodoPagamento</th>\n",
              "      <td>NaN</td>\n",
              "      <td>Mailed check</td>\n",
              "      <td>Credit card (automatic)</td>\n",
              "      <td>Bank transfer (automatic)</td>\n",
              "      <td>Electronic check</td>\n",
              "      <td>Bank transfer (automatic)</td>\n",
              "      <td>Electronic check</td>\n",
              "      <td>Electronic check</td>\n",
              "      <td>Credit card (automatic)</td>\n",
              "      <td>Mailed check</td>\n",
              "    </tr>\n",
              "    <tr>\n",
              "      <th>CobrancaMensal</th>\n",
              "      <td>45.05</td>\n",
              "      <td>19.65</td>\n",
              "      <td>110.80</td>\n",
              "      <td>101.90</td>\n",
              "      <td>70.75</td>\n",
              "      <td>48.40</td>\n",
              "      <td>59.95</td>\n",
              "      <td>19.55</td>\n",
              "      <td>19.65</td>\n",
              "      <td>85.10</td>\n",
              "    </tr>\n",
              "    <tr>\n",
              "      <th>CobrancaTotal</th>\n",
              "      <td>2560.1</td>\n",
              "      <td>332.65</td>\n",
              "      <td>6640.7</td>\n",
              "      <td>3545.35</td>\n",
              "      <td>1974.8</td>\n",
              "      <td>3442.8</td>\n",
              "      <td>1848.8</td>\n",
              "      <td>61.05</td>\n",
              "      <td>1008.7</td>\n",
              "      <td>6155.4</td>\n",
              "    </tr>\n",
              "    <tr>\n",
              "      <th>Churn</th>\n",
              "      <td>0</td>\n",
              "      <td>0</td>\n",
              "      <td>0</td>\n",
              "      <td>1</td>\n",
              "      <td>1</td>\n",
              "      <td>0</td>\n",
              "      <td>0</td>\n",
              "      <td>0</td>\n",
              "      <td>0</td>\n",
              "      <td>0</td>\n",
              "    </tr>\n",
              "  </tbody>\n",
              "</table>\n",
              "</div>"
            ],
            "text/plain": [
              "                                       0                    1  \\\n",
              "id                                  4030                 6731   \n",
              "genero                            Female                 Male   \n",
              "Idoso                                  0                    0   \n",
              "TemParceiro                           No                  Yes   \n",
              "TemDependentes                        No                  Yes   \n",
              "MesesNaCompanhia                   56.00                  NaN   \n",
              "TemTelefone                           No                  Yes   \n",
              "MaisLinhas              No phone service                   No   \n",
              "TemInternet                          DSL                   No   \n",
              "ServicoSegurancaOnline               Yes  No internet service   \n",
              "ServicoBackupOnline                  Yes  No internet service   \n",
              "ServicoProtecaoOnline                Yes  No internet service   \n",
              "ServicoSuporteOnline                 Yes  No internet service   \n",
              "ServicoTV                             No  No internet service   \n",
              "ServicoPctFilmes                      No  No internet service   \n",
              "Contrato                        Two year             One year   \n",
              "ContaOnline                           No                   No   \n",
              "MetodoPagamento                      NaN         Mailed check   \n",
              "CobrancaMensal                     45.05                19.65   \n",
              "CobrancaTotal                     2560.1               332.65   \n",
              "Churn                                  0                    0   \n",
              "\n",
              "                                              2                          3  \\\n",
              "id                                         6479                       6861   \n",
              "genero                                   Female                     Female   \n",
              "Idoso                                         0                          0   \n",
              "TemParceiro                                 Yes                         No   \n",
              "TemDependentes                               No                         No   \n",
              "MesesNaCompanhia                          60.00                      37.00   \n",
              "TemTelefone                                 Yes                        Yes   \n",
              "MaisLinhas                                  Yes                        Yes   \n",
              "TemInternet                         Fiber optic                Fiber optic   \n",
              "ServicoSegurancaOnline                       No                         No   \n",
              "ServicoBackupOnline                         Yes                        Yes   \n",
              "ServicoProtecaoOnline                       Yes                        Yes   \n",
              "ServicoSuporteOnline                        Yes                         No   \n",
              "ServicoTV                                   Yes                        Yes   \n",
              "ServicoPctFilmes                            Yes                        Yes   \n",
              "Contrato                               Two year             Month-to-month   \n",
              "ContaOnline                                 Yes                        Yes   \n",
              "MetodoPagamento         Credit card (automatic)  Bank transfer (automatic)   \n",
              "CobrancaMensal                           110.80                     101.90   \n",
              "CobrancaTotal                            6640.7                    3545.35   \n",
              "Churn                                         0                          1   \n",
              "\n",
              "                                       4                          5  \\\n",
              "id                                  3266                       6368   \n",
              "genero                              Male                       Male   \n",
              "Idoso                                  0                          0   \n",
              "TemParceiro                          Yes                         No   \n",
              "TemDependentes                       Yes                         No   \n",
              "MesesNaCompanhia                   29.00                      70.00   \n",
              "TemTelefone                          Yes                         No   \n",
              "MaisLinhas                            No           No phone service   \n",
              "TemInternet                  Fiber optic                        DSL   \n",
              "ServicoSegurancaOnline                No                        Yes   \n",
              "ServicoBackupOnline                   No                         No   \n",
              "ServicoProtecaoOnline                 No                        Yes   \n",
              "ServicoSuporteOnline                  No                        Yes   \n",
              "ServicoTV                             No                         No   \n",
              "ServicoPctFilmes                      No                        Yes   \n",
              "Contrato                  Month-to-month                   Two year   \n",
              "ContaOnline                          Yes                         No   \n",
              "MetodoPagamento         Electronic check  Bank transfer (automatic)   \n",
              "CobrancaMensal                     70.75                      48.40   \n",
              "CobrancaTotal                     1974.8                     3442.8   \n",
              "Churn                                  1                          0   \n",
              "\n",
              "                                       6                    7  \\\n",
              "id                                  5830                 4476   \n",
              "genero                              Male               Female   \n",
              "Idoso                                  0                    0   \n",
              "TemParceiro                          Yes                   No   \n",
              "TemDependentes                       Yes                   No   \n",
              "MesesNaCompanhia                   31.00                 3.00   \n",
              "TemTelefone                           No                  Yes   \n",
              "MaisLinhas              No phone service                   No   \n",
              "TemInternet                          DSL                   No   \n",
              "ServicoSegurancaOnline               Yes  No internet service   \n",
              "ServicoBackupOnline                   No  No internet service   \n",
              "ServicoProtecaoOnline                Yes  No internet service   \n",
              "ServicoSuporteOnline                 Yes  No internet service   \n",
              "ServicoTV                            Yes  No internet service   \n",
              "ServicoPctFilmes                     Yes  No internet service   \n",
              "Contrato                        One year       Month-to-month   \n",
              "ContaOnline                           No                   No   \n",
              "MetodoPagamento         Electronic check     Electronic check   \n",
              "CobrancaMensal                     59.95                19.55   \n",
              "CobrancaTotal                     1848.8                61.05   \n",
              "Churn                                  0                    0   \n",
              "\n",
              "                                              8             9  \n",
              "id                                         1508          2921  \n",
              "genero                                     Male        Female  \n",
              "Idoso                                         0             0  \n",
              "TemParceiro                                  No           Yes  \n",
              "TemDependentes                               No            No  \n",
              "MesesNaCompanhia                          54.00         72.00  \n",
              "TemTelefone                                 Yes           Yes  \n",
              "MaisLinhas                                   No            No  \n",
              "TemInternet                                  No           DSL  \n",
              "ServicoSegurancaOnline      No internet service           Yes  \n",
              "ServicoBackupOnline         No internet service           Yes  \n",
              "ServicoProtecaoOnline       No internet service           Yes  \n",
              "ServicoSuporteOnline        No internet service           Yes  \n",
              "ServicoTV                   No internet service           Yes  \n",
              "ServicoPctFilmes            No internet service           Yes  \n",
              "Contrato                               Two year      Two year  \n",
              "ContaOnline                                  No            No  \n",
              "MetodoPagamento         Credit card (automatic)  Mailed check  \n",
              "CobrancaMensal                            19.65         85.10  \n",
              "CobrancaTotal                            1008.7        6155.4  \n",
              "Churn                                         0             0  "
            ]
          },
          "metadata": {
            "tags": []
          },
          "execution_count": 21
        }
      ]
    },
    {
      "cell_type": "markdown",
      "metadata": {
        "id": "eUwh_EA9DYs0"
      },
      "source": [
        "### Verificando os tipos de dados"
      ]
    },
    {
      "cell_type": "code",
      "metadata": {
        "id": "TkQKo9UuDYs1",
        "outputId": "062bf9d4-efaa-468c-a34f-f6912ca0a121",
        "colab": {
          "base_uri": "https://localhost:8080/"
        }
      },
      "source": [
        "dados.info()"
      ],
      "execution_count": 22,
      "outputs": [
        {
          "output_type": "stream",
          "text": [
            "<class 'pandas.core.frame.DataFrame'>\n",
            "RangeIndex: 5634 entries, 0 to 5633\n",
            "Data columns (total 21 columns):\n",
            " #   Column                  Non-Null Count  Dtype  \n",
            "---  ------                  --------------  -----  \n",
            " 0   id                      5634 non-null   int64  \n",
            " 1   genero                  5634 non-null   object \n",
            " 2   Idoso                   5634 non-null   int64  \n",
            " 3   TemParceiro             5634 non-null   object \n",
            " 4   TemDependentes          5416 non-null   object \n",
            " 5   MesesNaCompanhia        5173 non-null   float64\n",
            " 6   TemTelefone             5634 non-null   object \n",
            " 7   MaisLinhas              5634 non-null   object \n",
            " 8   TemInternet             5634 non-null   object \n",
            " 9   ServicoSegurancaOnline  5634 non-null   object \n",
            " 10  ServicoBackupOnline     5634 non-null   object \n",
            " 11  ServicoProtecaoOnline   5634 non-null   object \n",
            " 12  ServicoSuporteOnline    5634 non-null   object \n",
            " 13  ServicoTV               5634 non-null   object \n",
            " 14  ServicoPctFilmes        5634 non-null   object \n",
            " 15  Contrato                5634 non-null   object \n",
            " 16  ContaOnline             5634 non-null   object \n",
            " 17  MetodoPagamento         5535 non-null   object \n",
            " 18  CobrancaMensal          5634 non-null   float64\n",
            " 19  CobrancaTotal           5634 non-null   object \n",
            " 20  Churn                   5634 non-null   int64  \n",
            "dtypes: float64(2), int64(3), object(16)\n",
            "memory usage: 924.5+ KB\n"
          ],
          "name": "stdout"
        }
      ]
    },
    {
      "cell_type": "markdown",
      "metadata": {
        "id": "kRRjalbdDYs5"
      },
      "source": [
        "## EDA - Análise Exploratória de Dados"
      ]
    },
    {
      "cell_type": "markdown",
      "metadata": {
        "id": "WgE_3JVJDYs6"
      },
      "source": [
        "### Separando as variáveis por tipo"
      ]
    },
    {
      "cell_type": "code",
      "metadata": {
        "id": "jfPixZmODYs7"
      },
      "source": [
        "quantitativas = dados[['MesesNaCompanhia','CobrancaMensal','CobrancaTotal']]\n",
        "categóricas = dados.drop(columns=['id','MesesNaCompanhia','CobrancaMensal','CobrancaTotal','Churn'],\n",
        "                         axis=1)\n",
        "target = dados['Churn']"
      ],
      "execution_count": 27,
      "outputs": []
    },
    {
      "cell_type": "code",
      "metadata": {
        "id": "f_AbiUGkDYs_",
        "outputId": "c19639c8-3e9c-4b63-ea29-cebcb3fe6352",
        "colab": {
          "base_uri": "https://localhost:8080/",
          "height": 204
        }
      },
      "source": [
        "quantitativas.head()"
      ],
      "execution_count": 28,
      "outputs": [
        {
          "output_type": "execute_result",
          "data": {
            "text/html": [
              "<div>\n",
              "<style scoped>\n",
              "    .dataframe tbody tr th:only-of-type {\n",
              "        vertical-align: middle;\n",
              "    }\n",
              "\n",
              "    .dataframe tbody tr th {\n",
              "        vertical-align: top;\n",
              "    }\n",
              "\n",
              "    .dataframe thead th {\n",
              "        text-align: right;\n",
              "    }\n",
              "</style>\n",
              "<table border=\"1\" class=\"dataframe\">\n",
              "  <thead>\n",
              "    <tr style=\"text-align: right;\">\n",
              "      <th></th>\n",
              "      <th>MesesNaCompanhia</th>\n",
              "      <th>CobrancaMensal</th>\n",
              "      <th>CobrancaTotal</th>\n",
              "    </tr>\n",
              "  </thead>\n",
              "  <tbody>\n",
              "    <tr>\n",
              "      <th>0</th>\n",
              "      <td>56.00</td>\n",
              "      <td>45.05</td>\n",
              "      <td>2560.1</td>\n",
              "    </tr>\n",
              "    <tr>\n",
              "      <th>1</th>\n",
              "      <td>nan</td>\n",
              "      <td>19.65</td>\n",
              "      <td>332.65</td>\n",
              "    </tr>\n",
              "    <tr>\n",
              "      <th>2</th>\n",
              "      <td>60.00</td>\n",
              "      <td>110.80</td>\n",
              "      <td>6640.7</td>\n",
              "    </tr>\n",
              "    <tr>\n",
              "      <th>3</th>\n",
              "      <td>37.00</td>\n",
              "      <td>101.90</td>\n",
              "      <td>3545.35</td>\n",
              "    </tr>\n",
              "    <tr>\n",
              "      <th>4</th>\n",
              "      <td>29.00</td>\n",
              "      <td>70.75</td>\n",
              "      <td>1974.8</td>\n",
              "    </tr>\n",
              "  </tbody>\n",
              "</table>\n",
              "</div>"
            ],
            "text/plain": [
              "   MesesNaCompanhia  CobrancaMensal CobrancaTotal\n",
              "0             56.00           45.05        2560.1\n",
              "1               nan           19.65        332.65\n",
              "2             60.00          110.80        6640.7\n",
              "3             37.00          101.90       3545.35\n",
              "4             29.00           70.75        1974.8"
            ]
          },
          "metadata": {
            "tags": []
          },
          "execution_count": 28
        }
      ]
    },
    {
      "cell_type": "code",
      "metadata": {
        "id": "vi3IPQMYDYtC",
        "outputId": "554dc24f-2dcd-4301-9805-3fba13a2c80f",
        "colab": {
          "base_uri": "https://localhost:8080/",
          "height": 309
        }
      },
      "source": [
        "categóricas.head()"
      ],
      "execution_count": 29,
      "outputs": [
        {
          "output_type": "execute_result",
          "data": {
            "text/html": [
              "<div>\n",
              "<style scoped>\n",
              "    .dataframe tbody tr th:only-of-type {\n",
              "        vertical-align: middle;\n",
              "    }\n",
              "\n",
              "    .dataframe tbody tr th {\n",
              "        vertical-align: top;\n",
              "    }\n",
              "\n",
              "    .dataframe thead th {\n",
              "        text-align: right;\n",
              "    }\n",
              "</style>\n",
              "<table border=\"1\" class=\"dataframe\">\n",
              "  <thead>\n",
              "    <tr style=\"text-align: right;\">\n",
              "      <th></th>\n",
              "      <th>genero</th>\n",
              "      <th>Idoso</th>\n",
              "      <th>TemParceiro</th>\n",
              "      <th>TemDependentes</th>\n",
              "      <th>TemTelefone</th>\n",
              "      <th>MaisLinhas</th>\n",
              "      <th>TemInternet</th>\n",
              "      <th>ServicoSegurancaOnline</th>\n",
              "      <th>ServicoBackupOnline</th>\n",
              "      <th>ServicoProtecaoOnline</th>\n",
              "      <th>ServicoSuporteOnline</th>\n",
              "      <th>ServicoTV</th>\n",
              "      <th>ServicoPctFilmes</th>\n",
              "      <th>Contrato</th>\n",
              "      <th>ContaOnline</th>\n",
              "      <th>MetodoPagamento</th>\n",
              "    </tr>\n",
              "  </thead>\n",
              "  <tbody>\n",
              "    <tr>\n",
              "      <th>0</th>\n",
              "      <td>Female</td>\n",
              "      <td>0</td>\n",
              "      <td>No</td>\n",
              "      <td>No</td>\n",
              "      <td>No</td>\n",
              "      <td>No phone service</td>\n",
              "      <td>DSL</td>\n",
              "      <td>Yes</td>\n",
              "      <td>Yes</td>\n",
              "      <td>Yes</td>\n",
              "      <td>Yes</td>\n",
              "      <td>No</td>\n",
              "      <td>No</td>\n",
              "      <td>Two year</td>\n",
              "      <td>No</td>\n",
              "      <td>NaN</td>\n",
              "    </tr>\n",
              "    <tr>\n",
              "      <th>1</th>\n",
              "      <td>Male</td>\n",
              "      <td>0</td>\n",
              "      <td>Yes</td>\n",
              "      <td>Yes</td>\n",
              "      <td>Yes</td>\n",
              "      <td>No</td>\n",
              "      <td>No</td>\n",
              "      <td>No internet service</td>\n",
              "      <td>No internet service</td>\n",
              "      <td>No internet service</td>\n",
              "      <td>No internet service</td>\n",
              "      <td>No internet service</td>\n",
              "      <td>No internet service</td>\n",
              "      <td>One year</td>\n",
              "      <td>No</td>\n",
              "      <td>Mailed check</td>\n",
              "    </tr>\n",
              "    <tr>\n",
              "      <th>2</th>\n",
              "      <td>Female</td>\n",
              "      <td>0</td>\n",
              "      <td>Yes</td>\n",
              "      <td>No</td>\n",
              "      <td>Yes</td>\n",
              "      <td>Yes</td>\n",
              "      <td>Fiber optic</td>\n",
              "      <td>No</td>\n",
              "      <td>Yes</td>\n",
              "      <td>Yes</td>\n",
              "      <td>Yes</td>\n",
              "      <td>Yes</td>\n",
              "      <td>Yes</td>\n",
              "      <td>Two year</td>\n",
              "      <td>Yes</td>\n",
              "      <td>Credit card (automatic)</td>\n",
              "    </tr>\n",
              "    <tr>\n",
              "      <th>3</th>\n",
              "      <td>Female</td>\n",
              "      <td>0</td>\n",
              "      <td>No</td>\n",
              "      <td>No</td>\n",
              "      <td>Yes</td>\n",
              "      <td>Yes</td>\n",
              "      <td>Fiber optic</td>\n",
              "      <td>No</td>\n",
              "      <td>Yes</td>\n",
              "      <td>Yes</td>\n",
              "      <td>No</td>\n",
              "      <td>Yes</td>\n",
              "      <td>Yes</td>\n",
              "      <td>Month-to-month</td>\n",
              "      <td>Yes</td>\n",
              "      <td>Bank transfer (automatic)</td>\n",
              "    </tr>\n",
              "    <tr>\n",
              "      <th>4</th>\n",
              "      <td>Male</td>\n",
              "      <td>0</td>\n",
              "      <td>Yes</td>\n",
              "      <td>Yes</td>\n",
              "      <td>Yes</td>\n",
              "      <td>No</td>\n",
              "      <td>Fiber optic</td>\n",
              "      <td>No</td>\n",
              "      <td>No</td>\n",
              "      <td>No</td>\n",
              "      <td>No</td>\n",
              "      <td>No</td>\n",
              "      <td>No</td>\n",
              "      <td>Month-to-month</td>\n",
              "      <td>Yes</td>\n",
              "      <td>Electronic check</td>\n",
              "    </tr>\n",
              "  </tbody>\n",
              "</table>\n",
              "</div>"
            ],
            "text/plain": [
              "   genero  Idoso TemParceiro TemDependentes TemTelefone        MaisLinhas  \\\n",
              "0  Female      0          No             No          No  No phone service   \n",
              "1    Male      0         Yes            Yes         Yes                No   \n",
              "2  Female      0         Yes             No         Yes               Yes   \n",
              "3  Female      0          No             No         Yes               Yes   \n",
              "4    Male      0         Yes            Yes         Yes                No   \n",
              "\n",
              "   TemInternet ServicoSegurancaOnline  ServicoBackupOnline  \\\n",
              "0          DSL                    Yes                  Yes   \n",
              "1           No    No internet service  No internet service   \n",
              "2  Fiber optic                     No                  Yes   \n",
              "3  Fiber optic                     No                  Yes   \n",
              "4  Fiber optic                     No                   No   \n",
              "\n",
              "  ServicoProtecaoOnline ServicoSuporteOnline            ServicoTV  \\\n",
              "0                   Yes                  Yes                   No   \n",
              "1   No internet service  No internet service  No internet service   \n",
              "2                   Yes                  Yes                  Yes   \n",
              "3                   Yes                   No                  Yes   \n",
              "4                    No                   No                   No   \n",
              "\n",
              "      ServicoPctFilmes        Contrato ContaOnline            MetodoPagamento  \n",
              "0                   No        Two year          No                        NaN  \n",
              "1  No internet service        One year          No               Mailed check  \n",
              "2                  Yes        Two year         Yes    Credit card (automatic)  \n",
              "3                  Yes  Month-to-month         Yes  Bank transfer (automatic)  \n",
              "4                   No  Month-to-month         Yes           Electronic check  "
            ]
          },
          "metadata": {
            "tags": []
          },
          "execution_count": 29
        }
      ]
    },
    {
      "cell_type": "code",
      "metadata": {
        "id": "qDlZbIF6DYtH",
        "outputId": "66624a85-8a37-40ae-f2bf-1951b56d6cf8",
        "colab": {
          "base_uri": "https://localhost:8080/"
        }
      },
      "source": [
        "target.head()"
      ],
      "execution_count": 30,
      "outputs": [
        {
          "output_type": "execute_result",
          "data": {
            "text/plain": [
              "0    0\n",
              "1    0\n",
              "2    0\n",
              "3    1\n",
              "4    1\n",
              "Name: Churn, dtype: int64"
            ]
          },
          "metadata": {
            "tags": []
          },
          "execution_count": 30
        }
      ]
    },
    {
      "cell_type": "markdown",
      "metadata": {
        "id": "dw03b9-wDYtM"
      },
      "source": [
        "### Variáveis quantitativas"
      ]
    },
    {
      "cell_type": "markdown",
      "metadata": {
        "id": "1i5W80KsDYtN"
      },
      "source": [
        "#### Verificação dos tipos de dados das variáveis quantitativas"
      ]
    },
    {
      "cell_type": "code",
      "metadata": {
        "id": "Cyo3kKJODYtO",
        "outputId": "6e4dfb2c-7599-45cb-c9aa-94fbf3ce3b57",
        "colab": {
          "base_uri": "https://localhost:8080/"
        }
      },
      "source": [
        "quantitativas.dtypes"
      ],
      "execution_count": 31,
      "outputs": [
        {
          "output_type": "execute_result",
          "data": {
            "text/plain": [
              "MesesNaCompanhia    float64\n",
              "CobrancaMensal      float64\n",
              "CobrancaTotal        object\n",
              "dtype: object"
            ]
          },
          "metadata": {
            "tags": []
          },
          "execution_count": 31
        }
      ]
    },
    {
      "cell_type": "markdown",
      "metadata": {
        "id": "DNRpPAX7DYtT"
      },
      "source": [
        "#### Correção da variável 'CobrançaTotal'\n",
        "Essa variável é quantitativa, mas foi importada como sendo do tipo Object. <br>\n",
        "Portanto, precisa ser alterada para o tipo numerico."
      ]
    },
    {
      "cell_type": "code",
      "metadata": {
        "id": "oESG73hrDYtV"
      },
      "source": [
        "import pandas"
      ],
      "execution_count": 32,
      "outputs": []
    },
    {
      "cell_type": "code",
      "metadata": {
        "id": "rHALvQAJDYtZ",
        "outputId": "bb77103b-2fc4-4209-9709-f8f8d2a13296",
        "colab": {
          "base_uri": "https://localhost:8080/"
        }
      },
      "source": [
        "dados['CobrancaTotal'] = pd.to_numeric(dados['CobrancaTotal'], errors='coerce')\n",
        "quantitativas['CobrancaTotal'] = pd.to_numeric(quantitativas['CobrancaTotal'], errors='coerce')"
      ],
      "execution_count": 33,
      "outputs": [
        {
          "output_type": "stream",
          "text": [
            "/usr/local/lib/python3.6/dist-packages/ipykernel_launcher.py:2: SettingWithCopyWarning: \n",
            "A value is trying to be set on a copy of a slice from a DataFrame.\n",
            "Try using .loc[row_indexer,col_indexer] = value instead\n",
            "\n",
            "See the caveats in the documentation: https://pandas.pydata.org/pandas-docs/stable/user_guide/indexing.html#returning-a-view-versus-a-copy\n",
            "  \n"
          ],
          "name": "stderr"
        }
      ]
    },
    {
      "cell_type": "markdown",
      "metadata": {
        "id": "AZIdJW9LDYtc"
      },
      "source": [
        "#### Verificação dos tipos de dados.\n",
        "Verifica-se que CobrançaTotal foi corrigida."
      ]
    },
    {
      "cell_type": "code",
      "metadata": {
        "id": "mgbpYxECDYtd",
        "outputId": "e0a2838a-4b85-434b-fd36-6c491da478f3",
        "colab": {
          "base_uri": "https://localhost:8080/"
        }
      },
      "source": [
        "quantitativas.info()"
      ],
      "execution_count": 34,
      "outputs": [
        {
          "output_type": "stream",
          "text": [
            "<class 'pandas.core.frame.DataFrame'>\n",
            "RangeIndex: 5634 entries, 0 to 5633\n",
            "Data columns (total 3 columns):\n",
            " #   Column            Non-Null Count  Dtype  \n",
            "---  ------            --------------  -----  \n",
            " 0   MesesNaCompanhia  5173 non-null   float64\n",
            " 1   CobrancaMensal    5634 non-null   float64\n",
            " 2   CobrancaTotal     5626 non-null   float64\n",
            "dtypes: float64(3)\n",
            "memory usage: 132.2 KB\n"
          ],
          "name": "stdout"
        }
      ]
    },
    {
      "cell_type": "markdown",
      "metadata": {
        "id": "YC2oOm8bDYti"
      },
      "source": [
        "#### Sumário estatístico das variáveis quantitativas"
      ]
    },
    {
      "cell_type": "code",
      "metadata": {
        "scrolled": false,
        "id": "aJIxn0IvDYtk",
        "outputId": "8eadc893-66e4-498f-f542-2d90a20cea49",
        "colab": {
          "base_uri": "https://localhost:8080/",
          "height": 297
        }
      },
      "source": [
        "quantitativas.describe()"
      ],
      "execution_count": 35,
      "outputs": [
        {
          "output_type": "execute_result",
          "data": {
            "text/html": [
              "<div>\n",
              "<style scoped>\n",
              "    .dataframe tbody tr th:only-of-type {\n",
              "        vertical-align: middle;\n",
              "    }\n",
              "\n",
              "    .dataframe tbody tr th {\n",
              "        vertical-align: top;\n",
              "    }\n",
              "\n",
              "    .dataframe thead th {\n",
              "        text-align: right;\n",
              "    }\n",
              "</style>\n",
              "<table border=\"1\" class=\"dataframe\">\n",
              "  <thead>\n",
              "    <tr style=\"text-align: right;\">\n",
              "      <th></th>\n",
              "      <th>MesesNaCompanhia</th>\n",
              "      <th>CobrancaMensal</th>\n",
              "      <th>CobrancaTotal</th>\n",
              "    </tr>\n",
              "  </thead>\n",
              "  <tbody>\n",
              "    <tr>\n",
              "      <th>count</th>\n",
              "      <td>5,173.00</td>\n",
              "      <td>5,634.00</td>\n",
              "      <td>5,626.00</td>\n",
              "    </tr>\n",
              "    <tr>\n",
              "      <th>mean</th>\n",
              "      <td>32.33</td>\n",
              "      <td>64.63</td>\n",
              "      <td>2,273.51</td>\n",
              "    </tr>\n",
              "    <tr>\n",
              "      <th>std</th>\n",
              "      <td>24.46</td>\n",
              "      <td>30.02</td>\n",
              "      <td>2,258.38</td>\n",
              "    </tr>\n",
              "    <tr>\n",
              "      <th>min</th>\n",
              "      <td>0.00</td>\n",
              "      <td>18.25</td>\n",
              "      <td>18.80</td>\n",
              "    </tr>\n",
              "    <tr>\n",
              "      <th>25%</th>\n",
              "      <td>9.00</td>\n",
              "      <td>35.46</td>\n",
              "      <td>401.59</td>\n",
              "    </tr>\n",
              "    <tr>\n",
              "      <th>50%</th>\n",
              "      <td>29.00</td>\n",
              "      <td>70.25</td>\n",
              "      <td>1,396.12</td>\n",
              "    </tr>\n",
              "    <tr>\n",
              "      <th>75%</th>\n",
              "      <td>55.00</td>\n",
              "      <td>89.80</td>\n",
              "      <td>3,764.29</td>\n",
              "    </tr>\n",
              "    <tr>\n",
              "      <th>max</th>\n",
              "      <td>72.00</td>\n",
              "      <td>118.75</td>\n",
              "      <td>8,684.80</td>\n",
              "    </tr>\n",
              "  </tbody>\n",
              "</table>\n",
              "</div>"
            ],
            "text/plain": [
              "       MesesNaCompanhia  CobrancaMensal  CobrancaTotal\n",
              "count          5,173.00        5,634.00       5,626.00\n",
              "mean              32.33           64.63       2,273.51\n",
              "std               24.46           30.02       2,258.38\n",
              "min                0.00           18.25          18.80\n",
              "25%                9.00           35.46         401.59\n",
              "50%               29.00           70.25       1,396.12\n",
              "75%               55.00           89.80       3,764.29\n",
              "max               72.00          118.75       8,684.80"
            ]
          },
          "metadata": {
            "tags": []
          },
          "execution_count": 35
        }
      ]
    },
    {
      "cell_type": "markdown",
      "metadata": {
        "id": "ozMoEFGyDYtq"
      },
      "source": [
        "#### Boxplot"
      ]
    },
    {
      "cell_type": "code",
      "metadata": {
        "id": "s0HFBF0sDYtr",
        "outputId": "38b45319-9f83-43ce-b8c7-5637ef873057",
        "colab": {
          "base_uri": "https://localhost:8080/",
          "height": 527
        }
      },
      "source": [
        "sns.catplot(data=quantitativas,\n",
        "              kind='box',\n",
        "              height=7,\n",
        "              aspect=2.5)"
      ],
      "execution_count": 36,
      "outputs": [
        {
          "output_type": "execute_result",
          "data": {
            "text/plain": [
              "<seaborn.axisgrid.FacetGrid at 0x7f7598471518>"
            ]
          },
          "metadata": {
            "tags": []
          },
          "execution_count": 36
        },
        {
          "output_type": "display_data",
          "data": {
            "image/png": "[encoded data removed]",
            "text/plain": [
              "<Figure size 1260x504 with 1 Axes>"
            ]
          },
          "metadata": {
            "tags": [],
            "needs_background": "light"
          }
        }
      ]
    },
    {
      "cell_type": "markdown",
      "metadata": {
        "id": "Bv_hEQKMDYtu"
      },
      "source": [
        "#### Verificação dos missing values das variáveis quantitativas"
      ]
    },
    {
      "cell_type": "code",
      "metadata": {
        "id": "uuPwfCo6DYtv",
        "outputId": "04a17744-ad55-4912-8487-a0653a28a82b",
        "colab": {
          "base_uri": "https://localhost:8080/"
        }
      },
      "source": [
        "quantitativas.isnull().sum()"
      ],
      "execution_count": 37,
      "outputs": [
        {
          "output_type": "execute_result",
          "data": {
            "text/plain": [
              "MesesNaCompanhia    461\n",
              "CobrancaMensal        0\n",
              "CobrancaTotal         8\n",
              "dtype: int64"
            ]
          },
          "metadata": {
            "tags": []
          },
          "execution_count": 37
        }
      ]
    },
    {
      "cell_type": "markdown",
      "metadata": {
        "id": "qQP8wOZcDYty"
      },
      "source": [
        "#### Variável quantitativa 'CobrancaMernsal'"
      ]
    },
    {
      "cell_type": "code",
      "metadata": {
        "id": "GAD9BpVdDYtz",
        "outputId": "c63217a8-67a2-46c6-af20-78f76c09d76b",
        "colab": {
          "base_uri": "https://localhost:8080/",
          "height": 315
        }
      },
      "source": [
        "quantitativas[['CobrancaMensal']].hist(bins=150)"
      ],
      "execution_count": 38,
      "outputs": [
        {
          "output_type": "execute_result",
          "data": {
            "text/plain": [
              "array([[<matplotlib.axes._subplots.AxesSubplot object at 0x7f7595b95cc0>]],\n",
              "      dtype=object)"
            ]
          },
          "metadata": {
            "tags": []
          },
          "execution_count": 38
        },
        {
          "output_type": "display_data",
          "data": {
            "image/png": "[encoded data removed]",
            "text/plain": [
              "<Figure size 432x288 with 1 Axes>"
            ]
          },
          "metadata": {
            "tags": [],
            "needs_background": "light"
          }
        }
      ]
    },
    {
      "cell_type": "code",
      "metadata": {
        "id": "wCFpUD4wDYt2",
        "outputId": "5708dda3-6065-4ca8-84a3-fbe4f400fab4",
        "colab": {
          "base_uri": "https://localhost:8080/",
          "height": 80
        }
      },
      "source": [
        "quantitativas[['CobrancaMensal']].mode()"
      ],
      "execution_count": 39,
      "outputs": [
        {
          "output_type": "execute_result",
          "data": {
            "text/html": [
              "<div>\n",
              "<style scoped>\n",
              "    .dataframe tbody tr th:only-of-type {\n",
              "        vertical-align: middle;\n",
              "    }\n",
              "\n",
              "    .dataframe tbody tr th {\n",
              "        vertical-align: top;\n",
              "    }\n",
              "\n",
              "    .dataframe thead th {\n",
              "        text-align: right;\n",
              "    }\n",
              "</style>\n",
              "<table border=\"1\" class=\"dataframe\">\n",
              "  <thead>\n",
              "    <tr style=\"text-align: right;\">\n",
              "      <th></th>\n",
              "      <th>CobrancaMensal</th>\n",
              "    </tr>\n",
              "  </thead>\n",
              "  <tbody>\n",
              "    <tr>\n",
              "      <th>0</th>\n",
              "      <td>20.05</td>\n",
              "    </tr>\n",
              "  </tbody>\n",
              "</table>\n",
              "</div>"
            ],
            "text/plain": [
              "   CobrancaMensal\n",
              "0           20.05"
            ]
          },
          "metadata": {
            "tags": []
          },
          "execution_count": 39
        }
      ]
    },
    {
      "cell_type": "code",
      "metadata": {
        "id": "fhlWcgDPDYt6",
        "outputId": "de053b05-681a-47fa-ad55-6b5f586e556f",
        "colab": {
          "base_uri": "https://localhost:8080/",
          "height": 297
        }
      },
      "source": [
        "quantitativas[['CobrancaMensal']].describe()"
      ],
      "execution_count": 40,
      "outputs": [
        {
          "output_type": "execute_result",
          "data": {
            "text/html": [
              "<div>\n",
              "<style scoped>\n",
              "    .dataframe tbody tr th:only-of-type {\n",
              "        vertical-align: middle;\n",
              "    }\n",
              "\n",
              "    .dataframe tbody tr th {\n",
              "        vertical-align: top;\n",
              "    }\n",
              "\n",
              "    .dataframe thead th {\n",
              "        text-align: right;\n",
              "    }\n",
              "</style>\n",
              "<table border=\"1\" class=\"dataframe\">\n",
              "  <thead>\n",
              "    <tr style=\"text-align: right;\">\n",
              "      <th></th>\n",
              "      <th>CobrancaMensal</th>\n",
              "    </tr>\n",
              "  </thead>\n",
              "  <tbody>\n",
              "    <tr>\n",
              "      <th>count</th>\n",
              "      <td>5,634.00</td>\n",
              "    </tr>\n",
              "    <tr>\n",
              "      <th>mean</th>\n",
              "      <td>64.63</td>\n",
              "    </tr>\n",
              "    <tr>\n",
              "      <th>std</th>\n",
              "      <td>30.02</td>\n",
              "    </tr>\n",
              "    <tr>\n",
              "      <th>min</th>\n",
              "      <td>18.25</td>\n",
              "    </tr>\n",
              "    <tr>\n",
              "      <th>25%</th>\n",
              "      <td>35.46</td>\n",
              "    </tr>\n",
              "    <tr>\n",
              "      <th>50%</th>\n",
              "      <td>70.25</td>\n",
              "    </tr>\n",
              "    <tr>\n",
              "      <th>75%</th>\n",
              "      <td>89.80</td>\n",
              "    </tr>\n",
              "    <tr>\n",
              "      <th>max</th>\n",
              "      <td>118.75</td>\n",
              "    </tr>\n",
              "  </tbody>\n",
              "</table>\n",
              "</div>"
            ],
            "text/plain": [
              "       CobrancaMensal\n",
              "count        5,634.00\n",
              "mean            64.63\n",
              "std             30.02\n",
              "min             18.25\n",
              "25%             35.46\n",
              "50%             70.25\n",
              "75%             89.80\n",
              "max            118.75"
            ]
          },
          "metadata": {
            "tags": []
          },
          "execution_count": 40
        }
      ]
    },
    {
      "cell_type": "code",
      "metadata": {
        "id": "Q_yjIkzMDYuA",
        "outputId": "11cdcbc0-14f9-451e-c9a2-485e86b4663a",
        "colab": {
          "base_uri": "https://localhost:8080/"
        }
      },
      "source": [
        "# Coeficiente de variação\n",
        "quantitativas[['CobrancaMensal']].std()/quantitativas[['CobrancaMensal']].mean()*100"
      ],
      "execution_count": 41,
      "outputs": [
        {
          "output_type": "execute_result",
          "data": {
            "text/plain": [
              "CobrancaMensal   46.45\n",
              "dtype: float64"
            ]
          },
          "metadata": {
            "tags": []
          },
          "execution_count": 41
        }
      ]
    },
    {
      "cell_type": "code",
      "metadata": {
        "id": "_mM36otXDYuH",
        "outputId": "de7c53e3-9e3a-462a-e65a-c640a1c74c65",
        "colab": {
          "base_uri": "https://localhost:8080/",
          "height": 206
        }
      },
      "source": [
        "sns.catplot(data=quantitativas[['CobrancaMensal']],\n",
        "              kind='box',\n",
        "              height=2.5,\n",
        "              aspect=2.5)"
      ],
      "execution_count": 42,
      "outputs": [
        {
          "output_type": "execute_result",
          "data": {
            "text/plain": [
              "<seaborn.axisgrid.FacetGrid at 0x7f759553e128>"
            ]
          },
          "metadata": {
            "tags": []
          },
          "execution_count": 42
        },
        {
          "output_type": "display_data",
          "data": {
            "image/png": "[encoded data removed]",
            "text/plain": [
              "<Figure size 450x180 with 1 Axes>"
            ]
          },
          "metadata": {
            "tags": [],
            "needs_background": "light"
          }
        }
      ]
    },
    {
      "cell_type": "markdown",
      "metadata": {
        "id": "-17TfKBDDYuL"
      },
      "source": [
        "#### Variável quantitativa 'CobrancaTotal'"
      ]
    },
    {
      "cell_type": "code",
      "metadata": {
        "id": "LeUMAStvDYuM",
        "outputId": "5dea0fc2-3659-4e16-f540-032e981a7fe0",
        "colab": {
          "base_uri": "https://localhost:8080/",
          "height": 297
        }
      },
      "source": [
        "quantitativas[['CobrancaTotal']].describe()"
      ],
      "execution_count": 43,
      "outputs": [
        {
          "output_type": "execute_result",
          "data": {
            "text/html": [
              "<div>\n",
              "<style scoped>\n",
              "    .dataframe tbody tr th:only-of-type {\n",
              "        vertical-align: middle;\n",
              "    }\n",
              "\n",
              "    .dataframe tbody tr th {\n",
              "        vertical-align: top;\n",
              "    }\n",
              "\n",
              "    .dataframe thead th {\n",
              "        text-align: right;\n",
              "    }\n",
              "</style>\n",
              "<table border=\"1\" class=\"dataframe\">\n",
              "  <thead>\n",
              "    <tr style=\"text-align: right;\">\n",
              "      <th></th>\n",
              "      <th>CobrancaTotal</th>\n",
              "    </tr>\n",
              "  </thead>\n",
              "  <tbody>\n",
              "    <tr>\n",
              "      <th>count</th>\n",
              "      <td>5,626.00</td>\n",
              "    </tr>\n",
              "    <tr>\n",
              "      <th>mean</th>\n",
              "      <td>2,273.51</td>\n",
              "    </tr>\n",
              "    <tr>\n",
              "      <th>std</th>\n",
              "      <td>2,258.38</td>\n",
              "    </tr>\n",
              "    <tr>\n",
              "      <th>min</th>\n",
              "      <td>18.80</td>\n",
              "    </tr>\n",
              "    <tr>\n",
              "      <th>25%</th>\n",
              "      <td>401.59</td>\n",
              "    </tr>\n",
              "    <tr>\n",
              "      <th>50%</th>\n",
              "      <td>1,396.12</td>\n",
              "    </tr>\n",
              "    <tr>\n",
              "      <th>75%</th>\n",
              "      <td>3,764.29</td>\n",
              "    </tr>\n",
              "    <tr>\n",
              "      <th>max</th>\n",
              "      <td>8,684.80</td>\n",
              "    </tr>\n",
              "  </tbody>\n",
              "</table>\n",
              "</div>"
            ],
            "text/plain": [
              "       CobrancaTotal\n",
              "count       5,626.00\n",
              "mean        2,273.51\n",
              "std         2,258.38\n",
              "min            18.80\n",
              "25%           401.59\n",
              "50%         1,396.12\n",
              "75%         3,764.29\n",
              "max         8,684.80"
            ]
          },
          "metadata": {
            "tags": []
          },
          "execution_count": 43
        }
      ]
    },
    {
      "cell_type": "code",
      "metadata": {
        "id": "3HpUQVLeDYuP",
        "outputId": "fcf38f59-a8b3-4653-bf84-37a3510c0eea",
        "colab": {
          "base_uri": "https://localhost:8080/"
        }
      },
      "source": [
        "# Coeficiente de variação\n",
        "quantitativas[['CobrancaTotal']].std() / quantitativas[['CobrancaTotal']].mean() * 100"
      ],
      "execution_count": 44,
      "outputs": [
        {
          "output_type": "execute_result",
          "data": {
            "text/plain": [
              "CobrancaTotal   99.33\n",
              "dtype: float64"
            ]
          },
          "metadata": {
            "tags": []
          },
          "execution_count": 44
        }
      ]
    },
    {
      "cell_type": "code",
      "metadata": {
        "scrolled": true,
        "id": "aBWu58x7DYuS",
        "outputId": "c8862747-ce61-4023-db49-d49489e5b989",
        "colab": {
          "base_uri": "https://localhost:8080/",
          "height": 80
        }
      },
      "source": [
        "quantitativas[['CobrancaTotal']].mode()"
      ],
      "execution_count": 45,
      "outputs": [
        {
          "output_type": "execute_result",
          "data": {
            "text/html": [
              "<div>\n",
              "<style scoped>\n",
              "    .dataframe tbody tr th:only-of-type {\n",
              "        vertical-align: middle;\n",
              "    }\n",
              "\n",
              "    .dataframe tbody tr th {\n",
              "        vertical-align: top;\n",
              "    }\n",
              "\n",
              "    .dataframe thead th {\n",
              "        text-align: right;\n",
              "    }\n",
              "</style>\n",
              "<table border=\"1\" class=\"dataframe\">\n",
              "  <thead>\n",
              "    <tr style=\"text-align: right;\">\n",
              "      <th></th>\n",
              "      <th>CobrancaTotal</th>\n",
              "    </tr>\n",
              "  </thead>\n",
              "  <tbody>\n",
              "    <tr>\n",
              "      <th>0</th>\n",
              "      <td>20.20</td>\n",
              "    </tr>\n",
              "  </tbody>\n",
              "</table>\n",
              "</div>"
            ],
            "text/plain": [
              "   CobrancaTotal\n",
              "0          20.20"
            ]
          },
          "metadata": {
            "tags": []
          },
          "execution_count": 45
        }
      ]
    },
    {
      "cell_type": "code",
      "metadata": {
        "id": "Q1cu50k2DYuV",
        "outputId": "fbe11b92-071d-4d26-caa5-4259b1664d19",
        "colab": {
          "base_uri": "https://localhost:8080/",
          "height": 315
        }
      },
      "source": [
        "quantitativas[['CobrancaTotal']].hist(bins=150)"
      ],
      "execution_count": 46,
      "outputs": [
        {
          "output_type": "execute_result",
          "data": {
            "text/plain": [
              "array([[<matplotlib.axes._subplots.AxesSubplot object at 0x7f759497b3c8>]],\n",
              "      dtype=object)"
            ]
          },
          "metadata": {
            "tags": []
          },
          "execution_count": 46
        },
        {
          "output_type": "display_data",
          "data": {
            "image/png": "[encoded data removed]",
            "text/plain": [
              "<Figure size 432x288 with 1 Axes>"
            ]
          },
          "metadata": {
            "tags": [],
            "needs_background": "light"
          }
        }
      ]
    },
    {
      "cell_type": "code",
      "metadata": {
        "id": "itd68WUVDYub",
        "outputId": "59108576-70cd-47f0-a131-6b604c93ec95",
        "colab": {
          "base_uri": "https://localhost:8080/",
          "height": 242
        }
      },
      "source": [
        "sns.catplot(data=quantitativas[['CobrancaTotal']],\n",
        "              kind='box',\n",
        "              height=3,\n",
        "              aspect=2.5)"
      ],
      "execution_count": 47,
      "outputs": [
        {
          "output_type": "execute_result",
          "data": {
            "text/plain": [
              "<seaborn.axisgrid.FacetGrid at 0x7f7593f612b0>"
            ]
          },
          "metadata": {
            "tags": []
          },
          "execution_count": 47
        },
        {
          "output_type": "display_data",
          "data": {
            "image/png": "[encoded data removed]",
            "text/plain": [
              "<Figure size 540x216 with 1 Axes>"
            ]
          },
          "metadata": {
            "tags": [],
            "needs_background": "light"
          }
        }
      ]
    },
    {
      "cell_type": "code",
      "metadata": {
        "id": "jPBHNif5DYug",
        "outputId": "6581e97a-4498-4e36-ab85-d5b3d78320b4",
        "colab": {
          "base_uri": "https://localhost:8080/"
        }
      },
      "source": [
        "quantitativas['CobrancaTotal_2'] = quantitativas['CobrancaTotal'].fillna(quantitativas['CobrancaTotal'].mode()[0])"
      ],
      "execution_count": 48,
      "outputs": [
        {
          "output_type": "stream",
          "text": [
            "/usr/local/lib/python3.6/dist-packages/ipykernel_launcher.py:1: SettingWithCopyWarning: \n",
            "A value is trying to be set on a copy of a slice from a DataFrame.\n",
            "Try using .loc[row_indexer,col_indexer] = value instead\n",
            "\n",
            "See the caveats in the documentation: https://pandas.pydata.org/pandas-docs/stable/user_guide/indexing.html#returning-a-view-versus-a-copy\n",
            "  \"\"\"Entry point for launching an IPython kernel.\n"
          ],
          "name": "stderr"
        }
      ]
    },
    {
      "cell_type": "code",
      "metadata": {
        "id": "49WIge1oDYul",
        "outputId": "75299e2d-0540-4886-916e-4141ae0f5f46",
        "colab": {
          "base_uri": "https://localhost:8080/"
        }
      },
      "source": [
        "quantitativas[['CobrancaTotal_2']].isnull().any()"
      ],
      "execution_count": 49,
      "outputs": [
        {
          "output_type": "execute_result",
          "data": {
            "text/plain": [
              "CobrancaTotal_2    False\n",
              "dtype: bool"
            ]
          },
          "metadata": {
            "tags": []
          },
          "execution_count": 49
        }
      ]
    },
    {
      "cell_type": "markdown",
      "metadata": {
        "id": "fnwKb7CxDYur"
      },
      "source": [
        "#### Variável quantitativa 'MesesNaCompanhia'"
      ]
    },
    {
      "cell_type": "code",
      "metadata": {
        "id": "Ns8bFfwTDYus",
        "outputId": "0b1da17f-9c39-4647-92a0-6981fb35c54e",
        "colab": {
          "base_uri": "https://localhost:8080/",
          "height": 193
        }
      },
      "source": [
        "quantitativas.head(23).T"
      ],
      "execution_count": 50,
      "outputs": [
        {
          "output_type": "execute_result",
          "data": {
            "text/html": [
              "<div>\n",
              "<style scoped>\n",
              "    .dataframe tbody tr th:only-of-type {\n",
              "        vertical-align: middle;\n",
              "    }\n",
              "\n",
              "    .dataframe tbody tr th {\n",
              "        vertical-align: top;\n",
              "    }\n",
              "\n",
              "    .dataframe thead th {\n",
              "        text-align: right;\n",
              "    }\n",
              "</style>\n",
              "<table border=\"1\" class=\"dataframe\">\n",
              "  <thead>\n",
              "    <tr style=\"text-align: right;\">\n",
              "      <th></th>\n",
              "      <th>0</th>\n",
              "      <th>1</th>\n",
              "      <th>2</th>\n",
              "      <th>3</th>\n",
              "      <th>4</th>\n",
              "      <th>5</th>\n",
              "      <th>6</th>\n",
              "      <th>7</th>\n",
              "      <th>8</th>\n",
              "      <th>9</th>\n",
              "      <th>10</th>\n",
              "      <th>11</th>\n",
              "      <th>12</th>\n",
              "      <th>13</th>\n",
              "      <th>14</th>\n",
              "      <th>15</th>\n",
              "      <th>16</th>\n",
              "      <th>17</th>\n",
              "      <th>18</th>\n",
              "      <th>19</th>\n",
              "      <th>20</th>\n",
              "      <th>21</th>\n",
              "      <th>22</th>\n",
              "    </tr>\n",
              "  </thead>\n",
              "  <tbody>\n",
              "    <tr>\n",
              "      <th>MesesNaCompanhia</th>\n",
              "      <td>56.00</td>\n",
              "      <td>nan</td>\n",
              "      <td>60.00</td>\n",
              "      <td>37.00</td>\n",
              "      <td>29.00</td>\n",
              "      <td>70.00</td>\n",
              "      <td>31.00</td>\n",
              "      <td>3.00</td>\n",
              "      <td>54.00</td>\n",
              "      <td>72.00</td>\n",
              "      <td>6.00</td>\n",
              "      <td>nan</td>\n",
              "      <td>7.00</td>\n",
              "      <td>1.00</td>\n",
              "      <td>72.00</td>\n",
              "      <td>19.00</td>\n",
              "      <td>8.00</td>\n",
              "      <td>72.00</td>\n",
              "      <td>4.00</td>\n",
              "      <td>38.00</td>\n",
              "      <td>17.00</td>\n",
              "      <td>25.00</td>\n",
              "      <td>70.00</td>\n",
              "    </tr>\n",
              "    <tr>\n",
              "      <th>CobrancaMensal</th>\n",
              "      <td>45.05</td>\n",
              "      <td>19.65</td>\n",
              "      <td>110.80</td>\n",
              "      <td>101.90</td>\n",
              "      <td>70.75</td>\n",
              "      <td>48.40</td>\n",
              "      <td>59.95</td>\n",
              "      <td>19.55</td>\n",
              "      <td>19.65</td>\n",
              "      <td>85.10</td>\n",
              "      <td>18.95</td>\n",
              "      <td>94.90</td>\n",
              "      <td>66.85</td>\n",
              "      <td>69.80</td>\n",
              "      <td>84.45</td>\n",
              "      <td>69.60</td>\n",
              "      <td>43.45</td>\n",
              "      <td>90.45</td>\n",
              "      <td>76.05</td>\n",
              "      <td>81.85</td>\n",
              "      <td>44.45</td>\n",
              "      <td>61.60</td>\n",
              "      <td>57.80</td>\n",
              "    </tr>\n",
              "    <tr>\n",
              "      <th>CobrancaTotal</th>\n",
              "      <td>2,560.10</td>\n",
              "      <td>332.65</td>\n",
              "      <td>6,640.70</td>\n",
              "      <td>3,545.35</td>\n",
              "      <td>1,974.80</td>\n",
              "      <td>3,442.80</td>\n",
              "      <td>1,848.80</td>\n",
              "      <td>61.05</td>\n",
              "      <td>1,008.70</td>\n",
              "      <td>6,155.40</td>\n",
              "      <td>110.15</td>\n",
              "      <td>4,422.95</td>\n",
              "      <td>458.10</td>\n",
              "      <td>69.80</td>\n",
              "      <td>6,033.10</td>\n",
              "      <td>1,394.55</td>\n",
              "      <td>345.50</td>\n",
              "      <td>6,565.85</td>\n",
              "      <td>318.90</td>\n",
              "      <td>3,141.70</td>\n",
              "      <td>792.15</td>\n",
              "      <td>1,611.00</td>\n",
              "      <td>4,039.30</td>\n",
              "    </tr>\n",
              "    <tr>\n",
              "      <th>CobrancaTotal_2</th>\n",
              "      <td>2,560.10</td>\n",
              "      <td>332.65</td>\n",
              "      <td>6,640.70</td>\n",
              "      <td>3,545.35</td>\n",
              "      <td>1,974.80</td>\n",
              "      <td>3,442.80</td>\n",
              "      <td>1,848.80</td>\n",
              "      <td>61.05</td>\n",
              "      <td>1,008.70</td>\n",
              "      <td>6,155.40</td>\n",
              "      <td>110.15</td>\n",
              "      <td>4,422.95</td>\n",
              "      <td>458.10</td>\n",
              "      <td>69.80</td>\n",
              "      <td>6,033.10</td>\n",
              "      <td>1,394.55</td>\n",
              "      <td>345.50</td>\n",
              "      <td>6,565.85</td>\n",
              "      <td>318.90</td>\n",
              "      <td>3,141.70</td>\n",
              "      <td>792.15</td>\n",
              "      <td>1,611.00</td>\n",
              "      <td>4,039.30</td>\n",
              "    </tr>\n",
              "  </tbody>\n",
              "</table>\n",
              "</div>"
            ],
            "text/plain": [
              "                       0      1        2        3        4        5        6   \\\n",
              "MesesNaCompanhia    56.00    nan    60.00    37.00    29.00    70.00    31.00   \n",
              "CobrancaMensal      45.05  19.65   110.80   101.90    70.75    48.40    59.95   \n",
              "CobrancaTotal    2,560.10 332.65 6,640.70 3,545.35 1,974.80 3,442.80 1,848.80   \n",
              "CobrancaTotal_2  2,560.10 332.65 6,640.70 3,545.35 1,974.80 3,442.80 1,848.80   \n",
              "\n",
              "                    7        8        9      10       11     12    13  \\\n",
              "MesesNaCompanhia  3.00    54.00    72.00   6.00      nan   7.00  1.00   \n",
              "CobrancaMensal   19.55    19.65    85.10  18.95    94.90  66.85 69.80   \n",
              "CobrancaTotal    61.05 1,008.70 6,155.40 110.15 4,422.95 458.10 69.80   \n",
              "CobrancaTotal_2  61.05 1,008.70 6,155.40 110.15 4,422.95 458.10 69.80   \n",
              "\n",
              "                       14       15     16       17     18       19     20  \\\n",
              "MesesNaCompanhia    72.00    19.00   8.00    72.00   4.00    38.00  17.00   \n",
              "CobrancaMensal      84.45    69.60  43.45    90.45  76.05    81.85  44.45   \n",
              "CobrancaTotal    6,033.10 1,394.55 345.50 6,565.85 318.90 3,141.70 792.15   \n",
              "CobrancaTotal_2  6,033.10 1,394.55 345.50 6,565.85 318.90 3,141.70 792.15   \n",
              "\n",
              "                       21       22  \n",
              "MesesNaCompanhia    25.00    70.00  \n",
              "CobrancaMensal      61.60    57.80  \n",
              "CobrancaTotal    1,611.00 4,039.30  \n",
              "CobrancaTotal_2  1,611.00 4,039.30  "
            ]
          },
          "metadata": {
            "tags": []
          },
          "execution_count": 50
        }
      ]
    },
    {
      "cell_type": "code",
      "metadata": {
        "id": "3nc9YrW2DYuw",
        "outputId": "b0ef5598-f706-4a9a-934b-81d13e32f6c8",
        "colab": {
          "base_uri": "https://localhost:8080/"
        }
      },
      "source": [
        "quantitativas['RazaoCobrTotalMensal'] = quantitativas['CobrancaTotal']/quantitativas['CobrancaMensal']"
      ],
      "execution_count": 51,
      "outputs": [
        {
          "output_type": "stream",
          "text": [
            "/usr/local/lib/python3.6/dist-packages/ipykernel_launcher.py:1: SettingWithCopyWarning: \n",
            "A value is trying to be set on a copy of a slice from a DataFrame.\n",
            "Try using .loc[row_indexer,col_indexer] = value instead\n",
            "\n",
            "See the caveats in the documentation: https://pandas.pydata.org/pandas-docs/stable/user_guide/indexing.html#returning-a-view-versus-a-copy\n",
            "  \"\"\"Entry point for launching an IPython kernel.\n"
          ],
          "name": "stderr"
        }
      ]
    },
    {
      "cell_type": "code",
      "metadata": {
        "id": "k7-ltpmyDYu1",
        "outputId": "77d92616-204c-487d-989f-86a95f73477e",
        "colab": {
          "base_uri": "https://localhost:8080/"
        }
      },
      "source": [
        "quantitativas['DiferencapercRazaoCobrTotMensal'] = (quantitativas['MesesNaCompanhia']-quantitativas['RazaoCobrTotalMensal'])/quantitativas['MesesNaCompanhia']"
      ],
      "execution_count": 52,
      "outputs": [
        {
          "output_type": "stream",
          "text": [
            "/usr/local/lib/python3.6/dist-packages/ipykernel_launcher.py:1: SettingWithCopyWarning: \n",
            "A value is trying to be set on a copy of a slice from a DataFrame.\n",
            "Try using .loc[row_indexer,col_indexer] = value instead\n",
            "\n",
            "See the caveats in the documentation: https://pandas.pydata.org/pandas-docs/stable/user_guide/indexing.html#returning-a-view-versus-a-copy\n",
            "  \"\"\"Entry point for launching an IPython kernel.\n"
          ],
          "name": "stderr"
        }
      ]
    },
    {
      "cell_type": "markdown",
      "metadata": {
        "id": "UlUHIv1XDYu7"
      },
      "source": [
        "Verifica-se que a razão entre os valores das variáveis CobrancaTotal e CobrancaMensal é um bom indicador<br>\n",
        "do valor da variável MesesNaCompanhia. Dessa forma, vamos usar essa razão para preencher os valores faltantes <br>\n",
        "da variável 'MesesNaCompanhia'."
      ]
    },
    {
      "cell_type": "code",
      "metadata": {
        "id": "5j3kKOpiDYu9",
        "outputId": "e7c11af2-5410-4e77-b35a-5fb37c156c39",
        "colab": {
          "base_uri": "https://localhost:8080/",
          "height": 255
        }
      },
      "source": [
        "quantitativas.head(23).T"
      ],
      "execution_count": 53,
      "outputs": [
        {
          "output_type": "execute_result",
          "data": {
            "text/html": [
              "<div>\n",
              "<style scoped>\n",
              "    .dataframe tbody tr th:only-of-type {\n",
              "        vertical-align: middle;\n",
              "    }\n",
              "\n",
              "    .dataframe tbody tr th {\n",
              "        vertical-align: top;\n",
              "    }\n",
              "\n",
              "    .dataframe thead th {\n",
              "        text-align: right;\n",
              "    }\n",
              "</style>\n",
              "<table border=\"1\" class=\"dataframe\">\n",
              "  <thead>\n",
              "    <tr style=\"text-align: right;\">\n",
              "      <th></th>\n",
              "      <th>0</th>\n",
              "      <th>1</th>\n",
              "      <th>2</th>\n",
              "      <th>3</th>\n",
              "      <th>4</th>\n",
              "      <th>5</th>\n",
              "      <th>6</th>\n",
              "      <th>7</th>\n",
              "      <th>8</th>\n",
              "      <th>9</th>\n",
              "      <th>10</th>\n",
              "      <th>11</th>\n",
              "      <th>12</th>\n",
              "      <th>13</th>\n",
              "      <th>14</th>\n",
              "      <th>15</th>\n",
              "      <th>16</th>\n",
              "      <th>17</th>\n",
              "      <th>18</th>\n",
              "      <th>19</th>\n",
              "      <th>20</th>\n",
              "      <th>21</th>\n",
              "      <th>22</th>\n",
              "    </tr>\n",
              "  </thead>\n",
              "  <tbody>\n",
              "    <tr>\n",
              "      <th>MesesNaCompanhia</th>\n",
              "      <td>56.00</td>\n",
              "      <td>nan</td>\n",
              "      <td>60.00</td>\n",
              "      <td>37.00</td>\n",
              "      <td>29.00</td>\n",
              "      <td>70.00</td>\n",
              "      <td>31.00</td>\n",
              "      <td>3.00</td>\n",
              "      <td>54.00</td>\n",
              "      <td>72.00</td>\n",
              "      <td>6.00</td>\n",
              "      <td>nan</td>\n",
              "      <td>7.00</td>\n",
              "      <td>1.00</td>\n",
              "      <td>72.00</td>\n",
              "      <td>19.00</td>\n",
              "      <td>8.00</td>\n",
              "      <td>72.00</td>\n",
              "      <td>4.00</td>\n",
              "      <td>38.00</td>\n",
              "      <td>17.00</td>\n",
              "      <td>25.00</td>\n",
              "      <td>70.00</td>\n",
              "    </tr>\n",
              "    <tr>\n",
              "      <th>CobrancaMensal</th>\n",
              "      <td>45.05</td>\n",
              "      <td>19.65</td>\n",
              "      <td>110.80</td>\n",
              "      <td>101.90</td>\n",
              "      <td>70.75</td>\n",
              "      <td>48.40</td>\n",
              "      <td>59.95</td>\n",
              "      <td>19.55</td>\n",
              "      <td>19.65</td>\n",
              "      <td>85.10</td>\n",
              "      <td>18.95</td>\n",
              "      <td>94.90</td>\n",
              "      <td>66.85</td>\n",
              "      <td>69.80</td>\n",
              "      <td>84.45</td>\n",
              "      <td>69.60</td>\n",
              "      <td>43.45</td>\n",
              "      <td>90.45</td>\n",
              "      <td>76.05</td>\n",
              "      <td>81.85</td>\n",
              "      <td>44.45</td>\n",
              "      <td>61.60</td>\n",
              "      <td>57.80</td>\n",
              "    </tr>\n",
              "    <tr>\n",
              "      <th>CobrancaTotal</th>\n",
              "      <td>2,560.10</td>\n",
              "      <td>332.65</td>\n",
              "      <td>6,640.70</td>\n",
              "      <td>3,545.35</td>\n",
              "      <td>1,974.80</td>\n",
              "      <td>3,442.80</td>\n",
              "      <td>1,848.80</td>\n",
              "      <td>61.05</td>\n",
              "      <td>1,008.70</td>\n",
              "      <td>6,155.40</td>\n",
              "      <td>110.15</td>\n",
              "      <td>4,422.95</td>\n",
              "      <td>458.10</td>\n",
              "      <td>69.80</td>\n",
              "      <td>6,033.10</td>\n",
              "      <td>1,394.55</td>\n",
              "      <td>345.50</td>\n",
              "      <td>6,565.85</td>\n",
              "      <td>318.90</td>\n",
              "      <td>3,141.70</td>\n",
              "      <td>792.15</td>\n",
              "      <td>1,611.00</td>\n",
              "      <td>4,039.30</td>\n",
              "    </tr>\n",
              "    <tr>\n",
              "      <th>CobrancaTotal_2</th>\n",
              "      <td>2,560.10</td>\n",
              "      <td>332.65</td>\n",
              "      <td>6,640.70</td>\n",
              "      <td>3,545.35</td>\n",
              "      <td>1,974.80</td>\n",
              "      <td>3,442.80</td>\n",
              "      <td>1,848.80</td>\n",
              "      <td>61.05</td>\n",
              "      <td>1,008.70</td>\n",
              "      <td>6,155.40</td>\n",
              "      <td>110.15</td>\n",
              "      <td>4,422.95</td>\n",
              "      <td>458.10</td>\n",
              "      <td>69.80</td>\n",
              "      <td>6,033.10</td>\n",
              "      <td>1,394.55</td>\n",
              "      <td>345.50</td>\n",
              "      <td>6,565.85</td>\n",
              "      <td>318.90</td>\n",
              "      <td>3,141.70</td>\n",
              "      <td>792.15</td>\n",
              "      <td>1,611.00</td>\n",
              "      <td>4,039.30</td>\n",
              "    </tr>\n",
              "    <tr>\n",
              "      <th>RazaoCobrTotalMensal</th>\n",
              "      <td>56.83</td>\n",
              "      <td>16.93</td>\n",
              "      <td>59.93</td>\n",
              "      <td>34.79</td>\n",
              "      <td>27.91</td>\n",
              "      <td>71.13</td>\n",
              "      <td>30.84</td>\n",
              "      <td>3.12</td>\n",
              "      <td>51.33</td>\n",
              "      <td>72.33</td>\n",
              "      <td>5.81</td>\n",
              "      <td>46.61</td>\n",
              "      <td>6.85</td>\n",
              "      <td>1.00</td>\n",
              "      <td>71.44</td>\n",
              "      <td>20.04</td>\n",
              "      <td>7.95</td>\n",
              "      <td>72.59</td>\n",
              "      <td>4.19</td>\n",
              "      <td>38.38</td>\n",
              "      <td>17.82</td>\n",
              "      <td>26.15</td>\n",
              "      <td>69.88</td>\n",
              "    </tr>\n",
              "    <tr>\n",
              "      <th>DiferencapercRazaoCobrTotMensal</th>\n",
              "      <td>-0.01</td>\n",
              "      <td>nan</td>\n",
              "      <td>0.00</td>\n",
              "      <td>0.06</td>\n",
              "      <td>0.04</td>\n",
              "      <td>-0.02</td>\n",
              "      <td>0.01</td>\n",
              "      <td>-0.04</td>\n",
              "      <td>0.05</td>\n",
              "      <td>-0.00</td>\n",
              "      <td>0.03</td>\n",
              "      <td>nan</td>\n",
              "      <td>0.02</td>\n",
              "      <td>0.00</td>\n",
              "      <td>0.01</td>\n",
              "      <td>-0.05</td>\n",
              "      <td>0.01</td>\n",
              "      <td>-0.01</td>\n",
              "      <td>-0.05</td>\n",
              "      <td>-0.01</td>\n",
              "      <td>-0.05</td>\n",
              "      <td>-0.05</td>\n",
              "      <td>0.00</td>\n",
              "    </tr>\n",
              "  </tbody>\n",
              "</table>\n",
              "</div>"
            ],
            "text/plain": [
              "                                      0      1        2        3        4   \\\n",
              "MesesNaCompanhia                   56.00    nan    60.00    37.00    29.00   \n",
              "CobrancaMensal                     45.05  19.65   110.80   101.90    70.75   \n",
              "CobrancaTotal                   2,560.10 332.65 6,640.70 3,545.35 1,974.80   \n",
              "CobrancaTotal_2                 2,560.10 332.65 6,640.70 3,545.35 1,974.80   \n",
              "RazaoCobrTotalMensal               56.83  16.93    59.93    34.79    27.91   \n",
              "DiferencapercRazaoCobrTotMensal    -0.01    nan     0.00     0.06     0.04   \n",
              "\n",
              "                                      5        6     7        8        9   \\\n",
              "MesesNaCompanhia                   70.00    31.00  3.00    54.00    72.00   \n",
              "CobrancaMensal                     48.40    59.95 19.55    19.65    85.10   \n",
              "CobrancaTotal                   3,442.80 1,848.80 61.05 1,008.70 6,155.40   \n",
              "CobrancaTotal_2                 3,442.80 1,848.80 61.05 1,008.70 6,155.40   \n",
              "RazaoCobrTotalMensal               71.13    30.84  3.12    51.33    72.33   \n",
              "DiferencapercRazaoCobrTotMensal    -0.02     0.01 -0.04     0.05    -0.00   \n",
              "\n",
              "                                    10       11     12    13       14  \\\n",
              "MesesNaCompanhia                  6.00      nan   7.00  1.00    72.00   \n",
              "CobrancaMensal                   18.95    94.90  66.85 69.80    84.45   \n",
              "CobrancaTotal                   110.15 4,422.95 458.10 69.80 6,033.10   \n",
              "CobrancaTotal_2                 110.15 4,422.95 458.10 69.80 6,033.10   \n",
              "RazaoCobrTotalMensal              5.81    46.61   6.85  1.00    71.44   \n",
              "DiferencapercRazaoCobrTotMensal   0.03      nan   0.02  0.00     0.01   \n",
              "\n",
              "                                      15     16       17     18       19  \\\n",
              "MesesNaCompanhia                   19.00   8.00    72.00   4.00    38.00   \n",
              "CobrancaMensal                     69.60  43.45    90.45  76.05    81.85   \n",
              "CobrancaTotal                   1,394.55 345.50 6,565.85 318.90 3,141.70   \n",
              "CobrancaTotal_2                 1,394.55 345.50 6,565.85 318.90 3,141.70   \n",
              "RazaoCobrTotalMensal               20.04   7.95    72.59   4.19    38.38   \n",
              "DiferencapercRazaoCobrTotMensal    -0.05   0.01    -0.01  -0.05    -0.01   \n",
              "\n",
              "                                    20       21       22  \n",
              "MesesNaCompanhia                 17.00    25.00    70.00  \n",
              "CobrancaMensal                   44.45    61.60    57.80  \n",
              "CobrancaTotal                   792.15 1,611.00 4,039.30  \n",
              "CobrancaTotal_2                 792.15 1,611.00 4,039.30  \n",
              "RazaoCobrTotalMensal             17.82    26.15    69.88  \n",
              "DiferencapercRazaoCobrTotMensal  -0.05    -0.05     0.00  "
            ]
          },
          "metadata": {
            "tags": []
          },
          "execution_count": 53
        }
      ]
    },
    {
      "cell_type": "code",
      "metadata": {
        "id": "gBdT_poGDYvF"
      },
      "source": [
        "quantitativas = quantitativas.drop(columns=['RazaoCobrTotalMensal','DiferencapercRazaoCobrTotMensal'],\n",
        "                   axis=1)"
      ],
      "execution_count": 54,
      "outputs": []
    },
    {
      "cell_type": "code",
      "metadata": {
        "id": "vdgxx25DDYvO",
        "outputId": "01f16a9c-dc34-4d84-bb53-f486fdb10dd5",
        "colab": {
          "base_uri": "https://localhost:8080/",
          "height": 173
        }
      },
      "source": [
        "quantitativas.head().T"
      ],
      "execution_count": 55,
      "outputs": [
        {
          "output_type": "execute_result",
          "data": {
            "text/html": [
              "<div>\n",
              "<style scoped>\n",
              "    .dataframe tbody tr th:only-of-type {\n",
              "        vertical-align: middle;\n",
              "    }\n",
              "\n",
              "    .dataframe tbody tr th {\n",
              "        vertical-align: top;\n",
              "    }\n",
              "\n",
              "    .dataframe thead th {\n",
              "        text-align: right;\n",
              "    }\n",
              "</style>\n",
              "<table border=\"1\" class=\"dataframe\">\n",
              "  <thead>\n",
              "    <tr style=\"text-align: right;\">\n",
              "      <th></th>\n",
              "      <th>0</th>\n",
              "      <th>1</th>\n",
              "      <th>2</th>\n",
              "      <th>3</th>\n",
              "      <th>4</th>\n",
              "    </tr>\n",
              "  </thead>\n",
              "  <tbody>\n",
              "    <tr>\n",
              "      <th>MesesNaCompanhia</th>\n",
              "      <td>56.00</td>\n",
              "      <td>nan</td>\n",
              "      <td>60.00</td>\n",
              "      <td>37.00</td>\n",
              "      <td>29.00</td>\n",
              "    </tr>\n",
              "    <tr>\n",
              "      <th>CobrancaMensal</th>\n",
              "      <td>45.05</td>\n",
              "      <td>19.65</td>\n",
              "      <td>110.80</td>\n",
              "      <td>101.90</td>\n",
              "      <td>70.75</td>\n",
              "    </tr>\n",
              "    <tr>\n",
              "      <th>CobrancaTotal</th>\n",
              "      <td>2,560.10</td>\n",
              "      <td>332.65</td>\n",
              "      <td>6,640.70</td>\n",
              "      <td>3,545.35</td>\n",
              "      <td>1,974.80</td>\n",
              "    </tr>\n",
              "    <tr>\n",
              "      <th>CobrancaTotal_2</th>\n",
              "      <td>2,560.10</td>\n",
              "      <td>332.65</td>\n",
              "      <td>6,640.70</td>\n",
              "      <td>3,545.35</td>\n",
              "      <td>1,974.80</td>\n",
              "    </tr>\n",
              "  </tbody>\n",
              "</table>\n",
              "</div>"
            ],
            "text/plain": [
              "                        0      1        2        3        4\n",
              "MesesNaCompanhia    56.00    nan    60.00    37.00    29.00\n",
              "CobrancaMensal      45.05  19.65   110.80   101.90    70.75\n",
              "CobrancaTotal    2,560.10 332.65 6,640.70 3,545.35 1,974.80\n",
              "CobrancaTotal_2  2,560.10 332.65 6,640.70 3,545.35 1,974.80"
            ]
          },
          "metadata": {
            "tags": []
          },
          "execution_count": 55
        }
      ]
    },
    {
      "cell_type": "code",
      "metadata": {
        "id": "6tipHHzkDYvW"
      },
      "source": [
        "quantitativas['MesesNaCompanhia_2']  = quantitativas['MesesNaCompanhia'].fillna(quantitativas['CobrancaTotal']/\n",
        "                                                                               quantitativas['CobrancaMensal'])"
      ],
      "execution_count": 56,
      "outputs": []
    },
    {
      "cell_type": "code",
      "metadata": {
        "id": "-NHq2tFwDYvf",
        "outputId": "df18e3de-42f4-4e87-e0e7-f112762dead9",
        "colab": {
          "base_uri": "https://localhost:8080/",
          "height": 224
        }
      },
      "source": [
        "quantitativas.head(20).T"
      ],
      "execution_count": 57,
      "outputs": [
        {
          "output_type": "execute_result",
          "data": {
            "text/html": [
              "<div>\n",
              "<style scoped>\n",
              "    .dataframe tbody tr th:only-of-type {\n",
              "        vertical-align: middle;\n",
              "    }\n",
              "\n",
              "    .dataframe tbody tr th {\n",
              "        vertical-align: top;\n",
              "    }\n",
              "\n",
              "    .dataframe thead th {\n",
              "        text-align: right;\n",
              "    }\n",
              "</style>\n",
              "<table border=\"1\" class=\"dataframe\">\n",
              "  <thead>\n",
              "    <tr style=\"text-align: right;\">\n",
              "      <th></th>\n",
              "      <th>0</th>\n",
              "      <th>1</th>\n",
              "      <th>2</th>\n",
              "      <th>3</th>\n",
              "      <th>4</th>\n",
              "      <th>5</th>\n",
              "      <th>6</th>\n",
              "      <th>7</th>\n",
              "      <th>8</th>\n",
              "      <th>9</th>\n",
              "      <th>10</th>\n",
              "      <th>11</th>\n",
              "      <th>12</th>\n",
              "      <th>13</th>\n",
              "      <th>14</th>\n",
              "      <th>15</th>\n",
              "      <th>16</th>\n",
              "      <th>17</th>\n",
              "      <th>18</th>\n",
              "      <th>19</th>\n",
              "    </tr>\n",
              "  </thead>\n",
              "  <tbody>\n",
              "    <tr>\n",
              "      <th>MesesNaCompanhia</th>\n",
              "      <td>56.00</td>\n",
              "      <td>nan</td>\n",
              "      <td>60.00</td>\n",
              "      <td>37.00</td>\n",
              "      <td>29.00</td>\n",
              "      <td>70.00</td>\n",
              "      <td>31.00</td>\n",
              "      <td>3.00</td>\n",
              "      <td>54.00</td>\n",
              "      <td>72.00</td>\n",
              "      <td>6.00</td>\n",
              "      <td>nan</td>\n",
              "      <td>7.00</td>\n",
              "      <td>1.00</td>\n",
              "      <td>72.00</td>\n",
              "      <td>19.00</td>\n",
              "      <td>8.00</td>\n",
              "      <td>72.00</td>\n",
              "      <td>4.00</td>\n",
              "      <td>38.00</td>\n",
              "    </tr>\n",
              "    <tr>\n",
              "      <th>CobrancaMensal</th>\n",
              "      <td>45.05</td>\n",
              "      <td>19.65</td>\n",
              "      <td>110.80</td>\n",
              "      <td>101.90</td>\n",
              "      <td>70.75</td>\n",
              "      <td>48.40</td>\n",
              "      <td>59.95</td>\n",
              "      <td>19.55</td>\n",
              "      <td>19.65</td>\n",
              "      <td>85.10</td>\n",
              "      <td>18.95</td>\n",
              "      <td>94.90</td>\n",
              "      <td>66.85</td>\n",
              "      <td>69.80</td>\n",
              "      <td>84.45</td>\n",
              "      <td>69.60</td>\n",
              "      <td>43.45</td>\n",
              "      <td>90.45</td>\n",
              "      <td>76.05</td>\n",
              "      <td>81.85</td>\n",
              "    </tr>\n",
              "    <tr>\n",
              "      <th>CobrancaTotal</th>\n",
              "      <td>2,560.10</td>\n",
              "      <td>332.65</td>\n",
              "      <td>6,640.70</td>\n",
              "      <td>3,545.35</td>\n",
              "      <td>1,974.80</td>\n",
              "      <td>3,442.80</td>\n",
              "      <td>1,848.80</td>\n",
              "      <td>61.05</td>\n",
              "      <td>1,008.70</td>\n",
              "      <td>6,155.40</td>\n",
              "      <td>110.15</td>\n",
              "      <td>4,422.95</td>\n",
              "      <td>458.10</td>\n",
              "      <td>69.80</td>\n",
              "      <td>6,033.10</td>\n",
              "      <td>1,394.55</td>\n",
              "      <td>345.50</td>\n",
              "      <td>6,565.85</td>\n",
              "      <td>318.90</td>\n",
              "      <td>3,141.70</td>\n",
              "    </tr>\n",
              "    <tr>\n",
              "      <th>CobrancaTotal_2</th>\n",
              "      <td>2,560.10</td>\n",
              "      <td>332.65</td>\n",
              "      <td>6,640.70</td>\n",
              "      <td>3,545.35</td>\n",
              "      <td>1,974.80</td>\n",
              "      <td>3,442.80</td>\n",
              "      <td>1,848.80</td>\n",
              "      <td>61.05</td>\n",
              "      <td>1,008.70</td>\n",
              "      <td>6,155.40</td>\n",
              "      <td>110.15</td>\n",
              "      <td>4,422.95</td>\n",
              "      <td>458.10</td>\n",
              "      <td>69.80</td>\n",
              "      <td>6,033.10</td>\n",
              "      <td>1,394.55</td>\n",
              "      <td>345.50</td>\n",
              "      <td>6,565.85</td>\n",
              "      <td>318.90</td>\n",
              "      <td>3,141.70</td>\n",
              "    </tr>\n",
              "    <tr>\n",
              "      <th>MesesNaCompanhia_2</th>\n",
              "      <td>56.00</td>\n",
              "      <td>16.93</td>\n",
              "      <td>60.00</td>\n",
              "      <td>37.00</td>\n",
              "      <td>29.00</td>\n",
              "      <td>70.00</td>\n",
              "      <td>31.00</td>\n",
              "      <td>3.00</td>\n",
              "      <td>54.00</td>\n",
              "      <td>72.00</td>\n",
              "      <td>6.00</td>\n",
              "      <td>46.61</td>\n",
              "      <td>7.00</td>\n",
              "      <td>1.00</td>\n",
              "      <td>72.00</td>\n",
              "      <td>19.00</td>\n",
              "      <td>8.00</td>\n",
              "      <td>72.00</td>\n",
              "      <td>4.00</td>\n",
              "      <td>38.00</td>\n",
              "    </tr>\n",
              "  </tbody>\n",
              "</table>\n",
              "</div>"
            ],
            "text/plain": [
              "                         0      1        2        3        4        5   \\\n",
              "MesesNaCompanhia      56.00    nan    60.00    37.00    29.00    70.00   \n",
              "CobrancaMensal        45.05  19.65   110.80   101.90    70.75    48.40   \n",
              "CobrancaTotal      2,560.10 332.65 6,640.70 3,545.35 1,974.80 3,442.80   \n",
              "CobrancaTotal_2    2,560.10 332.65 6,640.70 3,545.35 1,974.80 3,442.80   \n",
              "MesesNaCompanhia_2    56.00  16.93    60.00    37.00    29.00    70.00   \n",
              "\n",
              "                         6     7        8        9      10       11     12  \\\n",
              "MesesNaCompanhia      31.00  3.00    54.00    72.00   6.00      nan   7.00   \n",
              "CobrancaMensal        59.95 19.55    19.65    85.10  18.95    94.90  66.85   \n",
              "CobrancaTotal      1,848.80 61.05 1,008.70 6,155.40 110.15 4,422.95 458.10   \n",
              "CobrancaTotal_2    1,848.80 61.05 1,008.70 6,155.40 110.15 4,422.95 458.10   \n",
              "MesesNaCompanhia_2    31.00  3.00    54.00    72.00   6.00    46.61   7.00   \n",
              "\n",
              "                      13       14       15     16       17     18       19  \n",
              "MesesNaCompanhia    1.00    72.00    19.00   8.00    72.00   4.00    38.00  \n",
              "CobrancaMensal     69.80    84.45    69.60  43.45    90.45  76.05    81.85  \n",
              "CobrancaTotal      69.80 6,033.10 1,394.55 345.50 6,565.85 318.90 3,141.70  \n",
              "CobrancaTotal_2    69.80 6,033.10 1,394.55 345.50 6,565.85 318.90 3,141.70  \n",
              "MesesNaCompanhia_2  1.00    72.00    19.00   8.00    72.00   4.00    38.00  "
            ]
          },
          "metadata": {
            "tags": []
          },
          "execution_count": 57
        }
      ]
    },
    {
      "cell_type": "code",
      "metadata": {
        "id": "ET_IYvpqDYvn"
      },
      "source": [
        "quantitativas_2 = quantitativas[['CobrancaMensal','CobrancaTotal_2','MesesNaCompanhia_2']]"
      ],
      "execution_count": 58,
      "outputs": []
    },
    {
      "cell_type": "code",
      "metadata": {
        "id": "OigshrJYDYvx",
        "outputId": "5ba8711b-fa8d-47b1-ff45-92856ce19a6e",
        "colab": {
          "base_uri": "https://localhost:8080/"
        }
      },
      "source": [
        "quantitativas_2.isnull().sum()"
      ],
      "execution_count": 59,
      "outputs": [
        {
          "output_type": "execute_result",
          "data": {
            "text/plain": [
              "CobrancaMensal        0\n",
              "CobrancaTotal_2       0\n",
              "MesesNaCompanhia_2    0\n",
              "dtype: int64"
            ]
          },
          "metadata": {
            "tags": []
          },
          "execution_count": 59
        }
      ]
    },
    {
      "cell_type": "markdown",
      "metadata": {
        "id": "nfIW9tjfDYv9"
      },
      "source": [
        "### Discretização das variáveis quantitativas"
      ]
    },
    {
      "cell_type": "code",
      "metadata": {
        "id": "KFBVLaayDYv_",
        "outputId": "afb6b5fe-0bdf-499b-85da-2959e1a9f25e",
        "colab": {
          "base_uri": "https://localhost:8080/"
        }
      },
      "source": [
        "quantitativas_2.nunique()"
      ],
      "execution_count": 60,
      "outputs": [
        {
          "output_type": "execute_result",
          "data": {
            "text/plain": [
              "CobrancaMensal        1505\n",
              "CobrancaTotal_2       5285\n",
              "MesesNaCompanhia_2     490\n",
              "dtype: int64"
            ]
          },
          "metadata": {
            "tags": []
          },
          "execution_count": 60
        }
      ]
    },
    {
      "cell_type": "code",
      "metadata": {
        "id": "dbpw8CGIDYwI"
      },
      "source": [
        "from sklearn.preprocessing import KBinsDiscretizer"
      ],
      "execution_count": 62,
      "outputs": []
    },
    {
      "cell_type": "code",
      "metadata": {
        "id": "LOVbgzy1DYwP"
      },
      "source": [
        "discretizer = KBinsDiscretizer(n_bins=5,\n",
        "                              encode='ordinal',\n",
        "                              strategy='quantile')"
      ],
      "execution_count": 63,
      "outputs": []
    },
    {
      "cell_type": "code",
      "metadata": {
        "id": "cmiZhF4ZDYwW",
        "outputId": "1ce1d2c3-762f-418e-df6e-bc1de66a8999",
        "colab": {
          "base_uri": "https://localhost:8080/"
        }
      },
      "source": [
        "discretizer.fit(quantitativas_2)"
      ],
      "execution_count": 64,
      "outputs": [
        {
          "output_type": "execute_result",
          "data": {
            "text/plain": [
              "KBinsDiscretizer(encode='ordinal', n_bins=5, strategy='quantile')"
            ]
          },
          "metadata": {
            "tags": []
          },
          "execution_count": 64
        }
      ]
    },
    {
      "cell_type": "code",
      "metadata": {
        "id": "_GyaTug8DYwa"
      },
      "source": [
        "bining = discretizer.fit_transform(quantitativas_2)"
      ],
      "execution_count": 67,
      "outputs": []
    },
    {
      "cell_type": "code",
      "metadata": {
        "id": "VwWFm_V1DYwk"
      },
      "source": [
        "quantitativas_bining = pd.DataFrame(bining,columns=['CobrancaMensal','CobrancaTotal_2','MesesNaCompanhia_2'])"
      ],
      "execution_count": 68,
      "outputs": []
    },
    {
      "cell_type": "code",
      "metadata": {
        "id": "iZZ2RYOVDYwv",
        "outputId": "9891a6f0-81dc-4ef3-b019-7e5de4fd50b3"
      },
      "source": [
        "quantitativas_bining.head(30).T"
      ],
      "execution_count": null,
      "outputs": [
        {
          "output_type": "execute_result",
          "data": {
            "text/html": [
              "<div>\n",
              "<style scoped>\n",
              "    .dataframe tbody tr th:only-of-type {\n",
              "        vertical-align: middle;\n",
              "    }\n",
              "\n",
              "    .dataframe tbody tr th {\n",
              "        vertical-align: top;\n",
              "    }\n",
              "\n",
              "    .dataframe thead th {\n",
              "        text-align: right;\n",
              "    }\n",
              "</style>\n",
              "<table border=\"1\" class=\"dataframe\">\n",
              "  <thead>\n",
              "    <tr style=\"text-align: right;\">\n",
              "      <th></th>\n",
              "      <th>0</th>\n",
              "      <th>1</th>\n",
              "      <th>2</th>\n",
              "      <th>3</th>\n",
              "      <th>4</th>\n",
              "      <th>5</th>\n",
              "      <th>6</th>\n",
              "      <th>7</th>\n",
              "      <th>8</th>\n",
              "      <th>9</th>\n",
              "      <th>10</th>\n",
              "      <th>11</th>\n",
              "      <th>12</th>\n",
              "      <th>13</th>\n",
              "      <th>14</th>\n",
              "      <th>15</th>\n",
              "      <th>16</th>\n",
              "      <th>17</th>\n",
              "      <th>18</th>\n",
              "      <th>19</th>\n",
              "      <th>20</th>\n",
              "      <th>21</th>\n",
              "      <th>22</th>\n",
              "      <th>23</th>\n",
              "      <th>24</th>\n",
              "      <th>25</th>\n",
              "      <th>26</th>\n",
              "      <th>27</th>\n",
              "      <th>28</th>\n",
              "      <th>29</th>\n",
              "    </tr>\n",
              "  </thead>\n",
              "  <tbody>\n",
              "    <tr>\n",
              "      <th>CobrancaMensal</th>\n",
              "      <td>1.00</td>\n",
              "      <td>0.00</td>\n",
              "      <td>4.00</td>\n",
              "      <td>4.00</td>\n",
              "      <td>2.00</td>\n",
              "      <td>1.00</td>\n",
              "      <td>2.00</td>\n",
              "      <td>0.00</td>\n",
              "      <td>0.00</td>\n",
              "      <td>3.00</td>\n",
              "      <td>0.00</td>\n",
              "      <td>4.00</td>\n",
              "      <td>2.00</td>\n",
              "      <td>2.00</td>\n",
              "      <td>3.00</td>\n",
              "      <td>2.00</td>\n",
              "      <td>1.00</td>\n",
              "      <td>3.00</td>\n",
              "      <td>2.00</td>\n",
              "      <td>3.00</td>\n",
              "      <td>1.00</td>\n",
              "      <td>2.00</td>\n",
              "      <td>1.00</td>\n",
              "      <td>2.00</td>\n",
              "      <td>1.00</td>\n",
              "      <td>3.00</td>\n",
              "      <td>1.00</td>\n",
              "      <td>2.00</td>\n",
              "      <td>4.00</td>\n",
              "      <td>0.00</td>\n",
              "    </tr>\n",
              "    <tr>\n",
              "      <th>CobrancaTotal_2</th>\n",
              "      <td>3.00</td>\n",
              "      <td>1.00</td>\n",
              "      <td>4.00</td>\n",
              "      <td>3.00</td>\n",
              "      <td>2.00</td>\n",
              "      <td>3.00</td>\n",
              "      <td>2.00</td>\n",
              "      <td>0.00</td>\n",
              "      <td>2.00</td>\n",
              "      <td>4.00</td>\n",
              "      <td>0.00</td>\n",
              "      <td>3.00</td>\n",
              "      <td>1.00</td>\n",
              "      <td>0.00</td>\n",
              "      <td>4.00</td>\n",
              "      <td>2.00</td>\n",
              "      <td>1.00</td>\n",
              "      <td>4.00</td>\n",
              "      <td>1.00</td>\n",
              "      <td>3.00</td>\n",
              "      <td>1.00</td>\n",
              "      <td>2.00</td>\n",
              "      <td>3.00</td>\n",
              "      <td>3.00</td>\n",
              "      <td>3.00</td>\n",
              "      <td>4.00</td>\n",
              "      <td>3.00</td>\n",
              "      <td>3.00</td>\n",
              "      <td>4.00</td>\n",
              "      <td>1.00</td>\n",
              "    </tr>\n",
              "    <tr>\n",
              "      <th>MesesNaCompanhia_2</th>\n",
              "      <td>3.00</td>\n",
              "      <td>1.00</td>\n",
              "      <td>4.00</td>\n",
              "      <td>2.00</td>\n",
              "      <td>2.00</td>\n",
              "      <td>4.00</td>\n",
              "      <td>2.00</td>\n",
              "      <td>0.00</td>\n",
              "      <td>3.00</td>\n",
              "      <td>4.00</td>\n",
              "      <td>1.00</td>\n",
              "      <td>3.00</td>\n",
              "      <td>1.00</td>\n",
              "      <td>0.00</td>\n",
              "      <td>4.00</td>\n",
              "      <td>1.00</td>\n",
              "      <td>1.00</td>\n",
              "      <td>4.00</td>\n",
              "      <td>0.00</td>\n",
              "      <td>2.00</td>\n",
              "      <td>1.00</td>\n",
              "      <td>2.00</td>\n",
              "      <td>4.00</td>\n",
              "      <td>3.00</td>\n",
              "      <td>4.00</td>\n",
              "      <td>4.00</td>\n",
              "      <td>3.00</td>\n",
              "      <td>4.00</td>\n",
              "      <td>4.00</td>\n",
              "      <td>1.00</td>\n",
              "    </tr>\n",
              "  </tbody>\n",
              "</table>\n",
              "</div>"
            ],
            "text/plain": [
              "                      0    1    2    3    4    5    6    7    8    9   10  \\\n",
              "CobrancaMensal     1.00 0.00 4.00 4.00 2.00 1.00 2.00 0.00 0.00 3.00 0.00   \n",
              "CobrancaTotal_2    3.00 1.00 4.00 3.00 2.00 3.00 2.00 0.00 2.00 4.00 0.00   \n",
              "MesesNaCompanhia_2 3.00 1.00 4.00 2.00 2.00 4.00 2.00 0.00 3.00 4.00 1.00   \n",
              "\n",
              "                     11   12   13   14   15   16   17   18   19   20   21  \\\n",
              "CobrancaMensal     4.00 2.00 2.00 3.00 2.00 1.00 3.00 2.00 3.00 1.00 2.00   \n",
              "CobrancaTotal_2    3.00 1.00 0.00 4.00 2.00 1.00 4.00 1.00 3.00 1.00 2.00   \n",
              "MesesNaCompanhia_2 3.00 1.00 0.00 4.00 1.00 1.00 4.00 0.00 2.00 1.00 2.00   \n",
              "\n",
              "                     22   23   24   25   26   27   28   29  \n",
              "CobrancaMensal     1.00 2.00 1.00 3.00 1.00 2.00 4.00 0.00  \n",
              "CobrancaTotal_2    3.00 3.00 3.00 4.00 3.00 3.00 4.00 1.00  \n",
              "MesesNaCompanhia_2 4.00 3.00 4.00 4.00 3.00 4.00 4.00 1.00  "
            ]
          },
          "metadata": {
            "tags": []
          },
          "execution_count": 85
        }
      ]
    },
    {
      "cell_type": "markdown",
      "metadata": {
        "id": "v8AMTgv8DYw1"
      },
      "source": [
        "### Variáveis categóricas"
      ]
    },
    {
      "cell_type": "code",
      "metadata": {
        "id": "Fle9S9c3DYw2",
        "outputId": "799117b3-b612-470f-a6ec-88b78eb0295e",
        "colab": {
          "base_uri": "https://localhost:8080/",
          "height": 309
        }
      },
      "source": [
        "categóricas.head()"
      ],
      "execution_count": 69,
      "outputs": [
        {
          "output_type": "execute_result",
          "data": {
            "text/html": [
              "<div>\n",
              "<style scoped>\n",
              "    .dataframe tbody tr th:only-of-type {\n",
              "        vertical-align: middle;\n",
              "    }\n",
              "\n",
              "    .dataframe tbody tr th {\n",
              "        vertical-align: top;\n",
              "    }\n",
              "\n",
              "    .dataframe thead th {\n",
              "        text-align: right;\n",
              "    }\n",
              "</style>\n",
              "<table border=\"1\" class=\"dataframe\">\n",
              "  <thead>\n",
              "    <tr style=\"text-align: right;\">\n",
              "      <th></th>\n",
              "      <th>genero</th>\n",
              "      <th>Idoso</th>\n",
              "      <th>TemParceiro</th>\n",
              "      <th>TemDependentes</th>\n",
              "      <th>TemTelefone</th>\n",
              "      <th>MaisLinhas</th>\n",
              "      <th>TemInternet</th>\n",
              "      <th>ServicoSegurancaOnline</th>\n",
              "      <th>ServicoBackupOnline</th>\n",
              "      <th>ServicoProtecaoOnline</th>\n",
              "      <th>ServicoSuporteOnline</th>\n",
              "      <th>ServicoTV</th>\n",
              "      <th>ServicoPctFilmes</th>\n",
              "      <th>Contrato</th>\n",
              "      <th>ContaOnline</th>\n",
              "      <th>MetodoPagamento</th>\n",
              "    </tr>\n",
              "  </thead>\n",
              "  <tbody>\n",
              "    <tr>\n",
              "      <th>0</th>\n",
              "      <td>Female</td>\n",
              "      <td>0</td>\n",
              "      <td>No</td>\n",
              "      <td>No</td>\n",
              "      <td>No</td>\n",
              "      <td>No phone service</td>\n",
              "      <td>DSL</td>\n",
              "      <td>Yes</td>\n",
              "      <td>Yes</td>\n",
              "      <td>Yes</td>\n",
              "      <td>Yes</td>\n",
              "      <td>No</td>\n",
              "      <td>No</td>\n",
              "      <td>Two year</td>\n",
              "      <td>No</td>\n",
              "      <td>NaN</td>\n",
              "    </tr>\n",
              "    <tr>\n",
              "      <th>1</th>\n",
              "      <td>Male</td>\n",
              "      <td>0</td>\n",
              "      <td>Yes</td>\n",
              "      <td>Yes</td>\n",
              "      <td>Yes</td>\n",
              "      <td>No</td>\n",
              "      <td>No</td>\n",
              "      <td>No internet service</td>\n",
              "      <td>No internet service</td>\n",
              "      <td>No internet service</td>\n",
              "      <td>No internet service</td>\n",
              "      <td>No internet service</td>\n",
              "      <td>No internet service</td>\n",
              "      <td>One year</td>\n",
              "      <td>No</td>\n",
              "      <td>Mailed check</td>\n",
              "    </tr>\n",
              "    <tr>\n",
              "      <th>2</th>\n",
              "      <td>Female</td>\n",
              "      <td>0</td>\n",
              "      <td>Yes</td>\n",
              "      <td>No</td>\n",
              "      <td>Yes</td>\n",
              "      <td>Yes</td>\n",
              "      <td>Fiber optic</td>\n",
              "      <td>No</td>\n",
              "      <td>Yes</td>\n",
              "      <td>Yes</td>\n",
              "      <td>Yes</td>\n",
              "      <td>Yes</td>\n",
              "      <td>Yes</td>\n",
              "      <td>Two year</td>\n",
              "      <td>Yes</td>\n",
              "      <td>Credit card (automatic)</td>\n",
              "    </tr>\n",
              "    <tr>\n",
              "      <th>3</th>\n",
              "      <td>Female</td>\n",
              "      <td>0</td>\n",
              "      <td>No</td>\n",
              "      <td>No</td>\n",
              "      <td>Yes</td>\n",
              "      <td>Yes</td>\n",
              "      <td>Fiber optic</td>\n",
              "      <td>No</td>\n",
              "      <td>Yes</td>\n",
              "      <td>Yes</td>\n",
              "      <td>No</td>\n",
              "      <td>Yes</td>\n",
              "      <td>Yes</td>\n",
              "      <td>Month-to-month</td>\n",
              "      <td>Yes</td>\n",
              "      <td>Bank transfer (automatic)</td>\n",
              "    </tr>\n",
              "    <tr>\n",
              "      <th>4</th>\n",
              "      <td>Male</td>\n",
              "      <td>0</td>\n",
              "      <td>Yes</td>\n",
              "      <td>Yes</td>\n",
              "      <td>Yes</td>\n",
              "      <td>No</td>\n",
              "      <td>Fiber optic</td>\n",
              "      <td>No</td>\n",
              "      <td>No</td>\n",
              "      <td>No</td>\n",
              "      <td>No</td>\n",
              "      <td>No</td>\n",
              "      <td>No</td>\n",
              "      <td>Month-to-month</td>\n",
              "      <td>Yes</td>\n",
              "      <td>Electronic check</td>\n",
              "    </tr>\n",
              "  </tbody>\n",
              "</table>\n",
              "</div>"
            ],
            "text/plain": [
              "   genero  Idoso TemParceiro TemDependentes TemTelefone        MaisLinhas  \\\n",
              "0  Female      0          No             No          No  No phone service   \n",
              "1    Male      0         Yes            Yes         Yes                No   \n",
              "2  Female      0         Yes             No         Yes               Yes   \n",
              "3  Female      0          No             No         Yes               Yes   \n",
              "4    Male      0         Yes            Yes         Yes                No   \n",
              "\n",
              "   TemInternet ServicoSegurancaOnline  ServicoBackupOnline  \\\n",
              "0          DSL                    Yes                  Yes   \n",
              "1           No    No internet service  No internet service   \n",
              "2  Fiber optic                     No                  Yes   \n",
              "3  Fiber optic                     No                  Yes   \n",
              "4  Fiber optic                     No                   No   \n",
              "\n",
              "  ServicoProtecaoOnline ServicoSuporteOnline            ServicoTV  \\\n",
              "0                   Yes                  Yes                   No   \n",
              "1   No internet service  No internet service  No internet service   \n",
              "2                   Yes                  Yes                  Yes   \n",
              "3                   Yes                   No                  Yes   \n",
              "4                    No                   No                   No   \n",
              "\n",
              "      ServicoPctFilmes        Contrato ContaOnline            MetodoPagamento  \n",
              "0                   No        Two year          No                        NaN  \n",
              "1  No internet service        One year          No               Mailed check  \n",
              "2                  Yes        Two year         Yes    Credit card (automatic)  \n",
              "3                  Yes  Month-to-month         Yes  Bank transfer (automatic)  \n",
              "4                   No  Month-to-month         Yes           Electronic check  "
            ]
          },
          "metadata": {
            "tags": []
          },
          "execution_count": 69
        }
      ]
    },
    {
      "cell_type": "code",
      "metadata": {
        "id": "mT3wZlkjDYxA",
        "outputId": "7dede15e-3351-466e-b798-2cf23c33ae0b",
        "colab": {
          "base_uri": "https://localhost:8080/"
        }
      },
      "source": [
        "categóricas.isna().sum()"
      ],
      "execution_count": 70,
      "outputs": [
        {
          "output_type": "execute_result",
          "data": {
            "text/plain": [
              "genero                      0\n",
              "Idoso                       0\n",
              "TemParceiro                 0\n",
              "TemDependentes            218\n",
              "TemTelefone                 0\n",
              "MaisLinhas                  0\n",
              "TemInternet                 0\n",
              "ServicoSegurancaOnline      0\n",
              "ServicoBackupOnline         0\n",
              "ServicoProtecaoOnline       0\n",
              "ServicoSuporteOnline        0\n",
              "ServicoTV                   0\n",
              "ServicoPctFilmes            0\n",
              "Contrato                    0\n",
              "ContaOnline                 0\n",
              "MetodoPagamento            99\n",
              "dtype: int64"
            ]
          },
          "metadata": {
            "tags": []
          },
          "execution_count": 70
        }
      ]
    },
    {
      "cell_type": "markdown",
      "metadata": {
        "id": "4ibK8izvDYxI"
      },
      "source": [
        "#### Contagem de valores da variavel genero"
      ]
    },
    {
      "cell_type": "code",
      "metadata": {
        "id": "aHjZbMbTDYxJ",
        "outputId": "fc849231-d37d-4480-a606-16e09859d8a5",
        "colab": {
          "base_uri": "https://localhost:8080/"
        }
      },
      "source": [
        "categóricas['genero'].value_counts()"
      ],
      "execution_count": 71,
      "outputs": [
        {
          "output_type": "execute_result",
          "data": {
            "text/plain": [
              "Male      2849\n",
              "Female    2785\n",
              "Name: genero, dtype: int64"
            ]
          },
          "metadata": {
            "tags": []
          },
          "execution_count": 71
        }
      ]
    },
    {
      "cell_type": "markdown",
      "metadata": {
        "id": "CaCBTmmwDYxN"
      },
      "source": [
        "#### Tabela de frequencias Churn x genero"
      ]
    },
    {
      "cell_type": "code",
      "metadata": {
        "id": "ehzPDL5CDYxO",
        "outputId": "93d65f46-f728-4dcf-c021-1529f9c7087e",
        "colab": {
          "base_uri": "https://localhost:8080/",
          "height": 142
        }
      },
      "source": [
        "# Table of survival vs. sex\n",
        "Churn_genero = pd.crosstab(index=dados[\"Churn\"], \n",
        "                           columns=dados[\"genero\"],\n",
        "                          margins=True)\n",
        "\n",
        "Churn_genero.columns=['Female','Male',\"rowtotal\"]\n",
        "Churn_genero.index= [\"0\",\"1\",\"coltotal\"]\n",
        "\n",
        "Churn_genero"
      ],
      "execution_count": 72,
      "outputs": [
        {
          "output_type": "execute_result",
          "data": {
            "text/html": [
              "<div>\n",
              "<style scoped>\n",
              "    .dataframe tbody tr th:only-of-type {\n",
              "        vertical-align: middle;\n",
              "    }\n",
              "\n",
              "    .dataframe tbody tr th {\n",
              "        vertical-align: top;\n",
              "    }\n",
              "\n",
              "    .dataframe thead th {\n",
              "        text-align: right;\n",
              "    }\n",
              "</style>\n",
              "<table border=\"1\" class=\"dataframe\">\n",
              "  <thead>\n",
              "    <tr style=\"text-align: right;\">\n",
              "      <th></th>\n",
              "      <th>Female</th>\n",
              "      <th>Male</th>\n",
              "      <th>rowtotal</th>\n",
              "    </tr>\n",
              "  </thead>\n",
              "  <tbody>\n",
              "    <tr>\n",
              "      <th>0</th>\n",
              "      <td>2045</td>\n",
              "      <td>2094</td>\n",
              "      <td>4139</td>\n",
              "    </tr>\n",
              "    <tr>\n",
              "      <th>1</th>\n",
              "      <td>740</td>\n",
              "      <td>755</td>\n",
              "      <td>1495</td>\n",
              "    </tr>\n",
              "    <tr>\n",
              "      <th>coltotal</th>\n",
              "      <td>2785</td>\n",
              "      <td>2849</td>\n",
              "      <td>5634</td>\n",
              "    </tr>\n",
              "  </tbody>\n",
              "</table>\n",
              "</div>"
            ],
            "text/plain": [
              "          Female  Male  rowtotal\n",
              "0           2045  2094      4139\n",
              "1            740   755      1495\n",
              "coltotal    2785  2849      5634"
            ]
          },
          "metadata": {
            "tags": []
          },
          "execution_count": 72
        }
      ]
    },
    {
      "cell_type": "code",
      "metadata": {
        "id": "-GlO7CItDYxZ",
        "outputId": "721026ec-a897-4197-af51-dc66646ffb06",
        "colab": {
          "base_uri": "https://localhost:8080/",
          "height": 142
        }
      },
      "source": [
        "Churn_genero/Churn_genero.loc[\"coltotal\",\"rowtotal\"]"
      ],
      "execution_count": 73,
      "outputs": [
        {
          "output_type": "execute_result",
          "data": {
            "text/html": [
              "<div>\n",
              "<style scoped>\n",
              "    .dataframe tbody tr th:only-of-type {\n",
              "        vertical-align: middle;\n",
              "    }\n",
              "\n",
              "    .dataframe tbody tr th {\n",
              "        vertical-align: top;\n",
              "    }\n",
              "\n",
              "    .dataframe thead th {\n",
              "        text-align: right;\n",
              "    }\n",
              "</style>\n",
              "<table border=\"1\" class=\"dataframe\">\n",
              "  <thead>\n",
              "    <tr style=\"text-align: right;\">\n",
              "      <th></th>\n",
              "      <th>Female</th>\n",
              "      <th>Male</th>\n",
              "      <th>rowtotal</th>\n",
              "    </tr>\n",
              "  </thead>\n",
              "  <tbody>\n",
              "    <tr>\n",
              "      <th>0</th>\n",
              "      <td>0.36</td>\n",
              "      <td>0.37</td>\n",
              "      <td>0.73</td>\n",
              "    </tr>\n",
              "    <tr>\n",
              "      <th>1</th>\n",
              "      <td>0.13</td>\n",
              "      <td>0.13</td>\n",
              "      <td>0.27</td>\n",
              "    </tr>\n",
              "    <tr>\n",
              "      <th>coltotal</th>\n",
              "      <td>0.49</td>\n",
              "      <td>0.51</td>\n",
              "      <td>1.00</td>\n",
              "    </tr>\n",
              "  </tbody>\n",
              "</table>\n",
              "</div>"
            ],
            "text/plain": [
              "          Female  Male  rowtotal\n",
              "0           0.36  0.37      0.73\n",
              "1           0.13  0.13      0.27\n",
              "coltotal    0.49  0.51      1.00"
            ]
          },
          "metadata": {
            "tags": []
          },
          "execution_count": 73
        }
      ]
    },
    {
      "cell_type": "markdown",
      "metadata": {
        "id": "9cZidlHMDYxe"
      },
      "source": [
        "#Temos missing values em duas variáveis categóricas:\n",
        "#'TemDependentes'        categórica\n",
        "#'MetodoPagamento'    categórica"
      ]
    },
    {
      "cell_type": "markdown",
      "metadata": {
        "id": "OERVus-PDYxf"
      },
      "source": [
        "#### Imputação de missing values na variável 'TemDependentes'\n",
        "Como 'TemDependentes' é uma variável categórica, criaremos uma nova categoria, chamada 'Miss', a qual será imputada a todos os missing values dessa variável."
      ]
    },
    {
      "cell_type": "code",
      "metadata": {
        "id": "Zf4jbKFFDYxh"
      },
      "source": [
        "categóricas['TemDependentes'] = categóricas['TemDependentes'].fillna(categóricas['TemDependentes']=='Miss')"
      ],
      "execution_count": 74,
      "outputs": []
    },
    {
      "cell_type": "code",
      "metadata": {
        "id": "AwbjEZ6fDYxm",
        "outputId": "fc7e8d9c-1544-4ae1-8d46-6f5fd0750a43",
        "colab": {
          "base_uri": "https://localhost:8080/"
        }
      },
      "source": [
        "categóricas['TemDependentes'].isnull().any()"
      ],
      "execution_count": 75,
      "outputs": [
        {
          "output_type": "execute_result",
          "data": {
            "text/plain": [
              "False"
            ]
          },
          "metadata": {
            "tags": []
          },
          "execution_count": 75
        }
      ]
    },
    {
      "cell_type": "markdown",
      "metadata": {
        "id": "63SI6bgUDYxt"
      },
      "source": [
        "#### Imputação de missing values na variável 'MetodoPagamento'"
      ]
    },
    {
      "cell_type": "code",
      "metadata": {
        "id": "aOA6shrHDYxu"
      },
      "source": [
        "categóricas['MetodoPagamento'] = categóricas['MetodoPagamento'].fillna(categóricas['MetodoPagamento']=='Miss')\n"
      ],
      "execution_count": 76,
      "outputs": []
    },
    {
      "cell_type": "code",
      "metadata": {
        "id": "zDjm_yO6DYxy",
        "outputId": "b9372448-56ac-411d-f0df-2fb5b8a839b2",
        "colab": {
          "base_uri": "https://localhost:8080/"
        }
      },
      "source": [
        "categóricas['MetodoPagamento'].isnull().any()"
      ],
      "execution_count": 77,
      "outputs": [
        {
          "output_type": "execute_result",
          "data": {
            "text/plain": [
              "False"
            ]
          },
          "metadata": {
            "tags": []
          },
          "execution_count": 77
        }
      ]
    },
    {
      "cell_type": "code",
      "metadata": {
        "id": "4NCULMK-DYx4",
        "outputId": "58d70b28-4dc9-4737-9998-7c24997f9811",
        "colab": {
          "base_uri": "https://localhost:8080/"
        }
      },
      "source": [
        "categóricas.isnull().sum()"
      ],
      "execution_count": 78,
      "outputs": [
        {
          "output_type": "execute_result",
          "data": {
            "text/plain": [
              "genero                    0\n",
              "Idoso                     0\n",
              "TemParceiro               0\n",
              "TemDependentes            0\n",
              "TemTelefone               0\n",
              "MaisLinhas                0\n",
              "TemInternet               0\n",
              "ServicoSegurancaOnline    0\n",
              "ServicoBackupOnline       0\n",
              "ServicoProtecaoOnline     0\n",
              "ServicoSuporteOnline      0\n",
              "ServicoTV                 0\n",
              "ServicoPctFilmes          0\n",
              "Contrato                  0\n",
              "ContaOnline               0\n",
              "MetodoPagamento           0\n",
              "dtype: int64"
            ]
          },
          "metadata": {
            "tags": []
          },
          "execution_count": 78
        }
      ]
    },
    {
      "cell_type": "code",
      "metadata": {
        "id": "UORVjiJmDYx8",
        "outputId": "a573a95a-b139-4720-fe89-c73cde878526",
        "colab": {
          "base_uri": "https://localhost:8080/"
        }
      },
      "source": [
        "dados['MetodoPagamento'].value_counts()"
      ],
      "execution_count": 79,
      "outputs": [
        {
          "output_type": "execute_result",
          "data": {
            "text/plain": [
              "Electronic check             1887\n",
              "Mailed check                 1272\n",
              "Bank transfer (automatic)    1212\n",
              "Credit card (automatic)      1164\n",
              "Name: MetodoPagamento, dtype: int64"
            ]
          },
          "metadata": {
            "tags": []
          },
          "execution_count": 79
        }
      ]
    },
    {
      "cell_type": "markdown",
      "metadata": {
        "id": "6d4EvW3YDYyA"
      },
      "source": [
        "## Verificação da cardinalidade das variaveis categoricas\n",
        "Como todas as variáveis categóricas têm baixa cardinalidade (quantidade de valores únicos menor que 10), vamos criar variáveis dummy para todas.\n",
        "* Variáveis dummy são variáveis binárias (0 ou 1) criadas para representar uma variável com duas ou mais categorias. E devem ser utilizada quando incluimos variáveis categóricas em modelos que aceitam apenas variáveis numéricas."
      ]
    },
    {
      "cell_type": "code",
      "metadata": {
        "id": "wES37xScDYyB",
        "outputId": "0f439081-6676-44e0-dec5-a08577f8984c",
        "colab": {
          "base_uri": "https://localhost:8080/"
        }
      },
      "source": [
        "categóricas.nunique()"
      ],
      "execution_count": 80,
      "outputs": [
        {
          "output_type": "execute_result",
          "data": {
            "text/plain": [
              "genero                    2\n",
              "Idoso                     2\n",
              "TemParceiro               2\n",
              "TemDependentes            3\n",
              "TemTelefone               2\n",
              "MaisLinhas                3\n",
              "TemInternet               3\n",
              "ServicoSegurancaOnline    3\n",
              "ServicoBackupOnline       3\n",
              "ServicoProtecaoOnline     3\n",
              "ServicoSuporteOnline      3\n",
              "ServicoTV                 3\n",
              "ServicoPctFilmes          3\n",
              "Contrato                  3\n",
              "ContaOnline               2\n",
              "MetodoPagamento           5\n",
              "dtype: int64"
            ]
          },
          "metadata": {
            "tags": []
          },
          "execution_count": 80
        }
      ]
    },
    {
      "cell_type": "code",
      "metadata": {
        "id": "AHCZgJG8DYyG"
      },
      "source": [
        "dummies = pd.get_dummies(categóricas,\n",
        "                        prefix_sep='_',\n",
        "                        drop_first=True)"
      ],
      "execution_count": 84,
      "outputs": []
    },
    {
      "cell_type": "code",
      "metadata": {
        "id": "txkgIEtGDYyJ",
        "outputId": "eeedfe35-628e-4c95-e5af-5020dc913920",
        "colab": {
          "base_uri": "https://localhost:8080/",
          "height": 258
        }
      },
      "source": [
        "dummies.head()"
      ],
      "execution_count": 85,
      "outputs": [
        {
          "output_type": "execute_result",
          "data": {
            "text/html": [
              "<div>\n",
              "<style scoped>\n",
              "    .dataframe tbody tr th:only-of-type {\n",
              "        vertical-align: middle;\n",
              "    }\n",
              "\n",
              "    .dataframe tbody tr th {\n",
              "        vertical-align: top;\n",
              "    }\n",
              "\n",
              "    .dataframe thead th {\n",
              "        text-align: right;\n",
              "    }\n",
              "</style>\n",
              "<table border=\"1\" class=\"dataframe\">\n",
              "  <thead>\n",
              "    <tr style=\"text-align: right;\">\n",
              "      <th></th>\n",
              "      <th>Idoso</th>\n",
              "      <th>genero_Male</th>\n",
              "      <th>TemParceiro_Yes</th>\n",
              "      <th>TemDependentes_No</th>\n",
              "      <th>TemDependentes_Yes</th>\n",
              "      <th>TemTelefone_Yes</th>\n",
              "      <th>MaisLinhas_No phone service</th>\n",
              "      <th>MaisLinhas_Yes</th>\n",
              "      <th>TemInternet_Fiber optic</th>\n",
              "      <th>TemInternet_No</th>\n",
              "      <th>ServicoSegurancaOnline_No internet service</th>\n",
              "      <th>ServicoSegurancaOnline_Yes</th>\n",
              "      <th>ServicoBackupOnline_No internet service</th>\n",
              "      <th>ServicoBackupOnline_Yes</th>\n",
              "      <th>ServicoProtecaoOnline_No internet service</th>\n",
              "      <th>ServicoProtecaoOnline_Yes</th>\n",
              "      <th>ServicoSuporteOnline_No internet service</th>\n",
              "      <th>ServicoSuporteOnline_Yes</th>\n",
              "      <th>ServicoTV_No internet service</th>\n",
              "      <th>ServicoTV_Yes</th>\n",
              "      <th>ServicoPctFilmes_No internet service</th>\n",
              "      <th>ServicoPctFilmes_Yes</th>\n",
              "      <th>Contrato_One year</th>\n",
              "      <th>Contrato_Two year</th>\n",
              "      <th>ContaOnline_Yes</th>\n",
              "      <th>MetodoPagamento_Bank transfer (automatic)</th>\n",
              "      <th>MetodoPagamento_Credit card (automatic)</th>\n",
              "      <th>MetodoPagamento_Electronic check</th>\n",
              "      <th>MetodoPagamento_Mailed check</th>\n",
              "    </tr>\n",
              "  </thead>\n",
              "  <tbody>\n",
              "    <tr>\n",
              "      <th>0</th>\n",
              "      <td>0</td>\n",
              "      <td>0</td>\n",
              "      <td>0</td>\n",
              "      <td>1</td>\n",
              "      <td>0</td>\n",
              "      <td>0</td>\n",
              "      <td>1</td>\n",
              "      <td>0</td>\n",
              "      <td>0</td>\n",
              "      <td>0</td>\n",
              "      <td>0</td>\n",
              "      <td>1</td>\n",
              "      <td>0</td>\n",
              "      <td>1</td>\n",
              "      <td>0</td>\n",
              "      <td>1</td>\n",
              "      <td>0</td>\n",
              "      <td>1</td>\n",
              "      <td>0</td>\n",
              "      <td>0</td>\n",
              "      <td>0</td>\n",
              "      <td>0</td>\n",
              "      <td>0</td>\n",
              "      <td>1</td>\n",
              "      <td>0</td>\n",
              "      <td>0</td>\n",
              "      <td>0</td>\n",
              "      <td>0</td>\n",
              "      <td>0</td>\n",
              "    </tr>\n",
              "    <tr>\n",
              "      <th>1</th>\n",
              "      <td>0</td>\n",
              "      <td>1</td>\n",
              "      <td>1</td>\n",
              "      <td>0</td>\n",
              "      <td>1</td>\n",
              "      <td>1</td>\n",
              "      <td>0</td>\n",
              "      <td>0</td>\n",
              "      <td>0</td>\n",
              "      <td>1</td>\n",
              "      <td>1</td>\n",
              "      <td>0</td>\n",
              "      <td>1</td>\n",
              "      <td>0</td>\n",
              "      <td>1</td>\n",
              "      <td>0</td>\n",
              "      <td>1</td>\n",
              "      <td>0</td>\n",
              "      <td>1</td>\n",
              "      <td>0</td>\n",
              "      <td>1</td>\n",
              "      <td>0</td>\n",
              "      <td>1</td>\n",
              "      <td>0</td>\n",
              "      <td>0</td>\n",
              "      <td>0</td>\n",
              "      <td>0</td>\n",
              "      <td>0</td>\n",
              "      <td>1</td>\n",
              "    </tr>\n",
              "    <tr>\n",
              "      <th>2</th>\n",
              "      <td>0</td>\n",
              "      <td>0</td>\n",
              "      <td>1</td>\n",
              "      <td>1</td>\n",
              "      <td>0</td>\n",
              "      <td>1</td>\n",
              "      <td>0</td>\n",
              "      <td>1</td>\n",
              "      <td>1</td>\n",
              "      <td>0</td>\n",
              "      <td>0</td>\n",
              "      <td>0</td>\n",
              "      <td>0</td>\n",
              "      <td>1</td>\n",
              "      <td>0</td>\n",
              "      <td>1</td>\n",
              "      <td>0</td>\n",
              "      <td>1</td>\n",
              "      <td>0</td>\n",
              "      <td>1</td>\n",
              "      <td>0</td>\n",
              "      <td>1</td>\n",
              "      <td>0</td>\n",
              "      <td>1</td>\n",
              "      <td>1</td>\n",
              "      <td>0</td>\n",
              "      <td>1</td>\n",
              "      <td>0</td>\n",
              "      <td>0</td>\n",
              "    </tr>\n",
              "    <tr>\n",
              "      <th>3</th>\n",
              "      <td>0</td>\n",
              "      <td>0</td>\n",
              "      <td>0</td>\n",
              "      <td>1</td>\n",
              "      <td>0</td>\n",
              "      <td>1</td>\n",
              "      <td>0</td>\n",
              "      <td>1</td>\n",
              "      <td>1</td>\n",
              "      <td>0</td>\n",
              "      <td>0</td>\n",
              "      <td>0</td>\n",
              "      <td>0</td>\n",
              "      <td>1</td>\n",
              "      <td>0</td>\n",
              "      <td>1</td>\n",
              "      <td>0</td>\n",
              "      <td>0</td>\n",
              "      <td>0</td>\n",
              "      <td>1</td>\n",
              "      <td>0</td>\n",
              "      <td>1</td>\n",
              "      <td>0</td>\n",
              "      <td>0</td>\n",
              "      <td>1</td>\n",
              "      <td>1</td>\n",
              "      <td>0</td>\n",
              "      <td>0</td>\n",
              "      <td>0</td>\n",
              "    </tr>\n",
              "    <tr>\n",
              "      <th>4</th>\n",
              "      <td>0</td>\n",
              "      <td>1</td>\n",
              "      <td>1</td>\n",
              "      <td>0</td>\n",
              "      <td>1</td>\n",
              "      <td>1</td>\n",
              "      <td>0</td>\n",
              "      <td>0</td>\n",
              "      <td>1</td>\n",
              "      <td>0</td>\n",
              "      <td>0</td>\n",
              "      <td>0</td>\n",
              "      <td>0</td>\n",
              "      <td>0</td>\n",
              "      <td>0</td>\n",
              "      <td>0</td>\n",
              "      <td>0</td>\n",
              "      <td>0</td>\n",
              "      <td>0</td>\n",
              "      <td>0</td>\n",
              "      <td>0</td>\n",
              "      <td>0</td>\n",
              "      <td>0</td>\n",
              "      <td>0</td>\n",
              "      <td>1</td>\n",
              "      <td>0</td>\n",
              "      <td>0</td>\n",
              "      <td>1</td>\n",
              "      <td>0</td>\n",
              "    </tr>\n",
              "  </tbody>\n",
              "</table>\n",
              "</div>"
            ],
            "text/plain": [
              "   Idoso  genero_Male  TemParceiro_Yes  TemDependentes_No  TemDependentes_Yes  \\\n",
              "0      0            0                0                  1                   0   \n",
              "1      0            1                1                  0                   1   \n",
              "2      0            0                1                  1                   0   \n",
              "3      0            0                0                  1                   0   \n",
              "4      0            1                1                  0                   1   \n",
              "\n",
              "   TemTelefone_Yes  MaisLinhas_No phone service  MaisLinhas_Yes  \\\n",
              "0                0                            1               0   \n",
              "1                1                            0               0   \n",
              "2                1                            0               1   \n",
              "3                1                            0               1   \n",
              "4                1                            0               0   \n",
              "\n",
              "   TemInternet_Fiber optic  TemInternet_No  \\\n",
              "0                        0               0   \n",
              "1                        0               1   \n",
              "2                        1               0   \n",
              "3                        1               0   \n",
              "4                        1               0   \n",
              "\n",
              "   ServicoSegurancaOnline_No internet service  ServicoSegurancaOnline_Yes  \\\n",
              "0                                           0                           1   \n",
              "1                                           1                           0   \n",
              "2                                           0                           0   \n",
              "3                                           0                           0   \n",
              "4                                           0                           0   \n",
              "\n",
              "   ServicoBackupOnline_No internet service  ServicoBackupOnline_Yes  \\\n",
              "0                                        0                        1   \n",
              "1                                        1                        0   \n",
              "2                                        0                        1   \n",
              "3                                        0                        1   \n",
              "4                                        0                        0   \n",
              "\n",
              "   ServicoProtecaoOnline_No internet service  ServicoProtecaoOnline_Yes  \\\n",
              "0                                          0                          1   \n",
              "1                                          1                          0   \n",
              "2                                          0                          1   \n",
              "3                                          0                          1   \n",
              "4                                          0                          0   \n",
              "\n",
              "   ServicoSuporteOnline_No internet service  ServicoSuporteOnline_Yes  \\\n",
              "0                                         0                         1   \n",
              "1                                         1                         0   \n",
              "2                                         0                         1   \n",
              "3                                         0                         0   \n",
              "4                                         0                         0   \n",
              "\n",
              "   ServicoTV_No internet service  ServicoTV_Yes  \\\n",
              "0                              0              0   \n",
              "1                              1              0   \n",
              "2                              0              1   \n",
              "3                              0              1   \n",
              "4                              0              0   \n",
              "\n",
              "   ServicoPctFilmes_No internet service  ServicoPctFilmes_Yes  \\\n",
              "0                                     0                     0   \n",
              "1                                     1                     0   \n",
              "2                                     0                     1   \n",
              "3                                     0                     1   \n",
              "4                                     0                     0   \n",
              "\n",
              "   Contrato_One year  Contrato_Two year  ContaOnline_Yes  \\\n",
              "0                  0                  1                0   \n",
              "1                  1                  0                0   \n",
              "2                  0                  1                1   \n",
              "3                  0                  0                1   \n",
              "4                  0                  0                1   \n",
              "\n",
              "   MetodoPagamento_Bank transfer (automatic)  \\\n",
              "0                                          0   \n",
              "1                                          0   \n",
              "2                                          0   \n",
              "3                                          1   \n",
              "4                                          0   \n",
              "\n",
              "   MetodoPagamento_Credit card (automatic)  MetodoPagamento_Electronic check  \\\n",
              "0                                        0                                 0   \n",
              "1                                        0                                 0   \n",
              "2                                        1                                 0   \n",
              "3                                        0                                 0   \n",
              "4                                        0                                 1   \n",
              "\n",
              "   MetodoPagamento_Mailed check  \n",
              "0                             0  \n",
              "1                             1  \n",
              "2                             0  \n",
              "3                             0  \n",
              "4                             0  "
            ]
          },
          "metadata": {
            "tags": []
          },
          "execution_count": 85
        }
      ]
    },
    {
      "cell_type": "code",
      "metadata": {
        "id": "faBhTx1dDYyM",
        "outputId": "4b741e72-d660-4165-b253-b63c208bb6e6",
        "colab": {
          "base_uri": "https://localhost:8080/"
        }
      },
      "source": [
        "dummies['Idoso'].unique()"
      ],
      "execution_count": 86,
      "outputs": [
        {
          "output_type": "execute_result",
          "data": {
            "text/plain": [
              "array([0, 1])"
            ]
          },
          "metadata": {
            "tags": []
          },
          "execution_count": 86
        }
      ]
    },
    {
      "cell_type": "code",
      "metadata": {
        "id": "IN2gqcePDYyR",
        "outputId": "2f93acc9-76ec-403c-f3ab-8da00301a799",
        "colab": {
          "base_uri": "https://localhost:8080/"
        }
      },
      "source": [
        "dummies.columns"
      ],
      "execution_count": 87,
      "outputs": [
        {
          "output_type": "execute_result",
          "data": {
            "text/plain": [
              "Index(['Idoso', 'genero_Male', 'TemParceiro_Yes', 'TemDependentes_No',\n",
              "       'TemDependentes_Yes', 'TemTelefone_Yes', 'MaisLinhas_No phone service',\n",
              "       'MaisLinhas_Yes', 'TemInternet_Fiber optic', 'TemInternet_No',\n",
              "       'ServicoSegurancaOnline_No internet service',\n",
              "       'ServicoSegurancaOnline_Yes', 'ServicoBackupOnline_No internet service',\n",
              "       'ServicoBackupOnline_Yes', 'ServicoProtecaoOnline_No internet service',\n",
              "       'ServicoProtecaoOnline_Yes', 'ServicoSuporteOnline_No internet service',\n",
              "       'ServicoSuporteOnline_Yes', 'ServicoTV_No internet service',\n",
              "       'ServicoTV_Yes', 'ServicoPctFilmes_No internet service',\n",
              "       'ServicoPctFilmes_Yes', 'Contrato_One year', 'Contrato_Two year',\n",
              "       'ContaOnline_Yes', 'MetodoPagamento_Bank transfer (automatic)',\n",
              "       'MetodoPagamento_Credit card (automatic)',\n",
              "       'MetodoPagamento_Electronic check', 'MetodoPagamento_Mailed check'],\n",
              "      dtype='object')"
            ]
          },
          "metadata": {
            "tags": []
          },
          "execution_count": 87
        }
      ]
    },
    {
      "cell_type": "markdown",
      "metadata": {
        "id": "kCsLFiWADYyX"
      },
      "source": [
        "## Formação dos bancos de dados explicativas e target"
      ]
    },
    {
      "cell_type": "code",
      "metadata": {
        "id": "mSpwY0k0DYyY"
      },
      "source": [
        "explicativas=pd.concat([quantitativas_bining,dummies],\n",
        "                      axis=1)"
      ],
      "execution_count": 88,
      "outputs": []
    },
    {
      "cell_type": "code",
      "metadata": {
        "id": "a9YsRjByDYyc",
        "outputId": "e3eac079-49f7-4fb1-d58d-e77e93a9c4c4",
        "colab": {
          "base_uri": "https://localhost:8080/"
        }
      },
      "source": [
        "explicativas.columns"
      ],
      "execution_count": 89,
      "outputs": [
        {
          "output_type": "execute_result",
          "data": {
            "text/plain": [
              "Index(['CobrancaMensal', 'CobrancaTotal_2', 'MesesNaCompanhia_2', 'Idoso',\n",
              "       'genero_Male', 'TemParceiro_Yes', 'TemDependentes_No',\n",
              "       'TemDependentes_Yes', 'TemTelefone_Yes', 'MaisLinhas_No phone service',\n",
              "       'MaisLinhas_Yes', 'TemInternet_Fiber optic', 'TemInternet_No',\n",
              "       'ServicoSegurancaOnline_No internet service',\n",
              "       'ServicoSegurancaOnline_Yes', 'ServicoBackupOnline_No internet service',\n",
              "       'ServicoBackupOnline_Yes', 'ServicoProtecaoOnline_No internet service',\n",
              "       'ServicoProtecaoOnline_Yes', 'ServicoSuporteOnline_No internet service',\n",
              "       'ServicoSuporteOnline_Yes', 'ServicoTV_No internet service',\n",
              "       'ServicoTV_Yes', 'ServicoPctFilmes_No internet service',\n",
              "       'ServicoPctFilmes_Yes', 'Contrato_One year', 'Contrato_Two year',\n",
              "       'ContaOnline_Yes', 'MetodoPagamento_Bank transfer (automatic)',\n",
              "       'MetodoPagamento_Credit card (automatic)',\n",
              "       'MetodoPagamento_Electronic check', 'MetodoPagamento_Mailed check'],\n",
              "      dtype='object')"
            ]
          },
          "metadata": {
            "tags": []
          },
          "execution_count": 89
        }
      ]
    },
    {
      "cell_type": "code",
      "metadata": {
        "id": "kF_D0Gp-DYyj",
        "outputId": "985b2254-e7a5-4a43-c8a9-6869f2f586da",
        "colab": {
          "base_uri": "https://localhost:8080/",
          "height": 258
        }
      },
      "source": [
        "#explicativas.drop(['id'],axis=1,inplace=True)\n",
        "explicativas.head()"
      ],
      "execution_count": 90,
      "outputs": [
        {
          "output_type": "execute_result",
          "data": {
            "text/html": [
              "<div>\n",
              "<style scoped>\n",
              "    .dataframe tbody tr th:only-of-type {\n",
              "        vertical-align: middle;\n",
              "    }\n",
              "\n",
              "    .dataframe tbody tr th {\n",
              "        vertical-align: top;\n",
              "    }\n",
              "\n",
              "    .dataframe thead th {\n",
              "        text-align: right;\n",
              "    }\n",
              "</style>\n",
              "<table border=\"1\" class=\"dataframe\">\n",
              "  <thead>\n",
              "    <tr style=\"text-align: right;\">\n",
              "      <th></th>\n",
              "      <th>CobrancaMensal</th>\n",
              "      <th>CobrancaTotal_2</th>\n",
              "      <th>MesesNaCompanhia_2</th>\n",
              "      <th>Idoso</th>\n",
              "      <th>genero_Male</th>\n",
              "      <th>TemParceiro_Yes</th>\n",
              "      <th>TemDependentes_No</th>\n",
              "      <th>TemDependentes_Yes</th>\n",
              "      <th>TemTelefone_Yes</th>\n",
              "      <th>MaisLinhas_No phone service</th>\n",
              "      <th>MaisLinhas_Yes</th>\n",
              "      <th>TemInternet_Fiber optic</th>\n",
              "      <th>TemInternet_No</th>\n",
              "      <th>ServicoSegurancaOnline_No internet service</th>\n",
              "      <th>ServicoSegurancaOnline_Yes</th>\n",
              "      <th>ServicoBackupOnline_No internet service</th>\n",
              "      <th>ServicoBackupOnline_Yes</th>\n",
              "      <th>ServicoProtecaoOnline_No internet service</th>\n",
              "      <th>ServicoProtecaoOnline_Yes</th>\n",
              "      <th>ServicoSuporteOnline_No internet service</th>\n",
              "      <th>ServicoSuporteOnline_Yes</th>\n",
              "      <th>ServicoTV_No internet service</th>\n",
              "      <th>ServicoTV_Yes</th>\n",
              "      <th>ServicoPctFilmes_No internet service</th>\n",
              "      <th>ServicoPctFilmes_Yes</th>\n",
              "      <th>Contrato_One year</th>\n",
              "      <th>Contrato_Two year</th>\n",
              "      <th>ContaOnline_Yes</th>\n",
              "      <th>MetodoPagamento_Bank transfer (automatic)</th>\n",
              "      <th>MetodoPagamento_Credit card (automatic)</th>\n",
              "      <th>MetodoPagamento_Electronic check</th>\n",
              "      <th>MetodoPagamento_Mailed check</th>\n",
              "    </tr>\n",
              "  </thead>\n",
              "  <tbody>\n",
              "    <tr>\n",
              "      <th>0</th>\n",
              "      <td>1.00</td>\n",
              "      <td>3.00</td>\n",
              "      <td>3.00</td>\n",
              "      <td>0</td>\n",
              "      <td>0</td>\n",
              "      <td>0</td>\n",
              "      <td>1</td>\n",
              "      <td>0</td>\n",
              "      <td>0</td>\n",
              "      <td>1</td>\n",
              "      <td>0</td>\n",
              "      <td>0</td>\n",
              "      <td>0</td>\n",
              "      <td>0</td>\n",
              "      <td>1</td>\n",
              "      <td>0</td>\n",
              "      <td>1</td>\n",
              "      <td>0</td>\n",
              "      <td>1</td>\n",
              "      <td>0</td>\n",
              "      <td>1</td>\n",
              "      <td>0</td>\n",
              "      <td>0</td>\n",
              "      <td>0</td>\n",
              "      <td>0</td>\n",
              "      <td>0</td>\n",
              "      <td>1</td>\n",
              "      <td>0</td>\n",
              "      <td>0</td>\n",
              "      <td>0</td>\n",
              "      <td>0</td>\n",
              "      <td>0</td>\n",
              "    </tr>\n",
              "    <tr>\n",
              "      <th>1</th>\n",
              "      <td>0.00</td>\n",
              "      <td>1.00</td>\n",
              "      <td>1.00</td>\n",
              "      <td>0</td>\n",
              "      <td>1</td>\n",
              "      <td>1</td>\n",
              "      <td>0</td>\n",
              "      <td>1</td>\n",
              "      <td>1</td>\n",
              "      <td>0</td>\n",
              "      <td>0</td>\n",
              "      <td>0</td>\n",
              "      <td>1</td>\n",
              "      <td>1</td>\n",
              "      <td>0</td>\n",
              "      <td>1</td>\n",
              "      <td>0</td>\n",
              "      <td>1</td>\n",
              "      <td>0</td>\n",
              "      <td>1</td>\n",
              "      <td>0</td>\n",
              "      <td>1</td>\n",
              "      <td>0</td>\n",
              "      <td>1</td>\n",
              "      <td>0</td>\n",
              "      <td>1</td>\n",
              "      <td>0</td>\n",
              "      <td>0</td>\n",
              "      <td>0</td>\n",
              "      <td>0</td>\n",
              "      <td>0</td>\n",
              "      <td>1</td>\n",
              "    </tr>\n",
              "    <tr>\n",
              "      <th>2</th>\n",
              "      <td>4.00</td>\n",
              "      <td>4.00</td>\n",
              "      <td>4.00</td>\n",
              "      <td>0</td>\n",
              "      <td>0</td>\n",
              "      <td>1</td>\n",
              "      <td>1</td>\n",
              "      <td>0</td>\n",
              "      <td>1</td>\n",
              "      <td>0</td>\n",
              "      <td>1</td>\n",
              "      <td>1</td>\n",
              "      <td>0</td>\n",
              "      <td>0</td>\n",
              "      <td>0</td>\n",
              "      <td>0</td>\n",
              "      <td>1</td>\n",
              "      <td>0</td>\n",
              "      <td>1</td>\n",
              "      <td>0</td>\n",
              "      <td>1</td>\n",
              "      <td>0</td>\n",
              "      <td>1</td>\n",
              "      <td>0</td>\n",
              "      <td>1</td>\n",
              "      <td>0</td>\n",
              "      <td>1</td>\n",
              "      <td>1</td>\n",
              "      <td>0</td>\n",
              "      <td>1</td>\n",
              "      <td>0</td>\n",
              "      <td>0</td>\n",
              "    </tr>\n",
              "    <tr>\n",
              "      <th>3</th>\n",
              "      <td>4.00</td>\n",
              "      <td>3.00</td>\n",
              "      <td>2.00</td>\n",
              "      <td>0</td>\n",
              "      <td>0</td>\n",
              "      <td>0</td>\n",
              "      <td>1</td>\n",
              "      <td>0</td>\n",
              "      <td>1</td>\n",
              "      <td>0</td>\n",
              "      <td>1</td>\n",
              "      <td>1</td>\n",
              "      <td>0</td>\n",
              "      <td>0</td>\n",
              "      <td>0</td>\n",
              "      <td>0</td>\n",
              "      <td>1</td>\n",
              "      <td>0</td>\n",
              "      <td>1</td>\n",
              "      <td>0</td>\n",
              "      <td>0</td>\n",
              "      <td>0</td>\n",
              "      <td>1</td>\n",
              "      <td>0</td>\n",
              "      <td>1</td>\n",
              "      <td>0</td>\n",
              "      <td>0</td>\n",
              "      <td>1</td>\n",
              "      <td>1</td>\n",
              "      <td>0</td>\n",
              "      <td>0</td>\n",
              "      <td>0</td>\n",
              "    </tr>\n",
              "    <tr>\n",
              "      <th>4</th>\n",
              "      <td>2.00</td>\n",
              "      <td>2.00</td>\n",
              "      <td>2.00</td>\n",
              "      <td>0</td>\n",
              "      <td>1</td>\n",
              "      <td>1</td>\n",
              "      <td>0</td>\n",
              "      <td>1</td>\n",
              "      <td>1</td>\n",
              "      <td>0</td>\n",
              "      <td>0</td>\n",
              "      <td>1</td>\n",
              "      <td>0</td>\n",
              "      <td>0</td>\n",
              "      <td>0</td>\n",
              "      <td>0</td>\n",
              "      <td>0</td>\n",
              "      <td>0</td>\n",
              "      <td>0</td>\n",
              "      <td>0</td>\n",
              "      <td>0</td>\n",
              "      <td>0</td>\n",
              "      <td>0</td>\n",
              "      <td>0</td>\n",
              "      <td>0</td>\n",
              "      <td>0</td>\n",
              "      <td>0</td>\n",
              "      <td>1</td>\n",
              "      <td>0</td>\n",
              "      <td>0</td>\n",
              "      <td>1</td>\n",
              "      <td>0</td>\n",
              "    </tr>\n",
              "  </tbody>\n",
              "</table>\n",
              "</div>"
            ],
            "text/plain": [
              "   CobrancaMensal  CobrancaTotal_2  MesesNaCompanhia_2  Idoso  genero_Male  \\\n",
              "0            1.00             3.00                3.00      0            0   \n",
              "1            0.00             1.00                1.00      0            1   \n",
              "2            4.00             4.00                4.00      0            0   \n",
              "3            4.00             3.00                2.00      0            0   \n",
              "4            2.00             2.00                2.00      0            1   \n",
              "\n",
              "   TemParceiro_Yes  TemDependentes_No  TemDependentes_Yes  TemTelefone_Yes  \\\n",
              "0                0                  1                   0                0   \n",
              "1                1                  0                   1                1   \n",
              "2                1                  1                   0                1   \n",
              "3                0                  1                   0                1   \n",
              "4                1                  0                   1                1   \n",
              "\n",
              "   MaisLinhas_No phone service  MaisLinhas_Yes  TemInternet_Fiber optic  \\\n",
              "0                            1               0                        0   \n",
              "1                            0               0                        0   \n",
              "2                            0               1                        1   \n",
              "3                            0               1                        1   \n",
              "4                            0               0                        1   \n",
              "\n",
              "   TemInternet_No  ServicoSegurancaOnline_No internet service  \\\n",
              "0               0                                           0   \n",
              "1               1                                           1   \n",
              "2               0                                           0   \n",
              "3               0                                           0   \n",
              "4               0                                           0   \n",
              "\n",
              "   ServicoSegurancaOnline_Yes  ServicoBackupOnline_No internet service  \\\n",
              "0                           1                                        0   \n",
              "1                           0                                        1   \n",
              "2                           0                                        0   \n",
              "3                           0                                        0   \n",
              "4                           0                                        0   \n",
              "\n",
              "   ServicoBackupOnline_Yes  ServicoProtecaoOnline_No internet service  \\\n",
              "0                        1                                          0   \n",
              "1                        0                                          1   \n",
              "2                        1                                          0   \n",
              "3                        1                                          0   \n",
              "4                        0                                          0   \n",
              "\n",
              "   ServicoProtecaoOnline_Yes  ServicoSuporteOnline_No internet service  \\\n",
              "0                          1                                         0   \n",
              "1                          0                                         1   \n",
              "2                          1                                         0   \n",
              "3                          1                                         0   \n",
              "4                          0                                         0   \n",
              "\n",
              "   ServicoSuporteOnline_Yes  ServicoTV_No internet service  ServicoTV_Yes  \\\n",
              "0                         1                              0              0   \n",
              "1                         0                              1              0   \n",
              "2                         1                              0              1   \n",
              "3                         0                              0              1   \n",
              "4                         0                              0              0   \n",
              "\n",
              "   ServicoPctFilmes_No internet service  ServicoPctFilmes_Yes  \\\n",
              "0                                     0                     0   \n",
              "1                                     1                     0   \n",
              "2                                     0                     1   \n",
              "3                                     0                     1   \n",
              "4                                     0                     0   \n",
              "\n",
              "   Contrato_One year  Contrato_Two year  ContaOnline_Yes  \\\n",
              "0                  0                  1                0   \n",
              "1                  1                  0                0   \n",
              "2                  0                  1                1   \n",
              "3                  0                  0                1   \n",
              "4                  0                  0                1   \n",
              "\n",
              "   MetodoPagamento_Bank transfer (automatic)  \\\n",
              "0                                          0   \n",
              "1                                          0   \n",
              "2                                          0   \n",
              "3                                          1   \n",
              "4                                          0   \n",
              "\n",
              "   MetodoPagamento_Credit card (automatic)  MetodoPagamento_Electronic check  \\\n",
              "0                                        0                                 0   \n",
              "1                                        0                                 0   \n",
              "2                                        1                                 0   \n",
              "3                                        0                                 0   \n",
              "4                                        0                                 1   \n",
              "\n",
              "   MetodoPagamento_Mailed check  \n",
              "0                             0  \n",
              "1                             1  \n",
              "2                             0  \n",
              "3                             0  \n",
              "4                             0  "
            ]
          },
          "metadata": {
            "tags": []
          },
          "execution_count": 90
        }
      ]
    },
    {
      "cell_type": "code",
      "metadata": {
        "id": "Q0bOJxhuDYyq",
        "outputId": "42d1cdba-e5d4-4211-ec19-8abda0c90d3b",
        "colab": {
          "base_uri": "https://localhost:8080/"
        }
      },
      "source": [
        "target.head()"
      ],
      "execution_count": 91,
      "outputs": [
        {
          "output_type": "execute_result",
          "data": {
            "text/plain": [
              "0    0\n",
              "1    0\n",
              "2    0\n",
              "3    1\n",
              "4    1\n",
              "Name: Churn, dtype: int64"
            ]
          },
          "metadata": {
            "tags": []
          },
          "execution_count": 91
        }
      ]
    },
    {
      "cell_type": "markdown",
      "metadata": {
        "id": "2iwvB_1HDYyu"
      },
      "source": [
        "## Separação dos conjuntos de treino e teste"
      ]
    },
    {
      "cell_type": "code",
      "metadata": {
        "id": "P8bGZKdLDYyv"
      },
      "source": [
        "from sklearn.model_selection import train_test_split\n",
        "x_treino, x_teste, y_treino, y_teste = train_test_split(explicativas,\n",
        "                                                       target,\n",
        "                                                       test_size=0.3,\n",
        "                                                      random_state=42)"
      ],
      "execution_count": 92,
      "outputs": []
    },
    {
      "cell_type": "markdown",
      "metadata": {
        "id": "E5OGVj40DYyz"
      },
      "source": [
        "## Tuninng de hiperparâmetros\n",
        "Inicialmente, chamar o módulo de tuning.<br>\n",
        "Passo a passo <br>\n",
        "1 - definir um dict(dicionario com os valores dos hiperparams)<br>\n",
        "2 - chamar o modulo de tunning<br>\n",
        "3 - chamar obj do tunning<br>\n",
        "4 - treinamento<br>\n",
        "5 - avaliar os resultados"
      ]
    },
    {
      "cell_type": "markdown",
      "metadata": {
        "id": "YAQt78thDYy0"
      },
      "source": [
        "### Chamar o módulo de Tuning"
      ]
    },
    {
      "cell_type": "code",
      "metadata": {
        "id": "P4sIS5jADYy3"
      },
      "source": [
        "from sklearn.model_selection import  GridSearchCV"
      ],
      "execution_count": 93,
      "outputs": []
    },
    {
      "cell_type": "markdown",
      "metadata": {
        "id": "KI8JVgF0DYy8"
      },
      "source": [
        "### Chamar módulo de acurácia"
      ]
    },
    {
      "cell_type": "code",
      "metadata": {
        "id": "U1JyLFatDYy9"
      },
      "source": [
        "from sklearn.metrics import accuracy_score"
      ],
      "execution_count": 94,
      "outputs": []
    },
    {
      "cell_type": "markdown",
      "metadata": {
        "id": "YJ9uSoAyDYzA"
      },
      "source": [
        "### Random Forest"
      ]
    },
    {
      "cell_type": "code",
      "metadata": {
        "id": "XvIKV1dxDYzA"
      },
      "source": [
        "import timeit"
      ],
      "execution_count": 95,
      "outputs": []
    },
    {
      "cell_type": "code",
      "metadata": {
        "id": "8wad4jMfDYzF"
      },
      "source": [
        "#1\n",
        "rf_dict = {                            # nome do dicionário que está sendo criado.\n",
        "    'n_estimators':[40,50,60,70],   # numero de estimadores que será testado. Quanto maior, mais exige poder computacional.\n",
        "    'criterion':['gini', 'entropy'],   #  critérios\n",
        "    'bootstrap':[False, True],  # Faz amostragem com e sem reposição.\n",
        "    'random_state': [42]\n",
        "}\n"
      ],
      "execution_count": 96,
      "outputs": []
    },
    {
      "cell_type": "code",
      "metadata": {
        "id": "qxWtrUwYDYzJ"
      },
      "source": [
        "#2\n",
        "from sklearn.ensemble import RandomForestClassifier\n"
      ],
      "execution_count": 97,
      "outputs": []
    },
    {
      "cell_type": "code",
      "metadata": {
        "id": "lxvDG7BEDYzN"
      },
      "source": [
        "#3\n",
        "rf = RandomForestClassifier(random_state=42)\n"
      ],
      "execution_count": 98,
      "outputs": []
    },
    {
      "cell_type": "code",
      "metadata": {
        "id": "UlzIeYhRDYzQ"
      },
      "source": [
        "rf_grid = GridSearchCV(estimator=rf,\n",
        "                      param_grid=rf_dict,\n",
        "                      scoring='accuracy',\n",
        "                      cv=10,\n",
        "                      n_jobs=-1)\n"
      ],
      "execution_count": 99,
      "outputs": []
    },
    {
      "cell_type": "code",
      "metadata": {
        "id": "sPXBC3Q1DYzU"
      },
      "source": [
        "import joblib"
      ],
      "execution_count": 100,
      "outputs": []
    },
    {
      "cell_type": "code",
      "metadata": {
        "id": "ojBUBz88DYzb",
        "outputId": "6a2bb076-637b-4476-e53d-5ff522179e9e",
        "colab": {
          "base_uri": "https://localhost:8080/"
        }
      },
      "source": [
        "rf_grid.fit(x_treino, y_treino)#.values.ravel()  colocar este comando depois de y_treino se precisar."
      ],
      "execution_count": 101,
      "outputs": [
        {
          "output_type": "execute_result",
          "data": {
            "text/plain": [
              "GridSearchCV(cv=10, error_score=nan,\n",
              "             estimator=RandomForestClassifier(bootstrap=True, ccp_alpha=0.0,\n",
              "                                              class_weight=None,\n",
              "                                              criterion='gini', max_depth=None,\n",
              "                                              max_features='auto',\n",
              "                                              max_leaf_nodes=None,\n",
              "                                              max_samples=None,\n",
              "                                              min_impurity_decrease=0.0,\n",
              "                                              min_impurity_split=None,\n",
              "                                              min_samples_leaf=1,\n",
              "                                              min_samples_split=2,\n",
              "                                              min_weight_fraction_leaf=0.0,\n",
              "                                              n_estimators=100, n_jobs=None,\n",
              "                                              oob_score=False, random_state=42,\n",
              "                                              verbose=0, warm_start=False),\n",
              "             iid='deprecated', n_jobs=-1,\n",
              "             param_grid={'bootstrap': [False, True],\n",
              "                         'criterion': ['gini', 'entropy'],\n",
              "                         'n_estimators': [40, 50, 60, 70],\n",
              "                         'random_state': [42]},\n",
              "             pre_dispatch='2*n_jobs', refit=True, return_train_score=False,\n",
              "             scoring='accuracy', verbose=0)"
            ]
          },
          "metadata": {
            "tags": []
          },
          "execution_count": 101
        }
      ]
    },
    {
      "cell_type": "code",
      "metadata": {
        "id": "zlswxmzBDYzf",
        "outputId": "9e316810-a1a4-4125-fdf3-6667a8153407",
        "colab": {
          "base_uri": "https://localhost:8080/"
        }
      },
      "source": [
        "rf_grid.best_params_"
      ],
      "execution_count": 102,
      "outputs": [
        {
          "output_type": "execute_result",
          "data": {
            "text/plain": [
              "{'bootstrap': True,\n",
              " 'criterion': 'entropy',\n",
              " 'n_estimators': 40,\n",
              " 'random_state': 42}"
            ]
          },
          "metadata": {
            "tags": []
          },
          "execution_count": 102
        }
      ]
    },
    {
      "cell_type": "code",
      "metadata": {
        "id": "-JVaBcg9DYzj",
        "outputId": "b1100dbe-1d05-41d3-d3c1-655e699180e7",
        "colab": {
          "base_uri": "https://localhost:8080/"
        }
      },
      "source": [
        "rf_grid.best_score_"
      ],
      "execution_count": 103,
      "outputs": [
        {
          "output_type": "execute_result",
          "data": {
            "text/plain": [
              "0.7821538263830881"
            ]
          },
          "metadata": {
            "tags": []
          },
          "execution_count": 103
        }
      ]
    },
    {
      "cell_type": "code",
      "metadata": {
        "id": "UK8JnbGrDYzn",
        "outputId": "4b68e387-845d-476a-8df0-78f9b5b87cd6",
        "colab": {
          "base_uri": "https://localhost:8080/"
        }
      },
      "source": [
        "accuracy_score(y_teste, rf_grid.predict(x_teste))"
      ],
      "execution_count": 104,
      "outputs": [
        {
          "output_type": "execute_result",
          "data": {
            "text/plain": [
              "0.7853341218214075"
            ]
          },
          "metadata": {
            "tags": []
          },
          "execution_count": 104
        }
      ]
    },
    {
      "cell_type": "markdown",
      "metadata": {
        "id": "CYcAwOIeDYzs"
      },
      "source": [
        "### Gradient Boosting"
      ]
    },
    {
      "cell_type": "code",
      "metadata": {
        "id": "OiEyIVRxDYzs"
      },
      "source": [
        "gb_dict = { \n",
        "    \"max_depth\":[3,5,8],\n",
        "    \"max_features\":[\"log2\",\"sqrt\"],\n",
        "    \"criterion\": [\"friedman_mse\",  \"mae\"],\n",
        "    'random_state': [1967]    \n",
        "    }"
      ],
      "execution_count": 105,
      "outputs": []
    },
    {
      "cell_type": "code",
      "metadata": {
        "id": "EhMHV4UgDYzy"
      },
      "source": [
        "from sklearn.ensemble import GradientBoostingClassifier"
      ],
      "execution_count": 107,
      "outputs": []
    },
    {
      "cell_type": "code",
      "metadata": {
        "id": "aZzlrIWjDYz2"
      },
      "source": [
        "gb = GradientBoostingClassifier(random_state=42)"
      ],
      "execution_count": 108,
      "outputs": []
    },
    {
      "cell_type": "code",
      "metadata": {
        "id": "7HaffmqnDYz6"
      },
      "source": [
        "gb_grid = GridSearchCV(estimator=gb,\n",
        "                       param_grid=gb_dict,\n",
        "                       scoring='accuracy',\n",
        "                       cv=10,\n",
        "                       n_jobs=-1 # ACELERA O TEMPO DE PROCESSAMENTO\n",
        "                      )"
      ],
      "execution_count": 109,
      "outputs": []
    },
    {
      "cell_type": "code",
      "metadata": {
        "id": "Qd8ZvI8yDYz-",
        "outputId": "64d26f3e-3c8b-47c0-9396-ab167e121370",
        "colab": {
          "base_uri": "https://localhost:8080/"
        }
      },
      "source": [
        "gb_grid.fit(x_treino,y_treino)"
      ],
      "execution_count": 110,
      "outputs": [
        {
          "output_type": "execute_result",
          "data": {
            "text/plain": [
              "GridSearchCV(cv=10, error_score=nan,\n",
              "             estimator=GradientBoostingClassifier(ccp_alpha=0.0,\n",
              "                                                  criterion='friedman_mse',\n",
              "                                                  init=None, learning_rate=0.1,\n",
              "                                                  loss='deviance', max_depth=3,\n",
              "                                                  max_features=None,\n",
              "                                                  max_leaf_nodes=None,\n",
              "                                                  min_impurity_decrease=0.0,\n",
              "                                                  min_impurity_split=None,\n",
              "                                                  min_samples_leaf=1,\n",
              "                                                  min_samples_split=2,\n",
              "                                                  min_weight_fraction_leaf=0.0,\n",
              "                                                  n_estimators=100,\n",
              "                                                  n_iter_no_...\n",
              "                                                  presort='deprecated',\n",
              "                                                  random_state=42,\n",
              "                                                  subsample=1.0, tol=0.0001,\n",
              "                                                  validation_fraction=0.1,\n",
              "                                                  verbose=0, warm_start=False),\n",
              "             iid='deprecated', n_jobs=-1,\n",
              "             param_grid={'criterion': ['friedman_mse', 'mae'],\n",
              "                         'max_depth': [3, 5, 8],\n",
              "                         'max_features': ['log2', 'sqrt'],\n",
              "                         'random_state': [1967]},\n",
              "             pre_dispatch='2*n_jobs', refit=True, return_train_score=False,\n",
              "             scoring='accuracy', verbose=0)"
            ]
          },
          "metadata": {
            "tags": []
          },
          "execution_count": 110
        }
      ]
    },
    {
      "cell_type": "code",
      "metadata": {
        "id": "dC0HZGbJDY0C",
        "outputId": "b59da940-87fe-4e35-b334-99057e49a448",
        "colab": {
          "base_uri": "https://localhost:8080/"
        }
      },
      "source": [
        "gb_grid.best_params_"
      ],
      "execution_count": 111,
      "outputs": [
        {
          "output_type": "execute_result",
          "data": {
            "text/plain": [
              "{'criterion': 'friedman_mse',\n",
              " 'max_depth': 3,\n",
              " 'max_features': 'log2',\n",
              " 'random_state': 1967}"
            ]
          },
          "metadata": {
            "tags": []
          },
          "execution_count": 111
        }
      ]
    },
    {
      "cell_type": "code",
      "metadata": {
        "id": "UqVMvvdWDY0G",
        "outputId": "a126bd7b-ff3a-4194-a63d-fa82bdf0673b",
        "colab": {
          "base_uri": "https://localhost:8080/"
        }
      },
      "source": [
        "gb_grid.best_score_"
      ],
      "execution_count": 112,
      "outputs": [
        {
          "output_type": "execute_result",
          "data": {
            "text/plain": [
              "0.8092944804986185"
            ]
          },
          "metadata": {
            "tags": []
          },
          "execution_count": 112
        }
      ]
    },
    {
      "cell_type": "code",
      "metadata": {
        "id": "Trq77_8iDY0J",
        "outputId": "f96251a8-8fc6-4282-9bf2-5b4f6b0a24b7",
        "colab": {
          "base_uri": "https://localhost:8080/"
        }
      },
      "source": [
        "gb_grid.best_estimator_"
      ],
      "execution_count": 113,
      "outputs": [
        {
          "output_type": "execute_result",
          "data": {
            "text/plain": [
              "GradientBoostingClassifier(ccp_alpha=0.0, criterion='friedman_mse', init=None,\n",
              "                           learning_rate=0.1, loss='deviance', max_depth=3,\n",
              "                           max_features='log2', max_leaf_nodes=None,\n",
              "                           min_impurity_decrease=0.0, min_impurity_split=None,\n",
              "                           min_samples_leaf=1, min_samples_split=2,\n",
              "                           min_weight_fraction_leaf=0.0, n_estimators=100,\n",
              "                           n_iter_no_change=None, presort='deprecated',\n",
              "                           random_state=1967, subsample=1.0, tol=0.0001,\n",
              "                           validation_fraction=0.1, verbose=0,\n",
              "                           warm_start=False)"
            ]
          },
          "metadata": {
            "tags": []
          },
          "execution_count": 113
        }
      ]
    },
    {
      "cell_type": "markdown",
      "metadata": {
        "id": "_ePQjnjqDY0N"
      },
      "source": [
        "### Salvar melhor modelo"
      ]
    },
    {
      "cell_type": "code",
      "metadata": {
        "id": "Rhq5x0OrDY0N"
      },
      "source": [
        "import joblib"
      ],
      "execution_count": 114,
      "outputs": []
    },
    {
      "cell_type": "code",
      "metadata": {
        "id": "Z0lq3UjrDY0Q",
        "outputId": "99573e86-512a-4630-8a77-e7544521e6f1",
        "colab": {
          "base_uri": "https://localhost:8080/"
        }
      },
      "source": [
        "joblib.dump(gb_grid.best_estimator_,\n",
        "            'modelo_exemplo_gb.pkl',\n",
        "            compress=1)"
      ],
      "execution_count": 115,
      "outputs": [
        {
          "output_type": "execute_result",
          "data": {
            "text/plain": [
              "['modelo_exemplo_gb.pkl']"
            ]
          },
          "metadata": {
            "tags": []
          },
          "execution_count": 115
        }
      ]
    },
    {
      "cell_type": "markdown",
      "metadata": {
        "id": "-VwJ8RDODY0a"
      },
      "source": [
        "### Score do grupo de teste"
      ]
    },
    {
      "cell_type": "code",
      "metadata": {
        "id": "c81rjCwFDY0b"
      },
      "source": [
        "# dados_teste = pd.read_csv('test.csv', sep=',')\n",
        "url2 = 'https://raw.githubusercontent.com/rnlima8/DSWP/master/Dataframes/test.csv'\n",
        "dados_teste = pd.read_csv(url2, sep=',')"
      ],
      "execution_count": 117,
      "outputs": []
    },
    {
      "cell_type": "code",
      "metadata": {
        "id": "gLury8YhDY0e",
        "outputId": "5e0f4669-1623-4b81-a9fa-4d3ec37f987e",
        "colab": {
          "base_uri": "https://localhost:8080/",
          "height": 292
        }
      },
      "source": [
        "dados_teste.head()"
      ],
      "execution_count": 118,
      "outputs": [
        {
          "output_type": "execute_result",
          "data": {
            "text/html": [
              "<div>\n",
              "<style scoped>\n",
              "    .dataframe tbody tr th:only-of-type {\n",
              "        vertical-align: middle;\n",
              "    }\n",
              "\n",
              "    .dataframe tbody tr th {\n",
              "        vertical-align: top;\n",
              "    }\n",
              "\n",
              "    .dataframe thead th {\n",
              "        text-align: right;\n",
              "    }\n",
              "</style>\n",
              "<table border=\"1\" class=\"dataframe\">\n",
              "  <thead>\n",
              "    <tr style=\"text-align: right;\">\n",
              "      <th></th>\n",
              "      <th>id</th>\n",
              "      <th>gender</th>\n",
              "      <th>SeniorCitizen</th>\n",
              "      <th>Partner</th>\n",
              "      <th>Dependents</th>\n",
              "      <th>tenure</th>\n",
              "      <th>PhoneService</th>\n",
              "      <th>MultipleLines</th>\n",
              "      <th>InternetService</th>\n",
              "      <th>OnlineSecurity</th>\n",
              "      <th>OnlineBackup</th>\n",
              "      <th>DeviceProtection</th>\n",
              "      <th>TechSupport</th>\n",
              "      <th>StreamingTV</th>\n",
              "      <th>StreamingMovies</th>\n",
              "      <th>Contract</th>\n",
              "      <th>PaperlessBilling</th>\n",
              "      <th>PaymentMethod</th>\n",
              "      <th>MonthlyCharges</th>\n",
              "      <th>TotalCharges</th>\n",
              "    </tr>\n",
              "  </thead>\n",
              "  <tbody>\n",
              "    <tr>\n",
              "      <th>0</th>\n",
              "      <td>5027</td>\n",
              "      <td>Male</td>\n",
              "      <td>0</td>\n",
              "      <td>Yes</td>\n",
              "      <td>Yes</td>\n",
              "      <td>23.00</td>\n",
              "      <td>Yes</td>\n",
              "      <td>No</td>\n",
              "      <td>No</td>\n",
              "      <td>No internet service</td>\n",
              "      <td>No internet service</td>\n",
              "      <td>No internet service</td>\n",
              "      <td>No internet service</td>\n",
              "      <td>No internet service</td>\n",
              "      <td>No internet service</td>\n",
              "      <td>One year</td>\n",
              "      <td>Yes</td>\n",
              "      <td>Credit card (automatic)</td>\n",
              "      <td>20.00</td>\n",
              "      <td>445.3</td>\n",
              "    </tr>\n",
              "    <tr>\n",
              "      <th>1</th>\n",
              "      <td>1733</td>\n",
              "      <td>Male</td>\n",
              "      <td>1</td>\n",
              "      <td>Yes</td>\n",
              "      <td>Yes</td>\n",
              "      <td>61.00</td>\n",
              "      <td>Yes</td>\n",
              "      <td>Yes</td>\n",
              "      <td>Fiber optic</td>\n",
              "      <td>No</td>\n",
              "      <td>Yes</td>\n",
              "      <td>No</td>\n",
              "      <td>No</td>\n",
              "      <td>Yes</td>\n",
              "      <td>Yes</td>\n",
              "      <td>One year</td>\n",
              "      <td>No</td>\n",
              "      <td>NaN</td>\n",
              "      <td>99.00</td>\n",
              "      <td>5969.3</td>\n",
              "    </tr>\n",
              "    <tr>\n",
              "      <th>2</th>\n",
              "      <td>5384</td>\n",
              "      <td>Male</td>\n",
              "      <td>0</td>\n",
              "      <td>No</td>\n",
              "      <td>No</td>\n",
              "      <td>36.00</td>\n",
              "      <td>Yes</td>\n",
              "      <td>Yes</td>\n",
              "      <td>Fiber optic</td>\n",
              "      <td>No</td>\n",
              "      <td>No</td>\n",
              "      <td>No</td>\n",
              "      <td>No</td>\n",
              "      <td>No</td>\n",
              "      <td>Yes</td>\n",
              "      <td>Month-to-month</td>\n",
              "      <td>Yes</td>\n",
              "      <td>Electronic check</td>\n",
              "      <td>84.75</td>\n",
              "      <td>3050.15</td>\n",
              "    </tr>\n",
              "    <tr>\n",
              "      <th>3</th>\n",
              "      <td>6554</td>\n",
              "      <td>Female</td>\n",
              "      <td>0</td>\n",
              "      <td>Yes</td>\n",
              "      <td>Yes</td>\n",
              "      <td>61.00</td>\n",
              "      <td>No</td>\n",
              "      <td>No phone service</td>\n",
              "      <td>DSL</td>\n",
              "      <td>No</td>\n",
              "      <td>Yes</td>\n",
              "      <td>Yes</td>\n",
              "      <td>Yes</td>\n",
              "      <td>Yes</td>\n",
              "      <td>Yes</td>\n",
              "      <td>Two year</td>\n",
              "      <td>Yes</td>\n",
              "      <td>Bank transfer (automatic)</td>\n",
              "      <td>61.45</td>\n",
              "      <td>3751.15</td>\n",
              "    </tr>\n",
              "    <tr>\n",
              "      <th>4</th>\n",
              "      <td>364</td>\n",
              "      <td>Female</td>\n",
              "      <td>0</td>\n",
              "      <td>No</td>\n",
              "      <td>No</td>\n",
              "      <td>47.00</td>\n",
              "      <td>Yes</td>\n",
              "      <td>No</td>\n",
              "      <td>No</td>\n",
              "      <td>No internet service</td>\n",
              "      <td>No internet service</td>\n",
              "      <td>No internet service</td>\n",
              "      <td>No internet service</td>\n",
              "      <td>No internet service</td>\n",
              "      <td>No internet service</td>\n",
              "      <td>Two year</td>\n",
              "      <td>Yes</td>\n",
              "      <td>Mailed check</td>\n",
              "      <td>20.55</td>\n",
              "      <td>945.7</td>\n",
              "    </tr>\n",
              "  </tbody>\n",
              "</table>\n",
              "</div>"
            ],
            "text/plain": [
              "     id  gender  SeniorCitizen Partner Dependents  tenure PhoneService  \\\n",
              "0  5027    Male              0     Yes        Yes   23.00          Yes   \n",
              "1  1733    Male              1     Yes        Yes   61.00          Yes   \n",
              "2  5384    Male              0      No         No   36.00          Yes   \n",
              "3  6554  Female              0     Yes        Yes   61.00           No   \n",
              "4   364  Female              0      No         No   47.00          Yes   \n",
              "\n",
              "      MultipleLines InternetService       OnlineSecurity         OnlineBackup  \\\n",
              "0                No              No  No internet service  No internet service   \n",
              "1               Yes     Fiber optic                   No                  Yes   \n",
              "2               Yes     Fiber optic                   No                   No   \n",
              "3  No phone service             DSL                   No                  Yes   \n",
              "4                No              No  No internet service  No internet service   \n",
              "\n",
              "      DeviceProtection          TechSupport          StreamingTV  \\\n",
              "0  No internet service  No internet service  No internet service   \n",
              "1                   No                   No                  Yes   \n",
              "2                   No                   No                   No   \n",
              "3                  Yes                  Yes                  Yes   \n",
              "4  No internet service  No internet service  No internet service   \n",
              "\n",
              "       StreamingMovies        Contract PaperlessBilling  \\\n",
              "0  No internet service        One year              Yes   \n",
              "1                  Yes        One year               No   \n",
              "2                  Yes  Month-to-month              Yes   \n",
              "3                  Yes        Two year              Yes   \n",
              "4  No internet service        Two year              Yes   \n",
              "\n",
              "               PaymentMethod  MonthlyCharges TotalCharges  \n",
              "0    Credit card (automatic)           20.00        445.3  \n",
              "1                        NaN           99.00       5969.3  \n",
              "2           Electronic check           84.75      3050.15  \n",
              "3  Bank transfer (automatic)           61.45      3751.15  \n",
              "4               Mailed check           20.55        945.7  "
            ]
          },
          "metadata": {
            "tags": []
          },
          "execution_count": 118
        }
      ]
    },
    {
      "cell_type": "code",
      "metadata": {
        "id": "kpU8wGtSDY0i"
      },
      "source": [
        "dados_teste = dados_teste.rename(columns={\n",
        "    'id':'id',\n",
        "    'gender':'genero',\n",
        "    'SeniorCitizen':'Idoso',\n",
        "    'Partner':'TemParceiro',\n",
        "    'Dependents':'TemDependentes',\n",
        "    'tenure':'MesesNaCompanhia',\n",
        "    'PhoneService':'TemTelefone',\n",
        "    'MultipleLines':'MaisLinhas',\n",
        "    'InternetService':'TemInternet',\n",
        "    'OnlineSecurity':'ServicoSegurancaOnline',\n",
        "    'OnlineBackup':'ServicoBackupOnline',\n",
        "    'DeviceProtection':'ServicoProtecaoOnline',\n",
        "    'TechSupport':'ServicoSuporteOnline',\n",
        "    'StreamingTV':'ServicoTV',\n",
        "    'StreamingMovies':'ServicoPctFilmes',\n",
        "    'Contract':'Contrato',\n",
        "    'PaperlessBilling':'ContaOnline',\n",
        "    'PaymentMethod':'MetodoPagamento',\n",
        "    'MonthlyCharges':'CobrancaMensal',\n",
        "    'TotalCharges':'CobrancaTotal'\n",
        "})"
      ],
      "execution_count": 119,
      "outputs": []
    },
    {
      "cell_type": "code",
      "metadata": {
        "id": "HyyWR8M7DY0l"
      },
      "source": [
        "quantitativas_teste = dados_teste[['MesesNaCompanhia','CobrancaMensal','CobrancaTotal']]\n",
        "categóricas_teste = dados_teste.drop(columns=['id','MesesNaCompanhia','CobrancaMensal','CobrancaTotal'],\n",
        "                         axis=1)"
      ],
      "execution_count": 120,
      "outputs": []
    },
    {
      "cell_type": "code",
      "metadata": {
        "id": "1KQ3TAhNDY0q",
        "outputId": "06a0b1ce-316c-4f2e-e245-69ce9e09c69e",
        "colab": {
          "base_uri": "https://localhost:8080/",
          "height": 204
        }
      },
      "source": [
        "quantitativas_teste.head()"
      ],
      "execution_count": 121,
      "outputs": [
        {
          "output_type": "execute_result",
          "data": {
            "text/html": [
              "<div>\n",
              "<style scoped>\n",
              "    .dataframe tbody tr th:only-of-type {\n",
              "        vertical-align: middle;\n",
              "    }\n",
              "\n",
              "    .dataframe tbody tr th {\n",
              "        vertical-align: top;\n",
              "    }\n",
              "\n",
              "    .dataframe thead th {\n",
              "        text-align: right;\n",
              "    }\n",
              "</style>\n",
              "<table border=\"1\" class=\"dataframe\">\n",
              "  <thead>\n",
              "    <tr style=\"text-align: right;\">\n",
              "      <th></th>\n",
              "      <th>MesesNaCompanhia</th>\n",
              "      <th>CobrancaMensal</th>\n",
              "      <th>CobrancaTotal</th>\n",
              "    </tr>\n",
              "  </thead>\n",
              "  <tbody>\n",
              "    <tr>\n",
              "      <th>0</th>\n",
              "      <td>23.00</td>\n",
              "      <td>20.00</td>\n",
              "      <td>445.3</td>\n",
              "    </tr>\n",
              "    <tr>\n",
              "      <th>1</th>\n",
              "      <td>61.00</td>\n",
              "      <td>99.00</td>\n",
              "      <td>5969.3</td>\n",
              "    </tr>\n",
              "    <tr>\n",
              "      <th>2</th>\n",
              "      <td>36.00</td>\n",
              "      <td>84.75</td>\n",
              "      <td>3050.15</td>\n",
              "    </tr>\n",
              "    <tr>\n",
              "      <th>3</th>\n",
              "      <td>61.00</td>\n",
              "      <td>61.45</td>\n",
              "      <td>3751.15</td>\n",
              "    </tr>\n",
              "    <tr>\n",
              "      <th>4</th>\n",
              "      <td>47.00</td>\n",
              "      <td>20.55</td>\n",
              "      <td>945.7</td>\n",
              "    </tr>\n",
              "  </tbody>\n",
              "</table>\n",
              "</div>"
            ],
            "text/plain": [
              "   MesesNaCompanhia  CobrancaMensal CobrancaTotal\n",
              "0             23.00           20.00         445.3\n",
              "1             61.00           99.00        5969.3\n",
              "2             36.00           84.75       3050.15\n",
              "3             61.00           61.45       3751.15\n",
              "4             47.00           20.55         945.7"
            ]
          },
          "metadata": {
            "tags": []
          },
          "execution_count": 121
        }
      ]
    },
    {
      "cell_type": "code",
      "metadata": {
        "id": "5IZAi0zHDY0t",
        "outputId": "2678adc6-b82a-479f-eaa4-b3d58bb220c0",
        "colab": {
          "base_uri": "https://localhost:8080/",
          "height": 292
        }
      },
      "source": [
        "categóricas_teste.head()"
      ],
      "execution_count": 122,
      "outputs": [
        {
          "output_type": "execute_result",
          "data": {
            "text/html": [
              "<div>\n",
              "<style scoped>\n",
              "    .dataframe tbody tr th:only-of-type {\n",
              "        vertical-align: middle;\n",
              "    }\n",
              "\n",
              "    .dataframe tbody tr th {\n",
              "        vertical-align: top;\n",
              "    }\n",
              "\n",
              "    .dataframe thead th {\n",
              "        text-align: right;\n",
              "    }\n",
              "</style>\n",
              "<table border=\"1\" class=\"dataframe\">\n",
              "  <thead>\n",
              "    <tr style=\"text-align: right;\">\n",
              "      <th></th>\n",
              "      <th>genero</th>\n",
              "      <th>Idoso</th>\n",
              "      <th>TemParceiro</th>\n",
              "      <th>TemDependentes</th>\n",
              "      <th>TemTelefone</th>\n",
              "      <th>MaisLinhas</th>\n",
              "      <th>TemInternet</th>\n",
              "      <th>ServicoSegurancaOnline</th>\n",
              "      <th>ServicoBackupOnline</th>\n",
              "      <th>ServicoProtecaoOnline</th>\n",
              "      <th>ServicoSuporteOnline</th>\n",
              "      <th>ServicoTV</th>\n",
              "      <th>ServicoPctFilmes</th>\n",
              "      <th>Contrato</th>\n",
              "      <th>ContaOnline</th>\n",
              "      <th>MetodoPagamento</th>\n",
              "    </tr>\n",
              "  </thead>\n",
              "  <tbody>\n",
              "    <tr>\n",
              "      <th>0</th>\n",
              "      <td>Male</td>\n",
              "      <td>0</td>\n",
              "      <td>Yes</td>\n",
              "      <td>Yes</td>\n",
              "      <td>Yes</td>\n",
              "      <td>No</td>\n",
              "      <td>No</td>\n",
              "      <td>No internet service</td>\n",
              "      <td>No internet service</td>\n",
              "      <td>No internet service</td>\n",
              "      <td>No internet service</td>\n",
              "      <td>No internet service</td>\n",
              "      <td>No internet service</td>\n",
              "      <td>One year</td>\n",
              "      <td>Yes</td>\n",
              "      <td>Credit card (automatic)</td>\n",
              "    </tr>\n",
              "    <tr>\n",
              "      <th>1</th>\n",
              "      <td>Male</td>\n",
              "      <td>1</td>\n",
              "      <td>Yes</td>\n",
              "      <td>Yes</td>\n",
              "      <td>Yes</td>\n",
              "      <td>Yes</td>\n",
              "      <td>Fiber optic</td>\n",
              "      <td>No</td>\n",
              "      <td>Yes</td>\n",
              "      <td>No</td>\n",
              "      <td>No</td>\n",
              "      <td>Yes</td>\n",
              "      <td>Yes</td>\n",
              "      <td>One year</td>\n",
              "      <td>No</td>\n",
              "      <td>NaN</td>\n",
              "    </tr>\n",
              "    <tr>\n",
              "      <th>2</th>\n",
              "      <td>Male</td>\n",
              "      <td>0</td>\n",
              "      <td>No</td>\n",
              "      <td>No</td>\n",
              "      <td>Yes</td>\n",
              "      <td>Yes</td>\n",
              "      <td>Fiber optic</td>\n",
              "      <td>No</td>\n",
              "      <td>No</td>\n",
              "      <td>No</td>\n",
              "      <td>No</td>\n",
              "      <td>No</td>\n",
              "      <td>Yes</td>\n",
              "      <td>Month-to-month</td>\n",
              "      <td>Yes</td>\n",
              "      <td>Electronic check</td>\n",
              "    </tr>\n",
              "    <tr>\n",
              "      <th>3</th>\n",
              "      <td>Female</td>\n",
              "      <td>0</td>\n",
              "      <td>Yes</td>\n",
              "      <td>Yes</td>\n",
              "      <td>No</td>\n",
              "      <td>No phone service</td>\n",
              "      <td>DSL</td>\n",
              "      <td>No</td>\n",
              "      <td>Yes</td>\n",
              "      <td>Yes</td>\n",
              "      <td>Yes</td>\n",
              "      <td>Yes</td>\n",
              "      <td>Yes</td>\n",
              "      <td>Two year</td>\n",
              "      <td>Yes</td>\n",
              "      <td>Bank transfer (automatic)</td>\n",
              "    </tr>\n",
              "    <tr>\n",
              "      <th>4</th>\n",
              "      <td>Female</td>\n",
              "      <td>0</td>\n",
              "      <td>No</td>\n",
              "      <td>No</td>\n",
              "      <td>Yes</td>\n",
              "      <td>No</td>\n",
              "      <td>No</td>\n",
              "      <td>No internet service</td>\n",
              "      <td>No internet service</td>\n",
              "      <td>No internet service</td>\n",
              "      <td>No internet service</td>\n",
              "      <td>No internet service</td>\n",
              "      <td>No internet service</td>\n",
              "      <td>Two year</td>\n",
              "      <td>Yes</td>\n",
              "      <td>Mailed check</td>\n",
              "    </tr>\n",
              "  </tbody>\n",
              "</table>\n",
              "</div>"
            ],
            "text/plain": [
              "   genero  Idoso TemParceiro TemDependentes TemTelefone        MaisLinhas  \\\n",
              "0    Male      0         Yes            Yes         Yes                No   \n",
              "1    Male      1         Yes            Yes         Yes               Yes   \n",
              "2    Male      0          No             No         Yes               Yes   \n",
              "3  Female      0         Yes            Yes          No  No phone service   \n",
              "4  Female      0          No             No         Yes                No   \n",
              "\n",
              "   TemInternet ServicoSegurancaOnline  ServicoBackupOnline  \\\n",
              "0           No    No internet service  No internet service   \n",
              "1  Fiber optic                     No                  Yes   \n",
              "2  Fiber optic                     No                   No   \n",
              "3          DSL                     No                  Yes   \n",
              "4           No    No internet service  No internet service   \n",
              "\n",
              "  ServicoProtecaoOnline ServicoSuporteOnline            ServicoTV  \\\n",
              "0   No internet service  No internet service  No internet service   \n",
              "1                    No                   No                  Yes   \n",
              "2                    No                   No                   No   \n",
              "3                   Yes                  Yes                  Yes   \n",
              "4   No internet service  No internet service  No internet service   \n",
              "\n",
              "      ServicoPctFilmes        Contrato ContaOnline            MetodoPagamento  \n",
              "0  No internet service        One year         Yes    Credit card (automatic)  \n",
              "1                  Yes        One year          No                        NaN  \n",
              "2                  Yes  Month-to-month         Yes           Electronic check  \n",
              "3                  Yes        Two year         Yes  Bank transfer (automatic)  \n",
              "4  No internet service        Two year         Yes               Mailed check  "
            ]
          },
          "metadata": {
            "tags": []
          },
          "execution_count": 122
        }
      ]
    },
    {
      "cell_type": "code",
      "metadata": {
        "id": "GKbJmu3DDY0x",
        "outputId": "949589b0-16c2-450a-9d95-b76b61e1205a",
        "colab": {
          "base_uri": "https://localhost:8080/"
        }
      },
      "source": [
        "quantitativas_teste['CobrancaTotal'] = pd.to_numeric(quantitativas_teste['CobrancaTotal'], errors='coerce')"
      ],
      "execution_count": 123,
      "outputs": [
        {
          "output_type": "stream",
          "text": [
            "/usr/local/lib/python3.6/dist-packages/ipykernel_launcher.py:1: SettingWithCopyWarning: \n",
            "A value is trying to be set on a copy of a slice from a DataFrame.\n",
            "Try using .loc[row_indexer,col_indexer] = value instead\n",
            "\n",
            "See the caveats in the documentation: https://pandas.pydata.org/pandas-docs/stable/user_guide/indexing.html#returning-a-view-versus-a-copy\n",
            "  \"\"\"Entry point for launching an IPython kernel.\n"
          ],
          "name": "stderr"
        }
      ]
    },
    {
      "cell_type": "code",
      "metadata": {
        "id": "55cX0Y0aDY00",
        "outputId": "29edfa95-f6a2-45f1-d3ff-bb40094c30d2",
        "colab": {
          "base_uri": "https://localhost:8080/"
        }
      },
      "source": [
        "quantitativas_teste.dtypes"
      ],
      "execution_count": 124,
      "outputs": [
        {
          "output_type": "execute_result",
          "data": {
            "text/plain": [
              "MesesNaCompanhia    float64\n",
              "CobrancaMensal      float64\n",
              "CobrancaTotal       float64\n",
              "dtype: object"
            ]
          },
          "metadata": {
            "tags": []
          },
          "execution_count": 124
        }
      ]
    },
    {
      "cell_type": "code",
      "metadata": {
        "id": "TFuoV2xSDY04",
        "outputId": "0fae2b72-126f-4ae7-d9e5-39fb9050a907",
        "colab": {
          "base_uri": "https://localhost:8080/"
        }
      },
      "source": [
        "quantitativas_teste.isnull().sum()"
      ],
      "execution_count": 125,
      "outputs": [
        {
          "output_type": "execute_result",
          "data": {
            "text/plain": [
              "MesesNaCompanhia    118\n",
              "CobrancaMensal        0\n",
              "CobrancaTotal         3\n",
              "dtype: int64"
            ]
          },
          "metadata": {
            "tags": []
          },
          "execution_count": 125
        }
      ]
    },
    {
      "cell_type": "code",
      "metadata": {
        "id": "2XYY0TxBDY06",
        "outputId": "73d375e6-bf45-489c-9b76-13ee049fdc80",
        "colab": {
          "base_uri": "https://localhost:8080/"
        }
      },
      "source": [
        "quantitativas_teste['CobrancaTotal_2'] = quantitativas_teste['CobrancaTotal'].fillna(quantitativas_teste['CobrancaTotal'].mode()[0])"
      ],
      "execution_count": 126,
      "outputs": [
        {
          "output_type": "stream",
          "text": [
            "/usr/local/lib/python3.6/dist-packages/ipykernel_launcher.py:1: SettingWithCopyWarning: \n",
            "A value is trying to be set on a copy of a slice from a DataFrame.\n",
            "Try using .loc[row_indexer,col_indexer] = value instead\n",
            "\n",
            "See the caveats in the documentation: https://pandas.pydata.org/pandas-docs/stable/user_guide/indexing.html#returning-a-view-versus-a-copy\n",
            "  \"\"\"Entry point for launching an IPython kernel.\n"
          ],
          "name": "stderr"
        }
      ]
    },
    {
      "cell_type": "code",
      "metadata": {
        "id": "O5IkR8AXDY09",
        "outputId": "595ce902-d00e-43f2-a3ef-15c8401e5bdd",
        "colab": {
          "base_uri": "https://localhost:8080/"
        }
      },
      "source": [
        "quantitativas_teste[['CobrancaTotal_2']].isnull().any()"
      ],
      "execution_count": 127,
      "outputs": [
        {
          "output_type": "execute_result",
          "data": {
            "text/plain": [
              "CobrancaTotal_2    False\n",
              "dtype: bool"
            ]
          },
          "metadata": {
            "tags": []
          },
          "execution_count": 127
        }
      ]
    },
    {
      "cell_type": "code",
      "metadata": {
        "id": "S5cjzipPDY1A",
        "outputId": "148a0575-0d55-4624-e952-5ccf3346dadb",
        "colab": {
          "base_uri": "https://localhost:8080/"
        }
      },
      "source": [
        "quantitativas_teste['MesesNaCompanhia_2']  = quantitativas_teste['MesesNaCompanhia'].fillna(quantitativas_teste['CobrancaTotal']/\n",
        "                                                                               quantitativas_teste['CobrancaMensal'])"
      ],
      "execution_count": 128,
      "outputs": [
        {
          "output_type": "stream",
          "text": [
            "/usr/local/lib/python3.6/dist-packages/ipykernel_launcher.py:2: SettingWithCopyWarning: \n",
            "A value is trying to be set on a copy of a slice from a DataFrame.\n",
            "Try using .loc[row_indexer,col_indexer] = value instead\n",
            "\n",
            "See the caveats in the documentation: https://pandas.pydata.org/pandas-docs/stable/user_guide/indexing.html#returning-a-view-versus-a-copy\n",
            "  \n"
          ],
          "name": "stderr"
        }
      ]
    },
    {
      "cell_type": "code",
      "metadata": {
        "id": "xnRqOP1mDY1D",
        "outputId": "836daeaa-d973-47df-e3a1-c6e80ec26c84",
        "colab": {
          "base_uri": "https://localhost:8080/"
        }
      },
      "source": [
        "quantitativas_teste['MesesNaCompanhia_2'].isnull().any()"
      ],
      "execution_count": 129,
      "outputs": [
        {
          "output_type": "execute_result",
          "data": {
            "text/plain": [
              "False"
            ]
          },
          "metadata": {
            "tags": []
          },
          "execution_count": 129
        }
      ]
    },
    {
      "cell_type": "code",
      "metadata": {
        "id": "NFbxRirjDY1J"
      },
      "source": [
        "quantitativas_teste_2 = quantitativas_teste[['CobrancaMensal','CobrancaTotal_2','MesesNaCompanhia_2']]"
      ],
      "execution_count": 130,
      "outputs": []
    },
    {
      "cell_type": "code",
      "metadata": {
        "id": "VzN_WYY9DY1N",
        "outputId": "628251ba-42f8-49c7-e01c-668d4ee61454",
        "colab": {
          "base_uri": "https://localhost:8080/",
          "height": 204
        }
      },
      "source": [
        "quantitativas_teste_2.head()"
      ],
      "execution_count": 131,
      "outputs": [
        {
          "output_type": "execute_result",
          "data": {
            "text/html": [
              "<div>\n",
              "<style scoped>\n",
              "    .dataframe tbody tr th:only-of-type {\n",
              "        vertical-align: middle;\n",
              "    }\n",
              "\n",
              "    .dataframe tbody tr th {\n",
              "        vertical-align: top;\n",
              "    }\n",
              "\n",
              "    .dataframe thead th {\n",
              "        text-align: right;\n",
              "    }\n",
              "</style>\n",
              "<table border=\"1\" class=\"dataframe\">\n",
              "  <thead>\n",
              "    <tr style=\"text-align: right;\">\n",
              "      <th></th>\n",
              "      <th>CobrancaMensal</th>\n",
              "      <th>CobrancaTotal_2</th>\n",
              "      <th>MesesNaCompanhia_2</th>\n",
              "    </tr>\n",
              "  </thead>\n",
              "  <tbody>\n",
              "    <tr>\n",
              "      <th>0</th>\n",
              "      <td>20.00</td>\n",
              "      <td>445.30</td>\n",
              "      <td>23.00</td>\n",
              "    </tr>\n",
              "    <tr>\n",
              "      <th>1</th>\n",
              "      <td>99.00</td>\n",
              "      <td>5,969.30</td>\n",
              "      <td>61.00</td>\n",
              "    </tr>\n",
              "    <tr>\n",
              "      <th>2</th>\n",
              "      <td>84.75</td>\n",
              "      <td>3,050.15</td>\n",
              "      <td>36.00</td>\n",
              "    </tr>\n",
              "    <tr>\n",
              "      <th>3</th>\n",
              "      <td>61.45</td>\n",
              "      <td>3,751.15</td>\n",
              "      <td>61.00</td>\n",
              "    </tr>\n",
              "    <tr>\n",
              "      <th>4</th>\n",
              "      <td>20.55</td>\n",
              "      <td>945.70</td>\n",
              "      <td>47.00</td>\n",
              "    </tr>\n",
              "  </tbody>\n",
              "</table>\n",
              "</div>"
            ],
            "text/plain": [
              "   CobrancaMensal  CobrancaTotal_2  MesesNaCompanhia_2\n",
              "0           20.00           445.30               23.00\n",
              "1           99.00         5,969.30               61.00\n",
              "2           84.75         3,050.15               36.00\n",
              "3           61.45         3,751.15               61.00\n",
              "4           20.55           945.70               47.00"
            ]
          },
          "metadata": {
            "tags": []
          },
          "execution_count": 131
        }
      ]
    },
    {
      "cell_type": "code",
      "metadata": {
        "id": "IQ195CRhDY1T",
        "outputId": "b9e232e8-df49-46e6-83df-0399e13761b5",
        "colab": {
          "base_uri": "https://localhost:8080/"
        }
      },
      "source": [
        "quantitativas_teste_2.isnull().sum()"
      ],
      "execution_count": 132,
      "outputs": [
        {
          "output_type": "execute_result",
          "data": {
            "text/plain": [
              "CobrancaMensal        0\n",
              "CobrancaTotal_2       0\n",
              "MesesNaCompanhia_2    0\n",
              "dtype: int64"
            ]
          },
          "metadata": {
            "tags": []
          },
          "execution_count": 132
        }
      ]
    },
    {
      "cell_type": "code",
      "metadata": {
        "id": "suztLohgDY1W"
      },
      "source": [
        "discretizer_teste = KBinsDiscretizer(n_bins=5,\n",
        "                              encode='ordinal',\n",
        "                              strategy='quantile')"
      ],
      "execution_count": 133,
      "outputs": []
    },
    {
      "cell_type": "code",
      "metadata": {
        "id": "jaU4n-tHDY1Z",
        "outputId": "8ee6089e-59b1-4ce2-f405-6b91863bd083",
        "colab": {
          "base_uri": "https://localhost:8080/"
        }
      },
      "source": [
        "discretizer_teste.fit(quantitativas_teste_2)"
      ],
      "execution_count": 134,
      "outputs": [
        {
          "output_type": "execute_result",
          "data": {
            "text/plain": [
              "KBinsDiscretizer(encode='ordinal', n_bins=5, strategy='quantile')"
            ]
          },
          "metadata": {
            "tags": []
          },
          "execution_count": 134
        }
      ]
    },
    {
      "cell_type": "code",
      "metadata": {
        "id": "ZOhQuMDXDY1e"
      },
      "source": [
        "bining_teste = discretizer_teste.fit_transform(quantitativas_teste_2)"
      ],
      "execution_count": 135,
      "outputs": []
    },
    {
      "cell_type": "code",
      "metadata": {
        "id": "l54ft8OoDY1g"
      },
      "source": [
        "quantitativas_teste_bining = pd.DataFrame(bining_teste,\n",
        "                                    columns=['CobrancaMensal',\n",
        "                                             'CobrancaTotal_2',\n",
        "                                             'MesesNaCompanhia_2'])"
      ],
      "execution_count": 136,
      "outputs": []
    },
    {
      "cell_type": "code",
      "metadata": {
        "id": "RZxE1DtADY1i",
        "outputId": "71b6ba18-854e-4fad-f3f5-1227cfb87798",
        "colab": {
          "base_uri": "https://localhost:8080/",
          "height": 204
        }
      },
      "source": [
        "quantitativas_teste_bining.head()"
      ],
      "execution_count": 137,
      "outputs": [
        {
          "output_type": "execute_result",
          "data": {
            "text/html": [
              "<div>\n",
              "<style scoped>\n",
              "    .dataframe tbody tr th:only-of-type {\n",
              "        vertical-align: middle;\n",
              "    }\n",
              "\n",
              "    .dataframe tbody tr th {\n",
              "        vertical-align: top;\n",
              "    }\n",
              "\n",
              "    .dataframe thead th {\n",
              "        text-align: right;\n",
              "    }\n",
              "</style>\n",
              "<table border=\"1\" class=\"dataframe\">\n",
              "  <thead>\n",
              "    <tr style=\"text-align: right;\">\n",
              "      <th></th>\n",
              "      <th>CobrancaMensal</th>\n",
              "      <th>CobrancaTotal_2</th>\n",
              "      <th>MesesNaCompanhia_2</th>\n",
              "    </tr>\n",
              "  </thead>\n",
              "  <tbody>\n",
              "    <tr>\n",
              "      <th>0</th>\n",
              "      <td>0.00</td>\n",
              "      <td>1.00</td>\n",
              "      <td>2.00</td>\n",
              "    </tr>\n",
              "    <tr>\n",
              "      <th>1</th>\n",
              "      <td>4.00</td>\n",
              "      <td>4.00</td>\n",
              "      <td>4.00</td>\n",
              "    </tr>\n",
              "    <tr>\n",
              "      <th>2</th>\n",
              "      <td>3.00</td>\n",
              "      <td>3.00</td>\n",
              "      <td>2.00</td>\n",
              "    </tr>\n",
              "    <tr>\n",
              "      <th>3</th>\n",
              "      <td>2.00</td>\n",
              "      <td>3.00</td>\n",
              "      <td>4.00</td>\n",
              "    </tr>\n",
              "    <tr>\n",
              "      <th>4</th>\n",
              "      <td>0.00</td>\n",
              "      <td>1.00</td>\n",
              "      <td>3.00</td>\n",
              "    </tr>\n",
              "  </tbody>\n",
              "</table>\n",
              "</div>"
            ],
            "text/plain": [
              "   CobrancaMensal  CobrancaTotal_2  MesesNaCompanhia_2\n",
              "0            0.00             1.00                2.00\n",
              "1            4.00             4.00                4.00\n",
              "2            3.00             3.00                2.00\n",
              "3            2.00             3.00                4.00\n",
              "4            0.00             1.00                3.00"
            ]
          },
          "metadata": {
            "tags": []
          },
          "execution_count": 137
        }
      ]
    },
    {
      "cell_type": "code",
      "metadata": {
        "id": "J7jO6bsTDY1k",
        "outputId": "fec8e021-ee60-4299-9876-de9fb0245703",
        "colab": {
          "base_uri": "https://localhost:8080/"
        }
      },
      "source": [
        "quantitativas_teste_bining.isnull().sum()"
      ],
      "execution_count": 138,
      "outputs": [
        {
          "output_type": "execute_result",
          "data": {
            "text/plain": [
              "CobrancaMensal        0\n",
              "CobrancaTotal_2       0\n",
              "MesesNaCompanhia_2    0\n",
              "dtype: int64"
            ]
          },
          "metadata": {
            "tags": []
          },
          "execution_count": 138
        }
      ]
    },
    {
      "cell_type": "code",
      "metadata": {
        "id": "okBm2eh9DY1m",
        "outputId": "3118404f-81b8-4e00-ba70-72628aa1c53f",
        "colab": {
          "base_uri": "https://localhost:8080/",
          "height": 292
        }
      },
      "source": [
        "categóricas_teste.head()\n"
      ],
      "execution_count": 139,
      "outputs": [
        {
          "output_type": "execute_result",
          "data": {
            "text/html": [
              "<div>\n",
              "<style scoped>\n",
              "    .dataframe tbody tr th:only-of-type {\n",
              "        vertical-align: middle;\n",
              "    }\n",
              "\n",
              "    .dataframe tbody tr th {\n",
              "        vertical-align: top;\n",
              "    }\n",
              "\n",
              "    .dataframe thead th {\n",
              "        text-align: right;\n",
              "    }\n",
              "</style>\n",
              "<table border=\"1\" class=\"dataframe\">\n",
              "  <thead>\n",
              "    <tr style=\"text-align: right;\">\n",
              "      <th></th>\n",
              "      <th>genero</th>\n",
              "      <th>Idoso</th>\n",
              "      <th>TemParceiro</th>\n",
              "      <th>TemDependentes</th>\n",
              "      <th>TemTelefone</th>\n",
              "      <th>MaisLinhas</th>\n",
              "      <th>TemInternet</th>\n",
              "      <th>ServicoSegurancaOnline</th>\n",
              "      <th>ServicoBackupOnline</th>\n",
              "      <th>ServicoProtecaoOnline</th>\n",
              "      <th>ServicoSuporteOnline</th>\n",
              "      <th>ServicoTV</th>\n",
              "      <th>ServicoPctFilmes</th>\n",
              "      <th>Contrato</th>\n",
              "      <th>ContaOnline</th>\n",
              "      <th>MetodoPagamento</th>\n",
              "    </tr>\n",
              "  </thead>\n",
              "  <tbody>\n",
              "    <tr>\n",
              "      <th>0</th>\n",
              "      <td>Male</td>\n",
              "      <td>0</td>\n",
              "      <td>Yes</td>\n",
              "      <td>Yes</td>\n",
              "      <td>Yes</td>\n",
              "      <td>No</td>\n",
              "      <td>No</td>\n",
              "      <td>No internet service</td>\n",
              "      <td>No internet service</td>\n",
              "      <td>No internet service</td>\n",
              "      <td>No internet service</td>\n",
              "      <td>No internet service</td>\n",
              "      <td>No internet service</td>\n",
              "      <td>One year</td>\n",
              "      <td>Yes</td>\n",
              "      <td>Credit card (automatic)</td>\n",
              "    </tr>\n",
              "    <tr>\n",
              "      <th>1</th>\n",
              "      <td>Male</td>\n",
              "      <td>1</td>\n",
              "      <td>Yes</td>\n",
              "      <td>Yes</td>\n",
              "      <td>Yes</td>\n",
              "      <td>Yes</td>\n",
              "      <td>Fiber optic</td>\n",
              "      <td>No</td>\n",
              "      <td>Yes</td>\n",
              "      <td>No</td>\n",
              "      <td>No</td>\n",
              "      <td>Yes</td>\n",
              "      <td>Yes</td>\n",
              "      <td>One year</td>\n",
              "      <td>No</td>\n",
              "      <td>NaN</td>\n",
              "    </tr>\n",
              "    <tr>\n",
              "      <th>2</th>\n",
              "      <td>Male</td>\n",
              "      <td>0</td>\n",
              "      <td>No</td>\n",
              "      <td>No</td>\n",
              "      <td>Yes</td>\n",
              "      <td>Yes</td>\n",
              "      <td>Fiber optic</td>\n",
              "      <td>No</td>\n",
              "      <td>No</td>\n",
              "      <td>No</td>\n",
              "      <td>No</td>\n",
              "      <td>No</td>\n",
              "      <td>Yes</td>\n",
              "      <td>Month-to-month</td>\n",
              "      <td>Yes</td>\n",
              "      <td>Electronic check</td>\n",
              "    </tr>\n",
              "    <tr>\n",
              "      <th>3</th>\n",
              "      <td>Female</td>\n",
              "      <td>0</td>\n",
              "      <td>Yes</td>\n",
              "      <td>Yes</td>\n",
              "      <td>No</td>\n",
              "      <td>No phone service</td>\n",
              "      <td>DSL</td>\n",
              "      <td>No</td>\n",
              "      <td>Yes</td>\n",
              "      <td>Yes</td>\n",
              "      <td>Yes</td>\n",
              "      <td>Yes</td>\n",
              "      <td>Yes</td>\n",
              "      <td>Two year</td>\n",
              "      <td>Yes</td>\n",
              "      <td>Bank transfer (automatic)</td>\n",
              "    </tr>\n",
              "    <tr>\n",
              "      <th>4</th>\n",
              "      <td>Female</td>\n",
              "      <td>0</td>\n",
              "      <td>No</td>\n",
              "      <td>No</td>\n",
              "      <td>Yes</td>\n",
              "      <td>No</td>\n",
              "      <td>No</td>\n",
              "      <td>No internet service</td>\n",
              "      <td>No internet service</td>\n",
              "      <td>No internet service</td>\n",
              "      <td>No internet service</td>\n",
              "      <td>No internet service</td>\n",
              "      <td>No internet service</td>\n",
              "      <td>Two year</td>\n",
              "      <td>Yes</td>\n",
              "      <td>Mailed check</td>\n",
              "    </tr>\n",
              "  </tbody>\n",
              "</table>\n",
              "</div>"
            ],
            "text/plain": [
              "   genero  Idoso TemParceiro TemDependentes TemTelefone        MaisLinhas  \\\n",
              "0    Male      0         Yes            Yes         Yes                No   \n",
              "1    Male      1         Yes            Yes         Yes               Yes   \n",
              "2    Male      0          No             No         Yes               Yes   \n",
              "3  Female      0         Yes            Yes          No  No phone service   \n",
              "4  Female      0          No             No         Yes                No   \n",
              "\n",
              "   TemInternet ServicoSegurancaOnline  ServicoBackupOnline  \\\n",
              "0           No    No internet service  No internet service   \n",
              "1  Fiber optic                     No                  Yes   \n",
              "2  Fiber optic                     No                   No   \n",
              "3          DSL                     No                  Yes   \n",
              "4           No    No internet service  No internet service   \n",
              "\n",
              "  ServicoProtecaoOnline ServicoSuporteOnline            ServicoTV  \\\n",
              "0   No internet service  No internet service  No internet service   \n",
              "1                    No                   No                  Yes   \n",
              "2                    No                   No                   No   \n",
              "3                   Yes                  Yes                  Yes   \n",
              "4   No internet service  No internet service  No internet service   \n",
              "\n",
              "      ServicoPctFilmes        Contrato ContaOnline            MetodoPagamento  \n",
              "0  No internet service        One year         Yes    Credit card (automatic)  \n",
              "1                  Yes        One year          No                        NaN  \n",
              "2                  Yes  Month-to-month         Yes           Electronic check  \n",
              "3                  Yes        Two year         Yes  Bank transfer (automatic)  \n",
              "4  No internet service        Two year         Yes               Mailed check  "
            ]
          },
          "metadata": {
            "tags": []
          },
          "execution_count": 139
        }
      ]
    },
    {
      "cell_type": "code",
      "metadata": {
        "id": "zEZP-BJADY1o",
        "outputId": "c60c3882-29d7-437b-9158-748d0e6bbf86",
        "colab": {
          "base_uri": "https://localhost:8080/"
        }
      },
      "source": [
        "categóricas_teste.isnull().sum()"
      ],
      "execution_count": 140,
      "outputs": [
        {
          "output_type": "execute_result",
          "data": {
            "text/plain": [
              "genero                     0\n",
              "Idoso                      0\n",
              "TemParceiro                0\n",
              "TemDependentes            41\n",
              "TemTelefone                0\n",
              "MaisLinhas                 0\n",
              "TemInternet                0\n",
              "ServicoSegurancaOnline     0\n",
              "ServicoBackupOnline        0\n",
              "ServicoProtecaoOnline      0\n",
              "ServicoSuporteOnline       0\n",
              "ServicoTV                  0\n",
              "ServicoPctFilmes           0\n",
              "Contrato                   0\n",
              "ContaOnline                0\n",
              "MetodoPagamento           30\n",
              "dtype: int64"
            ]
          },
          "metadata": {
            "tags": []
          },
          "execution_count": 140
        }
      ]
    },
    {
      "cell_type": "code",
      "metadata": {
        "id": "RS6_2IvDDY1r"
      },
      "source": [
        "categóricas_teste['TemDependentes'] = categóricas_teste['TemDependentes'].fillna(categóricas_teste['TemDependentes']=='Miss')"
      ],
      "execution_count": 141,
      "outputs": []
    },
    {
      "cell_type": "code",
      "metadata": {
        "id": "A8STRtNxDY1s"
      },
      "source": [
        "categóricas_teste['MetodoPagamento'] = categóricas_teste['MetodoPagamento'].fillna(categóricas_teste['MetodoPagamento']=='Miss')"
      ],
      "execution_count": 142,
      "outputs": []
    },
    {
      "cell_type": "code",
      "metadata": {
        "id": "D311d7pLDY1u",
        "outputId": "e1760dce-9ada-4a46-b2cc-6c9e386d51b2",
        "colab": {
          "base_uri": "https://localhost:8080/"
        }
      },
      "source": [
        "categóricas_teste.isnull().sum()"
      ],
      "execution_count": 143,
      "outputs": [
        {
          "output_type": "execute_result",
          "data": {
            "text/plain": [
              "genero                    0\n",
              "Idoso                     0\n",
              "TemParceiro               0\n",
              "TemDependentes            0\n",
              "TemTelefone               0\n",
              "MaisLinhas                0\n",
              "TemInternet               0\n",
              "ServicoSegurancaOnline    0\n",
              "ServicoBackupOnline       0\n",
              "ServicoProtecaoOnline     0\n",
              "ServicoSuporteOnline      0\n",
              "ServicoTV                 0\n",
              "ServicoPctFilmes          0\n",
              "Contrato                  0\n",
              "ContaOnline               0\n",
              "MetodoPagamento           0\n",
              "dtype: int64"
            ]
          },
          "metadata": {
            "tags": []
          },
          "execution_count": 143
        }
      ]
    },
    {
      "cell_type": "code",
      "metadata": {
        "id": "cYEY0TEoDY1z",
        "outputId": "8c3ad17d-e3f3-449b-b7b7-254ba8c47cf1",
        "colab": {
          "base_uri": "https://localhost:8080/"
        }
      },
      "source": [
        "categóricas_teste.nunique()"
      ],
      "execution_count": 144,
      "outputs": [
        {
          "output_type": "execute_result",
          "data": {
            "text/plain": [
              "genero                    2\n",
              "Idoso                     2\n",
              "TemParceiro               2\n",
              "TemDependentes            3\n",
              "TemTelefone               2\n",
              "MaisLinhas                3\n",
              "TemInternet               3\n",
              "ServicoSegurancaOnline    3\n",
              "ServicoBackupOnline       3\n",
              "ServicoProtecaoOnline     3\n",
              "ServicoSuporteOnline      3\n",
              "ServicoTV                 3\n",
              "ServicoPctFilmes          3\n",
              "Contrato                  3\n",
              "ContaOnline               2\n",
              "MetodoPagamento           5\n",
              "dtype: int64"
            ]
          },
          "metadata": {
            "tags": []
          },
          "execution_count": 144
        }
      ]
    },
    {
      "cell_type": "code",
      "metadata": {
        "id": "v5WfTSWSDY11"
      },
      "source": [
        "dummies_teste = pd.get_dummies(categóricas_teste,\n",
        "                        prefix_sep='_',\n",
        "                        drop_first=True)"
      ],
      "execution_count": 145,
      "outputs": []
    },
    {
      "cell_type": "code",
      "metadata": {
        "id": "h11lbJ_pDY17",
        "outputId": "09bf47e6-cab8-4d4d-a91d-adfe2f7c724d",
        "colab": {
          "base_uri": "https://localhost:8080/",
          "height": 258
        }
      },
      "source": [
        "dummies_teste.head()"
      ],
      "execution_count": 146,
      "outputs": [
        {
          "output_type": "execute_result",
          "data": {
            "text/html": [
              "<div>\n",
              "<style scoped>\n",
              "    .dataframe tbody tr th:only-of-type {\n",
              "        vertical-align: middle;\n",
              "    }\n",
              "\n",
              "    .dataframe tbody tr th {\n",
              "        vertical-align: top;\n",
              "    }\n",
              "\n",
              "    .dataframe thead th {\n",
              "        text-align: right;\n",
              "    }\n",
              "</style>\n",
              "<table border=\"1\" class=\"dataframe\">\n",
              "  <thead>\n",
              "    <tr style=\"text-align: right;\">\n",
              "      <th></th>\n",
              "      <th>Idoso</th>\n",
              "      <th>genero_Male</th>\n",
              "      <th>TemParceiro_Yes</th>\n",
              "      <th>TemDependentes_No</th>\n",
              "      <th>TemDependentes_Yes</th>\n",
              "      <th>TemTelefone_Yes</th>\n",
              "      <th>MaisLinhas_No phone service</th>\n",
              "      <th>MaisLinhas_Yes</th>\n",
              "      <th>TemInternet_Fiber optic</th>\n",
              "      <th>TemInternet_No</th>\n",
              "      <th>ServicoSegurancaOnline_No internet service</th>\n",
              "      <th>ServicoSegurancaOnline_Yes</th>\n",
              "      <th>ServicoBackupOnline_No internet service</th>\n",
              "      <th>ServicoBackupOnline_Yes</th>\n",
              "      <th>ServicoProtecaoOnline_No internet service</th>\n",
              "      <th>ServicoProtecaoOnline_Yes</th>\n",
              "      <th>ServicoSuporteOnline_No internet service</th>\n",
              "      <th>ServicoSuporteOnline_Yes</th>\n",
              "      <th>ServicoTV_No internet service</th>\n",
              "      <th>ServicoTV_Yes</th>\n",
              "      <th>ServicoPctFilmes_No internet service</th>\n",
              "      <th>ServicoPctFilmes_Yes</th>\n",
              "      <th>Contrato_One year</th>\n",
              "      <th>Contrato_Two year</th>\n",
              "      <th>ContaOnline_Yes</th>\n",
              "      <th>MetodoPagamento_Bank transfer (automatic)</th>\n",
              "      <th>MetodoPagamento_Credit card (automatic)</th>\n",
              "      <th>MetodoPagamento_Electronic check</th>\n",
              "      <th>MetodoPagamento_Mailed check</th>\n",
              "    </tr>\n",
              "  </thead>\n",
              "  <tbody>\n",
              "    <tr>\n",
              "      <th>0</th>\n",
              "      <td>0</td>\n",
              "      <td>1</td>\n",
              "      <td>1</td>\n",
              "      <td>0</td>\n",
              "      <td>1</td>\n",
              "      <td>1</td>\n",
              "      <td>0</td>\n",
              "      <td>0</td>\n",
              "      <td>0</td>\n",
              "      <td>1</td>\n",
              "      <td>1</td>\n",
              "      <td>0</td>\n",
              "      <td>1</td>\n",
              "      <td>0</td>\n",
              "      <td>1</td>\n",
              "      <td>0</td>\n",
              "      <td>1</td>\n",
              "      <td>0</td>\n",
              "      <td>1</td>\n",
              "      <td>0</td>\n",
              "      <td>1</td>\n",
              "      <td>0</td>\n",
              "      <td>1</td>\n",
              "      <td>0</td>\n",
              "      <td>1</td>\n",
              "      <td>0</td>\n",
              "      <td>1</td>\n",
              "      <td>0</td>\n",
              "      <td>0</td>\n",
              "    </tr>\n",
              "    <tr>\n",
              "      <th>1</th>\n",
              "      <td>1</td>\n",
              "      <td>1</td>\n",
              "      <td>1</td>\n",
              "      <td>0</td>\n",
              "      <td>1</td>\n",
              "      <td>1</td>\n",
              "      <td>0</td>\n",
              "      <td>1</td>\n",
              "      <td>1</td>\n",
              "      <td>0</td>\n",
              "      <td>0</td>\n",
              "      <td>0</td>\n",
              "      <td>0</td>\n",
              "      <td>1</td>\n",
              "      <td>0</td>\n",
              "      <td>0</td>\n",
              "      <td>0</td>\n",
              "      <td>0</td>\n",
              "      <td>0</td>\n",
              "      <td>1</td>\n",
              "      <td>0</td>\n",
              "      <td>1</td>\n",
              "      <td>1</td>\n",
              "      <td>0</td>\n",
              "      <td>0</td>\n",
              "      <td>0</td>\n",
              "      <td>0</td>\n",
              "      <td>0</td>\n",
              "      <td>0</td>\n",
              "    </tr>\n",
              "    <tr>\n",
              "      <th>2</th>\n",
              "      <td>0</td>\n",
              "      <td>1</td>\n",
              "      <td>0</td>\n",
              "      <td>1</td>\n",
              "      <td>0</td>\n",
              "      <td>1</td>\n",
              "      <td>0</td>\n",
              "      <td>1</td>\n",
              "      <td>1</td>\n",
              "      <td>0</td>\n",
              "      <td>0</td>\n",
              "      <td>0</td>\n",
              "      <td>0</td>\n",
              "      <td>0</td>\n",
              "      <td>0</td>\n",
              "      <td>0</td>\n",
              "      <td>0</td>\n",
              "      <td>0</td>\n",
              "      <td>0</td>\n",
              "      <td>0</td>\n",
              "      <td>0</td>\n",
              "      <td>1</td>\n",
              "      <td>0</td>\n",
              "      <td>0</td>\n",
              "      <td>1</td>\n",
              "      <td>0</td>\n",
              "      <td>0</td>\n",
              "      <td>1</td>\n",
              "      <td>0</td>\n",
              "    </tr>\n",
              "    <tr>\n",
              "      <th>3</th>\n",
              "      <td>0</td>\n",
              "      <td>0</td>\n",
              "      <td>1</td>\n",
              "      <td>0</td>\n",
              "      <td>1</td>\n",
              "      <td>0</td>\n",
              "      <td>1</td>\n",
              "      <td>0</td>\n",
              "      <td>0</td>\n",
              "      <td>0</td>\n",
              "      <td>0</td>\n",
              "      <td>0</td>\n",
              "      <td>0</td>\n",
              "      <td>1</td>\n",
              "      <td>0</td>\n",
              "      <td>1</td>\n",
              "      <td>0</td>\n",
              "      <td>1</td>\n",
              "      <td>0</td>\n",
              "      <td>1</td>\n",
              "      <td>0</td>\n",
              "      <td>1</td>\n",
              "      <td>0</td>\n",
              "      <td>1</td>\n",
              "      <td>1</td>\n",
              "      <td>1</td>\n",
              "      <td>0</td>\n",
              "      <td>0</td>\n",
              "      <td>0</td>\n",
              "    </tr>\n",
              "    <tr>\n",
              "      <th>4</th>\n",
              "      <td>0</td>\n",
              "      <td>0</td>\n",
              "      <td>0</td>\n",
              "      <td>1</td>\n",
              "      <td>0</td>\n",
              "      <td>1</td>\n",
              "      <td>0</td>\n",
              "      <td>0</td>\n",
              "      <td>0</td>\n",
              "      <td>1</td>\n",
              "      <td>1</td>\n",
              "      <td>0</td>\n",
              "      <td>1</td>\n",
              "      <td>0</td>\n",
              "      <td>1</td>\n",
              "      <td>0</td>\n",
              "      <td>1</td>\n",
              "      <td>0</td>\n",
              "      <td>1</td>\n",
              "      <td>0</td>\n",
              "      <td>1</td>\n",
              "      <td>0</td>\n",
              "      <td>0</td>\n",
              "      <td>1</td>\n",
              "      <td>1</td>\n",
              "      <td>0</td>\n",
              "      <td>0</td>\n",
              "      <td>0</td>\n",
              "      <td>1</td>\n",
              "    </tr>\n",
              "  </tbody>\n",
              "</table>\n",
              "</div>"
            ],
            "text/plain": [
              "   Idoso  genero_Male  TemParceiro_Yes  TemDependentes_No  TemDependentes_Yes  \\\n",
              "0      0            1                1                  0                   1   \n",
              "1      1            1                1                  0                   1   \n",
              "2      0            1                0                  1                   0   \n",
              "3      0            0                1                  0                   1   \n",
              "4      0            0                0                  1                   0   \n",
              "\n",
              "   TemTelefone_Yes  MaisLinhas_No phone service  MaisLinhas_Yes  \\\n",
              "0                1                            0               0   \n",
              "1                1                            0               1   \n",
              "2                1                            0               1   \n",
              "3                0                            1               0   \n",
              "4                1                            0               0   \n",
              "\n",
              "   TemInternet_Fiber optic  TemInternet_No  \\\n",
              "0                        0               1   \n",
              "1                        1               0   \n",
              "2                        1               0   \n",
              "3                        0               0   \n",
              "4                        0               1   \n",
              "\n",
              "   ServicoSegurancaOnline_No internet service  ServicoSegurancaOnline_Yes  \\\n",
              "0                                           1                           0   \n",
              "1                                           0                           0   \n",
              "2                                           0                           0   \n",
              "3                                           0                           0   \n",
              "4                                           1                           0   \n",
              "\n",
              "   ServicoBackupOnline_No internet service  ServicoBackupOnline_Yes  \\\n",
              "0                                        1                        0   \n",
              "1                                        0                        1   \n",
              "2                                        0                        0   \n",
              "3                                        0                        1   \n",
              "4                                        1                        0   \n",
              "\n",
              "   ServicoProtecaoOnline_No internet service  ServicoProtecaoOnline_Yes  \\\n",
              "0                                          1                          0   \n",
              "1                                          0                          0   \n",
              "2                                          0                          0   \n",
              "3                                          0                          1   \n",
              "4                                          1                          0   \n",
              "\n",
              "   ServicoSuporteOnline_No internet service  ServicoSuporteOnline_Yes  \\\n",
              "0                                         1                         0   \n",
              "1                                         0                         0   \n",
              "2                                         0                         0   \n",
              "3                                         0                         1   \n",
              "4                                         1                         0   \n",
              "\n",
              "   ServicoTV_No internet service  ServicoTV_Yes  \\\n",
              "0                              1              0   \n",
              "1                              0              1   \n",
              "2                              0              0   \n",
              "3                              0              1   \n",
              "4                              1              0   \n",
              "\n",
              "   ServicoPctFilmes_No internet service  ServicoPctFilmes_Yes  \\\n",
              "0                                     1                     0   \n",
              "1                                     0                     1   \n",
              "2                                     0                     1   \n",
              "3                                     0                     1   \n",
              "4                                     1                     0   \n",
              "\n",
              "   Contrato_One year  Contrato_Two year  ContaOnline_Yes  \\\n",
              "0                  1                  0                1   \n",
              "1                  1                  0                0   \n",
              "2                  0                  0                1   \n",
              "3                  0                  1                1   \n",
              "4                  0                  1                1   \n",
              "\n",
              "   MetodoPagamento_Bank transfer (automatic)  \\\n",
              "0                                          0   \n",
              "1                                          0   \n",
              "2                                          0   \n",
              "3                                          1   \n",
              "4                                          0   \n",
              "\n",
              "   MetodoPagamento_Credit card (automatic)  MetodoPagamento_Electronic check  \\\n",
              "0                                        1                                 0   \n",
              "1                                        0                                 0   \n",
              "2                                        0                                 1   \n",
              "3                                        0                                 0   \n",
              "4                                        0                                 0   \n",
              "\n",
              "   MetodoPagamento_Mailed check  \n",
              "0                             0  \n",
              "1                             0  \n",
              "2                             0  \n",
              "3                             0  \n",
              "4                             1  "
            ]
          },
          "metadata": {
            "tags": []
          },
          "execution_count": 146
        }
      ]
    },
    {
      "cell_type": "code",
      "metadata": {
        "id": "OShhrL1aDY1_",
        "outputId": "9dc148d5-9a04-43ee-8037-64e6fd4ef7e3",
        "colab": {
          "base_uri": "https://localhost:8080/"
        }
      },
      "source": [
        "dummies_teste.columns"
      ],
      "execution_count": 147,
      "outputs": [
        {
          "output_type": "execute_result",
          "data": {
            "text/plain": [
              "Index(['Idoso', 'genero_Male', 'TemParceiro_Yes', 'TemDependentes_No',\n",
              "       'TemDependentes_Yes', 'TemTelefone_Yes', 'MaisLinhas_No phone service',\n",
              "       'MaisLinhas_Yes', 'TemInternet_Fiber optic', 'TemInternet_No',\n",
              "       'ServicoSegurancaOnline_No internet service',\n",
              "       'ServicoSegurancaOnline_Yes', 'ServicoBackupOnline_No internet service',\n",
              "       'ServicoBackupOnline_Yes', 'ServicoProtecaoOnline_No internet service',\n",
              "       'ServicoProtecaoOnline_Yes', 'ServicoSuporteOnline_No internet service',\n",
              "       'ServicoSuporteOnline_Yes', 'ServicoTV_No internet service',\n",
              "       'ServicoTV_Yes', 'ServicoPctFilmes_No internet service',\n",
              "       'ServicoPctFilmes_Yes', 'Contrato_One year', 'Contrato_Two year',\n",
              "       'ContaOnline_Yes', 'MetodoPagamento_Bank transfer (automatic)',\n",
              "       'MetodoPagamento_Credit card (automatic)',\n",
              "       'MetodoPagamento_Electronic check', 'MetodoPagamento_Mailed check'],\n",
              "      dtype='object')"
            ]
          },
          "metadata": {
            "tags": []
          },
          "execution_count": 147
        }
      ]
    },
    {
      "cell_type": "code",
      "metadata": {
        "id": "3FOTSqYTDY2B"
      },
      "source": [
        "explicativas_teste=pd.concat([quantitativas_teste_bining,dummies_teste],\n",
        "                      axis=1)"
      ],
      "execution_count": 148,
      "outputs": []
    },
    {
      "cell_type": "code",
      "metadata": {
        "id": "77S7XzMCDY2E",
        "outputId": "e4193e6e-f1e6-4328-e138-b3a8d1973e41",
        "colab": {
          "base_uri": "https://localhost:8080/",
          "height": 258
        }
      },
      "source": [
        "explicativas_teste.head()"
      ],
      "execution_count": 149,
      "outputs": [
        {
          "output_type": "execute_result",
          "data": {
            "text/html": [
              "<div>\n",
              "<style scoped>\n",
              "    .dataframe tbody tr th:only-of-type {\n",
              "        vertical-align: middle;\n",
              "    }\n",
              "\n",
              "    .dataframe tbody tr th {\n",
              "        vertical-align: top;\n",
              "    }\n",
              "\n",
              "    .dataframe thead th {\n",
              "        text-align: right;\n",
              "    }\n",
              "</style>\n",
              "<table border=\"1\" class=\"dataframe\">\n",
              "  <thead>\n",
              "    <tr style=\"text-align: right;\">\n",
              "      <th></th>\n",
              "      <th>CobrancaMensal</th>\n",
              "      <th>CobrancaTotal_2</th>\n",
              "      <th>MesesNaCompanhia_2</th>\n",
              "      <th>Idoso</th>\n",
              "      <th>genero_Male</th>\n",
              "      <th>TemParceiro_Yes</th>\n",
              "      <th>TemDependentes_No</th>\n",
              "      <th>TemDependentes_Yes</th>\n",
              "      <th>TemTelefone_Yes</th>\n",
              "      <th>MaisLinhas_No phone service</th>\n",
              "      <th>MaisLinhas_Yes</th>\n",
              "      <th>TemInternet_Fiber optic</th>\n",
              "      <th>TemInternet_No</th>\n",
              "      <th>ServicoSegurancaOnline_No internet service</th>\n",
              "      <th>ServicoSegurancaOnline_Yes</th>\n",
              "      <th>ServicoBackupOnline_No internet service</th>\n",
              "      <th>ServicoBackupOnline_Yes</th>\n",
              "      <th>ServicoProtecaoOnline_No internet service</th>\n",
              "      <th>ServicoProtecaoOnline_Yes</th>\n",
              "      <th>ServicoSuporteOnline_No internet service</th>\n",
              "      <th>ServicoSuporteOnline_Yes</th>\n",
              "      <th>ServicoTV_No internet service</th>\n",
              "      <th>ServicoTV_Yes</th>\n",
              "      <th>ServicoPctFilmes_No internet service</th>\n",
              "      <th>ServicoPctFilmes_Yes</th>\n",
              "      <th>Contrato_One year</th>\n",
              "      <th>Contrato_Two year</th>\n",
              "      <th>ContaOnline_Yes</th>\n",
              "      <th>MetodoPagamento_Bank transfer (automatic)</th>\n",
              "      <th>MetodoPagamento_Credit card (automatic)</th>\n",
              "      <th>MetodoPagamento_Electronic check</th>\n",
              "      <th>MetodoPagamento_Mailed check</th>\n",
              "    </tr>\n",
              "  </thead>\n",
              "  <tbody>\n",
              "    <tr>\n",
              "      <th>0</th>\n",
              "      <td>0.00</td>\n",
              "      <td>1.00</td>\n",
              "      <td>2.00</td>\n",
              "      <td>0</td>\n",
              "      <td>1</td>\n",
              "      <td>1</td>\n",
              "      <td>0</td>\n",
              "      <td>1</td>\n",
              "      <td>1</td>\n",
              "      <td>0</td>\n",
              "      <td>0</td>\n",
              "      <td>0</td>\n",
              "      <td>1</td>\n",
              "      <td>1</td>\n",
              "      <td>0</td>\n",
              "      <td>1</td>\n",
              "      <td>0</td>\n",
              "      <td>1</td>\n",
              "      <td>0</td>\n",
              "      <td>1</td>\n",
              "      <td>0</td>\n",
              "      <td>1</td>\n",
              "      <td>0</td>\n",
              "      <td>1</td>\n",
              "      <td>0</td>\n",
              "      <td>1</td>\n",
              "      <td>0</td>\n",
              "      <td>1</td>\n",
              "      <td>0</td>\n",
              "      <td>1</td>\n",
              "      <td>0</td>\n",
              "      <td>0</td>\n",
              "    </tr>\n",
              "    <tr>\n",
              "      <th>1</th>\n",
              "      <td>4.00</td>\n",
              "      <td>4.00</td>\n",
              "      <td>4.00</td>\n",
              "      <td>1</td>\n",
              "      <td>1</td>\n",
              "      <td>1</td>\n",
              "      <td>0</td>\n",
              "      <td>1</td>\n",
              "      <td>1</td>\n",
              "      <td>0</td>\n",
              "      <td>1</td>\n",
              "      <td>1</td>\n",
              "      <td>0</td>\n",
              "      <td>0</td>\n",
              "      <td>0</td>\n",
              "      <td>0</td>\n",
              "      <td>1</td>\n",
              "      <td>0</td>\n",
              "      <td>0</td>\n",
              "      <td>0</td>\n",
              "      <td>0</td>\n",
              "      <td>0</td>\n",
              "      <td>1</td>\n",
              "      <td>0</td>\n",
              "      <td>1</td>\n",
              "      <td>1</td>\n",
              "      <td>0</td>\n",
              "      <td>0</td>\n",
              "      <td>0</td>\n",
              "      <td>0</td>\n",
              "      <td>0</td>\n",
              "      <td>0</td>\n",
              "    </tr>\n",
              "    <tr>\n",
              "      <th>2</th>\n",
              "      <td>3.00</td>\n",
              "      <td>3.00</td>\n",
              "      <td>2.00</td>\n",
              "      <td>0</td>\n",
              "      <td>1</td>\n",
              "      <td>0</td>\n",
              "      <td>1</td>\n",
              "      <td>0</td>\n",
              "      <td>1</td>\n",
              "      <td>0</td>\n",
              "      <td>1</td>\n",
              "      <td>1</td>\n",
              "      <td>0</td>\n",
              "      <td>0</td>\n",
              "      <td>0</td>\n",
              "      <td>0</td>\n",
              "      <td>0</td>\n",
              "      <td>0</td>\n",
              "      <td>0</td>\n",
              "      <td>0</td>\n",
              "      <td>0</td>\n",
              "      <td>0</td>\n",
              "      <td>0</td>\n",
              "      <td>0</td>\n",
              "      <td>1</td>\n",
              "      <td>0</td>\n",
              "      <td>0</td>\n",
              "      <td>1</td>\n",
              "      <td>0</td>\n",
              "      <td>0</td>\n",
              "      <td>1</td>\n",
              "      <td>0</td>\n",
              "    </tr>\n",
              "    <tr>\n",
              "      <th>3</th>\n",
              "      <td>2.00</td>\n",
              "      <td>3.00</td>\n",
              "      <td>4.00</td>\n",
              "      <td>0</td>\n",
              "      <td>0</td>\n",
              "      <td>1</td>\n",
              "      <td>0</td>\n",
              "      <td>1</td>\n",
              "      <td>0</td>\n",
              "      <td>1</td>\n",
              "      <td>0</td>\n",
              "      <td>0</td>\n",
              "      <td>0</td>\n",
              "      <td>0</td>\n",
              "      <td>0</td>\n",
              "      <td>0</td>\n",
              "      <td>1</td>\n",
              "      <td>0</td>\n",
              "      <td>1</td>\n",
              "      <td>0</td>\n",
              "      <td>1</td>\n",
              "      <td>0</td>\n",
              "      <td>1</td>\n",
              "      <td>0</td>\n",
              "      <td>1</td>\n",
              "      <td>0</td>\n",
              "      <td>1</td>\n",
              "      <td>1</td>\n",
              "      <td>1</td>\n",
              "      <td>0</td>\n",
              "      <td>0</td>\n",
              "      <td>0</td>\n",
              "    </tr>\n",
              "    <tr>\n",
              "      <th>4</th>\n",
              "      <td>0.00</td>\n",
              "      <td>1.00</td>\n",
              "      <td>3.00</td>\n",
              "      <td>0</td>\n",
              "      <td>0</td>\n",
              "      <td>0</td>\n",
              "      <td>1</td>\n",
              "      <td>0</td>\n",
              "      <td>1</td>\n",
              "      <td>0</td>\n",
              "      <td>0</td>\n",
              "      <td>0</td>\n",
              "      <td>1</td>\n",
              "      <td>1</td>\n",
              "      <td>0</td>\n",
              "      <td>1</td>\n",
              "      <td>0</td>\n",
              "      <td>1</td>\n",
              "      <td>0</td>\n",
              "      <td>1</td>\n",
              "      <td>0</td>\n",
              "      <td>1</td>\n",
              "      <td>0</td>\n",
              "      <td>1</td>\n",
              "      <td>0</td>\n",
              "      <td>0</td>\n",
              "      <td>1</td>\n",
              "      <td>1</td>\n",
              "      <td>0</td>\n",
              "      <td>0</td>\n",
              "      <td>0</td>\n",
              "      <td>1</td>\n",
              "    </tr>\n",
              "  </tbody>\n",
              "</table>\n",
              "</div>"
            ],
            "text/plain": [
              "   CobrancaMensal  CobrancaTotal_2  MesesNaCompanhia_2  Idoso  genero_Male  \\\n",
              "0            0.00             1.00                2.00      0            1   \n",
              "1            4.00             4.00                4.00      1            1   \n",
              "2            3.00             3.00                2.00      0            1   \n",
              "3            2.00             3.00                4.00      0            0   \n",
              "4            0.00             1.00                3.00      0            0   \n",
              "\n",
              "   TemParceiro_Yes  TemDependentes_No  TemDependentes_Yes  TemTelefone_Yes  \\\n",
              "0                1                  0                   1                1   \n",
              "1                1                  0                   1                1   \n",
              "2                0                  1                   0                1   \n",
              "3                1                  0                   1                0   \n",
              "4                0                  1                   0                1   \n",
              "\n",
              "   MaisLinhas_No phone service  MaisLinhas_Yes  TemInternet_Fiber optic  \\\n",
              "0                            0               0                        0   \n",
              "1                            0               1                        1   \n",
              "2                            0               1                        1   \n",
              "3                            1               0                        0   \n",
              "4                            0               0                        0   \n",
              "\n",
              "   TemInternet_No  ServicoSegurancaOnline_No internet service  \\\n",
              "0               1                                           1   \n",
              "1               0                                           0   \n",
              "2               0                                           0   \n",
              "3               0                                           0   \n",
              "4               1                                           1   \n",
              "\n",
              "   ServicoSegurancaOnline_Yes  ServicoBackupOnline_No internet service  \\\n",
              "0                           0                                        1   \n",
              "1                           0                                        0   \n",
              "2                           0                                        0   \n",
              "3                           0                                        0   \n",
              "4                           0                                        1   \n",
              "\n",
              "   ServicoBackupOnline_Yes  ServicoProtecaoOnline_No internet service  \\\n",
              "0                        0                                          1   \n",
              "1                        1                                          0   \n",
              "2                        0                                          0   \n",
              "3                        1                                          0   \n",
              "4                        0                                          1   \n",
              "\n",
              "   ServicoProtecaoOnline_Yes  ServicoSuporteOnline_No internet service  \\\n",
              "0                          0                                         1   \n",
              "1                          0                                         0   \n",
              "2                          0                                         0   \n",
              "3                          1                                         0   \n",
              "4                          0                                         1   \n",
              "\n",
              "   ServicoSuporteOnline_Yes  ServicoTV_No internet service  ServicoTV_Yes  \\\n",
              "0                         0                              1              0   \n",
              "1                         0                              0              1   \n",
              "2                         0                              0              0   \n",
              "3                         1                              0              1   \n",
              "4                         0                              1              0   \n",
              "\n",
              "   ServicoPctFilmes_No internet service  ServicoPctFilmes_Yes  \\\n",
              "0                                     1                     0   \n",
              "1                                     0                     1   \n",
              "2                                     0                     1   \n",
              "3                                     0                     1   \n",
              "4                                     1                     0   \n",
              "\n",
              "   Contrato_One year  Contrato_Two year  ContaOnline_Yes  \\\n",
              "0                  1                  0                1   \n",
              "1                  1                  0                0   \n",
              "2                  0                  0                1   \n",
              "3                  0                  1                1   \n",
              "4                  0                  1                1   \n",
              "\n",
              "   MetodoPagamento_Bank transfer (automatic)  \\\n",
              "0                                          0   \n",
              "1                                          0   \n",
              "2                                          0   \n",
              "3                                          1   \n",
              "4                                          0   \n",
              "\n",
              "   MetodoPagamento_Credit card (automatic)  MetodoPagamento_Electronic check  \\\n",
              "0                                        1                                 0   \n",
              "1                                        0                                 0   \n",
              "2                                        0                                 1   \n",
              "3                                        0                                 0   \n",
              "4                                        0                                 0   \n",
              "\n",
              "   MetodoPagamento_Mailed check  \n",
              "0                             0  \n",
              "1                             0  \n",
              "2                             0  \n",
              "3                             0  \n",
              "4                             1  "
            ]
          },
          "metadata": {
            "tags": []
          },
          "execution_count": 149
        }
      ]
    },
    {
      "cell_type": "code",
      "metadata": {
        "id": "-vysntCQDY2K",
        "outputId": "7cec5a52-dcd1-42a4-c48a-6c98ddb591b3",
        "colab": {
          "base_uri": "https://localhost:8080/"
        }
      },
      "source": [
        "explicativas_teste.shape"
      ],
      "execution_count": 150,
      "outputs": [
        {
          "output_type": "execute_result",
          "data": {
            "text/plain": [
              "(1409, 32)"
            ]
          },
          "metadata": {
            "tags": []
          },
          "execution_count": 150
        }
      ]
    },
    {
      "cell_type": "code",
      "metadata": {
        "id": "96ylpwxMDY2P",
        "outputId": "e8cbbe66-10a7-4301-eba3-1e9452f2c11d",
        "colab": {
          "base_uri": "https://localhost:8080/"
        }
      },
      "source": [
        "explicativas_teste.isnull().sum()"
      ],
      "execution_count": 151,
      "outputs": [
        {
          "output_type": "execute_result",
          "data": {
            "text/plain": [
              "CobrancaMensal                                0\n",
              "CobrancaTotal_2                               0\n",
              "MesesNaCompanhia_2                            0\n",
              "Idoso                                         0\n",
              "genero_Male                                   0\n",
              "TemParceiro_Yes                               0\n",
              "TemDependentes_No                             0\n",
              "TemDependentes_Yes                            0\n",
              "TemTelefone_Yes                               0\n",
              "MaisLinhas_No phone service                   0\n",
              "MaisLinhas_Yes                                0\n",
              "TemInternet_Fiber optic                       0\n",
              "TemInternet_No                                0\n",
              "ServicoSegurancaOnline_No internet service    0\n",
              "ServicoSegurancaOnline_Yes                    0\n",
              "ServicoBackupOnline_No internet service       0\n",
              "ServicoBackupOnline_Yes                       0\n",
              "ServicoProtecaoOnline_No internet service     0\n",
              "ServicoProtecaoOnline_Yes                     0\n",
              "ServicoSuporteOnline_No internet service      0\n",
              "ServicoSuporteOnline_Yes                      0\n",
              "ServicoTV_No internet service                 0\n",
              "ServicoTV_Yes                                 0\n",
              "ServicoPctFilmes_No internet service          0\n",
              "ServicoPctFilmes_Yes                          0\n",
              "Contrato_One year                             0\n",
              "Contrato_Two year                             0\n",
              "ContaOnline_Yes                               0\n",
              "MetodoPagamento_Bank transfer (automatic)     0\n",
              "MetodoPagamento_Credit card (automatic)       0\n",
              "MetodoPagamento_Electronic check              0\n",
              "MetodoPagamento_Mailed check                  0\n",
              "dtype: int64"
            ]
          },
          "metadata": {
            "tags": []
          },
          "execution_count": 151
        }
      ]
    },
    {
      "cell_type": "code",
      "metadata": {
        "id": "HbA-g90CDY2V"
      },
      "source": [
        "df_id = dados_teste[['id']]"
      ],
      "execution_count": 152,
      "outputs": []
    },
    {
      "cell_type": "code",
      "metadata": {
        "id": "Uno0d0wWDY2Y",
        "outputId": "50b0c5a1-54a3-4663-e4c5-de6b66475f62",
        "colab": {
          "base_uri": "https://localhost:8080/",
          "height": 204
        }
      },
      "source": [
        "df_id.head()"
      ],
      "execution_count": 153,
      "outputs": [
        {
          "output_type": "execute_result",
          "data": {
            "text/html": [
              "<div>\n",
              "<style scoped>\n",
              "    .dataframe tbody tr th:only-of-type {\n",
              "        vertical-align: middle;\n",
              "    }\n",
              "\n",
              "    .dataframe tbody tr th {\n",
              "        vertical-align: top;\n",
              "    }\n",
              "\n",
              "    .dataframe thead th {\n",
              "        text-align: right;\n",
              "    }\n",
              "</style>\n",
              "<table border=\"1\" class=\"dataframe\">\n",
              "  <thead>\n",
              "    <tr style=\"text-align: right;\">\n",
              "      <th></th>\n",
              "      <th>id</th>\n",
              "    </tr>\n",
              "  </thead>\n",
              "  <tbody>\n",
              "    <tr>\n",
              "      <th>0</th>\n",
              "      <td>5027</td>\n",
              "    </tr>\n",
              "    <tr>\n",
              "      <th>1</th>\n",
              "      <td>1733</td>\n",
              "    </tr>\n",
              "    <tr>\n",
              "      <th>2</th>\n",
              "      <td>5384</td>\n",
              "    </tr>\n",
              "    <tr>\n",
              "      <th>3</th>\n",
              "      <td>6554</td>\n",
              "    </tr>\n",
              "    <tr>\n",
              "      <th>4</th>\n",
              "      <td>364</td>\n",
              "    </tr>\n",
              "  </tbody>\n",
              "</table>\n",
              "</div>"
            ],
            "text/plain": [
              "     id\n",
              "0  5027\n",
              "1  1733\n",
              "2  5384\n",
              "3  6554\n",
              "4   364"
            ]
          },
          "metadata": {
            "tags": []
          },
          "execution_count": 153
        }
      ]
    },
    {
      "cell_type": "code",
      "metadata": {
        "id": "q0WONnqDDY2c"
      },
      "source": [
        "import joblib"
      ],
      "execution_count": 154,
      "outputs": []
    },
    {
      "cell_type": "code",
      "metadata": {
        "id": "24F9KSxnDY2f"
      },
      "source": [
        "modelo_salvo = joblib.load(open('modelo_exemplo_gb.pkl', 'rb'))"
      ],
      "execution_count": 155,
      "outputs": []
    },
    {
      "cell_type": "code",
      "metadata": {
        "id": "vGz5SHdyDY2l",
        "outputId": "a764b7be-a6ac-489e-865f-02de9eebd288",
        "colab": {
          "base_uri": "https://localhost:8080/"
        }
      },
      "source": [
        "modelo_salvo"
      ],
      "execution_count": 156,
      "outputs": [
        {
          "output_type": "execute_result",
          "data": {
            "text/plain": [
              "GradientBoostingClassifier(ccp_alpha=0.0, criterion='friedman_mse', init=None,\n",
              "                           learning_rate=0.1, loss='deviance', max_depth=3,\n",
              "                           max_features='log2', max_leaf_nodes=None,\n",
              "                           min_impurity_decrease=0.0, min_impurity_split=None,\n",
              "                           min_samples_leaf=1, min_samples_split=2,\n",
              "                           min_weight_fraction_leaf=0.0, n_estimators=100,\n",
              "                           n_iter_no_change=None, presort='deprecated',\n",
              "                           random_state=1967, subsample=1.0, tol=0.0001,\n",
              "                           validation_fraction=0.1, verbose=0,\n",
              "                           warm_start=False)"
            ]
          },
          "metadata": {
            "tags": []
          },
          "execution_count": 156
        }
      ]
    },
    {
      "cell_type": "code",
      "metadata": {
        "id": "FrmzKlMlDY2p"
      },
      "source": [
        "resposta = modelo_salvo.predict(explicativas_teste)"
      ],
      "execution_count": 157,
      "outputs": []
    },
    {
      "cell_type": "code",
      "metadata": {
        "id": "Fu6unHsdDY2r"
      },
      "source": [
        "resposta_df = pd.DataFrame(resposta, columns=['Churn'])"
      ],
      "execution_count": 158,
      "outputs": []
    },
    {
      "cell_type": "code",
      "metadata": {
        "id": "Kj-k3I9BDY2v",
        "outputId": "d4689399-f6a2-4243-b27a-581227227eda",
        "colab": {
          "base_uri": "https://localhost:8080/",
          "height": 204
        }
      },
      "source": [
        "resposta_df.head()"
      ],
      "execution_count": 159,
      "outputs": [
        {
          "output_type": "execute_result",
          "data": {
            "text/html": [
              "<div>\n",
              "<style scoped>\n",
              "    .dataframe tbody tr th:only-of-type {\n",
              "        vertical-align: middle;\n",
              "    }\n",
              "\n",
              "    .dataframe tbody tr th {\n",
              "        vertical-align: top;\n",
              "    }\n",
              "\n",
              "    .dataframe thead th {\n",
              "        text-align: right;\n",
              "    }\n",
              "</style>\n",
              "<table border=\"1\" class=\"dataframe\">\n",
              "  <thead>\n",
              "    <tr style=\"text-align: right;\">\n",
              "      <th></th>\n",
              "      <th>Churn</th>\n",
              "    </tr>\n",
              "  </thead>\n",
              "  <tbody>\n",
              "    <tr>\n",
              "      <th>0</th>\n",
              "      <td>0</td>\n",
              "    </tr>\n",
              "    <tr>\n",
              "      <th>1</th>\n",
              "      <td>0</td>\n",
              "    </tr>\n",
              "    <tr>\n",
              "      <th>2</th>\n",
              "      <td>1</td>\n",
              "    </tr>\n",
              "    <tr>\n",
              "      <th>3</th>\n",
              "      <td>0</td>\n",
              "    </tr>\n",
              "    <tr>\n",
              "      <th>4</th>\n",
              "      <td>0</td>\n",
              "    </tr>\n",
              "  </tbody>\n",
              "</table>\n",
              "</div>"
            ],
            "text/plain": [
              "   Churn\n",
              "0      0\n",
              "1      0\n",
              "2      1\n",
              "3      0\n",
              "4      0"
            ]
          },
          "metadata": {
            "tags": []
          },
          "execution_count": 159
        }
      ]
    },
    {
      "cell_type": "code",
      "metadata": {
        "id": "lDL9_U93DY2y"
      },
      "source": [
        "resultado_submissao = pd.concat([df_id,\n",
        "                                resposta_df], axis=1)"
      ],
      "execution_count": 160,
      "outputs": []
    },
    {
      "cell_type": "code",
      "metadata": {
        "id": "1oUcCktvDY20",
        "outputId": "26a0b472-d928-473b-add9-5c3ba9ba97b7",
        "colab": {
          "base_uri": "https://localhost:8080/",
          "height": 111
        }
      },
      "source": [
        "resultado_submissao.head().T"
      ],
      "execution_count": 161,
      "outputs": [
        {
          "output_type": "execute_result",
          "data": {
            "text/html": [
              "<div>\n",
              "<style scoped>\n",
              "    .dataframe tbody tr th:only-of-type {\n",
              "        vertical-align: middle;\n",
              "    }\n",
              "\n",
              "    .dataframe tbody tr th {\n",
              "        vertical-align: top;\n",
              "    }\n",
              "\n",
              "    .dataframe thead th {\n",
              "        text-align: right;\n",
              "    }\n",
              "</style>\n",
              "<table border=\"1\" class=\"dataframe\">\n",
              "  <thead>\n",
              "    <tr style=\"text-align: right;\">\n",
              "      <th></th>\n",
              "      <th>0</th>\n",
              "      <th>1</th>\n",
              "      <th>2</th>\n",
              "      <th>3</th>\n",
              "      <th>4</th>\n",
              "    </tr>\n",
              "  </thead>\n",
              "  <tbody>\n",
              "    <tr>\n",
              "      <th>id</th>\n",
              "      <td>5027</td>\n",
              "      <td>1733</td>\n",
              "      <td>5384</td>\n",
              "      <td>6554</td>\n",
              "      <td>364</td>\n",
              "    </tr>\n",
              "    <tr>\n",
              "      <th>Churn</th>\n",
              "      <td>0</td>\n",
              "      <td>0</td>\n",
              "      <td>1</td>\n",
              "      <td>0</td>\n",
              "      <td>0</td>\n",
              "    </tr>\n",
              "  </tbody>\n",
              "</table>\n",
              "</div>"
            ],
            "text/plain": [
              "          0     1     2     3    4\n",
              "id     5027  1733  5384  6554  364\n",
              "Churn     0     0     1     0    0"
            ]
          },
          "metadata": {
            "tags": []
          },
          "execution_count": 161
        }
      ]
    },
    {
      "cell_type": "code",
      "metadata": {
        "id": "oIPn6it5DY24"
      },
      "source": [
        "resultado_submissao.to_csv('submissao_kaggle_2.csv', index=False)"
      ],
      "execution_count": 162,
      "outputs": []
    },
    {
      "cell_type": "code",
      "metadata": {
        "id": "FzDFbv1QDY26"
      },
      "source": [
        "csv = pd.read_csv('submissao_kaggle_2.csv',sep=',')"
      ],
      "execution_count": 163,
      "outputs": []
    },
    {
      "cell_type": "code",
      "metadata": {
        "id": "eSl40wuoDY28",
        "outputId": "823ef9f0-669c-486a-e440-313241caffe4",
        "colab": {
          "base_uri": "https://localhost:8080/",
          "height": 204
        }
      },
      "source": [
        "csv.head()"
      ],
      "execution_count": 164,
      "outputs": [
        {
          "output_type": "execute_result",
          "data": {
            "text/html": [
              "<div>\n",
              "<style scoped>\n",
              "    .dataframe tbody tr th:only-of-type {\n",
              "        vertical-align: middle;\n",
              "    }\n",
              "\n",
              "    .dataframe tbody tr th {\n",
              "        vertical-align: top;\n",
              "    }\n",
              "\n",
              "    .dataframe thead th {\n",
              "        text-align: right;\n",
              "    }\n",
              "</style>\n",
              "<table border=\"1\" class=\"dataframe\">\n",
              "  <thead>\n",
              "    <tr style=\"text-align: right;\">\n",
              "      <th></th>\n",
              "      <th>id</th>\n",
              "      <th>Churn</th>\n",
              "    </tr>\n",
              "  </thead>\n",
              "  <tbody>\n",
              "    <tr>\n",
              "      <th>0</th>\n",
              "      <td>5027</td>\n",
              "      <td>0</td>\n",
              "    </tr>\n",
              "    <tr>\n",
              "      <th>1</th>\n",
              "      <td>1733</td>\n",
              "      <td>0</td>\n",
              "    </tr>\n",
              "    <tr>\n",
              "      <th>2</th>\n",
              "      <td>5384</td>\n",
              "      <td>1</td>\n",
              "    </tr>\n",
              "    <tr>\n",
              "      <th>3</th>\n",
              "      <td>6554</td>\n",
              "      <td>0</td>\n",
              "    </tr>\n",
              "    <tr>\n",
              "      <th>4</th>\n",
              "      <td>364</td>\n",
              "      <td>0</td>\n",
              "    </tr>\n",
              "  </tbody>\n",
              "</table>\n",
              "</div>"
            ],
            "text/plain": [
              "     id  Churn\n",
              "0  5027      0\n",
              "1  1733      0\n",
              "2  5384      1\n",
              "3  6554      0\n",
              "4   364      0"
            ]
          },
          "metadata": {
            "tags": []
          },
          "execution_count": 164
        }
      ]
    },
    {
      "cell_type": "code",
      "metadata": {
        "id": "GagY8c0cDY3B"
      },
      "source": [
        ""
      ],
      "execution_count": null,
      "outputs": []
    },
    {
      "cell_type": "code",
      "metadata": {
        "id": "8-7T3f1KDY3E"
      },
      "source": [
        ""
      ],
      "execution_count": null,
      "outputs": []
    },
    {
      "cell_type": "code",
      "metadata": {
        "id": "0EVFtRk8DY3H"
      },
      "source": [
        ""
      ],
      "execution_count": null,
      "outputs": []
    }
  ]
}