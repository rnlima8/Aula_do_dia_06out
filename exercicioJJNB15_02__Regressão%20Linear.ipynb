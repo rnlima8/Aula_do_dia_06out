{
  "nbformat": 4,
  "nbformat_minor": 0,
  "metadata": {
    "kernelspec": {
      "display_name": "Python 3",
      "language": "python",
      "name": "python3"
    },
    "language_info": {
      "codemirror_mode": {
        "name": "ipython",
        "version": 3
      },
      "file_extension": ".py",
      "mimetype": "text/x-python",
      "name": "python",
      "nbconvert_exporter": "python",
      "pygments_lexer": "ipython3",
      "version": "3.6.1"
    },
    "colab": {
      "name": "Cópia de NB15_02__Regressão Linear.ipynb",
      "provenance": [],
      "include_colab_link": true
    }
  },
  "cells": [
    {
      "cell_type": "markdown",
      "metadata": {
        "id": "view-in-github",
        "colab_type": "text"
      },
      "source": [
        "<a href=\"https://colab.research.google.com/github/rnlima8/Aula_do_dia_06out/blob/main/exercicioJJNB15_02__Regress%C3%A3o%2520Linear.ipynb\" target=\"_parent\"><img src=\"https://colab.research.google.com/assets/colab-badge.svg\" alt=\"Open In Colab\"/></a>"
      ]
    },
    {
      "cell_type": "markdown",
      "metadata": {
        "id": "XwQDhId7N6_r"
      },
      "source": [
        "<center><h1><b><i>MACHINE LEARNING WITH PYTHON</i></b></h1></center>\n",
        "<center><h1><b><i>APRENDIZAGEM SUPERVISIONADA</i></b></h1></center>\n",
        "<center><h1><b><i>MODELOS DE REGRESSÃO (LINEAR E LOGÍSTICA)</i></b></h1></center>\n",
        "\n",
        "Fonte: https://realpython.com/linear-regression-in-python/"
      ]
    },
    {
      "cell_type": "markdown",
      "metadata": {
        "id": "PN-dQFJcM1UV"
      },
      "source": [
        "Passos para implementação da Regressão Linear:\n",
        "\n",
        "* (1) Importar as libraries necessárias;\n",
        "* (2) Carregar os dados;\n",
        "* (3) Aplicar as transformações necessárias: outliers, NaN's, normalização (MinMaxScaler, RobustScaler, StandarScaler, Log, Box-Cox e etc);\n",
        "* (4) Construir e treinar o modelo preditivo (neste caso, modelo de regressão);\n",
        "* (5) Validar/verificar as métricas para avaliação do(s) modelo(s);\n",
        "* (6) Predições."
      ]
    },
    {
      "cell_type": "markdown",
      "metadata": {
        "id": "8TldGZxAFV5E"
      },
      "source": [
        ""
      ]
    },
    {
      "cell_type": "markdown",
      "metadata": {
        "id": "0QRbxlqaq7pr"
      },
      "source": [
        "# Melhorias da sessão:\n",
        "* "
      ]
    },
    {
      "cell_type": "markdown",
      "metadata": {
        "id": "P4sAIblOgFyL"
      },
      "source": [
        "# Modelos de Regressão com Regularization para Classificação e Regressão"
      ]
    },
    {
      "cell_type": "markdown",
      "metadata": {
        "id": "o7Y7cuJNgFyU"
      },
      "source": [
        "## Regressão Linear Simples (usando OLS - Ordinary Least Squares)\n",
        "\n",
        "* Features $X_{np}$: é uma matriz de dimensão nxp;\n",
        "* Variável target/dependente representada por y;\n",
        "* Relação entre X e y é representado pela equação abaixo, onde $w_{i}$ representa os pesos de cada coeficiente e $w_{0}$ representa o intercepto."
      ]
    },
    {
      "cell_type": "markdown",
      "metadata": {
        "id": "NpJ580y9gFyU"
      },
      "source": [
        "<img src=\"https://github.com/awantik/machine-learning-slides/blob/master/lm1.PNG?raw=true\" width=\"300\">\n",
        "\n",
        "![X_y](https://github.com/MathMachado/Materials/blob/master/Architecture.png?raw=true)"
      ]
    },
    {
      "cell_type": "markdown",
      "metadata": {
        "id": "5rhbVGJ0gFyY"
      },
      "source": [
        "* Soma de Quadrados dos Resíduos (RSS) - Soma de Quadrados das diferenças entre os valores observados e preditos.\n",
        "\n",
        "<img src=\"https://github.com/awantik/machine-learning-slides/blob/master/lm2.PNG?raw=true\" width=\"500\">"
      ]
    },
    {
      "cell_type": "markdown",
      "metadata": {
        "id": "u8gA0YkbgFyp"
      },
      "source": [
        "## Principais parâmetros do algoritmo:\n",
        "* fit_intercept - Indica se o intercepto $w_{0}$ deve ou não ser ajustado. Se os dados estão normalizados, então não faz sentido ajustar o intercepto $w_{0}$.\n",
        "\n",
        "* normalize - $X$ será automaticamente normalizada (subtrai a média e divide pelo desvio-padrão);\n",
        "\n",
        "## Atributos do modelo de Machine Learning para Regressão\n",
        "* coef - peso/fator de cada variável independente do modelo de ML;\n",
        "\n",
        "* intercepto $w_{0}$ - intercepto ou viés de $y$;\n",
        "\n",
        "## Funções para ajuste do ML:\n",
        "* fit - treina o modelo com as matrizes $X$ e $y$;\n",
        "* predict - Uma vez que o modelo foi treinado, para um dado $X$, use $y$ para calcular os valores preditos de $y$ (y_pred).\n",
        "\n",
        "<hr/>"
      ]
    },
    {
      "cell_type": "markdown",
      "metadata": {
        "id": "A-JG8El1gFy7"
      },
      "source": [
        "# Limitações do OLS:\n",
        "* Impactado/sensível à Outliers;\n",
        "* Multicolinearidade; \n",
        "* Heterocedasticidade - apresenta-se como uma forte dispersão dos dados em torno de uma reta;\n",
        "\n",
        "* <a href=\"http://www.clockbackward.com/2009/06/18/ordinary-least-squares-linear-regression-flaws-problems-and-pitfalls/\">References</a>"
      ]
    },
    {
      "cell_type": "markdown",
      "metadata": {
        "id": "xylMYR8COyrw"
      },
      "source": [
        "### Importar as libraries"
      ]
    },
    {
      "cell_type": "code",
      "metadata": {
        "id": "2BGgrILlPK6Z"
      },
      "source": [
        "import numpy as np\n",
        "from numpy import quantile\n",
        "import pandas as pd\n",
        "from scipy import stats\n",
        "from sklearn.preprocessing import MinMaxScaler"
      ],
      "execution_count": null,
      "outputs": []
    },
    {
      "cell_type": "markdown",
      "metadata": {
        "id": "263GgbwhO2kQ"
      },
      "source": [
        "### Carregar os dados\n",
        "* Vamos carregar o dataset [Boston House Pricing](https://archive.ics.uci.edu/ml/datasets/housing)"
      ]
    },
    {
      "cell_type": "code",
      "metadata": {
        "id": "5HzVENPpLrHG"
      },
      "source": [
        "from sklearn.datasets import load_boston"
      ],
      "execution_count": null,
      "outputs": []
    },
    {
      "cell_type": "code",
      "metadata": {
        "id": "g2WoVKwkPYEd",
        "outputId": "498ad009-ef3b-4cd0-f19c-439a88eba527",
        "colab": {
          "base_uri": "https://localhost:8080/",
          "height": 195
        }
      },
      "source": [
        "#url = 'https://raw.githubusercontent.com/MathMachado/DSWP/master/Dataframes/housing.csv'\n",
        "\n",
        "# Variáveis preditoras\n",
        "df_boston = pd.DataFrame(load_boston().data, columns = load_boston().feature_names)\n",
        "df_boston['preco'] = load_boston().target\n",
        "df_boston.head()"
      ],
      "execution_count": null,
      "outputs": [
        {
          "output_type": "execute_result",
          "data": {
            "text/html": [
              "<div>\n",
              "<style scoped>\n",
              "    .dataframe tbody tr th:only-of-type {\n",
              "        vertical-align: middle;\n",
              "    }\n",
              "\n",
              "    .dataframe tbody tr th {\n",
              "        vertical-align: top;\n",
              "    }\n",
              "\n",
              "    .dataframe thead th {\n",
              "        text-align: right;\n",
              "    }\n",
              "</style>\n",
              "<table border=\"1\" class=\"dataframe\">\n",
              "  <thead>\n",
              "    <tr style=\"text-align: right;\">\n",
              "      <th></th>\n",
              "      <th>CRIM</th>\n",
              "      <th>ZN</th>\n",
              "      <th>INDUS</th>\n",
              "      <th>CHAS</th>\n",
              "      <th>NOX</th>\n",
              "      <th>RM</th>\n",
              "      <th>AGE</th>\n",
              "      <th>DIS</th>\n",
              "      <th>RAD</th>\n",
              "      <th>TAX</th>\n",
              "      <th>PTRATIO</th>\n",
              "      <th>B</th>\n",
              "      <th>LSTAT</th>\n",
              "      <th>preco</th>\n",
              "    </tr>\n",
              "  </thead>\n",
              "  <tbody>\n",
              "    <tr>\n",
              "      <th>0</th>\n",
              "      <td>0.00632</td>\n",
              "      <td>18.0</td>\n",
              "      <td>2.31</td>\n",
              "      <td>0.0</td>\n",
              "      <td>0.538</td>\n",
              "      <td>6.575</td>\n",
              "      <td>65.2</td>\n",
              "      <td>4.0900</td>\n",
              "      <td>1.0</td>\n",
              "      <td>296.0</td>\n",
              "      <td>15.3</td>\n",
              "      <td>396.90</td>\n",
              "      <td>4.98</td>\n",
              "      <td>24.0</td>\n",
              "    </tr>\n",
              "    <tr>\n",
              "      <th>1</th>\n",
              "      <td>0.02731</td>\n",
              "      <td>0.0</td>\n",
              "      <td>7.07</td>\n",
              "      <td>0.0</td>\n",
              "      <td>0.469</td>\n",
              "      <td>6.421</td>\n",
              "      <td>78.9</td>\n",
              "      <td>4.9671</td>\n",
              "      <td>2.0</td>\n",
              "      <td>242.0</td>\n",
              "      <td>17.8</td>\n",
              "      <td>396.90</td>\n",
              "      <td>9.14</td>\n",
              "      <td>21.6</td>\n",
              "    </tr>\n",
              "    <tr>\n",
              "      <th>2</th>\n",
              "      <td>0.02729</td>\n",
              "      <td>0.0</td>\n",
              "      <td>7.07</td>\n",
              "      <td>0.0</td>\n",
              "      <td>0.469</td>\n",
              "      <td>7.185</td>\n",
              "      <td>61.1</td>\n",
              "      <td>4.9671</td>\n",
              "      <td>2.0</td>\n",
              "      <td>242.0</td>\n",
              "      <td>17.8</td>\n",
              "      <td>392.83</td>\n",
              "      <td>4.03</td>\n",
              "      <td>34.7</td>\n",
              "    </tr>\n",
              "    <tr>\n",
              "      <th>3</th>\n",
              "      <td>0.03237</td>\n",
              "      <td>0.0</td>\n",
              "      <td>2.18</td>\n",
              "      <td>0.0</td>\n",
              "      <td>0.458</td>\n",
              "      <td>6.998</td>\n",
              "      <td>45.8</td>\n",
              "      <td>6.0622</td>\n",
              "      <td>3.0</td>\n",
              "      <td>222.0</td>\n",
              "      <td>18.7</td>\n",
              "      <td>394.63</td>\n",
              "      <td>2.94</td>\n",
              "      <td>33.4</td>\n",
              "    </tr>\n",
              "    <tr>\n",
              "      <th>4</th>\n",
              "      <td>0.06905</td>\n",
              "      <td>0.0</td>\n",
              "      <td>2.18</td>\n",
              "      <td>0.0</td>\n",
              "      <td>0.458</td>\n",
              "      <td>7.147</td>\n",
              "      <td>54.2</td>\n",
              "      <td>6.0622</td>\n",
              "      <td>3.0</td>\n",
              "      <td>222.0</td>\n",
              "      <td>18.7</td>\n",
              "      <td>396.90</td>\n",
              "      <td>5.33</td>\n",
              "      <td>36.2</td>\n",
              "    </tr>\n",
              "  </tbody>\n",
              "</table>\n",
              "</div>"
            ],
            "text/plain": [
              "      CRIM    ZN  INDUS  CHAS    NOX  ...    TAX  PTRATIO       B  LSTAT  preco\n",
              "0  0.00632  18.0   2.31   0.0  0.538  ...  296.0     15.3  396.90   4.98   24.0\n",
              "1  0.02731   0.0   7.07   0.0  0.469  ...  242.0     17.8  396.90   9.14   21.6\n",
              "2  0.02729   0.0   7.07   0.0  0.469  ...  242.0     17.8  392.83   4.03   34.7\n",
              "3  0.03237   0.0   2.18   0.0  0.458  ...  222.0     18.7  394.63   2.94   33.4\n",
              "4  0.06905   0.0   2.18   0.0  0.458  ...  222.0     18.7  396.90   5.33   36.2\n",
              "\n",
              "[5 rows x 14 columns]"
            ]
          },
          "metadata": {
            "tags": []
          },
          "execution_count": 6
        }
      ]
    },
    {
      "cell_type": "code",
      "metadata": {
        "id": "A6L9BA5rMOT8",
        "outputId": "8245a8ad-b7be-490a-a58c-56e1240f1954",
        "colab": {
          "base_uri": "https://localhost:8080/",
          "height": 67
        }
      },
      "source": [
        "#normalizando as features\n",
        "df_boston.columns"
      ],
      "execution_count": null,
      "outputs": [
        {
          "output_type": "execute_result",
          "data": {
            "text/plain": [
              "Index(['CRIM', 'ZN', 'INDUS', 'CHAS', 'NOX', 'RM', 'AGE', 'DIS', 'RAD', 'TAX',\n",
              "       'PTRATIO', 'B', 'LSTAT', 'preco'],\n",
              "      dtype='object')"
            ]
          },
          "metadata": {
            "tags": []
          },
          "execution_count": 7
        }
      ]
    },
    {
      "cell_type": "code",
      "metadata": {
        "id": "uqG_mwFGMOQn",
        "outputId": "5f9e411c-19b9-4e96-909b-cb52ce7ec557",
        "colab": {
          "base_uri": "https://localhost:8080/",
          "height": 195
        }
      },
      "source": [
        "#normalização das colunas\n",
        "df_boston.columns= [cols.lower() for cols in df_boston.columns]\n",
        "df_boston.head()"
      ],
      "execution_count": null,
      "outputs": [
        {
          "output_type": "execute_result",
          "data": {
            "text/html": [
              "<div>\n",
              "<style scoped>\n",
              "    .dataframe tbody tr th:only-of-type {\n",
              "        vertical-align: middle;\n",
              "    }\n",
              "\n",
              "    .dataframe tbody tr th {\n",
              "        vertical-align: top;\n",
              "    }\n",
              "\n",
              "    .dataframe thead th {\n",
              "        text-align: right;\n",
              "    }\n",
              "</style>\n",
              "<table border=\"1\" class=\"dataframe\">\n",
              "  <thead>\n",
              "    <tr style=\"text-align: right;\">\n",
              "      <th></th>\n",
              "      <th>crim</th>\n",
              "      <th>zn</th>\n",
              "      <th>indus</th>\n",
              "      <th>chas</th>\n",
              "      <th>nox</th>\n",
              "      <th>rm</th>\n",
              "      <th>age</th>\n",
              "      <th>dis</th>\n",
              "      <th>rad</th>\n",
              "      <th>tax</th>\n",
              "      <th>ptratio</th>\n",
              "      <th>b</th>\n",
              "      <th>lstat</th>\n",
              "      <th>preco</th>\n",
              "    </tr>\n",
              "  </thead>\n",
              "  <tbody>\n",
              "    <tr>\n",
              "      <th>0</th>\n",
              "      <td>0.00632</td>\n",
              "      <td>18.0</td>\n",
              "      <td>2.31</td>\n",
              "      <td>0.0</td>\n",
              "      <td>0.538</td>\n",
              "      <td>6.575</td>\n",
              "      <td>65.2</td>\n",
              "      <td>4.0900</td>\n",
              "      <td>1.0</td>\n",
              "      <td>296.0</td>\n",
              "      <td>15.3</td>\n",
              "      <td>396.90</td>\n",
              "      <td>4.98</td>\n",
              "      <td>24.0</td>\n",
              "    </tr>\n",
              "    <tr>\n",
              "      <th>1</th>\n",
              "      <td>0.02731</td>\n",
              "      <td>0.0</td>\n",
              "      <td>7.07</td>\n",
              "      <td>0.0</td>\n",
              "      <td>0.469</td>\n",
              "      <td>6.421</td>\n",
              "      <td>78.9</td>\n",
              "      <td>4.9671</td>\n",
              "      <td>2.0</td>\n",
              "      <td>242.0</td>\n",
              "      <td>17.8</td>\n",
              "      <td>396.90</td>\n",
              "      <td>9.14</td>\n",
              "      <td>21.6</td>\n",
              "    </tr>\n",
              "    <tr>\n",
              "      <th>2</th>\n",
              "      <td>0.02729</td>\n",
              "      <td>0.0</td>\n",
              "      <td>7.07</td>\n",
              "      <td>0.0</td>\n",
              "      <td>0.469</td>\n",
              "      <td>7.185</td>\n",
              "      <td>61.1</td>\n",
              "      <td>4.9671</td>\n",
              "      <td>2.0</td>\n",
              "      <td>242.0</td>\n",
              "      <td>17.8</td>\n",
              "      <td>392.83</td>\n",
              "      <td>4.03</td>\n",
              "      <td>34.7</td>\n",
              "    </tr>\n",
              "    <tr>\n",
              "      <th>3</th>\n",
              "      <td>0.03237</td>\n",
              "      <td>0.0</td>\n",
              "      <td>2.18</td>\n",
              "      <td>0.0</td>\n",
              "      <td>0.458</td>\n",
              "      <td>6.998</td>\n",
              "      <td>45.8</td>\n",
              "      <td>6.0622</td>\n",
              "      <td>3.0</td>\n",
              "      <td>222.0</td>\n",
              "      <td>18.7</td>\n",
              "      <td>394.63</td>\n",
              "      <td>2.94</td>\n",
              "      <td>33.4</td>\n",
              "    </tr>\n",
              "    <tr>\n",
              "      <th>4</th>\n",
              "      <td>0.06905</td>\n",
              "      <td>0.0</td>\n",
              "      <td>2.18</td>\n",
              "      <td>0.0</td>\n",
              "      <td>0.458</td>\n",
              "      <td>7.147</td>\n",
              "      <td>54.2</td>\n",
              "      <td>6.0622</td>\n",
              "      <td>3.0</td>\n",
              "      <td>222.0</td>\n",
              "      <td>18.7</td>\n",
              "      <td>396.90</td>\n",
              "      <td>5.33</td>\n",
              "      <td>36.2</td>\n",
              "    </tr>\n",
              "  </tbody>\n",
              "</table>\n",
              "</div>"
            ],
            "text/plain": [
              "      crim    zn  indus  chas    nox  ...    tax  ptratio       b  lstat  preco\n",
              "0  0.00632  18.0   2.31   0.0  0.538  ...  296.0     15.3  396.90   4.98   24.0\n",
              "1  0.02731   0.0   7.07   0.0  0.469  ...  242.0     17.8  396.90   9.14   21.6\n",
              "2  0.02729   0.0   7.07   0.0  0.469  ...  242.0     17.8  392.83   4.03   34.7\n",
              "3  0.03237   0.0   2.18   0.0  0.458  ...  222.0     18.7  394.63   2.94   33.4\n",
              "4  0.06905   0.0   2.18   0.0  0.458  ...  222.0     18.7  396.90   5.33   36.2\n",
              "\n",
              "[5 rows x 14 columns]"
            ]
          },
          "metadata": {
            "tags": []
          },
          "execution_count": 140
        }
      ]
    },
    {
      "cell_type": "code",
      "metadata": {
        "id": "7VKncow9MOW0",
        "outputId": "bb94d84e-fa84-4233-fcc3-77421736621b",
        "colab": {
          "base_uri": "https://localhost:8080/",
          "height": 269
        }
      },
      "source": [
        "#check a somatória de NAN \n",
        "df_boston.isna().sum()"
      ],
      "execution_count": null,
      "outputs": [
        {
          "output_type": "execute_result",
          "data": {
            "text/plain": [
              "crim       0\n",
              "zn         0\n",
              "indus      0\n",
              "chas       0\n",
              "nox        0\n",
              "rm         0\n",
              "age        0\n",
              "dis        0\n",
              "rad        0\n",
              "tax        0\n",
              "ptratio    0\n",
              "b          0\n",
              "lstat      0\n",
              "preco      0\n",
              "dtype: int64"
            ]
          },
          "metadata": {
            "tags": []
          },
          "execution_count": 10
        }
      ]
    },
    {
      "cell_type": "code",
      "metadata": {
        "id": "JdpZ4FjSMOaW",
        "outputId": "183b8dd5-d25e-4bc5-ff0f-a565ff658fdb",
        "colab": {
          "base_uri": "https://localhost:8080/",
          "height": 371
        }
      },
      "source": [
        "#check nas features antes da transfromação\n",
        "df_boston.plot(kind = 'box', showmeans = True, meanline = True, grid = True\n",
        "             , figsize = (20,7), vert = False, ylabel = 'Features'\n",
        "             , xticks =(0,5,10,20,35,50, 80, 100, 200, 300, 400, 600, 700))"
      ],
      "execution_count": null,
      "outputs": [
        {
          "output_type": "execute_result",
          "data": {
            "text/plain": [
              "<matplotlib.axes._subplots.AxesSubplot at 0x7fb0fa781ef0>"
            ]
          },
          "metadata": {
            "tags": []
          },
          "execution_count": 56
        },
        {
          "output_type": "display_data",
          "data": {
            "image/png": "[encoded data removed]",
            "text/plain": [
              "<Figure size 1440x504 with 1 Axes>"
            ]
          },
          "metadata": {
            "tags": [],
            "needs_background": "light"
          }
        }
      ]
    },
    {
      "cell_type": "code",
      "metadata": {
        "id": "4D6azV5EObZe",
        "outputId": "3bf9a784-ca7b-4a21-936c-d696e4c9ebcf",
        "colab": {
          "base_uri": "https://localhost:8080/",
          "height": 500
        }
      },
      "source": [
        "df_boston.plot(kind = 'kde', figsize = (6,8))"
      ],
      "execution_count": null,
      "outputs": [
        {
          "output_type": "execute_result",
          "data": {
            "text/plain": [
              "<matplotlib.axes._subplots.AxesSubplot at 0x7fb0fa14bbe0>"
            ]
          },
          "metadata": {
            "tags": []
          },
          "execution_count": 63
        },
        {
          "output_type": "display_data",
          "data": {
            "image/png": "[encoded data removed]",
            "text/plain": [
              "<Figure size 432x576 with 1 Axes>"
            ]
          },
          "metadata": {
            "tags": [],
            "needs_background": "light"
          }
        }
      ]
    },
    {
      "cell_type": "code",
      "metadata": {
        "id": "Cvvtyt0cvFkv",
        "outputId": "f5a762b1-226d-4a6e-d71f-6e837068b4ed",
        "colab": {
          "base_uri": "https://localhost:8080/",
          "height": 304
        }
      },
      "source": [
        "df_boston.describe()\n"
      ],
      "execution_count": null,
      "outputs": [
        {
          "output_type": "execute_result",
          "data": {
            "text/html": [
              "<div>\n",
              "<style scoped>\n",
              "    .dataframe tbody tr th:only-of-type {\n",
              "        vertical-align: middle;\n",
              "    }\n",
              "\n",
              "    .dataframe tbody tr th {\n",
              "        vertical-align: top;\n",
              "    }\n",
              "\n",
              "    .dataframe thead th {\n",
              "        text-align: right;\n",
              "    }\n",
              "</style>\n",
              "<table border=\"1\" class=\"dataframe\">\n",
              "  <thead>\n",
              "    <tr style=\"text-align: right;\">\n",
              "      <th></th>\n",
              "      <th>crim</th>\n",
              "      <th>zn</th>\n",
              "      <th>indus</th>\n",
              "      <th>chas</th>\n",
              "      <th>nox</th>\n",
              "      <th>rm</th>\n",
              "      <th>age</th>\n",
              "      <th>dis</th>\n",
              "      <th>rad</th>\n",
              "      <th>tax</th>\n",
              "      <th>ptratio</th>\n",
              "      <th>b</th>\n",
              "      <th>lstat</th>\n",
              "      <th>preco</th>\n",
              "    </tr>\n",
              "  </thead>\n",
              "  <tbody>\n",
              "    <tr>\n",
              "      <th>count</th>\n",
              "      <td>506.000000</td>\n",
              "      <td>506.000000</td>\n",
              "      <td>506.000000</td>\n",
              "      <td>506.000000</td>\n",
              "      <td>506.000000</td>\n",
              "      <td>506.000000</td>\n",
              "      <td>506.000000</td>\n",
              "      <td>506.000000</td>\n",
              "      <td>506.000000</td>\n",
              "      <td>506.000000</td>\n",
              "      <td>506.000000</td>\n",
              "      <td>506.000000</td>\n",
              "      <td>506.000000</td>\n",
              "      <td>506.000000</td>\n",
              "    </tr>\n",
              "    <tr>\n",
              "      <th>mean</th>\n",
              "      <td>3.613524</td>\n",
              "      <td>11.363636</td>\n",
              "      <td>11.136779</td>\n",
              "      <td>0.069170</td>\n",
              "      <td>0.554695</td>\n",
              "      <td>6.284634</td>\n",
              "      <td>68.574901</td>\n",
              "      <td>3.795043</td>\n",
              "      <td>9.549407</td>\n",
              "      <td>408.237154</td>\n",
              "      <td>18.455534</td>\n",
              "      <td>356.674032</td>\n",
              "      <td>12.653063</td>\n",
              "      <td>22.532806</td>\n",
              "    </tr>\n",
              "    <tr>\n",
              "      <th>std</th>\n",
              "      <td>8.601545</td>\n",
              "      <td>23.322453</td>\n",
              "      <td>6.860353</td>\n",
              "      <td>0.253994</td>\n",
              "      <td>0.115878</td>\n",
              "      <td>0.702617</td>\n",
              "      <td>28.148861</td>\n",
              "      <td>2.105710</td>\n",
              "      <td>8.707259</td>\n",
              "      <td>168.537116</td>\n",
              "      <td>2.164946</td>\n",
              "      <td>91.294864</td>\n",
              "      <td>7.141062</td>\n",
              "      <td>9.197104</td>\n",
              "    </tr>\n",
              "    <tr>\n",
              "      <th>min</th>\n",
              "      <td>0.006320</td>\n",
              "      <td>0.000000</td>\n",
              "      <td>0.460000</td>\n",
              "      <td>0.000000</td>\n",
              "      <td>0.385000</td>\n",
              "      <td>3.561000</td>\n",
              "      <td>2.900000</td>\n",
              "      <td>1.129600</td>\n",
              "      <td>1.000000</td>\n",
              "      <td>187.000000</td>\n",
              "      <td>12.600000</td>\n",
              "      <td>0.320000</td>\n",
              "      <td>1.730000</td>\n",
              "      <td>5.000000</td>\n",
              "    </tr>\n",
              "    <tr>\n",
              "      <th>25%</th>\n",
              "      <td>0.082045</td>\n",
              "      <td>0.000000</td>\n",
              "      <td>5.190000</td>\n",
              "      <td>0.000000</td>\n",
              "      <td>0.449000</td>\n",
              "      <td>5.885500</td>\n",
              "      <td>45.025000</td>\n",
              "      <td>2.100175</td>\n",
              "      <td>4.000000</td>\n",
              "      <td>279.000000</td>\n",
              "      <td>17.400000</td>\n",
              "      <td>375.377500</td>\n",
              "      <td>6.950000</td>\n",
              "      <td>17.025000</td>\n",
              "    </tr>\n",
              "    <tr>\n",
              "      <th>50%</th>\n",
              "      <td>0.256510</td>\n",
              "      <td>0.000000</td>\n",
              "      <td>9.690000</td>\n",
              "      <td>0.000000</td>\n",
              "      <td>0.538000</td>\n",
              "      <td>6.208500</td>\n",
              "      <td>77.500000</td>\n",
              "      <td>3.207450</td>\n",
              "      <td>5.000000</td>\n",
              "      <td>330.000000</td>\n",
              "      <td>19.050000</td>\n",
              "      <td>391.440000</td>\n",
              "      <td>11.360000</td>\n",
              "      <td>21.200000</td>\n",
              "    </tr>\n",
              "    <tr>\n",
              "      <th>75%</th>\n",
              "      <td>3.677083</td>\n",
              "      <td>12.500000</td>\n",
              "      <td>18.100000</td>\n",
              "      <td>0.000000</td>\n",
              "      <td>0.624000</td>\n",
              "      <td>6.623500</td>\n",
              "      <td>94.075000</td>\n",
              "      <td>5.188425</td>\n",
              "      <td>24.000000</td>\n",
              "      <td>666.000000</td>\n",
              "      <td>20.200000</td>\n",
              "      <td>396.225000</td>\n",
              "      <td>16.955000</td>\n",
              "      <td>25.000000</td>\n",
              "    </tr>\n",
              "    <tr>\n",
              "      <th>max</th>\n",
              "      <td>88.976200</td>\n",
              "      <td>100.000000</td>\n",
              "      <td>27.740000</td>\n",
              "      <td>1.000000</td>\n",
              "      <td>0.871000</td>\n",
              "      <td>8.780000</td>\n",
              "      <td>100.000000</td>\n",
              "      <td>12.126500</td>\n",
              "      <td>24.000000</td>\n",
              "      <td>711.000000</td>\n",
              "      <td>22.000000</td>\n",
              "      <td>396.900000</td>\n",
              "      <td>37.970000</td>\n",
              "      <td>50.000000</td>\n",
              "    </tr>\n",
              "  </tbody>\n",
              "</table>\n",
              "</div>"
            ],
            "text/plain": [
              "             crim          zn       indus  ...           b       lstat       preco\n",
              "count  506.000000  506.000000  506.000000  ...  506.000000  506.000000  506.000000\n",
              "mean     3.613524   11.363636   11.136779  ...  356.674032   12.653063   22.532806\n",
              "std      8.601545   23.322453    6.860353  ...   91.294864    7.141062    9.197104\n",
              "min      0.006320    0.000000    0.460000  ...    0.320000    1.730000    5.000000\n",
              "25%      0.082045    0.000000    5.190000  ...  375.377500    6.950000   17.025000\n",
              "50%      0.256510    0.000000    9.690000  ...  391.440000   11.360000   21.200000\n",
              "75%      3.677083   12.500000   18.100000  ...  396.225000   16.955000   25.000000\n",
              "max     88.976200  100.000000   27.740000  ...  396.900000   37.970000   50.000000\n",
              "\n",
              "[8 rows x 14 columns]"
            ]
          },
          "metadata": {
            "tags": []
          },
          "execution_count": 109
        }
      ]
    },
    {
      "cell_type": "code",
      "metadata": {
        "id": "lWpoETtZ2Sdo",
        "outputId": "fab26853-561d-491c-f989-af4bcf3f5786",
        "colab": {
          "base_uri": "https://localhost:8080/",
          "height": 252
        }
      },
      "source": [
        "df_boston.info"
      ],
      "execution_count": null,
      "outputs": [
        {
          "output_type": "execute_result",
          "data": {
            "text/plain": [
              "<bound method DataFrame.info of         crim    zn  indus  chas    nox  ...    tax  ptratio       b  lstat  preco\n",
              "0    0.00632  18.0   2.31   0.0  0.538  ...  296.0     15.3  396.90   4.98   24.0\n",
              "1    0.02731   0.0   7.07   0.0  0.469  ...  242.0     17.8  396.90   9.14   21.6\n",
              "2    0.02729   0.0   7.07   0.0  0.469  ...  242.0     17.8  392.83   4.03   34.7\n",
              "3    0.03237   0.0   2.18   0.0  0.458  ...  222.0     18.7  394.63   2.94   33.4\n",
              "4    0.06905   0.0   2.18   0.0  0.458  ...  222.0     18.7  396.90   5.33   36.2\n",
              "..       ...   ...    ...   ...    ...  ...    ...      ...     ...    ...    ...\n",
              "501  0.06263   0.0  11.93   0.0  0.573  ...  273.0     21.0  391.99   9.67   22.4\n",
              "502  0.04527   0.0  11.93   0.0  0.573  ...  273.0     21.0  396.90   9.08   20.6\n",
              "503  0.06076   0.0  11.93   0.0  0.573  ...  273.0     21.0  396.90   5.64   23.9\n",
              "504  0.10959   0.0  11.93   0.0  0.573  ...  273.0     21.0  393.45   6.48   22.0\n",
              "505  0.04741   0.0  11.93   0.0  0.573  ...  273.0     21.0  396.90   7.88   11.9\n",
              "\n",
              "[506 rows x 14 columns]>"
            ]
          },
          "metadata": {
            "tags": []
          },
          "execution_count": 132
        }
      ]
    },
    {
      "cell_type": "code",
      "metadata": {
        "id": "KcpEz0Ne1gRr",
        "outputId": "5ef7167e-5652-44a3-f6e9-532ba7a7f117",
        "colab": {
          "base_uri": "https://localhost:8080/",
          "height": 34
        }
      },
      "source": [
        "df_boston['crim'].mean()"
      ],
      "execution_count": null,
      "outputs": [
        {
          "output_type": "execute_result",
          "data": {
            "text/plain": [
              "1.3574136429133836"
            ]
          },
          "metadata": {
            "tags": []
          },
          "execution_count": 190
        }
      ]
    },
    {
      "cell_type": "code",
      "metadata": {
        "id": "Slg1U9KnvFu1",
        "outputId": "4f0ba727-62f1-4e35-853d-ed2585f0f77e",
        "colab": {
          "base_uri": "https://localhost:8080/",
          "height": 269
        }
      },
      "source": [
        "Q1 = df_boston.quantile(q=0.25)\n",
        "Q1"
      ],
      "execution_count": null,
      "outputs": [
        {
          "output_type": "execute_result",
          "data": {
            "text/plain": [
              "crim         0.082045\n",
              "zn           0.000000\n",
              "indus        5.190000\n",
              "chas         0.000000\n",
              "nox          0.449000\n",
              "rm           5.885500\n",
              "age         45.025000\n",
              "dis          2.100175\n",
              "rad          4.000000\n",
              "tax        279.000000\n",
              "ptratio     17.400000\n",
              "b          375.377500\n",
              "lstat        6.950000\n",
              "preco       17.025000\n",
              "Name: 0.25, dtype: float64"
            ]
          },
          "metadata": {
            "tags": []
          },
          "execution_count": 125
        }
      ]
    },
    {
      "cell_type": "code",
      "metadata": {
        "id": "sVFfwIeXzNCP",
        "outputId": "539c6e0e-9681-4779-fa3d-741a53ef2b33",
        "colab": {
          "base_uri": "https://localhost:8080/",
          "height": 269
        }
      },
      "source": [
        "Q3 = df_boston.quantile(q=0.75)\n",
        "Q3"
      ],
      "execution_count": null,
      "outputs": [
        {
          "output_type": "execute_result",
          "data": {
            "text/plain": [
              "crim         3.677083\n",
              "zn          12.500000\n",
              "indus       18.100000\n",
              "chas         0.000000\n",
              "nox          0.624000\n",
              "rm           6.623500\n",
              "age         94.075000\n",
              "dis          5.188425\n",
              "rad         24.000000\n",
              "tax        666.000000\n",
              "ptratio     20.200000\n",
              "b          396.225000\n",
              "lstat       16.955000\n",
              "preco       25.000000\n",
              "Name: 0.75, dtype: float64"
            ]
          },
          "metadata": {
            "tags": []
          },
          "execution_count": 126
        }
      ]
    },
    {
      "cell_type": "code",
      "metadata": {
        "id": "w2diZHrZzNHO",
        "outputId": "1da8b98c-085a-4cd8-80d6-2151c07c1e56",
        "colab": {
          "base_uri": "https://localhost:8080/",
          "height": 269
        }
      },
      "source": [
        "IQR = df_boston.quantile(q=0.75) - df_boston.quantile(q=0.25)\n",
        "IQR"
      ],
      "execution_count": null,
      "outputs": [
        {
          "output_type": "execute_result",
          "data": {
            "text/plain": [
              "crim         3.595038\n",
              "zn          12.500000\n",
              "indus       12.910000\n",
              "chas         0.000000\n",
              "nox          0.175000\n",
              "rm           0.738000\n",
              "age         49.050000\n",
              "dis          3.088250\n",
              "rad         20.000000\n",
              "tax        387.000000\n",
              "ptratio      2.800000\n",
              "b           20.847500\n",
              "lstat       10.005000\n",
              "preco        7.975000\n",
              "dtype: float64"
            ]
          },
          "metadata": {
            "tags": []
          },
          "execution_count": 120
        }
      ]
    },
    {
      "cell_type": "code",
      "metadata": {
        "id": "oQhrT87TvF2q",
        "outputId": "48901788-928d-4c2c-b8ba-faec3679df81",
        "colab": {
          "base_uri": "https://localhost:8080/",
          "height": 269
        }
      },
      "source": [
        "Linf = Q1 - (1.5*IQR)\n",
        "Linf"
      ],
      "execution_count": null,
      "outputs": [
        {
          "output_type": "execute_result",
          "data": {
            "text/plain": [
              "crim        -5.310511\n",
              "zn         -18.750000\n",
              "indus      -14.175000\n",
              "chas         0.000000\n",
              "nox          0.186500\n",
              "rm           4.778500\n",
              "age        -28.550000\n",
              "dis         -2.532200\n",
              "rad        -26.000000\n",
              "tax       -301.500000\n",
              "ptratio     13.200000\n",
              "b          344.106250\n",
              "lstat       -8.057500\n",
              "preco        5.062500\n",
              "dtype: float64"
            ]
          },
          "metadata": {
            "tags": []
          },
          "execution_count": 122
        }
      ]
    },
    {
      "cell_type": "code",
      "metadata": {
        "id": "dtpNhs8yvF7O",
        "outputId": "97011aab-8f40-422e-8b9a-ed5c89564b34",
        "colab": {
          "base_uri": "https://localhost:8080/",
          "height": 269
        }
      },
      "source": [
        "Lsup = Q3 + (1.5*IQR)\n",
        "Lsup"
      ],
      "execution_count": null,
      "outputs": [
        {
          "output_type": "execute_result",
          "data": {
            "text/plain": [
              "crim          9.069639\n",
              "zn           31.250000\n",
              "indus        37.465000\n",
              "chas          0.000000\n",
              "nox           0.886500\n",
              "rm            7.730500\n",
              "age         167.650000\n",
              "dis           9.820800\n",
              "rad          54.000000\n",
              "tax        1246.500000\n",
              "ptratio      24.400000\n",
              "b           427.496250\n",
              "lstat        31.962500\n",
              "preco        36.962500\n",
              "dtype: float64"
            ]
          },
          "metadata": {
            "tags": []
          },
          "execution_count": 213
        }
      ]
    },
    {
      "cell_type": "code",
      "metadata": {
        "id": "uSMy2ZJyz-wo",
        "outputId": "f5f0028a-78e6-4e15-d60a-e675e5b2870e",
        "colab": {
          "base_uri": "https://localhost:8080/",
          "height": 67
        }
      },
      "source": [
        "l_col = df_boston.columns\n",
        "l_col"
      ],
      "execution_count": null,
      "outputs": [
        {
          "output_type": "execute_result",
          "data": {
            "text/plain": [
              "Index(['crim', 'zn', 'indus', 'chas', 'nox', 'rm', 'age', 'dis', 'rad', 'tax',\n",
              "       'ptratio', 'b', 'lstat', 'preco'],\n",
              "      dtype='object')"
            ]
          },
          "metadata": {
            "tags": []
          },
          "execution_count": 127
        }
      ]
    },
    {
      "cell_type": "code",
      "metadata": {
        "id": "Z2-mSitd5csM",
        "outputId": "0e4b0ffb-5cef-4a79-c049-5630b1bb293b",
        "colab": {
          "base_uri": "https://localhost:8080/",
          "height": 34
        }
      },
      "source": [
        "df_boston['crim'].mean()"
      ],
      "execution_count": null,
      "outputs": [
        {
          "output_type": "execute_result",
          "data": {
            "text/plain": [
              "3.6135235573122535"
            ]
          },
          "metadata": {
            "tags": []
          },
          "execution_count": 178
        }
      ]
    },
    {
      "cell_type": "code",
      "metadata": {
        "id": "vgHKEJ4F6SnX"
      },
      "source": [
        "#l_col1 = ['crim']\n",
        "for col in l_col:\n",
        "    #print(df_boston[col])  \n",
        "    for c in range(0, len(df_boston[col])):\n",
        "        #print(df_boston[col][c])  \n",
        "        if df_boston[col][c] > Lsup[col]:\n",
        "            df_boston[col][c] = df_boston[col].mean()\n",
        "        if df_boston[col][c] < Linf[col]:\n",
        "            df_boston[col][c] = df_boston[col].mean()    \n",
        "        "
      ],
      "execution_count": null,
      "outputs": []
    },
    {
      "cell_type": "code",
      "metadata": {
        "id": "uAqsE7YXCpUr",
        "outputId": "18ca7f7e-c104-4972-975c-fbe6b31a9930",
        "colab": {
          "base_uri": "https://localhost:8080/",
          "height": 218
        }
      },
      "source": [
        "df_boston['crim']"
      ],
      "execution_count": null,
      "outputs": [
        {
          "output_type": "execute_result",
          "data": {
            "text/plain": [
              "0      0.00632\n",
              "1      0.02731\n",
              "2      0.02729\n",
              "3      0.03237\n",
              "4      0.06905\n",
              "        ...   \n",
              "501    0.06263\n",
              "502    0.04527\n",
              "503    0.06076\n",
              "504    0.10959\n",
              "505    0.04741\n",
              "Name: crim, Length: 506, dtype: float64"
            ]
          },
          "metadata": {
            "tags": []
          },
          "execution_count": 189
        }
      ]
    },
    {
      "cell_type": "code",
      "metadata": {
        "id": "F-WZE_w6Am5X",
        "outputId": "4166c234-22bb-49a6-b7be-f1ac735ff0e9",
        "colab": {
          "base_uri": "https://localhost:8080/",
          "height": 304
        }
      },
      "source": [
        "df_boston.describe()"
      ],
      "execution_count": null,
      "outputs": [
        {
          "output_type": "execute_result",
          "data": {
            "text/html": [
              "<div>\n",
              "<style scoped>\n",
              "    .dataframe tbody tr th:only-of-type {\n",
              "        vertical-align: middle;\n",
              "    }\n",
              "\n",
              "    .dataframe tbody tr th {\n",
              "        vertical-align: top;\n",
              "    }\n",
              "\n",
              "    .dataframe thead th {\n",
              "        text-align: right;\n",
              "    }\n",
              "</style>\n",
              "<table border=\"1\" class=\"dataframe\">\n",
              "  <thead>\n",
              "    <tr style=\"text-align: right;\">\n",
              "      <th></th>\n",
              "      <th>crim</th>\n",
              "      <th>zn</th>\n",
              "      <th>indus</th>\n",
              "      <th>chas</th>\n",
              "      <th>nox</th>\n",
              "      <th>rm</th>\n",
              "      <th>age</th>\n",
              "      <th>dis</th>\n",
              "      <th>rad</th>\n",
              "      <th>tax</th>\n",
              "      <th>ptratio</th>\n",
              "      <th>b</th>\n",
              "      <th>lstat</th>\n",
              "      <th>preco</th>\n",
              "    </tr>\n",
              "  </thead>\n",
              "  <tbody>\n",
              "    <tr>\n",
              "      <th>count</th>\n",
              "      <td>506.000000</td>\n",
              "      <td>506.000000</td>\n",
              "      <td>506.000000</td>\n",
              "      <td>506.000000</td>\n",
              "      <td>506.000000</td>\n",
              "      <td>506.000000</td>\n",
              "      <td>506.000000</td>\n",
              "      <td>506.000000</td>\n",
              "      <td>506.000000</td>\n",
              "      <td>506.000000</td>\n",
              "      <td>506.000000</td>\n",
              "      <td>506.000000</td>\n",
              "      <td>506.000000</td>\n",
              "      <td>506.000000</td>\n",
              "    </tr>\n",
              "    <tr>\n",
              "      <th>mean</th>\n",
              "      <td>1.357414</td>\n",
              "      <td>3.765903</td>\n",
              "      <td>11.136779</td>\n",
              "      <td>0.002574</td>\n",
              "      <td>0.554695</td>\n",
              "      <td>6.233580</td>\n",
              "      <td>68.574901</td>\n",
              "      <td>3.724123</td>\n",
              "      <td>9.549407</td>\n",
              "      <td>408.237154</td>\n",
              "      <td>18.621949</td>\n",
              "      <td>385.679994</td>\n",
              "      <td>12.343050</td>\n",
              "      <td>20.792468</td>\n",
              "    </tr>\n",
              "    <tr>\n",
              "      <th>std</th>\n",
              "      <td>2.043254</td>\n",
              "      <td>7.462902</td>\n",
              "      <td>6.860353</td>\n",
              "      <td>0.010717</td>\n",
              "      <td>0.115878</td>\n",
              "      <td>0.517523</td>\n",
              "      <td>28.148861</td>\n",
              "      <td>1.979778</td>\n",
              "      <td>8.707259</td>\n",
              "      <td>168.537116</td>\n",
              "      <td>1.936122</td>\n",
              "      <td>13.050351</td>\n",
              "      <td>6.631241</td>\n",
              "      <td>6.197593</td>\n",
              "    </tr>\n",
              "    <tr>\n",
              "      <th>min</th>\n",
              "      <td>0.006320</td>\n",
              "      <td>0.000000</td>\n",
              "      <td>0.460000</td>\n",
              "      <td>0.000000</td>\n",
              "      <td>0.385000</td>\n",
              "      <td>4.880000</td>\n",
              "      <td>2.900000</td>\n",
              "      <td>1.129600</td>\n",
              "      <td>1.000000</td>\n",
              "      <td>187.000000</td>\n",
              "      <td>13.600000</td>\n",
              "      <td>344.910000</td>\n",
              "      <td>1.730000</td>\n",
              "      <td>5.600000</td>\n",
              "    </tr>\n",
              "    <tr>\n",
              "      <th>25%</th>\n",
              "      <td>0.082045</td>\n",
              "      <td>0.000000</td>\n",
              "      <td>5.190000</td>\n",
              "      <td>0.000000</td>\n",
              "      <td>0.449000</td>\n",
              "      <td>5.899750</td>\n",
              "      <td>45.025000</td>\n",
              "      <td>2.100175</td>\n",
              "      <td>4.000000</td>\n",
              "      <td>279.000000</td>\n",
              "      <td>17.400000</td>\n",
              "      <td>377.691163</td>\n",
              "      <td>6.950000</td>\n",
              "      <td>17.100000</td>\n",
              "    </tr>\n",
              "    <tr>\n",
              "      <th>50%</th>\n",
              "      <td>0.256510</td>\n",
              "      <td>0.000000</td>\n",
              "      <td>9.690000</td>\n",
              "      <td>0.000000</td>\n",
              "      <td>0.538000</td>\n",
              "      <td>6.211500</td>\n",
              "      <td>77.500000</td>\n",
              "      <td>3.207450</td>\n",
              "      <td>5.000000</td>\n",
              "      <td>330.000000</td>\n",
              "      <td>19.050000</td>\n",
              "      <td>391.440000</td>\n",
              "      <td>11.360000</td>\n",
              "      <td>21.008876</td>\n",
              "    </tr>\n",
              "    <tr>\n",
              "      <th>75%</th>\n",
              "      <td>1.915668</td>\n",
              "      <td>4.707208</td>\n",
              "      <td>18.100000</td>\n",
              "      <td>0.000000</td>\n",
              "      <td>0.624000</td>\n",
              "      <td>6.515250</td>\n",
              "      <td>94.075000</td>\n",
              "      <td>5.112625</td>\n",
              "      <td>24.000000</td>\n",
              "      <td>666.000000</td>\n",
              "      <td>20.200000</td>\n",
              "      <td>396.225000</td>\n",
              "      <td>16.462500</td>\n",
              "      <td>23.800000</td>\n",
              "    </tr>\n",
              "    <tr>\n",
              "      <th>max</th>\n",
              "      <td>8.982960</td>\n",
              "      <td>30.000000</td>\n",
              "      <td>27.740000</td>\n",
              "      <td>0.069170</td>\n",
              "      <td>0.871000</td>\n",
              "      <td>7.691000</td>\n",
              "      <td>100.000000</td>\n",
              "      <td>9.222900</td>\n",
              "      <td>24.000000</td>\n",
              "      <td>711.000000</td>\n",
              "      <td>22.000000</td>\n",
              "      <td>396.900000</td>\n",
              "      <td>30.810000</td>\n",
              "      <td>36.500000</td>\n",
              "    </tr>\n",
              "  </tbody>\n",
              "</table>\n",
              "</div>"
            ],
            "text/plain": [
              "             crim          zn       indus  ...           b       lstat       preco\n",
              "count  506.000000  506.000000  506.000000  ...  506.000000  506.000000  506.000000\n",
              "mean     1.357414    3.765903   11.136779  ...  385.679994   12.343050   20.792468\n",
              "std      2.043254    7.462902    6.860353  ...   13.050351    6.631241    6.197593\n",
              "min      0.006320    0.000000    0.460000  ...  344.910000    1.730000    5.600000\n",
              "25%      0.082045    0.000000    5.190000  ...  377.691163    6.950000   17.100000\n",
              "50%      0.256510    0.000000    9.690000  ...  391.440000   11.360000   21.008876\n",
              "75%      1.915668    4.707208   18.100000  ...  396.225000   16.462500   23.800000\n",
              "max      8.982960   30.000000   27.740000  ...  396.900000   30.810000   36.500000\n",
              "\n",
              "[8 rows x 14 columns]"
            ]
          },
          "metadata": {
            "tags": []
          },
          "execution_count": 187
        }
      ]
    },
    {
      "cell_type": "code",
      "metadata": {
        "id": "ymEQNP62AnDl",
        "outputId": "0f9c6b7d-5419-41b5-8c3b-b948b80ab065",
        "colab": {
          "base_uri": "https://localhost:8080/",
          "height": 371
        }
      },
      "source": [
        "#check nas features antes da transfromação\n",
        "df_boston.plot(kind = 'box', showmeans = True, meanline = True, grid = True\n",
        "             , figsize = (20,7), vert = False, ylabel = 'Features'\n",
        "             , xticks =(0,5,10,20,35,50, 80, 100, 200, 300, 400, 600, 700))"
      ],
      "execution_count": null,
      "outputs": [
        {
          "output_type": "execute_result",
          "data": {
            "text/plain": [
              "<matplotlib.axes._subplots.AxesSubplot at 0x7fb0fc532f28>"
            ]
          },
          "metadata": {
            "tags": []
          },
          "execution_count": 188
        },
        {
          "output_type": "display_data",
          "data": {
            "image/png": "[encoded data removed]",
            "text/plain": [
              "<Figure size 1440x504 with 1 Axes>"
            ]
          },
          "metadata": {
            "tags": [],
            "needs_background": "light"
          }
        }
      ]
    },
    {
      "cell_type": "code",
      "metadata": {
        "id": "BF5EEdXuSE47",
        "outputId": "d4311575-2729-4b57-ad0b-0719784439dd",
        "colab": {
          "base_uri": "https://localhost:8080/",
          "height": 67
        }
      },
      "source": [
        "#colunas do df_boston\n",
        "l_col = df_boston.columns\n",
        "l_col"
      ],
      "execution_count": null,
      "outputs": [
        {
          "output_type": "execute_result",
          "data": {
            "text/plain": [
              "Index(['crim', 'zn', 'indus', 'chas', 'nox', 'rm', 'age', 'dis', 'rad', 'tax',\n",
              "       'ptratio', 'b', 'lstat', 'preco'],\n",
              "      dtype='object')"
            ]
          },
          "metadata": {
            "tags": []
          },
          "execution_count": 191
        }
      ]
    },
    {
      "cell_type": "code",
      "metadata": {
        "id": "RZvYBLKyYzYv",
        "outputId": "6270acec-2a85-46f8-ffd6-a26c9c819631",
        "colab": {
          "base_uri": "https://localhost:8080/",
          "height": 500
        }
      },
      "source": [
        "#aplicando a tranformação\n",
        "boston_MinMaxScaler = MinMaxScaler().fit_transform(df_boston)\n",
        "df_boston_MinMaxScaler = pd.DataFrame(boston_MinMaxScaler,columns = ['crim', 'zn', 'indus', 'chas', 'nox', 'rm', 'age', 'dis', 'rad', 'tax',\n",
        "       'ptratio', 'b', 'lstat', 'preco'])\n",
        "\n",
        "# Gráfico\n",
        "df_boston_MinMaxScaler.plot(kind = 'kde', figsize = (12,8))"
      ],
      "execution_count": null,
      "outputs": [
        {
          "output_type": "execute_result",
          "data": {
            "text/plain": [
              "<matplotlib.axes._subplots.AxesSubplot at 0x7fb0f6d869b0>"
            ]
          },
          "metadata": {
            "tags": []
          },
          "execution_count": 192
        },
        {
          "output_type": "display_data",
          "data": {
            "image/png": "[encoded data removed]",
            "text/plain": [
              "<Figure size 864x576 with 1 Axes>"
            ]
          },
          "metadata": {
            "tags": [],
            "needs_background": "light"
          }
        }
      ]
    },
    {
      "cell_type": "code",
      "metadata": {
        "id": "lHYtycvZZjU-",
        "outputId": "1e09d1cb-3531-4072-f96e-f9ddb517ab2a",
        "colab": {
          "base_uri": "https://localhost:8080/",
          "height": 371
        }
      },
      "source": [
        "#check as features após a transformação\n",
        "df_boston_MinMaxScaler.plot(kind = 'box', showmeans = True, meanline = True, grid = True\n",
        "             , figsize = (20,7), vert = False, ylabel = 'Features')"
      ],
      "execution_count": null,
      "outputs": [
        {
          "output_type": "execute_result",
          "data": {
            "text/plain": [
              "<matplotlib.axes._subplots.AxesSubplot at 0x7fb0f6ccfcc0>"
            ]
          },
          "metadata": {
            "tags": []
          },
          "execution_count": 193
        },
        {
          "output_type": "display_data",
          "data": {
            "image/png": "[encoded data removed]",
            "text/plain": [
              "<Figure size 1440x504 with 1 Axes>"
            ]
          },
          "metadata": {
            "tags": [],
            "needs_background": "light"
          }
        }
      ]
    },
    {
      "cell_type": "code",
      "metadata": {
        "id": "dfdskW__ZoWv",
        "outputId": "92aca1e4-1d8c-4a23-b6de-bd9d7b2a830c",
        "colab": {
          "base_uri": "https://localhost:8080/",
          "height": 304
        }
      },
      "source": [
        "df_boston_MinMaxScaler.describe()"
      ],
      "execution_count": null,
      "outputs": [
        {
          "output_type": "execute_result",
          "data": {
            "text/html": [
              "<div>\n",
              "<style scoped>\n",
              "    .dataframe tbody tr th:only-of-type {\n",
              "        vertical-align: middle;\n",
              "    }\n",
              "\n",
              "    .dataframe tbody tr th {\n",
              "        vertical-align: top;\n",
              "    }\n",
              "\n",
              "    .dataframe thead th {\n",
              "        text-align: right;\n",
              "    }\n",
              "</style>\n",
              "<table border=\"1\" class=\"dataframe\">\n",
              "  <thead>\n",
              "    <tr style=\"text-align: right;\">\n",
              "      <th></th>\n",
              "      <th>crim</th>\n",
              "      <th>zn</th>\n",
              "      <th>indus</th>\n",
              "      <th>chas</th>\n",
              "      <th>nox</th>\n",
              "      <th>rm</th>\n",
              "      <th>age</th>\n",
              "      <th>dis</th>\n",
              "      <th>rad</th>\n",
              "      <th>tax</th>\n",
              "      <th>ptratio</th>\n",
              "      <th>b</th>\n",
              "      <th>lstat</th>\n",
              "      <th>preco</th>\n",
              "    </tr>\n",
              "  </thead>\n",
              "  <tbody>\n",
              "    <tr>\n",
              "      <th>count</th>\n",
              "      <td>506.000000</td>\n",
              "      <td>506.000000</td>\n",
              "      <td>506.000000</td>\n",
              "      <td>506.000000</td>\n",
              "      <td>506.000000</td>\n",
              "      <td>506.000000</td>\n",
              "      <td>506.000000</td>\n",
              "      <td>506.000000</td>\n",
              "      <td>506.000000</td>\n",
              "      <td>506.000000</td>\n",
              "      <td>506.000000</td>\n",
              "      <td>506.000000</td>\n",
              "      <td>506.000000</td>\n",
              "      <td>506.000000</td>\n",
              "    </tr>\n",
              "    <tr>\n",
              "      <th>mean</th>\n",
              "      <td>0.150512</td>\n",
              "      <td>0.125530</td>\n",
              "      <td>0.391378</td>\n",
              "      <td>0.037206</td>\n",
              "      <td>0.349167</td>\n",
              "      <td>0.481530</td>\n",
              "      <td>0.676364</td>\n",
              "      <td>0.320577</td>\n",
              "      <td>0.371713</td>\n",
              "      <td>0.422208</td>\n",
              "      <td>0.597851</td>\n",
              "      <td>0.784189</td>\n",
              "      <td>0.364960</td>\n",
              "      <td>0.491666</td>\n",
              "    </tr>\n",
              "    <tr>\n",
              "      <th>std</th>\n",
              "      <td>0.227619</td>\n",
              "      <td>0.248763</td>\n",
              "      <td>0.251479</td>\n",
              "      <td>0.154933</td>\n",
              "      <td>0.238431</td>\n",
              "      <td>0.184107</td>\n",
              "      <td>0.289896</td>\n",
              "      <td>0.244619</td>\n",
              "      <td>0.378576</td>\n",
              "      <td>0.321636</td>\n",
              "      <td>0.230491</td>\n",
              "      <td>0.251017</td>\n",
              "      <td>0.228034</td>\n",
              "      <td>0.200569</td>\n",
              "    </tr>\n",
              "    <tr>\n",
              "      <th>min</th>\n",
              "      <td>0.000000</td>\n",
              "      <td>0.000000</td>\n",
              "      <td>0.000000</td>\n",
              "      <td>0.000000</td>\n",
              "      <td>0.000000</td>\n",
              "      <td>0.000000</td>\n",
              "      <td>0.000000</td>\n",
              "      <td>0.000000</td>\n",
              "      <td>0.000000</td>\n",
              "      <td>0.000000</td>\n",
              "      <td>0.000000</td>\n",
              "      <td>0.000000</td>\n",
              "      <td>0.000000</td>\n",
              "      <td>0.000000</td>\n",
              "    </tr>\n",
              "    <tr>\n",
              "      <th>25%</th>\n",
              "      <td>0.008436</td>\n",
              "      <td>0.000000</td>\n",
              "      <td>0.173387</td>\n",
              "      <td>0.000000</td>\n",
              "      <td>0.131687</td>\n",
              "      <td>0.362771</td>\n",
              "      <td>0.433831</td>\n",
              "      <td>0.119923</td>\n",
              "      <td>0.130435</td>\n",
              "      <td>0.175573</td>\n",
              "      <td>0.452381</td>\n",
              "      <td>0.630528</td>\n",
              "      <td>0.179505</td>\n",
              "      <td>0.372168</td>\n",
              "    </tr>\n",
              "    <tr>\n",
              "      <th>50%</th>\n",
              "      <td>0.027871</td>\n",
              "      <td>0.000000</td>\n",
              "      <td>0.338343</td>\n",
              "      <td>0.000000</td>\n",
              "      <td>0.314815</td>\n",
              "      <td>0.473675</td>\n",
              "      <td>0.768280</td>\n",
              "      <td>0.256737</td>\n",
              "      <td>0.173913</td>\n",
              "      <td>0.272901</td>\n",
              "      <td>0.648810</td>\n",
              "      <td>0.894980</td>\n",
              "      <td>0.331155</td>\n",
              "      <td>0.498669</td>\n",
              "    </tr>\n",
              "    <tr>\n",
              "      <th>75%</th>\n",
              "      <td>0.212702</td>\n",
              "      <td>0.156907</td>\n",
              "      <td>0.646628</td>\n",
              "      <td>0.000000</td>\n",
              "      <td>0.491770</td>\n",
              "      <td>0.581732</td>\n",
              "      <td>0.938980</td>\n",
              "      <td>0.492139</td>\n",
              "      <td>1.000000</td>\n",
              "      <td>0.914122</td>\n",
              "      <td>0.785714</td>\n",
              "      <td>0.987017</td>\n",
              "      <td>0.506620</td>\n",
              "      <td>0.588997</td>\n",
              "    </tr>\n",
              "    <tr>\n",
              "      <th>max</th>\n",
              "      <td>1.000000</td>\n",
              "      <td>1.000000</td>\n",
              "      <td>1.000000</td>\n",
              "      <td>1.000000</td>\n",
              "      <td>1.000000</td>\n",
              "      <td>1.000000</td>\n",
              "      <td>1.000000</td>\n",
              "      <td>1.000000</td>\n",
              "      <td>1.000000</td>\n",
              "      <td>1.000000</td>\n",
              "      <td>1.000000</td>\n",
              "      <td>1.000000</td>\n",
              "      <td>1.000000</td>\n",
              "      <td>1.000000</td>\n",
              "    </tr>\n",
              "  </tbody>\n",
              "</table>\n",
              "</div>"
            ],
            "text/plain": [
              "             crim          zn       indus  ...           b       lstat       preco\n",
              "count  506.000000  506.000000  506.000000  ...  506.000000  506.000000  506.000000\n",
              "mean     0.150512    0.125530    0.391378  ...    0.784189    0.364960    0.491666\n",
              "std      0.227619    0.248763    0.251479  ...    0.251017    0.228034    0.200569\n",
              "min      0.000000    0.000000    0.000000  ...    0.000000    0.000000    0.000000\n",
              "25%      0.008436    0.000000    0.173387  ...    0.630528    0.179505    0.372168\n",
              "50%      0.027871    0.000000    0.338343  ...    0.894980    0.331155    0.498669\n",
              "75%      0.212702    0.156907    0.646628  ...    0.987017    0.506620    0.588997\n",
              "max      1.000000    1.000000    1.000000  ...    1.000000    1.000000    1.000000\n",
              "\n",
              "[8 rows x 14 columns]"
            ]
          },
          "metadata": {
            "tags": []
          },
          "execution_count": 194
        }
      ]
    },
    {
      "cell_type": "code",
      "metadata": {
        "id": "frLut-jkKurd"
      },
      "source": [
        "df_boston_1 = df_boston_MinMaxScaler.copy()"
      ],
      "execution_count": null,
      "outputs": []
    },
    {
      "cell_type": "code",
      "metadata": {
        "id": "NhhJICg3GN8C",
        "outputId": "9088f6a2-479f-4f27-e380-0426c9f68772",
        "colab": {
          "base_uri": "https://localhost:8080/",
          "height": 34
        }
      },
      "source": [
        "df_boston_1.shape"
      ],
      "execution_count": null,
      "outputs": [
        {
          "output_type": "execute_result",
          "data": {
            "text/plain": [
              "(506, 14)"
            ]
          },
          "metadata": {
            "tags": []
          },
          "execution_count": 215
        }
      ]
    },
    {
      "cell_type": "code",
      "metadata": {
        "id": "hulFTiPlGOAY"
      },
      "source": [
        "#drop preço do df_boston, seperando-a\n",
        "X_boston = df_boston_1.drop(columns = ['preco'], axis = 1)\n",
        "y_boston = df_boston_1['preco']"
      ],
      "execution_count": null,
      "outputs": []
    },
    {
      "cell_type": "code",
      "metadata": {
        "id": "O3kW-mW4GOL7",
        "outputId": "d07414dc-f4aa-41b9-c649-435ed5f267dd",
        "colab": {
          "base_uri": "https://localhost:8080/",
          "height": 195
        }
      },
      "source": [
        "X_boston.head()"
      ],
      "execution_count": null,
      "outputs": [
        {
          "output_type": "execute_result",
          "data": {
            "text/html": [
              "<div>\n",
              "<style scoped>\n",
              "    .dataframe tbody tr th:only-of-type {\n",
              "        vertical-align: middle;\n",
              "    }\n",
              "\n",
              "    .dataframe tbody tr th {\n",
              "        vertical-align: top;\n",
              "    }\n",
              "\n",
              "    .dataframe thead th {\n",
              "        text-align: right;\n",
              "    }\n",
              "</style>\n",
              "<table border=\"1\" class=\"dataframe\">\n",
              "  <thead>\n",
              "    <tr style=\"text-align: right;\">\n",
              "      <th></th>\n",
              "      <th>crim</th>\n",
              "      <th>zn</th>\n",
              "      <th>indus</th>\n",
              "      <th>chas</th>\n",
              "      <th>nox</th>\n",
              "      <th>rm</th>\n",
              "      <th>age</th>\n",
              "      <th>dis</th>\n",
              "      <th>rad</th>\n",
              "      <th>tax</th>\n",
              "      <th>ptratio</th>\n",
              "      <th>b</th>\n",
              "      <th>lstat</th>\n",
              "    </tr>\n",
              "  </thead>\n",
              "  <tbody>\n",
              "    <tr>\n",
              "      <th>0</th>\n",
              "      <td>0.000000</td>\n",
              "      <td>0.6</td>\n",
              "      <td>0.067815</td>\n",
              "      <td>0.0</td>\n",
              "      <td>0.314815</td>\n",
              "      <td>0.602988</td>\n",
              "      <td>0.641607</td>\n",
              "      <td>0.365784</td>\n",
              "      <td>0.000000</td>\n",
              "      <td>0.208015</td>\n",
              "      <td>0.202381</td>\n",
              "      <td>1.000000</td>\n",
              "      <td>0.111761</td>\n",
              "    </tr>\n",
              "    <tr>\n",
              "      <th>1</th>\n",
              "      <td>0.002338</td>\n",
              "      <td>0.0</td>\n",
              "      <td>0.242302</td>\n",
              "      <td>0.0</td>\n",
              "      <td>0.172840</td>\n",
              "      <td>0.548203</td>\n",
              "      <td>0.782698</td>\n",
              "      <td>0.474158</td>\n",
              "      <td>0.043478</td>\n",
              "      <td>0.104962</td>\n",
              "      <td>0.500000</td>\n",
              "      <td>1.000000</td>\n",
              "      <td>0.254814</td>\n",
              "    </tr>\n",
              "    <tr>\n",
              "      <th>2</th>\n",
              "      <td>0.002336</td>\n",
              "      <td>0.0</td>\n",
              "      <td>0.242302</td>\n",
              "      <td>0.0</td>\n",
              "      <td>0.172840</td>\n",
              "      <td>0.819993</td>\n",
              "      <td>0.599382</td>\n",
              "      <td>0.474158</td>\n",
              "      <td>0.043478</td>\n",
              "      <td>0.104962</td>\n",
              "      <td>0.500000</td>\n",
              "      <td>0.921716</td>\n",
              "      <td>0.079092</td>\n",
              "    </tr>\n",
              "    <tr>\n",
              "      <th>3</th>\n",
              "      <td>0.002902</td>\n",
              "      <td>0.0</td>\n",
              "      <td>0.063050</td>\n",
              "      <td>0.0</td>\n",
              "      <td>0.150206</td>\n",
              "      <td>0.753469</td>\n",
              "      <td>0.441813</td>\n",
              "      <td>0.609467</td>\n",
              "      <td>0.086957</td>\n",
              "      <td>0.066794</td>\n",
              "      <td>0.607143</td>\n",
              "      <td>0.956338</td>\n",
              "      <td>0.041609</td>\n",
              "    </tr>\n",
              "    <tr>\n",
              "      <th>4</th>\n",
              "      <td>0.006988</td>\n",
              "      <td>0.0</td>\n",
              "      <td>0.063050</td>\n",
              "      <td>0.0</td>\n",
              "      <td>0.150206</td>\n",
              "      <td>0.806475</td>\n",
              "      <td>0.528321</td>\n",
              "      <td>0.609467</td>\n",
              "      <td>0.086957</td>\n",
              "      <td>0.066794</td>\n",
              "      <td>0.607143</td>\n",
              "      <td>1.000000</td>\n",
              "      <td>0.123796</td>\n",
              "    </tr>\n",
              "  </tbody>\n",
              "</table>\n",
              "</div>"
            ],
            "text/plain": [
              "       crim   zn     indus  chas  ...       tax   ptratio         b     lstat\n",
              "0  0.000000  0.6  0.067815   0.0  ...  0.208015  0.202381  1.000000  0.111761\n",
              "1  0.002338  0.0  0.242302   0.0  ...  0.104962  0.500000  1.000000  0.254814\n",
              "2  0.002336  0.0  0.242302   0.0  ...  0.104962  0.500000  0.921716  0.079092\n",
              "3  0.002902  0.0  0.063050   0.0  ...  0.066794  0.607143  0.956338  0.041609\n",
              "4  0.006988  0.0  0.063050   0.0  ...  0.066794  0.607143  1.000000  0.123796\n",
              "\n",
              "[5 rows x 13 columns]"
            ]
          },
          "metadata": {
            "tags": []
          },
          "execution_count": 219
        }
      ]
    },
    {
      "cell_type": "code",
      "metadata": {
        "id": "ejVQGg_MGOPv",
        "outputId": "98982b7d-dcd8-4d28-e7f0-46fe402a56fe",
        "colab": {
          "base_uri": "https://localhost:8080/",
          "height": 218
        }
      },
      "source": [
        "y_boston"
      ],
      "execution_count": null,
      "outputs": [
        {
          "output_type": "execute_result",
          "data": {
            "text/plain": [
              "0      0.595469\n",
              "1      0.517799\n",
              "2      0.941748\n",
              "3      0.899676\n",
              "4      0.990291\n",
              "         ...   \n",
              "501    0.543689\n",
              "502    0.485437\n",
              "503    0.592233\n",
              "504    0.530744\n",
              "505    0.203883\n",
              "Name: preco, Length: 506, dtype: float64"
            ]
          },
          "metadata": {
            "tags": []
          },
          "execution_count": 220
        }
      ]
    },
    {
      "cell_type": "code",
      "metadata": {
        "id": "5_Y_uS4EGOU9",
        "outputId": "bad754cd-c991-48af-a7b3-7d5d04a30160",
        "colab": {
          "base_uri": "https://localhost:8080/",
          "height": 482
        }
      },
      "source": [
        "#matriz de correlação\n",
        "correlacoes = df_boston.corr()\n",
        "correlacoes"
      ],
      "execution_count": null,
      "outputs": [
        {
          "output_type": "execute_result",
          "data": {
            "text/html": [
              "<div>\n",
              "<style scoped>\n",
              "    .dataframe tbody tr th:only-of-type {\n",
              "        vertical-align: middle;\n",
              "    }\n",
              "\n",
              "    .dataframe tbody tr th {\n",
              "        vertical-align: top;\n",
              "    }\n",
              "\n",
              "    .dataframe thead th {\n",
              "        text-align: right;\n",
              "    }\n",
              "</style>\n",
              "<table border=\"1\" class=\"dataframe\">\n",
              "  <thead>\n",
              "    <tr style=\"text-align: right;\">\n",
              "      <th></th>\n",
              "      <th>crim</th>\n",
              "      <th>zn</th>\n",
              "      <th>indus</th>\n",
              "      <th>chas</th>\n",
              "      <th>nox</th>\n",
              "      <th>rm</th>\n",
              "      <th>age</th>\n",
              "      <th>dis</th>\n",
              "      <th>rad</th>\n",
              "      <th>tax</th>\n",
              "      <th>ptratio</th>\n",
              "      <th>b</th>\n",
              "      <th>lstat</th>\n",
              "      <th>preco</th>\n",
              "    </tr>\n",
              "  </thead>\n",
              "  <tbody>\n",
              "    <tr>\n",
              "      <th>crim</th>\n",
              "      <td>1.000000</td>\n",
              "      <td>-0.295162</td>\n",
              "      <td>0.588655</td>\n",
              "      <td>-0.014841</td>\n",
              "      <td>0.625434</td>\n",
              "      <td>-0.151322</td>\n",
              "      <td>0.458455</td>\n",
              "      <td>-0.488797</td>\n",
              "      <td>0.797086</td>\n",
              "      <td>0.761196</td>\n",
              "      <td>0.332184</td>\n",
              "      <td>-0.250042</td>\n",
              "      <td>0.395124</td>\n",
              "      <td>-0.423200</td>\n",
              "    </tr>\n",
              "    <tr>\n",
              "      <th>zn</th>\n",
              "      <td>-0.295162</td>\n",
              "      <td>1.000000</td>\n",
              "      <td>-0.446895</td>\n",
              "      <td>-0.061900</td>\n",
              "      <td>-0.396811</td>\n",
              "      <td>0.254585</td>\n",
              "      <td>-0.378445</td>\n",
              "      <td>0.520028</td>\n",
              "      <td>-0.270816</td>\n",
              "      <td>-0.359608</td>\n",
              "      <td>-0.251374</td>\n",
              "      <td>0.169226</td>\n",
              "      <td>-0.320980</td>\n",
              "      <td>0.327165</td>\n",
              "    </tr>\n",
              "    <tr>\n",
              "      <th>indus</th>\n",
              "      <td>0.588655</td>\n",
              "      <td>-0.446895</td>\n",
              "      <td>1.000000</td>\n",
              "      <td>0.072817</td>\n",
              "      <td>0.763651</td>\n",
              "      <td>-0.371376</td>\n",
              "      <td>0.644779</td>\n",
              "      <td>-0.704480</td>\n",
              "      <td>0.595129</td>\n",
              "      <td>0.720760</td>\n",
              "      <td>0.332144</td>\n",
              "      <td>-0.316099</td>\n",
              "      <td>0.599086</td>\n",
              "      <td>-0.587373</td>\n",
              "    </tr>\n",
              "    <tr>\n",
              "      <th>chas</th>\n",
              "      <td>-0.014841</td>\n",
              "      <td>-0.061900</td>\n",
              "      <td>0.072817</td>\n",
              "      <td>1.000000</td>\n",
              "      <td>0.100920</td>\n",
              "      <td>-0.035579</td>\n",
              "      <td>0.098094</td>\n",
              "      <td>-0.090664</td>\n",
              "      <td>-0.088627</td>\n",
              "      <td>-0.089806</td>\n",
              "      <td>-0.229175</td>\n",
              "      <td>-0.040222</td>\n",
              "      <td>0.011849</td>\n",
              "      <td>0.055430</td>\n",
              "    </tr>\n",
              "    <tr>\n",
              "      <th>nox</th>\n",
              "      <td>0.625434</td>\n",
              "      <td>-0.396811</td>\n",
              "      <td>0.763651</td>\n",
              "      <td>0.100920</td>\n",
              "      <td>1.000000</td>\n",
              "      <td>-0.305767</td>\n",
              "      <td>0.731470</td>\n",
              "      <td>-0.773815</td>\n",
              "      <td>0.611441</td>\n",
              "      <td>0.668023</td>\n",
              "      <td>0.234990</td>\n",
              "      <td>-0.332659</td>\n",
              "      <td>0.589775</td>\n",
              "      <td>-0.557076</td>\n",
              "    </tr>\n",
              "    <tr>\n",
              "      <th>rm</th>\n",
              "      <td>-0.151322</td>\n",
              "      <td>0.254585</td>\n",
              "      <td>-0.371376</td>\n",
              "      <td>-0.035579</td>\n",
              "      <td>-0.305767</td>\n",
              "      <td>1.000000</td>\n",
              "      <td>-0.258570</td>\n",
              "      <td>0.248824</td>\n",
              "      <td>-0.125438</td>\n",
              "      <td>-0.208653</td>\n",
              "      <td>-0.175433</td>\n",
              "      <td>0.152428</td>\n",
              "      <td>-0.530714</td>\n",
              "      <td>0.567371</td>\n",
              "    </tr>\n",
              "    <tr>\n",
              "      <th>age</th>\n",
              "      <td>0.458455</td>\n",
              "      <td>-0.378445</td>\n",
              "      <td>0.644779</td>\n",
              "      <td>0.098094</td>\n",
              "      <td>0.731470</td>\n",
              "      <td>-0.258570</td>\n",
              "      <td>1.000000</td>\n",
              "      <td>-0.742173</td>\n",
              "      <td>0.456022</td>\n",
              "      <td>0.506456</td>\n",
              "      <td>0.307892</td>\n",
              "      <td>-0.236587</td>\n",
              "      <td>0.601298</td>\n",
              "      <td>-0.533419</td>\n",
              "    </tr>\n",
              "    <tr>\n",
              "      <th>dis</th>\n",
              "      <td>-0.488797</td>\n",
              "      <td>0.520028</td>\n",
              "      <td>-0.704480</td>\n",
              "      <td>-0.090664</td>\n",
              "      <td>-0.773815</td>\n",
              "      <td>0.248824</td>\n",
              "      <td>-0.742173</td>\n",
              "      <td>1.000000</td>\n",
              "      <td>-0.504133</td>\n",
              "      <td>-0.551650</td>\n",
              "      <td>-0.316034</td>\n",
              "      <td>0.253852</td>\n",
              "      <td>-0.480916</td>\n",
              "      <td>0.440055</td>\n",
              "    </tr>\n",
              "    <tr>\n",
              "      <th>rad</th>\n",
              "      <td>0.797086</td>\n",
              "      <td>-0.270816</td>\n",
              "      <td>0.595129</td>\n",
              "      <td>-0.088627</td>\n",
              "      <td>0.611441</td>\n",
              "      <td>-0.125438</td>\n",
              "      <td>0.456022</td>\n",
              "      <td>-0.504133</td>\n",
              "      <td>1.000000</td>\n",
              "      <td>0.910228</td>\n",
              "      <td>0.468467</td>\n",
              "      <td>-0.238797</td>\n",
              "      <td>0.463429</td>\n",
              "      <td>-0.494158</td>\n",
              "    </tr>\n",
              "    <tr>\n",
              "      <th>tax</th>\n",
              "      <td>0.761196</td>\n",
              "      <td>-0.359608</td>\n",
              "      <td>0.720760</td>\n",
              "      <td>-0.089806</td>\n",
              "      <td>0.668023</td>\n",
              "      <td>-0.208653</td>\n",
              "      <td>0.506456</td>\n",
              "      <td>-0.551650</td>\n",
              "      <td>0.910228</td>\n",
              "      <td>1.000000</td>\n",
              "      <td>0.448557</td>\n",
              "      <td>-0.276187</td>\n",
              "      <td>0.523002</td>\n",
              "      <td>-0.572956</td>\n",
              "    </tr>\n",
              "    <tr>\n",
              "      <th>ptratio</th>\n",
              "      <td>0.332184</td>\n",
              "      <td>-0.251374</td>\n",
              "      <td>0.332144</td>\n",
              "      <td>-0.229175</td>\n",
              "      <td>0.234990</td>\n",
              "      <td>-0.175433</td>\n",
              "      <td>0.307892</td>\n",
              "      <td>-0.316034</td>\n",
              "      <td>0.468467</td>\n",
              "      <td>0.448557</td>\n",
              "      <td>1.000000</td>\n",
              "      <td>0.012889</td>\n",
              "      <td>0.345743</td>\n",
              "      <td>-0.407534</td>\n",
              "    </tr>\n",
              "    <tr>\n",
              "      <th>b</th>\n",
              "      <td>-0.250042</td>\n",
              "      <td>0.169226</td>\n",
              "      <td>-0.316099</td>\n",
              "      <td>-0.040222</td>\n",
              "      <td>-0.332659</td>\n",
              "      <td>0.152428</td>\n",
              "      <td>-0.236587</td>\n",
              "      <td>0.253852</td>\n",
              "      <td>-0.238797</td>\n",
              "      <td>-0.276187</td>\n",
              "      <td>0.012889</td>\n",
              "      <td>1.000000</td>\n",
              "      <td>-0.239797</td>\n",
              "      <td>0.233316</td>\n",
              "    </tr>\n",
              "    <tr>\n",
              "      <th>lstat</th>\n",
              "      <td>0.395124</td>\n",
              "      <td>-0.320980</td>\n",
              "      <td>0.599086</td>\n",
              "      <td>0.011849</td>\n",
              "      <td>0.589775</td>\n",
              "      <td>-0.530714</td>\n",
              "      <td>0.601298</td>\n",
              "      <td>-0.480916</td>\n",
              "      <td>0.463429</td>\n",
              "      <td>0.523002</td>\n",
              "      <td>0.345743</td>\n",
              "      <td>-0.239797</td>\n",
              "      <td>1.000000</td>\n",
              "      <td>-0.721872</td>\n",
              "    </tr>\n",
              "    <tr>\n",
              "      <th>preco</th>\n",
              "      <td>-0.423200</td>\n",
              "      <td>0.327165</td>\n",
              "      <td>-0.587373</td>\n",
              "      <td>0.055430</td>\n",
              "      <td>-0.557076</td>\n",
              "      <td>0.567371</td>\n",
              "      <td>-0.533419</td>\n",
              "      <td>0.440055</td>\n",
              "      <td>-0.494158</td>\n",
              "      <td>-0.572956</td>\n",
              "      <td>-0.407534</td>\n",
              "      <td>0.233316</td>\n",
              "      <td>-0.721872</td>\n",
              "      <td>1.000000</td>\n",
              "    </tr>\n",
              "  </tbody>\n",
              "</table>\n",
              "</div>"
            ],
            "text/plain": [
              "             crim        zn     indus  ...         b     lstat     preco\n",
              "crim     1.000000 -0.295162  0.588655  ... -0.250042  0.395124 -0.423200\n",
              "zn      -0.295162  1.000000 -0.446895  ...  0.169226 -0.320980  0.327165\n",
              "indus    0.588655 -0.446895  1.000000  ... -0.316099  0.599086 -0.587373\n",
              "chas    -0.014841 -0.061900  0.072817  ... -0.040222  0.011849  0.055430\n",
              "nox      0.625434 -0.396811  0.763651  ... -0.332659  0.589775 -0.557076\n",
              "rm      -0.151322  0.254585 -0.371376  ...  0.152428 -0.530714  0.567371\n",
              "age      0.458455 -0.378445  0.644779  ... -0.236587  0.601298 -0.533419\n",
              "dis     -0.488797  0.520028 -0.704480  ...  0.253852 -0.480916  0.440055\n",
              "rad      0.797086 -0.270816  0.595129  ... -0.238797  0.463429 -0.494158\n",
              "tax      0.761196 -0.359608  0.720760  ... -0.276187  0.523002 -0.572956\n",
              "ptratio  0.332184 -0.251374  0.332144  ...  0.012889  0.345743 -0.407534\n",
              "b       -0.250042  0.169226 -0.316099  ...  1.000000 -0.239797  0.233316\n",
              "lstat    0.395124 -0.320980  0.599086  ... -0.239797  1.000000 -0.721872\n",
              "preco   -0.423200  0.327165 -0.587373  ...  0.233316 -0.721872  1.000000\n",
              "\n",
              "[14 rows x 14 columns]"
            ]
          },
          "metadata": {
            "tags": []
          },
          "execution_count": 221
        }
      ]
    },
    {
      "cell_type": "code",
      "metadata": {
        "id": "C7wGwA5LGOIr",
        "outputId": "0646f833-f6f0-490d-ba96-fed6c0601c1c",
        "colab": {
          "base_uri": "https://localhost:8080/",
          "height": 557
        }
      },
      "source": [
        "#grafico\n",
        "import seaborn as sns\n",
        "from string import ascii_letters\n",
        "import matplotlib.pyplot as plt\n",
        "\n",
        "sns.set_theme(style = \"white\")\n",
        "\n",
        "d = df_boston\n",
        "\n",
        "# Compute the correlation matrix\n",
        "corr = d.corr()\n",
        "\n",
        "# Generate a mask for the upper triangle\n",
        "mask = np.triu(np.ones_like(corr, dtype=bool))\n",
        "\n",
        "# Set up the matplotlib figure\n",
        "f, ax = plt.subplots(figsize=(11, 9))\n",
        "\n",
        "# Generate a custom diverging colormap\n",
        "cmap = sns.diverging_palette(230, 20, as_cmap=True)\n",
        "\n",
        "# Draw the heatmap with the mask and correct aspect ratio\n",
        "sns.heatmap(corr, mask=mask, cmap=cmap, vmax=.3, center=0,\n",
        "            square=True, linewidths=.5, cbar_kws={\"shrink\": .5})"
      ],
      "execution_count": null,
      "outputs": [
        {
          "output_type": "execute_result",
          "data": {
            "text/plain": [
              "<matplotlib.axes._subplots.AxesSubplot at 0x7fb0f62fd208>"
            ]
          },
          "metadata": {
            "tags": []
          },
          "execution_count": 222
        },
        {
          "output_type": "display_data",
          "data": {
            "image/png": "[encoded data removed]",
            "text/plain": [
              "<Figure size 792x648 with 2 Axes>"
            ]
          },
          "metadata": {
            "tags": []
          }
        }
      ]
    },
    {
      "cell_type": "code",
      "metadata": {
        "id": "tA7NUAIvGOF8"
      },
      "source": [
        "# Definindo os dataframes de treinamento e teste:\n",
        "from sklearn.model_selection import train_test_split\n",
        "\n",
        "X_treinamento, X_teste, y_treinamento, y_teste = train_test_split(X_boston, y_boston,\n",
        "                                                                  test_size = 0.2, random_state = 20111974)"
      ],
      "execution_count": null,
      "outputs": []
    },
    {
      "cell_type": "code",
      "metadata": {
        "id": "V1nBLjh9HQ8C"
      },
      "source": [
        "#Treinamento do modelo de Regressão Linear\n",
        "# Importa a library LinearRegression --> Para treinamento da Regressão Linear\n",
        "from sklearn.linear_model import LinearRegression\n",
        "\n",
        "# Library para statmodels\n",
        "import statsmodels.api as sm\n"
      ],
      "execution_count": null,
      "outputs": []
    },
    {
      "cell_type": "code",
      "metadata": {
        "id": "B0tq4mkKHj5b"
      },
      "source": [
        "# Instancia o objeto\n",
        "regressao_linear = LinearRegression()"
      ],
      "execution_count": null,
      "outputs": []
    },
    {
      "cell_type": "code",
      "metadata": {
        "id": "L9_xAusYHj9m",
        "outputId": "3207e0f1-e7f3-4a1b-a039-bad521a4bfdd",
        "colab": {
          "base_uri": "https://localhost:8080/",
          "height": 34
        }
      },
      "source": [
        "# Treina o modelo usando as amostras/dataset de treinamento: X_treinamento e y_treinamento \n",
        "regressao_linear.fit(X_treinamento, y_treinamento)"
      ],
      "execution_count": null,
      "outputs": [
        {
          "output_type": "execute_result",
          "data": {
            "text/plain": [
              "LinearRegression(copy_X=True, fit_intercept=True, n_jobs=None, normalize=False)"
            ]
          },
          "metadata": {
            "tags": []
          },
          "execution_count": 226
        }
      ]
    },
    {
      "cell_type": "code",
      "metadata": {
        "id": "rNGUZGqLHRBj",
        "outputId": "28af8ccc-75b2-4626-e1df-0c845ce73d00",
        "colab": {
          "base_uri": "https://localhost:8080/",
          "height": 34
        }
      },
      "source": [
        "# Valor do intercepto\n",
        "regressao_linear.intercept_"
      ],
      "execution_count": null,
      "outputs": [
        {
          "output_type": "execute_result",
          "data": {
            "text/plain": [
              "0.6775956584166337"
            ]
          },
          "metadata": {
            "tags": []
          },
          "execution_count": 227
        }
      ]
    },
    {
      "cell_type": "code",
      "metadata": {
        "id": "StdEvfZdHRFX",
        "outputId": "c07572be-f9bd-48a1-f76a-78c08ab57f49",
        "colab": {
          "base_uri": "https://localhost:8080/",
          "height": 432
        }
      },
      "source": [
        "# Coeficientes do modelo de Regressão Linear\n",
        "coeficientes_regressao_linear = pd.DataFrame([X_treinamento.columns, regressao_linear.coef_]).T\n",
        "coeficientes_regressao_linear = coeficientes_regressao_linear.rename(columns={0: 'Feature/variável/coluna', 1: 'Coeficientes'})\n",
        "coeficientes_regressao_linear"
      ],
      "execution_count": null,
      "outputs": [
        {
          "output_type": "execute_result",
          "data": {
            "text/html": [
              "<div>\n",
              "<style scoped>\n",
              "    .dataframe tbody tr th:only-of-type {\n",
              "        vertical-align: middle;\n",
              "    }\n",
              "\n",
              "    .dataframe tbody tr th {\n",
              "        vertical-align: top;\n",
              "    }\n",
              "\n",
              "    .dataframe thead th {\n",
              "        text-align: right;\n",
              "    }\n",
              "</style>\n",
              "<table border=\"1\" class=\"dataframe\">\n",
              "  <thead>\n",
              "    <tr style=\"text-align: right;\">\n",
              "      <th></th>\n",
              "      <th>Feature/variável/coluna</th>\n",
              "      <th>Coeficientes</th>\n",
              "    </tr>\n",
              "  </thead>\n",
              "  <tbody>\n",
              "    <tr>\n",
              "      <th>0</th>\n",
              "      <td>crim</td>\n",
              "      <td>0.0386056</td>\n",
              "    </tr>\n",
              "    <tr>\n",
              "      <th>1</th>\n",
              "      <td>zn</td>\n",
              "      <td>0.0124553</td>\n",
              "    </tr>\n",
              "    <tr>\n",
              "      <th>2</th>\n",
              "      <td>indus</td>\n",
              "      <td>-0.0279014</td>\n",
              "    </tr>\n",
              "    <tr>\n",
              "      <th>3</th>\n",
              "      <td>chas</td>\n",
              "      <td>0.0475162</td>\n",
              "    </tr>\n",
              "    <tr>\n",
              "      <th>4</th>\n",
              "      <td>nox</td>\n",
              "      <td>-0.0763647</td>\n",
              "    </tr>\n",
              "    <tr>\n",
              "      <th>5</th>\n",
              "      <td>rm</td>\n",
              "      <td>0.289945</td>\n",
              "    </tr>\n",
              "    <tr>\n",
              "      <th>6</th>\n",
              "      <td>age</td>\n",
              "      <td>-0.0862409</td>\n",
              "    </tr>\n",
              "    <tr>\n",
              "      <th>7</th>\n",
              "      <td>dis</td>\n",
              "      <td>-0.111448</td>\n",
              "    </tr>\n",
              "    <tr>\n",
              "      <th>8</th>\n",
              "      <td>rad</td>\n",
              "      <td>0.0404656</td>\n",
              "    </tr>\n",
              "    <tr>\n",
              "      <th>9</th>\n",
              "      <td>tax</td>\n",
              "      <td>-0.179776</td>\n",
              "    </tr>\n",
              "    <tr>\n",
              "      <th>10</th>\n",
              "      <td>ptratio</td>\n",
              "      <td>-0.0974588</td>\n",
              "    </tr>\n",
              "    <tr>\n",
              "      <th>11</th>\n",
              "      <td>b</td>\n",
              "      <td>0.0279651</td>\n",
              "    </tr>\n",
              "    <tr>\n",
              "      <th>12</th>\n",
              "      <td>lstat</td>\n",
              "      <td>-0.289011</td>\n",
              "    </tr>\n",
              "  </tbody>\n",
              "</table>\n",
              "</div>"
            ],
            "text/plain": [
              "   Feature/variável/coluna Coeficientes\n",
              "0                     crim    0.0386056\n",
              "1                       zn    0.0124553\n",
              "2                    indus   -0.0279014\n",
              "3                     chas    0.0475162\n",
              "4                      nox   -0.0763647\n",
              "5                       rm     0.289945\n",
              "6                      age   -0.0862409\n",
              "7                      dis    -0.111448\n",
              "8                      rad    0.0404656\n",
              "9                      tax    -0.179776\n",
              "10                 ptratio   -0.0974588\n",
              "11                       b    0.0279651\n",
              "12                   lstat    -0.289011"
            ]
          },
          "metadata": {
            "tags": []
          },
          "execution_count": 228
        }
      ]
    },
    {
      "cell_type": "code",
      "metadata": {
        "id": "aKX5nsjuHRLD",
        "outputId": "ac0b0fe0-fbb2-470f-8c31-9209ca1a3323",
        "colab": {
          "base_uri": "https://localhost:8080/",
          "height": 638
        }
      },
      "source": [
        "X2_treinamento = sm.add_constant(X_treinamento)\n",
        "lm_sm = sm.OLS(y_treinamento, X2_treinamento).fit()\n",
        "print(lm_sm.summary())"
      ],
      "execution_count": null,
      "outputs": [
        {
          "output_type": "stream",
          "text": [
            "                            OLS Regression Results                            \n",
            "==============================================================================\n",
            "Dep. Variable:                  preco   R-squared:                       0.645\n",
            "Model:                            OLS   Adj. R-squared:                  0.633\n",
            "Method:                 Least Squares   F-statistic:                     54.39\n",
            "Date:                Tue, 27 Oct 2020   Prob (F-statistic):           3.52e-79\n",
            "Time:                        03:49:33   Log-Likelihood:                 290.46\n",
            "No. Observations:                 404   AIC:                            -552.9\n",
            "Df Residuals:                     390   BIC:                            -496.9\n",
            "Df Model:                          13                                         \n",
            "Covariance Type:            nonrobust                                         \n",
            "==============================================================================\n",
            "                 coef    std err          t      P>|t|      [0.025      0.975]\n",
            "------------------------------------------------------------------------------\n",
            "const          0.6776      0.051     13.168      0.000       0.576       0.779\n",
            "crim           0.0386      0.049      0.783      0.434      -0.058       0.136\n",
            "zn             0.0125      0.029      0.434      0.664      -0.044       0.069\n",
            "indus         -0.0279      0.046     -0.603      0.547      -0.119       0.063\n",
            "chas           0.0475      0.043      1.115      0.266      -0.036       0.131\n",
            "nox           -0.0764      0.054     -1.423      0.156      -0.182       0.029\n",
            "rm             0.2899      0.041      7.073      0.000       0.209       0.371\n",
            "age           -0.0862      0.035     -2.461      0.014      -0.155      -0.017\n",
            "dis           -0.1114      0.046     -2.431      0.016      -0.202      -0.021\n",
            "rad            0.0405      0.045      0.894      0.372      -0.049       0.129\n",
            "tax           -0.1798      0.054     -3.315      0.001      -0.286      -0.073\n",
            "ptratio       -0.0975      0.032     -3.002      0.003      -0.161      -0.034\n",
            "b              0.0280      0.026      1.072      0.284      -0.023       0.079\n",
            "lstat         -0.2890      0.040     -7.157      0.000      -0.368      -0.210\n",
            "==============================================================================\n",
            "Omnibus:                        8.297   Durbin-Watson:                   2.057\n",
            "Prob(Omnibus):                  0.016   Jarque-Bera (JB):               10.190\n",
            "Skew:                           0.210   Prob(JB):                      0.00613\n",
            "Kurtosis:                       3.655   Cond. No.                         23.4\n",
            "==============================================================================\n",
            "\n",
            "Warnings:\n",
            "[1] Standard Errors assume that the covariance matrix of the errors is correctly specified.\n"
          ],
          "name": "stdout"
        }
      ]
    },
    {
      "cell_type": "code",
      "metadata": {
        "id": "fa-fdrhRIbaH"
      },
      "source": [
        ""
      ],
      "execution_count": null,
      "outputs": []
    },
    {
      "cell_type": "code",
      "metadata": {
        "id": "4kUfK6FnIbgh"
      },
      "source": [
        ""
      ],
      "execution_count": null,
      "outputs": []
    },
    {
      "cell_type": "code",
      "metadata": {
        "id": "4Cxb_2kKIbqS"
      },
      "source": [
        ""
      ],
      "execution_count": null,
      "outputs": []
    },
    {
      "cell_type": "code",
      "metadata": {
        "id": "EQ5D536MIbxz"
      },
      "source": [
        ""
      ],
      "execution_count": null,
      "outputs": []
    },
    {
      "cell_type": "code",
      "metadata": {
        "id": "6EQMQxg9Ibu9"
      },
      "source": [
        ""
      ],
      "execution_count": null,
      "outputs": []
    },
    {
      "cell_type": "code",
      "metadata": {
        "id": "duJ6zEHoIbmV"
      },
      "source": [
        ""
      ],
      "execution_count": null,
      "outputs": []
    },
    {
      "cell_type": "code",
      "metadata": {
        "id": "v5hMo5HAIbXP"
      },
      "source": [
        ""
      ],
      "execution_count": null,
      "outputs": []
    },
    {
      "cell_type": "code",
      "metadata": {
        "id": "s5pFX07ZHQ_g"
      },
      "source": [
        ""
      ],
      "execution_count": null,
      "outputs": []
    },
    {
      "cell_type": "code",
      "metadata": {
        "id": "xYCtfcA5GOEM"
      },
      "source": [
        ""
      ],
      "execution_count": null,
      "outputs": []
    },
    {
      "cell_type": "markdown",
      "metadata": {
        "id": "H71da4bIO4kI"
      },
      "source": [
        "### Data Transformation"
      ]
    },
    {
      "cell_type": "markdown",
      "metadata": {
        "id": "K-6YOdsTfciO"
      },
      "source": [
        "#### Normalização/padronização dos nomes das colunas"
      ]
    },
    {
      "cell_type": "code",
      "metadata": {
        "id": "L8OJEapufhq4"
      },
      "source": [
        "df_boston.columns = [col.lower() for col in df_boston.columns]"
      ],
      "execution_count": null,
      "outputs": []
    },
    {
      "cell_type": "code",
      "metadata": {
        "id": "uRinX-5ofol_",
        "outputId": "53c577eb-bfad-47ae-bbb7-1b7969b121e2",
        "colab": {
          "base_uri": "https://localhost:8080/",
          "height": 195
        }
      },
      "source": [
        "df_boston.head()"
      ],
      "execution_count": null,
      "outputs": [
        {
          "output_type": "execute_result",
          "data": {
            "text/html": [
              "<div>\n",
              "<style scoped>\n",
              "    .dataframe tbody tr th:only-of-type {\n",
              "        vertical-align: middle;\n",
              "    }\n",
              "\n",
              "    .dataframe tbody tr th {\n",
              "        vertical-align: top;\n",
              "    }\n",
              "\n",
              "    .dataframe thead th {\n",
              "        text-align: right;\n",
              "    }\n",
              "</style>\n",
              "<table border=\"1\" class=\"dataframe\">\n",
              "  <thead>\n",
              "    <tr style=\"text-align: right;\">\n",
              "      <th></th>\n",
              "      <th>crim</th>\n",
              "      <th>zn</th>\n",
              "      <th>indus</th>\n",
              "      <th>chas</th>\n",
              "      <th>nox</th>\n",
              "      <th>rm</th>\n",
              "      <th>age</th>\n",
              "      <th>dis</th>\n",
              "      <th>rad</th>\n",
              "      <th>tax</th>\n",
              "      <th>ptratio</th>\n",
              "      <th>b</th>\n",
              "      <th>lstat</th>\n",
              "      <th>preco</th>\n",
              "    </tr>\n",
              "  </thead>\n",
              "  <tbody>\n",
              "    <tr>\n",
              "      <th>0</th>\n",
              "      <td>0.00632</td>\n",
              "      <td>18.0</td>\n",
              "      <td>2.31</td>\n",
              "      <td>0.0</td>\n",
              "      <td>0.538</td>\n",
              "      <td>6.575</td>\n",
              "      <td>65.2</td>\n",
              "      <td>4.0900</td>\n",
              "      <td>1.0</td>\n",
              "      <td>296.0</td>\n",
              "      <td>15.3</td>\n",
              "      <td>396.90</td>\n",
              "      <td>4.98</td>\n",
              "      <td>24.0</td>\n",
              "    </tr>\n",
              "    <tr>\n",
              "      <th>1</th>\n",
              "      <td>0.02731</td>\n",
              "      <td>0.0</td>\n",
              "      <td>7.07</td>\n",
              "      <td>0.0</td>\n",
              "      <td>0.469</td>\n",
              "      <td>6.421</td>\n",
              "      <td>78.9</td>\n",
              "      <td>4.9671</td>\n",
              "      <td>2.0</td>\n",
              "      <td>242.0</td>\n",
              "      <td>17.8</td>\n",
              "      <td>396.90</td>\n",
              "      <td>9.14</td>\n",
              "      <td>21.6</td>\n",
              "    </tr>\n",
              "    <tr>\n",
              "      <th>2</th>\n",
              "      <td>0.02729</td>\n",
              "      <td>0.0</td>\n",
              "      <td>7.07</td>\n",
              "      <td>0.0</td>\n",
              "      <td>0.469</td>\n",
              "      <td>7.185</td>\n",
              "      <td>61.1</td>\n",
              "      <td>4.9671</td>\n",
              "      <td>2.0</td>\n",
              "      <td>242.0</td>\n",
              "      <td>17.8</td>\n",
              "      <td>392.83</td>\n",
              "      <td>4.03</td>\n",
              "      <td>34.7</td>\n",
              "    </tr>\n",
              "    <tr>\n",
              "      <th>3</th>\n",
              "      <td>0.03237</td>\n",
              "      <td>0.0</td>\n",
              "      <td>2.18</td>\n",
              "      <td>0.0</td>\n",
              "      <td>0.458</td>\n",
              "      <td>6.998</td>\n",
              "      <td>45.8</td>\n",
              "      <td>6.0622</td>\n",
              "      <td>3.0</td>\n",
              "      <td>222.0</td>\n",
              "      <td>18.7</td>\n",
              "      <td>394.63</td>\n",
              "      <td>2.94</td>\n",
              "      <td>33.4</td>\n",
              "    </tr>\n",
              "    <tr>\n",
              "      <th>4</th>\n",
              "      <td>0.06905</td>\n",
              "      <td>0.0</td>\n",
              "      <td>2.18</td>\n",
              "      <td>0.0</td>\n",
              "      <td>0.458</td>\n",
              "      <td>7.147</td>\n",
              "      <td>54.2</td>\n",
              "      <td>6.0622</td>\n",
              "      <td>3.0</td>\n",
              "      <td>222.0</td>\n",
              "      <td>18.7</td>\n",
              "      <td>396.90</td>\n",
              "      <td>5.33</td>\n",
              "      <td>36.2</td>\n",
              "    </tr>\n",
              "  </tbody>\n",
              "</table>\n",
              "</div>"
            ],
            "text/plain": [
              "      crim    zn  indus  chas    nox  ...    tax  ptratio       b  lstat  preco\n",
              "0  0.00632  18.0   2.31   0.0  0.538  ...  296.0     15.3  396.90   4.98   24.0\n",
              "1  0.02731   0.0   7.07   0.0  0.469  ...  242.0     17.8  396.90   9.14   21.6\n",
              "2  0.02729   0.0   7.07   0.0  0.469  ...  242.0     17.8  392.83   4.03   34.7\n",
              "3  0.03237   0.0   2.18   0.0  0.458  ...  222.0     18.7  394.63   2.94   33.4\n",
              "4  0.06905   0.0   2.18   0.0  0.458  ...  222.0     18.7  396.90   5.33   36.2\n",
              "\n",
              "[5 rows x 14 columns]"
            ]
          },
          "metadata": {
            "tags": []
          },
          "execution_count": 143
        }
      ]
    },
    {
      "cell_type": "markdown",
      "metadata": {
        "id": "CMDh5jyqekmr"
      },
      "source": [
        "#### Outliers"
      ]
    },
    {
      "cell_type": "markdown",
      "metadata": {
        "id": "jJIG0jJQf6em"
      },
      "source": [
        ""
      ]
    },
    {
      "cell_type": "markdown",
      "metadata": {
        "id": "FgYPzlvfemFc"
      },
      "source": [
        "#### Missing values"
      ]
    },
    {
      "cell_type": "code",
      "metadata": {
        "id": "BAjw7UhJen0D",
        "outputId": "f630ba19-5f37-4ee9-a24c-c77ddf8a62da",
        "colab": {
          "base_uri": "https://localhost:8080/",
          "height": 269
        }
      },
      "source": [
        "# Missing values por colunas/variáveis\n",
        "df_boston.isna().sum()"
      ],
      "execution_count": null,
      "outputs": [
        {
          "output_type": "execute_result",
          "data": {
            "text/plain": [
              "crim       0\n",
              "zn         0\n",
              "indus      0\n",
              "chas       0\n",
              "nox        0\n",
              "rm         0\n",
              "age        0\n",
              "dis        0\n",
              "rad        0\n",
              "tax        0\n",
              "ptratio    0\n",
              "b          0\n",
              "lstat      0\n",
              "preco      0\n",
              "dtype: int64"
            ]
          },
          "metadata": {
            "tags": []
          },
          "execution_count": 144
        }
      ]
    },
    {
      "cell_type": "code",
      "metadata": {
        "id": "0Yp8g7hxfQli",
        "outputId": "7bf0ec71-161c-49e6-ca27-0994c1a4c8d7",
        "colab": {
          "base_uri": "https://localhost:8080/",
          "height": 47
        }
      },
      "source": [
        "# Missing Values por linhas\n",
        "df_boston[df_boston.isnull().any(axis = 1)]"
      ],
      "execution_count": null,
      "outputs": [
        {
          "output_type": "execute_result",
          "data": {
            "text/html": [
              "<div>\n",
              "<style scoped>\n",
              "    .dataframe tbody tr th:only-of-type {\n",
              "        vertical-align: middle;\n",
              "    }\n",
              "\n",
              "    .dataframe tbody tr th {\n",
              "        vertical-align: top;\n",
              "    }\n",
              "\n",
              "    .dataframe thead th {\n",
              "        text-align: right;\n",
              "    }\n",
              "</style>\n",
              "<table border=\"1\" class=\"dataframe\">\n",
              "  <thead>\n",
              "    <tr style=\"text-align: right;\">\n",
              "      <th></th>\n",
              "      <th>crim</th>\n",
              "      <th>zn</th>\n",
              "      <th>indus</th>\n",
              "      <th>chas</th>\n",
              "      <th>nox</th>\n",
              "      <th>rm</th>\n",
              "      <th>age</th>\n",
              "      <th>dis</th>\n",
              "      <th>rad</th>\n",
              "      <th>tax</th>\n",
              "      <th>ptratio</th>\n",
              "      <th>b</th>\n",
              "      <th>lstat</th>\n",
              "      <th>preco</th>\n",
              "    </tr>\n",
              "  </thead>\n",
              "  <tbody>\n",
              "  </tbody>\n",
              "</table>\n",
              "</div>"
            ],
            "text/plain": [
              "Empty DataFrame\n",
              "Columns: [crim, zn, indus, chas, nox, rm, age, dis, rad, tax, ptratio, b, lstat, preco]\n",
              "Index: []"
            ]
          },
          "metadata": {
            "tags": []
          },
          "execution_count": 145
        }
      ]
    },
    {
      "cell_type": "markdown",
      "metadata": {
        "id": "5qmkTFLrf9MT"
      },
      "source": [
        "#### Estatísticas Descritivas"
      ]
    },
    {
      "cell_type": "code",
      "metadata": {
        "id": "Nprn3p_Wf_bn",
        "outputId": "b9cc45a2-9fae-425e-c055-98ec55983455",
        "colab": {
          "base_uri": "https://localhost:8080/",
          "height": 284
        }
      },
      "source": [
        "df_boston.describe()"
      ],
      "execution_count": null,
      "outputs": [
        {
          "output_type": "execute_result",
          "data": {
            "text/html": [
              "<div>\n",
              "<style scoped>\n",
              "    .dataframe tbody tr th:only-of-type {\n",
              "        vertical-align: middle;\n",
              "    }\n",
              "\n",
              "    .dataframe tbody tr th {\n",
              "        vertical-align: top;\n",
              "    }\n",
              "\n",
              "    .dataframe thead th {\n",
              "        text-align: right;\n",
              "    }\n",
              "</style>\n",
              "<table border=\"1\" class=\"dataframe\">\n",
              "  <thead>\n",
              "    <tr style=\"text-align: right;\">\n",
              "      <th></th>\n",
              "      <th>crim</th>\n",
              "      <th>zn</th>\n",
              "      <th>indus</th>\n",
              "      <th>chas</th>\n",
              "      <th>nox</th>\n",
              "      <th>rm</th>\n",
              "      <th>age</th>\n",
              "      <th>dis</th>\n",
              "      <th>rad</th>\n",
              "      <th>tax</th>\n",
              "      <th>ptratio</th>\n",
              "      <th>b</th>\n",
              "      <th>lstat</th>\n",
              "      <th>preco</th>\n",
              "    </tr>\n",
              "  </thead>\n",
              "  <tbody>\n",
              "    <tr>\n",
              "      <th>count</th>\n",
              "      <td>506.000000</td>\n",
              "      <td>506.000000</td>\n",
              "      <td>506.000000</td>\n",
              "      <td>506.000000</td>\n",
              "      <td>506.000000</td>\n",
              "      <td>506.000000</td>\n",
              "      <td>506.000000</td>\n",
              "      <td>506.000000</td>\n",
              "      <td>506.000000</td>\n",
              "      <td>506.000000</td>\n",
              "      <td>506.000000</td>\n",
              "      <td>506.000000</td>\n",
              "      <td>506.000000</td>\n",
              "      <td>506.000000</td>\n",
              "    </tr>\n",
              "    <tr>\n",
              "      <th>mean</th>\n",
              "      <td>3.613524</td>\n",
              "      <td>11.363636</td>\n",
              "      <td>11.136779</td>\n",
              "      <td>0.069170</td>\n",
              "      <td>0.554695</td>\n",
              "      <td>6.284634</td>\n",
              "      <td>68.574901</td>\n",
              "      <td>3.795043</td>\n",
              "      <td>9.549407</td>\n",
              "      <td>408.237154</td>\n",
              "      <td>18.455534</td>\n",
              "      <td>356.674032</td>\n",
              "      <td>12.653063</td>\n",
              "      <td>22.532806</td>\n",
              "    </tr>\n",
              "    <tr>\n",
              "      <th>std</th>\n",
              "      <td>8.601545</td>\n",
              "      <td>23.322453</td>\n",
              "      <td>6.860353</td>\n",
              "      <td>0.253994</td>\n",
              "      <td>0.115878</td>\n",
              "      <td>0.702617</td>\n",
              "      <td>28.148861</td>\n",
              "      <td>2.105710</td>\n",
              "      <td>8.707259</td>\n",
              "      <td>168.537116</td>\n",
              "      <td>2.164946</td>\n",
              "      <td>91.294864</td>\n",
              "      <td>7.141062</td>\n",
              "      <td>9.197104</td>\n",
              "    </tr>\n",
              "    <tr>\n",
              "      <th>min</th>\n",
              "      <td>0.006320</td>\n",
              "      <td>0.000000</td>\n",
              "      <td>0.460000</td>\n",
              "      <td>0.000000</td>\n",
              "      <td>0.385000</td>\n",
              "      <td>3.561000</td>\n",
              "      <td>2.900000</td>\n",
              "      <td>1.129600</td>\n",
              "      <td>1.000000</td>\n",
              "      <td>187.000000</td>\n",
              "      <td>12.600000</td>\n",
              "      <td>0.320000</td>\n",
              "      <td>1.730000</td>\n",
              "      <td>5.000000</td>\n",
              "    </tr>\n",
              "    <tr>\n",
              "      <th>25%</th>\n",
              "      <td>0.082045</td>\n",
              "      <td>0.000000</td>\n",
              "      <td>5.190000</td>\n",
              "      <td>0.000000</td>\n",
              "      <td>0.449000</td>\n",
              "      <td>5.885500</td>\n",
              "      <td>45.025000</td>\n",
              "      <td>2.100175</td>\n",
              "      <td>4.000000</td>\n",
              "      <td>279.000000</td>\n",
              "      <td>17.400000</td>\n",
              "      <td>375.377500</td>\n",
              "      <td>6.950000</td>\n",
              "      <td>17.025000</td>\n",
              "    </tr>\n",
              "    <tr>\n",
              "      <th>50%</th>\n",
              "      <td>0.256510</td>\n",
              "      <td>0.000000</td>\n",
              "      <td>9.690000</td>\n",
              "      <td>0.000000</td>\n",
              "      <td>0.538000</td>\n",
              "      <td>6.208500</td>\n",
              "      <td>77.500000</td>\n",
              "      <td>3.207450</td>\n",
              "      <td>5.000000</td>\n",
              "      <td>330.000000</td>\n",
              "      <td>19.050000</td>\n",
              "      <td>391.440000</td>\n",
              "      <td>11.360000</td>\n",
              "      <td>21.200000</td>\n",
              "    </tr>\n",
              "    <tr>\n",
              "      <th>75%</th>\n",
              "      <td>3.677083</td>\n",
              "      <td>12.500000</td>\n",
              "      <td>18.100000</td>\n",
              "      <td>0.000000</td>\n",
              "      <td>0.624000</td>\n",
              "      <td>6.623500</td>\n",
              "      <td>94.075000</td>\n",
              "      <td>5.188425</td>\n",
              "      <td>24.000000</td>\n",
              "      <td>666.000000</td>\n",
              "      <td>20.200000</td>\n",
              "      <td>396.225000</td>\n",
              "      <td>16.955000</td>\n",
              "      <td>25.000000</td>\n",
              "    </tr>\n",
              "    <tr>\n",
              "      <th>max</th>\n",
              "      <td>88.976200</td>\n",
              "      <td>100.000000</td>\n",
              "      <td>27.740000</td>\n",
              "      <td>1.000000</td>\n",
              "      <td>0.871000</td>\n",
              "      <td>8.780000</td>\n",
              "      <td>100.000000</td>\n",
              "      <td>12.126500</td>\n",
              "      <td>24.000000</td>\n",
              "      <td>711.000000</td>\n",
              "      <td>22.000000</td>\n",
              "      <td>396.900000</td>\n",
              "      <td>37.970000</td>\n",
              "      <td>50.000000</td>\n",
              "    </tr>\n",
              "  </tbody>\n",
              "</table>\n",
              "</div>"
            ],
            "text/plain": [
              "             crim          zn       indus  ...           b       lstat       preco\n",
              "count  506.000000  506.000000  506.000000  ...  506.000000  506.000000  506.000000\n",
              "mean     3.613524   11.363636   11.136779  ...  356.674032   12.653063   22.532806\n",
              "std      8.601545   23.322453    6.860353  ...   91.294864    7.141062    9.197104\n",
              "min      0.006320    0.000000    0.460000  ...    0.320000    1.730000    5.000000\n",
              "25%      0.082045    0.000000    5.190000  ...  375.377500    6.950000   17.025000\n",
              "50%      0.256510    0.000000    9.690000  ...  391.440000   11.360000   21.200000\n",
              "75%      3.677083   12.500000   18.100000  ...  396.225000   16.955000   25.000000\n",
              "max     88.976200  100.000000   27.740000  ...  396.900000   37.970000   50.000000\n",
              "\n",
              "[8 rows x 14 columns]"
            ]
          },
          "metadata": {
            "tags": []
          },
          "execution_count": 146
        }
      ]
    },
    {
      "cell_type": "markdown",
      "metadata": {
        "id": "1JimyY3SgECE"
      },
      "source": [
        "#### Análise de Correlação"
      ]
    },
    {
      "cell_type": "code",
      "metadata": {
        "id": "jScHq7eTgIpm",
        "outputId": "1394966a-472e-4ec4-8de3-715d7d586c61",
        "colab": {
          "base_uri": "https://localhost:8080/",
          "height": 462
        }
      },
      "source": [
        "correlacoes = df_boston.corr()\n",
        "correlacoes"
      ],
      "execution_count": null,
      "outputs": [
        {
          "output_type": "execute_result",
          "data": {
            "text/html": [
              "<div>\n",
              "<style scoped>\n",
              "    .dataframe tbody tr th:only-of-type {\n",
              "        vertical-align: middle;\n",
              "    }\n",
              "\n",
              "    .dataframe tbody tr th {\n",
              "        vertical-align: top;\n",
              "    }\n",
              "\n",
              "    .dataframe thead th {\n",
              "        text-align: right;\n",
              "    }\n",
              "</style>\n",
              "<table border=\"1\" class=\"dataframe\">\n",
              "  <thead>\n",
              "    <tr style=\"text-align: right;\">\n",
              "      <th></th>\n",
              "      <th>crim</th>\n",
              "      <th>zn</th>\n",
              "      <th>indus</th>\n",
              "      <th>chas</th>\n",
              "      <th>nox</th>\n",
              "      <th>rm</th>\n",
              "      <th>age</th>\n",
              "      <th>dis</th>\n",
              "      <th>rad</th>\n",
              "      <th>tax</th>\n",
              "      <th>ptratio</th>\n",
              "      <th>b</th>\n",
              "      <th>lstat</th>\n",
              "      <th>preco</th>\n",
              "    </tr>\n",
              "  </thead>\n",
              "  <tbody>\n",
              "    <tr>\n",
              "      <th>crim</th>\n",
              "      <td>1.000000</td>\n",
              "      <td>-0.200469</td>\n",
              "      <td>0.406583</td>\n",
              "      <td>-0.055892</td>\n",
              "      <td>0.420972</td>\n",
              "      <td>-0.219247</td>\n",
              "      <td>0.352734</td>\n",
              "      <td>-0.379670</td>\n",
              "      <td>0.625505</td>\n",
              "      <td>0.582764</td>\n",
              "      <td>0.289946</td>\n",
              "      <td>-0.385064</td>\n",
              "      <td>0.455621</td>\n",
              "      <td>-0.388305</td>\n",
              "    </tr>\n",
              "    <tr>\n",
              "      <th>zn</th>\n",
              "      <td>-0.200469</td>\n",
              "      <td>1.000000</td>\n",
              "      <td>-0.533828</td>\n",
              "      <td>-0.042697</td>\n",
              "      <td>-0.516604</td>\n",
              "      <td>0.311991</td>\n",
              "      <td>-0.569537</td>\n",
              "      <td>0.664408</td>\n",
              "      <td>-0.311948</td>\n",
              "      <td>-0.314563</td>\n",
              "      <td>-0.391679</td>\n",
              "      <td>0.175520</td>\n",
              "      <td>-0.412995</td>\n",
              "      <td>0.360445</td>\n",
              "    </tr>\n",
              "    <tr>\n",
              "      <th>indus</th>\n",
              "      <td>0.406583</td>\n",
              "      <td>-0.533828</td>\n",
              "      <td>1.000000</td>\n",
              "      <td>0.062938</td>\n",
              "      <td>0.763651</td>\n",
              "      <td>-0.391676</td>\n",
              "      <td>0.644779</td>\n",
              "      <td>-0.708027</td>\n",
              "      <td>0.595129</td>\n",
              "      <td>0.720760</td>\n",
              "      <td>0.383248</td>\n",
              "      <td>-0.356977</td>\n",
              "      <td>0.603800</td>\n",
              "      <td>-0.483725</td>\n",
              "    </tr>\n",
              "    <tr>\n",
              "      <th>chas</th>\n",
              "      <td>-0.055892</td>\n",
              "      <td>-0.042697</td>\n",
              "      <td>0.062938</td>\n",
              "      <td>1.000000</td>\n",
              "      <td>0.091203</td>\n",
              "      <td>0.091251</td>\n",
              "      <td>0.086518</td>\n",
              "      <td>-0.099176</td>\n",
              "      <td>-0.007368</td>\n",
              "      <td>-0.035587</td>\n",
              "      <td>-0.121515</td>\n",
              "      <td>0.048788</td>\n",
              "      <td>-0.053929</td>\n",
              "      <td>0.175260</td>\n",
              "    </tr>\n",
              "    <tr>\n",
              "      <th>nox</th>\n",
              "      <td>0.420972</td>\n",
              "      <td>-0.516604</td>\n",
              "      <td>0.763651</td>\n",
              "      <td>0.091203</td>\n",
              "      <td>1.000000</td>\n",
              "      <td>-0.302188</td>\n",
              "      <td>0.731470</td>\n",
              "      <td>-0.769230</td>\n",
              "      <td>0.611441</td>\n",
              "      <td>0.668023</td>\n",
              "      <td>0.188933</td>\n",
              "      <td>-0.380051</td>\n",
              "      <td>0.590879</td>\n",
              "      <td>-0.427321</td>\n",
              "    </tr>\n",
              "    <tr>\n",
              "      <th>rm</th>\n",
              "      <td>-0.219247</td>\n",
              "      <td>0.311991</td>\n",
              "      <td>-0.391676</td>\n",
              "      <td>0.091251</td>\n",
              "      <td>-0.302188</td>\n",
              "      <td>1.000000</td>\n",
              "      <td>-0.240265</td>\n",
              "      <td>0.205246</td>\n",
              "      <td>-0.209847</td>\n",
              "      <td>-0.292048</td>\n",
              "      <td>-0.355501</td>\n",
              "      <td>0.128069</td>\n",
              "      <td>-0.613808</td>\n",
              "      <td>0.695360</td>\n",
              "    </tr>\n",
              "    <tr>\n",
              "      <th>age</th>\n",
              "      <td>0.352734</td>\n",
              "      <td>-0.569537</td>\n",
              "      <td>0.644779</td>\n",
              "      <td>0.086518</td>\n",
              "      <td>0.731470</td>\n",
              "      <td>-0.240265</td>\n",
              "      <td>1.000000</td>\n",
              "      <td>-0.747881</td>\n",
              "      <td>0.456022</td>\n",
              "      <td>0.506456</td>\n",
              "      <td>0.261515</td>\n",
              "      <td>-0.273534</td>\n",
              "      <td>0.602339</td>\n",
              "      <td>-0.376955</td>\n",
              "    </tr>\n",
              "    <tr>\n",
              "      <th>dis</th>\n",
              "      <td>-0.379670</td>\n",
              "      <td>0.664408</td>\n",
              "      <td>-0.708027</td>\n",
              "      <td>-0.099176</td>\n",
              "      <td>-0.769230</td>\n",
              "      <td>0.205246</td>\n",
              "      <td>-0.747881</td>\n",
              "      <td>1.000000</td>\n",
              "      <td>-0.494588</td>\n",
              "      <td>-0.534432</td>\n",
              "      <td>-0.232471</td>\n",
              "      <td>0.291512</td>\n",
              "      <td>-0.496996</td>\n",
              "      <td>0.249929</td>\n",
              "    </tr>\n",
              "    <tr>\n",
              "      <th>rad</th>\n",
              "      <td>0.625505</td>\n",
              "      <td>-0.311948</td>\n",
              "      <td>0.595129</td>\n",
              "      <td>-0.007368</td>\n",
              "      <td>0.611441</td>\n",
              "      <td>-0.209847</td>\n",
              "      <td>0.456022</td>\n",
              "      <td>-0.494588</td>\n",
              "      <td>1.000000</td>\n",
              "      <td>0.910228</td>\n",
              "      <td>0.464741</td>\n",
              "      <td>-0.444413</td>\n",
              "      <td>0.488676</td>\n",
              "      <td>-0.381626</td>\n",
              "    </tr>\n",
              "    <tr>\n",
              "      <th>tax</th>\n",
              "      <td>0.582764</td>\n",
              "      <td>-0.314563</td>\n",
              "      <td>0.720760</td>\n",
              "      <td>-0.035587</td>\n",
              "      <td>0.668023</td>\n",
              "      <td>-0.292048</td>\n",
              "      <td>0.506456</td>\n",
              "      <td>-0.534432</td>\n",
              "      <td>0.910228</td>\n",
              "      <td>1.000000</td>\n",
              "      <td>0.460853</td>\n",
              "      <td>-0.441808</td>\n",
              "      <td>0.543993</td>\n",
              "      <td>-0.468536</td>\n",
              "    </tr>\n",
              "    <tr>\n",
              "      <th>ptratio</th>\n",
              "      <td>0.289946</td>\n",
              "      <td>-0.391679</td>\n",
              "      <td>0.383248</td>\n",
              "      <td>-0.121515</td>\n",
              "      <td>0.188933</td>\n",
              "      <td>-0.355501</td>\n",
              "      <td>0.261515</td>\n",
              "      <td>-0.232471</td>\n",
              "      <td>0.464741</td>\n",
              "      <td>0.460853</td>\n",
              "      <td>1.000000</td>\n",
              "      <td>-0.177383</td>\n",
              "      <td>0.374044</td>\n",
              "      <td>-0.507787</td>\n",
              "    </tr>\n",
              "    <tr>\n",
              "      <th>b</th>\n",
              "      <td>-0.385064</td>\n",
              "      <td>0.175520</td>\n",
              "      <td>-0.356977</td>\n",
              "      <td>0.048788</td>\n",
              "      <td>-0.380051</td>\n",
              "      <td>0.128069</td>\n",
              "      <td>-0.273534</td>\n",
              "      <td>0.291512</td>\n",
              "      <td>-0.444413</td>\n",
              "      <td>-0.441808</td>\n",
              "      <td>-0.177383</td>\n",
              "      <td>1.000000</td>\n",
              "      <td>-0.366087</td>\n",
              "      <td>0.333461</td>\n",
              "    </tr>\n",
              "    <tr>\n",
              "      <th>lstat</th>\n",
              "      <td>0.455621</td>\n",
              "      <td>-0.412995</td>\n",
              "      <td>0.603800</td>\n",
              "      <td>-0.053929</td>\n",
              "      <td>0.590879</td>\n",
              "      <td>-0.613808</td>\n",
              "      <td>0.602339</td>\n",
              "      <td>-0.496996</td>\n",
              "      <td>0.488676</td>\n",
              "      <td>0.543993</td>\n",
              "      <td>0.374044</td>\n",
              "      <td>-0.366087</td>\n",
              "      <td>1.000000</td>\n",
              "      <td>-0.737663</td>\n",
              "    </tr>\n",
              "    <tr>\n",
              "      <th>preco</th>\n",
              "      <td>-0.388305</td>\n",
              "      <td>0.360445</td>\n",
              "      <td>-0.483725</td>\n",
              "      <td>0.175260</td>\n",
              "      <td>-0.427321</td>\n",
              "      <td>0.695360</td>\n",
              "      <td>-0.376955</td>\n",
              "      <td>0.249929</td>\n",
              "      <td>-0.381626</td>\n",
              "      <td>-0.468536</td>\n",
              "      <td>-0.507787</td>\n",
              "      <td>0.333461</td>\n",
              "      <td>-0.737663</td>\n",
              "      <td>1.000000</td>\n",
              "    </tr>\n",
              "  </tbody>\n",
              "</table>\n",
              "</div>"
            ],
            "text/plain": [
              "             crim        zn     indus  ...         b     lstat     preco\n",
              "crim     1.000000 -0.200469  0.406583  ... -0.385064  0.455621 -0.388305\n",
              "zn      -0.200469  1.000000 -0.533828  ...  0.175520 -0.412995  0.360445\n",
              "indus    0.406583 -0.533828  1.000000  ... -0.356977  0.603800 -0.483725\n",
              "chas    -0.055892 -0.042697  0.062938  ...  0.048788 -0.053929  0.175260\n",
              "nox      0.420972 -0.516604  0.763651  ... -0.380051  0.590879 -0.427321\n",
              "rm      -0.219247  0.311991 -0.391676  ...  0.128069 -0.613808  0.695360\n",
              "age      0.352734 -0.569537  0.644779  ... -0.273534  0.602339 -0.376955\n",
              "dis     -0.379670  0.664408 -0.708027  ...  0.291512 -0.496996  0.249929\n",
              "rad      0.625505 -0.311948  0.595129  ... -0.444413  0.488676 -0.381626\n",
              "tax      0.582764 -0.314563  0.720760  ... -0.441808  0.543993 -0.468536\n",
              "ptratio  0.289946 -0.391679  0.383248  ... -0.177383  0.374044 -0.507787\n",
              "b       -0.385064  0.175520 -0.356977  ...  1.000000 -0.366087  0.333461\n",
              "lstat    0.455621 -0.412995  0.603800  ... -0.366087  1.000000 -0.737663\n",
              "preco   -0.388305  0.360445 -0.483725  ...  0.333461 -0.737663  1.000000\n",
              "\n",
              "[14 rows x 14 columns]"
            ]
          },
          "metadata": {
            "tags": []
          },
          "execution_count": 147
        }
      ]
    },
    {
      "cell_type": "markdown",
      "metadata": {
        "id": "AxQp7xqdgTJP"
      },
      "source": [
        "##### Gráfico das correlações entre as features/variáveis/colunas\n",
        "Source: https://seaborn.pydata.org/examples/many_pairwise_correlations.html\n",
        "\n"
      ]
    },
    {
      "cell_type": "code",
      "metadata": {
        "id": "KOiH2X-WgqmN",
        "outputId": "4932ad5b-97c3-410a-c780-aa14cc4eb715",
        "colab": {
          "base_uri": "https://localhost:8080/",
          "height": 557
        }
      },
      "source": [
        "import seaborn as sns\n",
        "from string import ascii_letters\n",
        "import matplotlib.pyplot as plt\n",
        "\n",
        "sns.set_theme(style = \"white\")\n",
        "\n",
        "d = df_boston\n",
        "\n",
        "# Compute the correlation matrix\n",
        "corr = d.corr()\n",
        "\n",
        "# Generate a mask for the upper triangle\n",
        "mask = np.triu(np.ones_like(corr, dtype=bool))\n",
        "\n",
        "# Set up the matplotlib figure\n",
        "f, ax = plt.subplots(figsize=(11, 9))\n",
        "\n",
        "# Generate a custom diverging colormap\n",
        "cmap = sns.diverging_palette(230, 20, as_cmap=True)\n",
        "\n",
        "# Draw the heatmap with the mask and correct aspect ratio\n",
        "sns.heatmap(corr, mask=mask, cmap=cmap, vmax=.3, center=0,\n",
        "            square=True, linewidths=.5, cbar_kws={\"shrink\": .5})"
      ],
      "execution_count": null,
      "outputs": [
        {
          "output_type": "execute_result",
          "data": {
            "text/plain": [
              "<matplotlib.axes._subplots.AxesSubplot at 0x7fa449c9c978>"
            ]
          },
          "metadata": {
            "tags": []
          },
          "execution_count": 148
        },
        {
          "output_type": "display_data",
          "data": {
            "image/png": "[encoded data removed]",
            "text/plain": [
              "<Figure size 792x648 with 2 Axes>"
            ]
          },
          "metadata": {
            "tags": []
          }
        }
      ]
    },
    {
      "cell_type": "markdown",
      "metadata": {
        "id": "nogPhyfVO70G"
      },
      "source": [
        "### Construir e treinar o(s) modelo(s)"
      ]
    },
    {
      "cell_type": "code",
      "metadata": {
        "id": "0BhLZJhibVNG"
      },
      "source": [
        "X_boston = df_boston.drop(columns = ['preco'], axis = 1)\n",
        "y_boston = df_boston['preco']"
      ],
      "execution_count": null,
      "outputs": []
    },
    {
      "cell_type": "code",
      "metadata": {
        "id": "b50_6tv5h1kY"
      },
      "source": [
        "# Definindo os dataframes de treinamento e teste:\n",
        "from sklearn.model_selection import train_test_split\n",
        "\n",
        "X_treinamento, X_teste, y_treinamento, y_teste = train_test_split(X_boston, y_boston, test_size = 0.2, random_state = 20111974)"
      ],
      "execution_count": null,
      "outputs": []
    },
    {
      "cell_type": "markdown",
      "metadata": {
        "id": "SvevXulFiJj1"
      },
      "source": [
        "#### Treinamento do modelo de Regressão Linear"
      ]
    },
    {
      "cell_type": "code",
      "metadata": {
        "id": "GVwF3vp8iNff"
      },
      "source": [
        "# Importa a library LinearRegression --> Para treinamento da Regressão Linear\n",
        "from sklearn.linear_model import LinearRegression\n",
        "\n",
        "# Library para statmodels\n",
        "import statsmodels.api as sm"
      ],
      "execution_count": null,
      "outputs": []
    },
    {
      "cell_type": "code",
      "metadata": {
        "id": "ibX6bCbViW-v"
      },
      "source": [
        "# Instancia o objeto\n",
        "regressao_linear = LinearRegression()"
      ],
      "execution_count": null,
      "outputs": []
    },
    {
      "cell_type": "code",
      "metadata": {
        "id": "M-5wRGUribY0",
        "outputId": "de5809e9-4a77-485b-b62a-c1a2ce2df48b",
        "colab": {
          "base_uri": "https://localhost:8080/",
          "height": 34
        }
      },
      "source": [
        "# Treina o modelo usando as amostras/dataset de treinamento: X_treinamento e y_treinamento \n",
        "regressao_linear.fit(X_treinamento, y_treinamento)"
      ],
      "execution_count": null,
      "outputs": [
        {
          "output_type": "execute_result",
          "data": {
            "text/plain": [
              "LinearRegression(copy_X=True, fit_intercept=True, n_jobs=None, normalize=False)"
            ]
          },
          "metadata": {
            "tags": []
          },
          "execution_count": 153
        }
      ]
    },
    {
      "cell_type": "code",
      "metadata": {
        "id": "jri-jA1VjmUl",
        "outputId": "f867e899-c7f2-4c8a-8157-077ec0b9ac8e",
        "colab": {
          "base_uri": "https://localhost:8080/",
          "height": 34
        }
      },
      "source": [
        "# Valor do intercepto\n",
        "regressao_linear.intercept_"
      ],
      "execution_count": null,
      "outputs": [
        {
          "output_type": "execute_result",
          "data": {
            "text/plain": [
              "35.9020918753502"
            ]
          },
          "metadata": {
            "tags": []
          },
          "execution_count": 154
        }
      ]
    },
    {
      "cell_type": "code",
      "metadata": {
        "id": "VOjadxdxjqtT",
        "outputId": "040854dc-f456-4508-b150-b0b4e93732f8",
        "colab": {
          "base_uri": "https://localhost:8080/",
          "height": 432
        }
      },
      "source": [
        "# Coeficientes do modelo de Regressão Linear\n",
        "coeficientes_regressao_linear = pd.DataFrame([X_treinamento.columns, regressao_linear.coef_]).T\n",
        "coeficientes_regressao_linear = coeficientes_regressao_linear.rename(columns={0: 'Feature/variável/coluna', 1: 'Coeficientes'})\n",
        "coeficientes_regressao_linear"
      ],
      "execution_count": null,
      "outputs": [
        {
          "output_type": "execute_result",
          "data": {
            "text/html": [
              "<div>\n",
              "<style scoped>\n",
              "    .dataframe tbody tr th:only-of-type {\n",
              "        vertical-align: middle;\n",
              "    }\n",
              "\n",
              "    .dataframe tbody tr th {\n",
              "        vertical-align: top;\n",
              "    }\n",
              "\n",
              "    .dataframe thead th {\n",
              "        text-align: right;\n",
              "    }\n",
              "</style>\n",
              "<table border=\"1\" class=\"dataframe\">\n",
              "  <thead>\n",
              "    <tr style=\"text-align: right;\">\n",
              "      <th></th>\n",
              "      <th>Feature/variável/coluna</th>\n",
              "      <th>Coeficientes</th>\n",
              "    </tr>\n",
              "  </thead>\n",
              "  <tbody>\n",
              "    <tr>\n",
              "      <th>0</th>\n",
              "      <td>crim</td>\n",
              "      <td>-0.0822083</td>\n",
              "    </tr>\n",
              "    <tr>\n",
              "      <th>1</th>\n",
              "      <td>zn</td>\n",
              "      <td>0.0428002</td>\n",
              "    </tr>\n",
              "    <tr>\n",
              "      <th>2</th>\n",
              "      <td>indus</td>\n",
              "      <td>0.0756011</td>\n",
              "    </tr>\n",
              "    <tr>\n",
              "      <th>3</th>\n",
              "      <td>chas</td>\n",
              "      <td>3.16348</td>\n",
              "    </tr>\n",
              "    <tr>\n",
              "      <th>4</th>\n",
              "      <td>nox</td>\n",
              "      <td>-19.4945</td>\n",
              "    </tr>\n",
              "    <tr>\n",
              "      <th>5</th>\n",
              "      <td>rm</td>\n",
              "      <td>3.98161</td>\n",
              "    </tr>\n",
              "    <tr>\n",
              "      <th>6</th>\n",
              "      <td>age</td>\n",
              "      <td>0.00480929</td>\n",
              "    </tr>\n",
              "    <tr>\n",
              "      <th>7</th>\n",
              "      <td>dis</td>\n",
              "      <td>-1.37396</td>\n",
              "    </tr>\n",
              "    <tr>\n",
              "      <th>8</th>\n",
              "      <td>rad</td>\n",
              "      <td>0.298883</td>\n",
              "    </tr>\n",
              "    <tr>\n",
              "      <th>9</th>\n",
              "      <td>tax</td>\n",
              "      <td>-0.0123962</td>\n",
              "    </tr>\n",
              "    <tr>\n",
              "      <th>10</th>\n",
              "      <td>ptratio</td>\n",
              "      <td>-0.984657</td>\n",
              "    </tr>\n",
              "    <tr>\n",
              "      <th>11</th>\n",
              "      <td>b</td>\n",
              "      <td>0.008949</td>\n",
              "    </tr>\n",
              "    <tr>\n",
              "      <th>12</th>\n",
              "      <td>lstat</td>\n",
              "      <td>-0.526478</td>\n",
              "    </tr>\n",
              "  </tbody>\n",
              "</table>\n",
              "</div>"
            ],
            "text/plain": [
              "   Feature/variável/coluna Coeficientes\n",
              "0                     crim   -0.0822083\n",
              "1                       zn    0.0428002\n",
              "2                    indus    0.0756011\n",
              "3                     chas      3.16348\n",
              "4                      nox     -19.4945\n",
              "5                       rm      3.98161\n",
              "6                      age   0.00480929\n",
              "7                      dis     -1.37396\n",
              "8                      rad     0.298883\n",
              "9                      tax   -0.0123962\n",
              "10                 ptratio    -0.984657\n",
              "11                       b     0.008949\n",
              "12                   lstat    -0.526478"
            ]
          },
          "metadata": {
            "tags": []
          },
          "execution_count": 155
        }
      ]
    },
    {
      "cell_type": "markdown",
      "metadata": {
        "id": "jwnkhPwDjkhS"
      },
      "source": [
        "#### Usando statmodels"
      ]
    },
    {
      "cell_type": "code",
      "metadata": {
        "id": "ltbekHd_k3PH",
        "outputId": "deb557d1-ff94-4ca1-8d3b-a4c314e49866",
        "colab": {
          "base_uri": "https://localhost:8080/",
          "height": 672
        }
      },
      "source": [
        "X2_treinamento = sm.add_constant(X_treinamento)\n",
        "lm_sm = sm.OLS(y_treinamento, X2_treinamento).fit()\n",
        "print(lm_sm.summary())"
      ],
      "execution_count": null,
      "outputs": [
        {
          "output_type": "stream",
          "text": [
            "                            OLS Regression Results                            \n",
            "==============================================================================\n",
            "Dep. Variable:                  preco   R-squared:                       0.725\n",
            "Model:                            OLS   Adj. R-squared:                  0.716\n",
            "Method:                 Least Squares   F-statistic:                     78.97\n",
            "Date:                Mon, 26 Oct 2020   Prob (F-statistic):          1.48e-100\n",
            "Time:                        18:26:11   Log-Likelihood:                -1214.8\n",
            "No. Observations:                 404   AIC:                             2458.\n",
            "Df Residuals:                     390   BIC:                             2514.\n",
            "Df Model:                          13                                         \n",
            "Covariance Type:            nonrobust                                         \n",
            "==============================================================================\n",
            "                 coef    std err          t      P>|t|      [0.025      0.975]\n",
            "------------------------------------------------------------------------------\n",
            "const         35.9021      6.037      5.947      0.000      24.033      47.771\n",
            "crim          -0.0822      0.045     -1.824      0.069      -0.171       0.006\n",
            "zn             0.0428      0.016      2.638      0.009       0.011       0.075\n",
            "indus          0.0756      0.072      1.054      0.292      -0.065       0.217\n",
            "chas           3.1635      0.997      3.174      0.002       1.204       5.123\n",
            "nox          -19.4945      4.539     -4.295      0.000     -28.418     -10.571\n",
            "rm             3.9816      0.510      7.802      0.000       2.978       4.985\n",
            "age            0.0048      0.015      0.312      0.755      -0.025       0.035\n",
            "dis           -1.3740      0.236     -5.827      0.000      -1.838      -0.910\n",
            "rad            0.2989      0.079      3.760      0.000       0.143       0.455\n",
            "tax           -0.0124      0.004     -2.814      0.005      -0.021      -0.004\n",
            "ptratio       -0.9847      0.156     -6.309      0.000      -1.292      -0.678\n",
            "b              0.0089      0.003      2.796      0.005       0.003       0.015\n",
            "lstat         -0.5265      0.060     -8.764      0.000      -0.645      -0.408\n",
            "==============================================================================\n",
            "Omnibus:                      140.799   Durbin-Watson:                   2.083\n",
            "Prob(Omnibus):                  0.000   Jarque-Bera (JB):              591.650\n",
            "Skew:                           1.484   Prob(JB):                    3.35e-129\n",
            "Kurtosis:                       8.132   Cond. No.                     1.51e+04\n",
            "==============================================================================\n",
            "\n",
            "Warnings:\n",
            "[1] Standard Errors assume that the covariance matrix of the errors is correctly specified.\n",
            "[2] The condition number is large, 1.51e+04. This might indicate that there are\n",
            "strong multicollinearity or other numerical problems.\n"
          ],
          "name": "stdout"
        }
      ]
    },
    {
      "cell_type": "markdown",
      "metadata": {
        "id": "UafIUrpZB0YP"
      },
      "source": [
        "### Conclusão\n",
        "* Quais variáveis/colunas/atributos ficam no modelo?"
      ]
    },
    {
      "cell_type": "markdown",
      "metadata": {
        "id": "nXeiFtnJO_1u"
      },
      "source": [
        "### Validação do(s) modelo(s)"
      ]
    },
    {
      "cell_type": "markdown",
      "metadata": {
        "id": "QlGVFA6uPDvr"
      },
      "source": [
        ""
      ]
    },
    {
      "cell_type": "markdown",
      "metadata": {
        "id": "PE3aKJ6mPDyJ"
      },
      "source": [
        "### Predições"
      ]
    },
    {
      "cell_type": "markdown",
      "metadata": {
        "id": "5YQF4NIlGSLH"
      },
      "source": [
        ""
      ]
    },
    {
      "cell_type": "markdown",
      "metadata": {
        "id": "UQfpoo1igFy8"
      },
      "source": [
        "# Regularized Regression Methods \n",
        "## Ridge Regression - Penalized Regression\n",
        "> Reduz a complexidade do modelo através do uso de todas as variáveis de $X$, mas penalizando (valor de $\\alpha$) os coeficientes $w_{i}$ quando estiverem muito longe de zero, forçando-os a serem pequenos de maneira contínua. Dessa forma, diminuímos a complexidade do modelo enquanto mantemos todas as variáveis no modelo.\n",
        "* Menor impacto dos outliers.\n",
        "\n",
        "### Exemplo"
      ]
    },
    {
      "cell_type": "code",
      "metadata": {
        "id": "Kp4VIJWxgFy8"
      },
      "source": [
        "from sklearn.linear_model import Ridge\n",
        "ridge = Ridge(alpha = .1)\n",
        "lr = LinearRegression()"
      ],
      "execution_count": null,
      "outputs": []
    },
    {
      "cell_type": "code",
      "metadata": {
        "id": "cmRMoOwV6FMt",
        "outputId": "4b5819fa-deef-4bb8-8bda-1dae56b538bb",
        "colab": {
          "base_uri": "https://localhost:8080/",
          "height": 84
        }
      },
      "source": [
        "ridge = Ridge(alpha = .1)\n",
        "ridge.fit(X_treinamento, y_treinamento)"
      ],
      "execution_count": null,
      "outputs": [
        {
          "output_type": "execute_result",
          "data": {
            "text/plain": [
              "array([-8.08728088e-02,  4.31105323e-02,  6.96774448e-02,  3.14478949e+00,\n",
              "       -1.79983020e+01,  3.98675653e+00,  3.54464890e-03, -1.35303958e+00,\n",
              "        2.95042916e-01, -1.25115273e-02, -9.68282109e-01,  9.02744064e-03,\n",
              "       -5.29135646e-01])"
            ]
          },
          "metadata": {
            "tags": []
          },
          "execution_count": 158
        }
      ]
    },
    {
      "cell_type": "markdown",
      "metadata": {
        "id": "VPnekyUbK6Xg"
      },
      "source": [
        "#### Peso/contribuição das variáveis para a regressão usando RIDGE"
      ]
    },
    {
      "cell_type": "code",
      "metadata": {
        "id": "vMCb0CFjK973"
      },
      "source": [
        "ridge.coef_"
      ],
      "execution_count": null,
      "outputs": []
    },
    {
      "cell_type": "code",
      "metadata": {
        "id": "ZqksuIjXypRJ",
        "outputId": "259a9713-7527-45cc-c4cf-057032b52a5f",
        "colab": {
          "base_uri": "https://localhost:8080/",
          "height": 34
        }
      },
      "source": [
        "# treinando a regressão Ridge\n",
        "ridge.fit(X_treinamento, y_treinamento)\n",
        "\n",
        "# treinando a regressão linear simples (OLS)\n",
        "lr.fit(X_treinamento, y_treinamento)"
      ],
      "execution_count": null,
      "outputs": [
        {
          "output_type": "execute_result",
          "data": {
            "text/plain": [
              "LinearRegression(copy_X=True, fit_intercept=True, n_jobs=None, normalize=False)"
            ]
          },
          "metadata": {
            "tags": []
          },
          "execution_count": 188
        }
      ]
    },
    {
      "cell_type": "code",
      "metadata": {
        "id": "7r28PBsWLtjA",
        "outputId": "a5d7d243-d017-4779-d1c3-f46735e950e1",
        "colab": {
          "base_uri": "https://localhost:8080/",
          "height": 34
        }
      },
      "source": [
        "ridge.alpha"
      ],
      "execution_count": null,
      "outputs": [
        {
          "output_type": "execute_result",
          "data": {
            "text/plain": [
              "0.1"
            ]
          },
          "metadata": {
            "tags": []
          },
          "execution_count": 193
        }
      ]
    },
    {
      "cell_type": "code",
      "metadata": {
        "id": "hRMK_QTmNgc1",
        "outputId": "ff7bcc7f-a5fa-4122-9e3a-cb3b59b06c62",
        "colab": {
          "base_uri": "https://localhost:8080/",
          "height": 50
        }
      },
      "source": [
        "# maior alpha --> mais restrição aos coeficientes; \n",
        "# Menor alpha --> mais generalização, e Ridge se assemelha da OLS\n",
        "rr = Ridge(alpha = 0.01)\n",
        "rr.fit(X_treinamento, y_treinamento)"
      ],
      "execution_count": null,
      "outputs": [
        {
          "output_type": "execute_result",
          "data": {
            "text/plain": [
              "Ridge(alpha=0.01, copy_X=True, fit_intercept=True, max_iter=None,\n",
              "      normalize=False, random_state=None, solver='auto', tol=0.001)"
            ]
          },
          "metadata": {
            "tags": []
          },
          "execution_count": 174
        }
      ]
    },
    {
      "cell_type": "code",
      "metadata": {
        "id": "IRuWmBE7Ngc7",
        "outputId": "21110bfc-8da1-4d29-9cb2-c4e105e21d9a",
        "colab": {
          "base_uri": "https://localhost:8080/",
          "height": 34
        }
      },
      "source": [
        "# MSE\n",
        "rr_model=(mean_squared_error(y_true = y_treinamento, y_pred = rr.predict(X_treinamento)))\n",
        "print(rr_model)"
      ],
      "execution_count": null,
      "outputs": [
        {
          "output_type": "stream",
          "text": [
            "23.94639697817076\n"
          ],
          "name": "stdout"
        }
      ]
    },
    {
      "cell_type": "code",
      "metadata": {
        "id": "NEaj4QRrNgdA"
      },
      "source": [
        "rr100 = Ridge(alpha=100)\n",
        "rr100.fit(X_treinamento, y_treinamento)\n",
        "train_score=lr.score(X_treinamento, y_treinamento)\n",
        "test_score=lr.score(X_teste, y_teste)\n",
        "Ridge_treinamento_score = rr.score(X_treinamento,y_treinamento)"
      ],
      "execution_count": null,
      "outputs": []
    },
    {
      "cell_type": "code",
      "metadata": {
        "id": "zhcfoTEENgdE",
        "outputId": "6dd7ceb0-023d-4663-fe29-801782047138",
        "colab": {
          "base_uri": "https://localhost:8080/",
          "height": 34
        }
      },
      "source": [
        "# MSE\n",
        "rr100_model = (mean_squared_error(y_true = y_treinamento, y_pred = rr100.predict(X_treinamento)))\n",
        "print(rr100_model)"
      ],
      "execution_count": null,
      "outputs": [
        {
          "output_type": "stream",
          "text": [
            "26.4601050898885\n"
          ],
          "name": "stdout"
        }
      ]
    },
    {
      "cell_type": "markdown",
      "metadata": {
        "id": "cEF_3GgUgF0Q"
      },
      "source": [
        "# Lasso\n",
        "* Reduz overfitting;\n",
        "* Se encarrega do Feature Selection, pois descarta variáveis altamente correlacionadas."
      ]
    },
    {
      "cell_type": "markdown",
      "metadata": {
        "id": "-YiKb9reQdI4"
      },
      "source": [
        "* Usado no processo de Regularization - processo de penalizar as variáveis para manter somente os atributos mais importantes. Pense na utilidade disso diante de um dataframe com muitas variáveis;\n",
        "* A regressão Lasso vem com um parâmetro ($\\alpha$), e quanto maior o alfa, a maioria dos coeficientes de recurso é zero. Ou seja, quando $\\alpha = 0$, a regressão Lasso produz os mesmos coeficientes que uma regressão linear. Quando alfa é muito grande, todos os coeficientes são zero."
      ]
    },
    {
      "cell_type": "code",
      "metadata": {
        "id": "ME6v6LFlgF0Q",
        "outputId": "dcfa9e54-ffe1-476a-f236-77d92193c7b6",
        "colab": {
          "base_uri": "https://localhost:8080/",
          "height": 67
        }
      },
      "source": [
        "from sklearn.linear_model import Lasso\n",
        "lasso = Lasso(alpha = .1)\n",
        "lasso.fit(X_treinamento, y_treinamento)"
      ],
      "execution_count": null,
      "outputs": [
        {
          "output_type": "execute_result",
          "data": {
            "text/plain": [
              "Lasso(alpha=0.1, copy_X=True, fit_intercept=True, max_iter=1000,\n",
              "      normalize=False, positive=False, precompute=False, random_state=None,\n",
              "      selection='cyclic', tol=0.0001, warm_start=False)"
            ]
          },
          "metadata": {
            "tags": []
          },
          "execution_count": 197
        }
      ]
    },
    {
      "cell_type": "code",
      "metadata": {
        "id": "h6DSEHc1gF0V",
        "outputId": "03e88d83-e311-4fc6-fadc-db9483c4092f",
        "colab": {
          "base_uri": "https://localhost:8080/",
          "height": 84
        }
      },
      "source": [
        "lasso.coef_"
      ],
      "execution_count": null,
      "outputs": [
        {
          "output_type": "execute_result",
          "data": {
            "text/plain": [
              "array([-6.53050169e-02,  4.69929493e-02,  2.03045631e-03,  1.56638852e+00,\n",
              "       -0.00000000e+00,  3.77954671e+00, -6.40432403e-03, -1.06129312e+00,\n",
              "        2.58073061e-01, -1.42708307e-02, -7.81773992e-01,  9.95091849e-03,\n",
              "       -5.87452824e-01])"
            ]
          },
          "metadata": {
            "tags": []
          },
          "execution_count": 198
        }
      ]
    },
    {
      "cell_type": "markdown",
      "metadata": {
        "id": "xP1fX1Bi6VdX"
      },
      "source": [
        "Coeficientes zero podem ser excluídos da Análise/modelo."
      ]
    },
    {
      "cell_type": "markdown",
      "metadata": {
        "id": "9P7hYoo4gF0Z"
      },
      "source": [
        "# Elastic Net  \n",
        "* Combina o poder de Ridge e LASSO;\n",
        "* Remove variáveis de pouco poder preditivo (LASSO) ou as penaliza (Ridge)."
      ]
    },
    {
      "cell_type": "code",
      "metadata": {
        "id": "yChNUYs7gF0b"
      },
      "source": [
        "from sklearn.linear_model import ElasticNet\n",
        "from sklearn.model_selection import GridSearchCV\n",
        "\n",
        "# Instancia o objeto\n",
        "en = ElasticNet(alpha = .1)"
      ],
      "execution_count": null,
      "outputs": []
    },
    {
      "cell_type": "code",
      "metadata": {
        "id": "4mbIaAUAF4N6",
        "outputId": "0a0b7576-7240-419d-d7b3-871f34f141f4",
        "colab": {
          "base_uri": "https://localhost:8080/",
          "height": 67
        }
      },
      "source": [
        "en.fit(X_treinamento, y_treinamento)"
      ],
      "execution_count": null,
      "outputs": [
        {
          "output_type": "execute_result",
          "data": {
            "text/plain": [
              "ElasticNet(alpha=0.1, copy_X=True, fit_intercept=True, l1_ratio=0.5,\n",
              "           max_iter=1000, normalize=False, positive=False, precompute=False,\n",
              "           random_state=None, selection='cyclic', tol=0.0001, warm_start=False)"
            ]
          },
          "metadata": {
            "tags": []
          },
          "execution_count": 203
        }
      ]
    },
    {
      "cell_type": "code",
      "metadata": {
        "id": "MaUkZw8ngF0h",
        "outputId": "5d6db1e6-1d99-46da-bdb8-c4e1054dc2df",
        "colab": {
          "base_uri": "https://localhost:8080/",
          "height": 84
        }
      },
      "source": [
        "en.coef_"
      ],
      "execution_count": null,
      "outputs": [
        {
          "output_type": "execute_result",
          "data": {
            "text/plain": [
              "array([-7.14375105e-02,  4.98062892e-02,  3.25764298e-03,  1.32398367e+00,\n",
              "       -1.16648025e-01,  3.29040345e+00, -3.09984870e-03, -1.07673872e+00,\n",
              "        2.80823236e-01, -1.50703816e-02, -8.13376450e-01,  9.70397656e-03,\n",
              "       -6.21886279e-01])"
            ]
          },
          "metadata": {
            "tags": []
          },
          "execution_count": 204
        }
      ]
    },
    {
      "cell_type": "code",
      "metadata": {
        "id": "xl-Qh9caDyCp"
      },
      "source": [
        "# Instancia o objeto:\n",
        "en = ElasticNet(normalize = True)\n",
        "\n",
        "# Otimização dos hiperparâmetros:\n",
        "d_hiperparametros = {'alpha': np.logspace(-5, 2, 8), \n",
        "                     'l1_ratio': [.2, .4, .6, .8]}\n",
        "\n",
        "search = GridSearchCV(estimator = en, \n",
        "                      param_grid = d_hiperparametros, \n",
        "                      scoring = 'neg_mean_squared_error', \n",
        "                      n_jobs = 1,\n",
        "                      refit = True, \n",
        "                      cv = 10)"
      ],
      "execution_count": null,
      "outputs": []
    },
    {
      "cell_type": "code",
      "metadata": {
        "id": "c3_XCQCPGlr3",
        "outputId": "bd72fa59-54a2-43f0-fc29-536fbb41cf99",
        "colab": {
          "base_uri": "https://localhost:8080/",
          "height": 34
        }
      },
      "source": [
        "search.fit(X_treinamento, y_treinamento)\n",
        "search.best_params_"
      ],
      "execution_count": null,
      "outputs": [
        {
          "output_type": "execute_result",
          "data": {
            "text/plain": [
              "{'alpha': 0.0001, 'l1_ratio': 0.4}"
            ]
          },
          "metadata": {
            "tags": []
          },
          "execution_count": 181
        }
      ]
    },
    {
      "cell_type": "code",
      "metadata": {
        "id": "zq0_ugQfGrdb",
        "outputId": "9965249d-2280-4d0c-c568-0d7c892f6c3b",
        "colab": {
          "base_uri": "https://localhost:8080/",
          "height": 34
        }
      },
      "source": [
        "en2 = ElasticNet(normalize = True, alpha = 0.001, l1_ratio = 0.6)\n",
        "en2.fit(X_treinamento, y_treinamento)\n",
        "\n",
        "# Métrica\n",
        "ml2 = (mean_squared_error(y_true = y_teste, y_pred = en2.predict(X_teste)))\n",
        "print(ml2)"
      ],
      "execution_count": null,
      "outputs": [
        {
          "output_type": "stream",
          "text": [
            "15.410850398354446\n"
          ],
          "name": "stdout"
        }
      ]
    },
    {
      "cell_type": "markdown",
      "metadata": {
        "id": "aoxf9KKYOjEd"
      },
      "source": [
        ""
      ]
    },
    {
      "cell_type": "markdown",
      "metadata": {
        "id": "sUUrajAxOkHg"
      },
      "source": [
        "# Regularized Regression Methods \n",
        "## Ridge Regression - Penalized Regression\n",
        "> Reduz a complexidade do modelo através do uso de todas as variáveis de $X$, mas penalizando os coeficientes $w_{i}$ quando estiverem muito longe de zero, forçando-os a serem pequenos de maneira contínua. Dessa forma, diminuímos a complexidade do modelo enquanto mantemos todas as variáveis no modelo.\n",
        "* Menor impacto dos outliers.\n",
        "\n",
        "### Exemplo"
      ]
    },
    {
      "cell_type": "code",
      "metadata": {
        "id": "VVBd5g8NOkHh"
      },
      "source": [
        "from sklearn.linear_model import Ridge\n",
        "ridge = Ridge(alpha = .1)\n",
        "lr = LinearRegression()"
      ],
      "execution_count": null,
      "outputs": []
    },
    {
      "cell_type": "code",
      "metadata": {
        "id": "o00xH2MvxvgP"
      },
      "source": [
        "# Matriz de covariáveis do modelo:\n",
        "X_new = [[0, 0], [0, 0], [1, 1]]\n",
        "y_new = [0, .1, 1]"
      ],
      "execution_count": null,
      "outputs": []
    },
    {
      "cell_type": "code",
      "metadata": {
        "id": "v9U7c03NzW_c"
      },
      "source": [
        "X_new"
      ],
      "execution_count": null,
      "outputs": []
    },
    {
      "cell_type": "code",
      "metadata": {
        "id": "iiVEAPpUzXyN"
      },
      "source": [
        "y_new"
      ],
      "execution_count": null,
      "outputs": []
    },
    {
      "cell_type": "code",
      "metadata": {
        "id": "8mWj2GbPOkHx"
      },
      "source": [
        "ridge = Ridge(alpha = .1)\n",
        "ridge.fit(X_new, y_new)\n",
        "ridge.coef_"
      ],
      "execution_count": null,
      "outputs": []
    },
    {
      "cell_type": "code",
      "metadata": {
        "id": "0kD7Bsq_OkH1"
      },
      "source": [
        "# treinando a regressão Ridge\n",
        "ridge.fit(X, y)\n",
        "\n",
        "# treinando a regressão linear simples (OLS)\n",
        "lr.fit(X, y)"
      ],
      "execution_count": null,
      "outputs": []
    },
    {
      "cell_type": "code",
      "metadata": {
        "id": "aUEyK4lygFy_"
      },
      "source": [
        "ridge.coef_"
      ],
      "execution_count": null,
      "outputs": []
    },
    {
      "cell_type": "code",
      "metadata": {
        "id": "qYRLUwIugFzC"
      },
      "source": [
        "lr.coef_"
      ],
      "execution_count": null,
      "outputs": []
    },
    {
      "cell_type": "code",
      "metadata": {
        "id": "URcHb6uggFzF"
      },
      "source": [
        "# Adicionar alguns outliers aos dados\n",
        "outliers = y[950:] - 600\n",
        "outliers"
      ],
      "execution_count": null,
      "outputs": []
    },
    {
      "cell_type": "code",
      "metadata": {
        "id": "AqA2dFQWgFzH"
      },
      "source": [
        "import numpy as np\n",
        "y_outlier = np.append(y[:950], outliers)"
      ],
      "execution_count": null,
      "outputs": []
    },
    {
      "cell_type": "code",
      "metadata": {
        "id": "3YRDzmZkgFzL"
      },
      "source": [
        "plt.scatter(X, y_outlier, s=5)"
      ],
      "execution_count": null,
      "outputs": []
    },
    {
      "cell_type": "code",
      "metadata": {
        "id": "_wFZ_AX1gFzU"
      },
      "source": [
        "lr = LinearRegression()\n",
        "lr.fit(X, y_outlier)"
      ],
      "execution_count": null,
      "outputs": []
    },
    {
      "cell_type": "code",
      "metadata": {
        "id": "7NYzB9nEgFze"
      },
      "source": [
        "y_pred_outliers= lr.predict(X)"
      ],
      "execution_count": null,
      "outputs": []
    },
    {
      "cell_type": "code",
      "metadata": {
        "id": "E7aaUXzDgFzh"
      },
      "source": [
        "plt.scatter(X, y_outlier,s=5,label='actual')\n",
        "plt.scatter(X, y_pred_outliers,s=5,label='prediction with outliers')\n",
        "plt.scatter(X, y_pred,s=5,c='k', label='prediction sem outlier')\n",
        "plt.legend()\n",
        "plt.title('Linear Regression')"
      ],
      "execution_count": null,
      "outputs": []
    },
    {
      "cell_type": "code",
      "metadata": {
        "id": "LON9hAomgFzl"
      },
      "source": [
        "lr.coef_"
      ],
      "execution_count": null,
      "outputs": []
    },
    {
      "cell_type": "code",
      "metadata": {
        "id": "m3Yu7pAigFzt"
      },
      "source": [
        "ridge = Ridge(alpha = 1000)"
      ],
      "execution_count": null,
      "outputs": []
    },
    {
      "cell_type": "code",
      "metadata": {
        "id": "xB9fKEImgFzw"
      },
      "source": [
        "ridge.fit(X, y_outlier)"
      ],
      "execution_count": null,
      "outputs": []
    },
    {
      "cell_type": "code",
      "metadata": {
        "id": "U4DxOv8EgFzz"
      },
      "source": [
        "y_pred_ridge = ridge.predict(X)"
      ],
      "execution_count": null,
      "outputs": []
    },
    {
      "cell_type": "code",
      "metadata": {
        "id": "vVWQuFVegFz2"
      },
      "source": [
        "plt.scatter(X, y_outlier, s = 5,label = 'actual')\n",
        "plt.scatter(X, y_pred_outliers, s = 5, c = 'r' ,label = 'LinearRegression with outliers')\n",
        "plt.scatter(X, y_pred_ridge, s = 5, c = 'k', label = 'RidgeRegression with outlier')\n",
        "plt.legend()\n",
        "plt.title('Linear Regression')"
      ],
      "execution_count": null,
      "outputs": []
    },
    {
      "cell_type": "code",
      "metadata": {
        "id": "seq5MCvDgFz5"
      },
      "source": [
        "ridge.coef_"
      ],
      "execution_count": null,
      "outputs": []
    },
    {
      "cell_type": "markdown",
      "metadata": {
        "id": "0d0DL3YYgFz-"
      },
      "source": [
        "## Efeito de $\\alpha$ na Regressão Ridge\n",
        "### Exemplo"
      ]
    },
    {
      "cell_type": "code",
      "metadata": {
        "id": "vCA4BvRkgFz_"
      },
      "source": [
        "X, y, w = make_regression(n_samples = 10, \n",
        "                          n_features = 10, \n",
        "                          coef = True, \n",
        "                          random_state = 1, \n",
        "                          bias = 3.5)"
      ],
      "execution_count": null,
      "outputs": []
    },
    {
      "cell_type": "code",
      "metadata": {
        "id": "2l2zCIX6gF0D"
      },
      "source": [
        "w"
      ],
      "execution_count": null,
      "outputs": []
    },
    {
      "cell_type": "markdown",
      "metadata": {
        "id": "BSXLQl5COkI8"
      },
      "source": [
        "# Lasso\n",
        "* Reduz overfitting;\n",
        "* Se encarrega do Feature Selection, pois descarta variáveis altamente correlacionadas."
      ]
    },
    {
      "cell_type": "code",
      "metadata": {
        "id": "i5JZTnkTOkI9"
      },
      "source": [
        "from sklearn.linear_model import Lasso\n",
        "lasso = Lasso(alpha = .1)\n",
        "lasso.fit([[0, 0], [0, 0], [1, 1]],  [0, .1, 1])"
      ],
      "execution_count": null,
      "outputs": []
    },
    {
      "cell_type": "code",
      "metadata": {
        "id": "gEUxSlThOkJD"
      },
      "source": [
        "lasso.coef_"
      ],
      "execution_count": null,
      "outputs": []
    },
    {
      "cell_type": "markdown",
      "metadata": {
        "id": "90pfP9-3OkJG"
      },
      "source": [
        "Observe acima que o segundo coeficiente foi estimado como 0 e, desta forma, podemos excluí-lo do ML."
      ]
    },
    {
      "cell_type": "markdown",
      "metadata": {
        "id": "ILCXvYKDOkJH"
      },
      "source": [
        "# Elastic Net  \n",
        "* Combina o poder de Ridge e LASSO;\n",
        "* Remove variáveis de pouco poder preditivo (LASSO) ou as penaliza (Ridge)."
      ]
    },
    {
      "cell_type": "code",
      "metadata": {
        "id": "GaQPDCR2OkJI"
      },
      "source": [
        "from sklearn.linear_model import ElasticNet\n",
        "\n",
        "# Instancia o objeto\n",
        "en = ElasticNet(alpha = .1)"
      ],
      "execution_count": null,
      "outputs": []
    },
    {
      "cell_type": "code",
      "metadata": {
        "id": "xVp16Eu_OkJL"
      },
      "source": [
        "en.fit([[0, 0], [0, 0], [1, 1]],  [0, .1, 1])"
      ],
      "execution_count": null,
      "outputs": []
    },
    {
      "cell_type": "code",
      "metadata": {
        "id": "kwj018U8OkJO"
      },
      "source": [
        "en.coef_"
      ],
      "execution_count": null,
      "outputs": []
    },
    {
      "cell_type": "markdown",
      "metadata": {
        "id": "XTvoKmbY_uXM"
      },
      "source": [
        "# Exemplo completo: Ridge\n",
        "* Adaptado de [Ridge and Lasso Regression: A Complete Guide with Python Scikit-Learn](https://towardsdatascience.com/ridge-and-lasso-regression-a-complete-guide-with-python-scikit-learn-e20e34bcbf0b)"
      ]
    },
    {
      "cell_type": "code",
      "metadata": {
        "id": "If7A_ceC_wW4"
      },
      "source": [
        "from sklearn.datasets import load_boston\n",
        "import numpy as np\n",
        "import pandas as pd\n",
        "import matplotlib.pyplot as plt\n",
        "%matplotlib inline\n",
        "\n",
        "from sklearn.model_selection import train_test_split\n",
        "from sklearn.linear_model import LinearRegression\n",
        "from sklearn.linear_model import Ridge\n",
        "\n",
        "from sklearn.metrics import mean_squared_error"
      ],
      "execution_count": null,
      "outputs": []
    },
    {
      "cell_type": "code",
      "metadata": {
        "id": "93n7uz0X_367"
      },
      "source": [
        "boston = load_boston()\n",
        "df_Boston = pd.DataFrame(boston.data, columns = boston.feature_names)"
      ],
      "execution_count": null,
      "outputs": []
    },
    {
      "cell_type": "code",
      "metadata": {
        "id": "EqRuXuzB_8Ge"
      },
      "source": [
        "X_boston = boston.data\n",
        "y_boston = boston.target"
      ],
      "execution_count": null,
      "outputs": []
    },
    {
      "cell_type": "code",
      "metadata": {
        "id": "NztUeubIACuA"
      },
      "source": [
        "X_treinamento, X_teste, y_treinamento, y_teste = train_test_split(X_boston, y_boston, test_size = 0.2, random_state = 20111974)"
      ],
      "execution_count": null,
      "outputs": []
    },
    {
      "cell_type": "code",
      "metadata": {
        "id": "QNwBSc1FAEoB"
      },
      "source": [
        "lr = LinearRegression()\n",
        "lr.fit(X_treinamento, y_treinamento)"
      ],
      "execution_count": null,
      "outputs": []
    },
    {
      "cell_type": "code",
      "metadata": {
        "id": "r9BrlLSIAHS3"
      },
      "source": [
        "# maior alpha --> mais restrição aos coeficientes; \n",
        "# Menor alpha --> mais generalização, e Ridge se assemelha da OLS\n",
        "rr = Ridge(alpha = 0.01)\n",
        "rr.fit(X_treinamento, y_treinamento)"
      ],
      "execution_count": null,
      "outputs": []
    },
    {
      "cell_type": "code",
      "metadata": {
        "id": "dchr1UwjEn-A"
      },
      "source": [
        "# MSE\n",
        "rr_model=(mean_squared_error(y_true = y_treinamento, y_pred = rr.predict(X_treinamento)))\n",
        "print(rr_model)"
      ],
      "execution_count": null,
      "outputs": []
    },
    {
      "cell_type": "code",
      "metadata": {
        "id": "Fnic6PY-CV-P"
      },
      "source": [
        "rr100 = Ridge(alpha=100)\n",
        "rr100.fit(X_treinamento, y_treinamento)\n",
        "train_score=lr.score(X_treinamento, y_treinamento)\n",
        "test_score=lr.score(X_teste, y_teste)\n",
        "Ridge_treinamento_score = rr.score(X_treinamento,y_treinamento)"
      ],
      "execution_count": null,
      "outputs": []
    },
    {
      "cell_type": "code",
      "metadata": {
        "id": "TIe76z26EdG5"
      },
      "source": [
        "# MSE\n",
        "rr100_model = (mean_squared_error(y_true = y_treinamento, y_pred = rr100.predict(X_treinamento)))\n",
        "print(rr100_model)"
      ],
      "execution_count": null,
      "outputs": []
    },
    {
      "cell_type": "code",
      "metadata": {
        "id": "dAuvhdNdAJ7C"
      },
      "source": [
        "Ridge_teste_score = rr.score(X_teste, y_teste)\n",
        "Ridge_treinamento_score100 = rr100.score(X_treinamento, y_treinamento)\n",
        "Ridge_teste_score100 = rr100.score(X_teste, y_teste)\n",
        "print(\"linear regression train score:\", train_score)\n",
        "print(\"linear regression test score:\", test_score)\n",
        "print(\"ridge regression train score low alpha:\", Ridge_treinamento_score)\n",
        "print(\"ridge regression test score low alpha:\", Ridge_teste_score)\n",
        "print(\"ridge regression train score high alpha:\", Ridge_treinamento_score100)\n",
        "print(\"ridge regression test score high alpha:\", Ridge_teste_score100)"
      ],
      "execution_count": null,
      "outputs": []
    },
    {
      "cell_type": "code",
      "metadata": {
        "id": "a0OaweJrCchd"
      },
      "source": [
        "plt.plot(rr.coef_, \n",
        "         alpha = 0.7, \n",
        "         linestyle = 'none', \n",
        "         marker = '*', \n",
        "         markersize = 5, \n",
        "         color = 'red', \n",
        "         label = r'Ridge; \n",
        "         $\\alpha = 0.01$', \n",
        "         zorder = 7) # zorder for ordering the markers\n",
        "\n",
        "plt.plot(rr100.coef_,alpha = 0.5, \n",
        "         linestyle = 'none', \n",
        "         marker = 'd', \n",
        "         markersize = 6, \n",
        "         color = 'blue', \n",
        "         label = r'Ridge; \n",
        "         $\\alpha = 100$') # alpha here is for transparency\n",
        "\n",
        "plt.plot(lr.coef_, \n",
        "         alpha = 0.4, \n",
        "         linestyle = 'none', \n",
        "         marker = 'o', \n",
        "         markersize = 7, \n",
        "         color = 'green', \n",
        "         label = 'Linear Regression')\n",
        "\n",
        "plt.xlabel('Coefficient Index', fontsize = 16)\n",
        "plt.ylabel('Coefficient Magnitude',fontsize = 16)\n",
        "plt.legend(fontsize = 13, loc = 4)\n",
        "plt.show()"
      ],
      "execution_count": null,
      "outputs": []
    },
    {
      "cell_type": "code",
      "metadata": {
        "id": "PEtGRcl-EHaF"
      },
      "source": [
        "from sklearn.metrics import mean_squared_error\n",
        "rr_model=(mean_squared_error(y_true= y, y_pred=regression.predict(X)))\n",
        "print(first_model)"
      ],
      "execution_count": null,
      "outputs": []
    },
    {
      "cell_type": "markdown",
      "metadata": {
        "id": "_dwlPByHDipf"
      },
      "source": [
        "# Exemplo completo - Elastic Net"
      ]
    },
    {
      "cell_type": "code",
      "metadata": {
        "id": "yhbIfGnfOkKF"
      },
      "source": [
        "from sklearn.linear_model import ElasticNet\n",
        "from sklearn.model_selection import GridSearchCV\n",
        "\n",
        "# Instancia o objeto:\n",
        "en = ElasticNet(normalize = True)\n",
        "\n",
        "# Otimização dos hiperparâmetros:\n",
        "d_hiperparametros = {'alpha': np.logspace(-5, 2, 8), \n",
        "                     'l1_ratio': [.2, .4, .6, .8]}\n",
        "\n",
        "search = GridSearchCV(estimator = en, \n",
        "                      param_grid = d_hiperparametros, \n",
        "                      scoring = 'neg_mean_squared_error', \n",
        "                      n_jobs = 1,\n",
        "                      refit = True, \n",
        "                      cv = 10)"
      ],
      "execution_count": null,
      "outputs": []
    },
    {
      "cell_type": "code",
      "metadata": {
        "id": "yDPkRazPOkKJ"
      },
      "source": [
        "search.fit(X, y)\n",
        "search.best_params_"
      ],
      "execution_count": null,
      "outputs": []
    },
    {
      "cell_type": "code",
      "metadata": {
        "id": "D_K-f8KCOkKM"
      },
      "source": [
        "en2 = ElasticNet(normalize = True, alpha = 0.001, l1_ratio = 0.6)\n",
        "en2.fit(X, y)\n",
        "\n",
        "ml2 = (mean_squared_error(y_true = y, y_pred = en2.predict(X)))\n",
        "print(ml2)"
      ],
      "execution_count": null,
      "outputs": []
    },
    {
      "cell_type": "markdown",
      "metadata": {
        "id": "a5o7FiRm9_vb"
      },
      "source": [
        "# Exercício 1 - Regressão Linear - Mall_Customers.csv\n",
        "> A variável-target deste dataframe é 'Annual Income'. Desenvolva um modelo de regressão utilizando OLS, Ridge e LASSO e compare os resultados.\n",
        "\n",
        "* Experimente:\n",
        "    * Lasso(alpha = 0.01, max_iter = 10e5);\n",
        "    * Lasso(alpha = 0.0001, max_iter = 10e5);\n",
        "    * Ridge(alpha = 0.01);\n",
        "    * Ridge(alpha = 100);"
      ]
    },
    {
      "cell_type": "markdown",
      "metadata": {
        "id": "rJRWBzSQCcss"
      },
      "source": [
        "# Regressão Logística"
      ]
    },
    {
      "cell_type": "code",
      "metadata": {
        "id": "Ucn0pQThO1eN"
      },
      "source": [
        ""
      ],
      "execution_count": null,
      "outputs": []
    },
    {
      "cell_type": "markdown",
      "metadata": {
        "id": "XwuMfMD1gFyd"
      },
      "source": [
        "# Exemplo para regressão LOGÍSTICA!!!"
      ]
    },
    {
      "cell_type": "code",
      "metadata": {
        "id": "efF3st3sHxPG"
      },
      "source": [
        "# Carrega as bibliotecas\n",
        "import numpy as np\n",
        "np.set_printoptions(formatter = {'float': lambda x: \"{0:0.2f}\".format(x)})\n",
        "\n",
        "import pandas as pd\n",
        "import matplotlib.pyplot as plt\n",
        "from sklearn.model_selection import train_test_split\n",
        "import statsmodels.api as sm\n",
        "\n",
        "%matplotlib inline"
      ],
      "execution_count": null,
      "outputs": []
    },
    {
      "cell_type": "code",
      "metadata": {
        "id": "Bk9F6JO0IELv",
        "outputId": "71d6cdf3-6eb8-4e0a-9829-67d301b60b97",
        "colab": {
          "base_uri": "https://localhost:8080/",
          "height": 195
        }
      },
      "source": [
        "# Carregar/ler o banco de dados - Dataframe Diabetes\n",
        "from sklearn import datasets\n",
        "#Diabetes = datasets.load_diabetes()\n",
        "\n",
        "url = 'https://raw.githubusercontent.com/MathMachado/DSWP/master/Dataframes/diabetes.csv'\n",
        "diabetes = pd.read_csv(url)\n",
        "diabetes.head()"
      ],
      "execution_count": null,
      "outputs": [
        {
          "output_type": "execute_result",
          "data": {
            "text/html": [
              "<div>\n",
              "<style scoped>\n",
              "    .dataframe tbody tr th:only-of-type {\n",
              "        vertical-align: middle;\n",
              "    }\n",
              "\n",
              "    .dataframe tbody tr th {\n",
              "        vertical-align: top;\n",
              "    }\n",
              "\n",
              "    .dataframe thead th {\n",
              "        text-align: right;\n",
              "    }\n",
              "</style>\n",
              "<table border=\"1\" class=\"dataframe\">\n",
              "  <thead>\n",
              "    <tr style=\"text-align: right;\">\n",
              "      <th></th>\n",
              "      <th>Pregnancies</th>\n",
              "      <th>Glucose</th>\n",
              "      <th>BloodPressure</th>\n",
              "      <th>SkinThickness</th>\n",
              "      <th>Insulin</th>\n",
              "      <th>BMI</th>\n",
              "      <th>DiabetesPedigreeFunction</th>\n",
              "      <th>Age</th>\n",
              "      <th>Outcome</th>\n",
              "    </tr>\n",
              "  </thead>\n",
              "  <tbody>\n",
              "    <tr>\n",
              "      <th>0</th>\n",
              "      <td>6</td>\n",
              "      <td>148</td>\n",
              "      <td>72</td>\n",
              "      <td>35</td>\n",
              "      <td>0</td>\n",
              "      <td>33.6</td>\n",
              "      <td>0.627</td>\n",
              "      <td>50</td>\n",
              "      <td>1</td>\n",
              "    </tr>\n",
              "    <tr>\n",
              "      <th>1</th>\n",
              "      <td>1</td>\n",
              "      <td>85</td>\n",
              "      <td>66</td>\n",
              "      <td>29</td>\n",
              "      <td>0</td>\n",
              "      <td>26.6</td>\n",
              "      <td>0.351</td>\n",
              "      <td>31</td>\n",
              "      <td>0</td>\n",
              "    </tr>\n",
              "    <tr>\n",
              "      <th>2</th>\n",
              "      <td>8</td>\n",
              "      <td>183</td>\n",
              "      <td>64</td>\n",
              "      <td>0</td>\n",
              "      <td>0</td>\n",
              "      <td>23.3</td>\n",
              "      <td>0.672</td>\n",
              "      <td>32</td>\n",
              "      <td>1</td>\n",
              "    </tr>\n",
              "    <tr>\n",
              "      <th>3</th>\n",
              "      <td>1</td>\n",
              "      <td>89</td>\n",
              "      <td>66</td>\n",
              "      <td>23</td>\n",
              "      <td>94</td>\n",
              "      <td>28.1</td>\n",
              "      <td>0.167</td>\n",
              "      <td>21</td>\n",
              "      <td>0</td>\n",
              "    </tr>\n",
              "    <tr>\n",
              "      <th>4</th>\n",
              "      <td>0</td>\n",
              "      <td>137</td>\n",
              "      <td>40</td>\n",
              "      <td>35</td>\n",
              "      <td>168</td>\n",
              "      <td>43.1</td>\n",
              "      <td>2.288</td>\n",
              "      <td>33</td>\n",
              "      <td>1</td>\n",
              "    </tr>\n",
              "  </tbody>\n",
              "</table>\n",
              "</div>"
            ],
            "text/plain": [
              "   Pregnancies  Glucose  BloodPressure  ...  DiabetesPedigreeFunction  Age  Outcome\n",
              "0            6      148             72  ...                     0.627   50        1\n",
              "1            1       85             66  ...                     0.351   31        0\n",
              "2            8      183             64  ...                     0.672   32        1\n",
              "3            1       89             66  ...                     0.167   21        0\n",
              "4            0      137             40  ...                     2.288   33        1\n",
              "\n",
              "[5 rows x 9 columns]"
            ]
          },
          "metadata": {
            "tags": []
          },
          "execution_count": 21
        }
      ]
    },
    {
      "cell_type": "code",
      "metadata": {
        "id": "tjRmpaPIDknb",
        "outputId": "b5102f14-cfa1-4354-9167-e6d8fbf313cc",
        "colab": {
          "base_uri": "https://localhost:8080/",
          "height": 195
        }
      },
      "source": [
        "# Definir as matrizes X e y\n",
        "X_diabetes = diabetes.copy()\n",
        "X_diabetes.drop(columns = ['Outcome'], axis = 1, inplace = True)\n",
        "y_diabetes = diabetes['Outcome']\n",
        "\n",
        "X_diabetes.head()"
      ],
      "execution_count": null,
      "outputs": [
        {
          "output_type": "execute_result",
          "data": {
            "text/html": [
              "<div>\n",
              "<style scoped>\n",
              "    .dataframe tbody tr th:only-of-type {\n",
              "        vertical-align: middle;\n",
              "    }\n",
              "\n",
              "    .dataframe tbody tr th {\n",
              "        vertical-align: top;\n",
              "    }\n",
              "\n",
              "    .dataframe thead th {\n",
              "        text-align: right;\n",
              "    }\n",
              "</style>\n",
              "<table border=\"1\" class=\"dataframe\">\n",
              "  <thead>\n",
              "    <tr style=\"text-align: right;\">\n",
              "      <th></th>\n",
              "      <th>Pregnancies</th>\n",
              "      <th>Glucose</th>\n",
              "      <th>BloodPressure</th>\n",
              "      <th>SkinThickness</th>\n",
              "      <th>Insulin</th>\n",
              "      <th>BMI</th>\n",
              "      <th>DiabetesPedigreeFunction</th>\n",
              "      <th>Age</th>\n",
              "    </tr>\n",
              "  </thead>\n",
              "  <tbody>\n",
              "    <tr>\n",
              "      <th>0</th>\n",
              "      <td>6</td>\n",
              "      <td>148</td>\n",
              "      <td>72</td>\n",
              "      <td>35</td>\n",
              "      <td>0</td>\n",
              "      <td>33.6</td>\n",
              "      <td>0.627</td>\n",
              "      <td>50</td>\n",
              "    </tr>\n",
              "    <tr>\n",
              "      <th>1</th>\n",
              "      <td>1</td>\n",
              "      <td>85</td>\n",
              "      <td>66</td>\n",
              "      <td>29</td>\n",
              "      <td>0</td>\n",
              "      <td>26.6</td>\n",
              "      <td>0.351</td>\n",
              "      <td>31</td>\n",
              "    </tr>\n",
              "    <tr>\n",
              "      <th>2</th>\n",
              "      <td>8</td>\n",
              "      <td>183</td>\n",
              "      <td>64</td>\n",
              "      <td>0</td>\n",
              "      <td>0</td>\n",
              "      <td>23.3</td>\n",
              "      <td>0.672</td>\n",
              "      <td>32</td>\n",
              "    </tr>\n",
              "    <tr>\n",
              "      <th>3</th>\n",
              "      <td>1</td>\n",
              "      <td>89</td>\n",
              "      <td>66</td>\n",
              "      <td>23</td>\n",
              "      <td>94</td>\n",
              "      <td>28.1</td>\n",
              "      <td>0.167</td>\n",
              "      <td>21</td>\n",
              "    </tr>\n",
              "    <tr>\n",
              "      <th>4</th>\n",
              "      <td>0</td>\n",
              "      <td>137</td>\n",
              "      <td>40</td>\n",
              "      <td>35</td>\n",
              "      <td>168</td>\n",
              "      <td>43.1</td>\n",
              "      <td>2.288</td>\n",
              "      <td>33</td>\n",
              "    </tr>\n",
              "  </tbody>\n",
              "</table>\n",
              "</div>"
            ],
            "text/plain": [
              "   Pregnancies  Glucose  BloodPressure  ...   BMI  DiabetesPedigreeFunction  Age\n",
              "0            6      148             72  ...  33.6                     0.627   50\n",
              "1            1       85             66  ...  26.6                     0.351   31\n",
              "2            8      183             64  ...  23.3                     0.672   32\n",
              "3            1       89             66  ...  28.1                     0.167   21\n",
              "4            0      137             40  ...  43.1                     2.288   33\n",
              "\n",
              "[5 rows x 8 columns]"
            ]
          },
          "metadata": {
            "tags": []
          },
          "execution_count": 24
        }
      ]
    },
    {
      "cell_type": "code",
      "metadata": {
        "id": "jLrx69TH-Mad",
        "outputId": "0f802232-d17b-4803-fe0f-ef87135f0e01",
        "colab": {
          "base_uri": "https://localhost:8080/",
          "height": 34
        }
      },
      "source": [
        "X_diabetes.shape"
      ],
      "execution_count": null,
      "outputs": [
        {
          "output_type": "execute_result",
          "data": {
            "text/plain": [
              "(768, 8)"
            ]
          },
          "metadata": {
            "tags": []
          },
          "execution_count": 25
        }
      ]
    },
    {
      "cell_type": "code",
      "metadata": {
        "id": "mdFBioP6-Ply",
        "outputId": "ffdc7ca3-045c-46ff-e70a-5f26a7157bca",
        "colab": {
          "base_uri": "https://localhost:8080/",
          "height": 34
        }
      },
      "source": [
        "y_diabetes.shape"
      ],
      "execution_count": null,
      "outputs": [
        {
          "output_type": "execute_result",
          "data": {
            "text/plain": [
              "(442,)"
            ]
          },
          "metadata": {
            "tags": []
          },
          "execution_count": 6
        }
      ]
    },
    {
      "cell_type": "code",
      "metadata": {
        "id": "fhLySN65IaDF"
      },
      "source": [
        "# Definir as matrizes de treinamento e validação\n",
        "X_treinamento, X_teste, y_treinamento, y_teste = train_test_split(X_diabetes, y_diabetes)"
      ],
      "execution_count": null,
      "outputs": []
    },
    {
      "cell_type": "code",
      "metadata": {
        "id": "J5R8HlnuIGpL",
        "outputId": "27dbf904-24e8-4013-93b8-007bc1fe36aa",
        "colab": {
          "base_uri": "https://localhost:8080/",
          "height": 67
        }
      },
      "source": [
        "# Carregar a library LinearRegression()\n",
        "from sklearn.linear_model import LinearRegression\n",
        "\n",
        "# Instanciar o objeto\n",
        "lr = LinearRegression()\n",
        "\n",
        "# Usando statmodels:\n",
        "x = sm.add_constant(X_treinamento)\n",
        "lr_sm = sm.Logit(y_treinamento, X_treinamento) # Atenção: aqui é o contrário: [y, x]\n",
        "\n",
        "# Treinar o modelo\n",
        "lr.fit(X_treinamento, y_treinamento)\n",
        "resultado_sm = lr_sm.fit()"
      ],
      "execution_count": null,
      "outputs": [
        {
          "output_type": "stream",
          "text": [
            "Optimization terminated successfully.\n",
            "         Current function value: 0.596920\n",
            "         Iterations 5\n"
          ],
          "name": "stdout"
        }
      ]
    },
    {
      "cell_type": "code",
      "metadata": {
        "id": "GlbCaPp1ETNa",
        "outputId": "93b95119-9395-4677-87db-6a41dc27b940",
        "colab": {
          "base_uri": "https://localhost:8080/",
          "height": 357
        }
      },
      "source": [
        "resultado_sm.summary()"
      ],
      "execution_count": null,
      "outputs": [
        {
          "output_type": "execute_result",
          "data": {
            "text/html": [
              "<table class=\"simpletable\">\n",
              "<caption>Logit Regression Results</caption>\n",
              "<tr>\n",
              "  <th>Dep. Variable:</th>        <td>Outcome</td>     <th>  No. Observations:  </th>  <td>   576</td>  \n",
              "</tr>\n",
              "<tr>\n",
              "  <th>Model:</th>                 <td>Logit</td>      <th>  Df Residuals:      </th>  <td>   568</td>  \n",
              "</tr>\n",
              "<tr>\n",
              "  <th>Method:</th>                 <td>MLE</td>       <th>  Df Model:          </th>  <td>     7</td>  \n",
              "</tr>\n",
              "<tr>\n",
              "  <th>Date:</th>            <td>Mon, 26 Oct 2020</td> <th>  Pseudo R-squ.:     </th>  <td>0.05860</td> \n",
              "</tr>\n",
              "<tr>\n",
              "  <th>Time:</th>                <td>13:23:03</td>     <th>  Log-Likelihood:    </th> <td> -343.83</td> \n",
              "</tr>\n",
              "<tr>\n",
              "  <th>converged:</th>             <td>True</td>       <th>  LL-Null:           </th> <td> -365.23</td> \n",
              "</tr>\n",
              "<tr>\n",
              "  <th>Covariance Type:</th>     <td>nonrobust</td>    <th>  LLR p-value:       </th> <td>3.632e-07</td>\n",
              "</tr>\n",
              "</table>\n",
              "<table class=\"simpletable\">\n",
              "<tr>\n",
              "              <td></td>                <th>coef</th>     <th>std err</th>      <th>z</th>      <th>P>|z|</th>  <th>[0.025</th>    <th>0.975]</th>  \n",
              "</tr>\n",
              "<tr>\n",
              "  <th>Pregnancies</th>              <td>    0.1447</td> <td>    0.033</td> <td>    4.364</td> <td> 0.000</td> <td>    0.080</td> <td>    0.210</td>\n",
              "</tr>\n",
              "<tr>\n",
              "  <th>Glucose</th>                  <td>    0.0116</td> <td>    0.003</td> <td>    3.614</td> <td> 0.000</td> <td>    0.005</td> <td>    0.018</td>\n",
              "</tr>\n",
              "<tr>\n",
              "  <th>BloodPressure</th>            <td>   -0.0318</td> <td>    0.006</td> <td>   -5.574</td> <td> 0.000</td> <td>   -0.043</td> <td>   -0.021</td>\n",
              "</tr>\n",
              "<tr>\n",
              "  <th>SkinThickness</th>            <td>    0.0022</td> <td>    0.007</td> <td>    0.300</td> <td> 0.764</td> <td>   -0.012</td> <td>    0.017</td>\n",
              "</tr>\n",
              "<tr>\n",
              "  <th>Insulin</th>                  <td>    0.0014</td> <td>    0.001</td> <td>    1.476</td> <td> 0.140</td> <td>   -0.000</td> <td>    0.003</td>\n",
              "</tr>\n",
              "<tr>\n",
              "  <th>BMI</th>                      <td>   -0.0012</td> <td>    0.013</td> <td>   -0.094</td> <td> 0.925</td> <td>   -0.027</td> <td>    0.025</td>\n",
              "</tr>\n",
              "<tr>\n",
              "  <th>DiabetesPedigreeFunction</th> <td>    0.0411</td> <td>    0.283</td> <td>    0.145</td> <td> 0.885</td> <td>   -0.514</td> <td>    0.596</td>\n",
              "</tr>\n",
              "<tr>\n",
              "  <th>Age</th>                      <td>   -0.0145</td> <td>    0.010</td> <td>   -1.474</td> <td> 0.140</td> <td>   -0.034</td> <td>    0.005</td>\n",
              "</tr>\n",
              "</table>"
            ],
            "text/plain": [
              "<class 'statsmodels.iolib.summary.Summary'>\n",
              "\"\"\"\n",
              "                           Logit Regression Results                           \n",
              "==============================================================================\n",
              "Dep. Variable:                Outcome   No. Observations:                  576\n",
              "Model:                          Logit   Df Residuals:                      568\n",
              "Method:                           MLE   Df Model:                            7\n",
              "Date:                Mon, 26 Oct 2020   Pseudo R-squ.:                 0.05860\n",
              "Time:                        13:23:03   Log-Likelihood:                -343.83\n",
              "converged:                       True   LL-Null:                       -365.23\n",
              "Covariance Type:            nonrobust   LLR p-value:                 3.632e-07\n",
              "============================================================================================\n",
              "                               coef    std err          z      P>|z|      [0.025      0.975]\n",
              "--------------------------------------------------------------------------------------------\n",
              "Pregnancies                  0.1447      0.033      4.364      0.000       0.080       0.210\n",
              "Glucose                      0.0116      0.003      3.614      0.000       0.005       0.018\n",
              "BloodPressure               -0.0318      0.006     -5.574      0.000      -0.043      -0.021\n",
              "SkinThickness                0.0022      0.007      0.300      0.764      -0.012       0.017\n",
              "Insulin                      0.0014      0.001      1.476      0.140      -0.000       0.003\n",
              "BMI                         -0.0012      0.013     -0.094      0.925      -0.027       0.025\n",
              "DiabetesPedigreeFunction     0.0411      0.283      0.145      0.885      -0.514       0.596\n",
              "Age                         -0.0145      0.010     -1.474      0.140      -0.034       0.005\n",
              "============================================================================================\n",
              "\"\"\""
            ]
          },
          "metadata": {
            "tags": []
          },
          "execution_count": 37
        }
      ]
    },
    {
      "cell_type": "code",
      "metadata": {
        "id": "e7hWIjr0J8fd",
        "outputId": "0c1247dd-d6d3-4d38-b9c5-c90a83458580",
        "colab": {
          "base_uri": "https://localhost:8080/",
          "height": 67
        }
      },
      "source": [
        "# Coeficientes do modelo\n",
        "lr.coef_   "
      ],
      "execution_count": null,
      "outputs": [
        {
          "output_type": "execute_result",
          "data": {
            "text/plain": [
              "array([   10.50312025,  -263.32615982,   516.66778363,   356.84510148,\n",
              "       -1037.40954808,   731.51011113,   121.62332809,   163.11261651,\n",
              "         780.54426871,    66.11245968])"
            ]
          },
          "metadata": {
            "tags": []
          },
          "execution_count": 11
        }
      ]
    },
    {
      "cell_type": "code",
      "metadata": {
        "id": "5DVjyWUUKH4t",
        "outputId": "a58aca10-7682-4ccd-97d7-11e19b6d7604",
        "colab": {
          "base_uri": "https://localhost:8080/",
          "height": 34
        }
      },
      "source": [
        "# Intercepto do modelo\n",
        "lr.intercept_"
      ],
      "execution_count": null,
      "outputs": [
        {
          "output_type": "execute_result",
          "data": {
            "text/plain": [
              "155.02945244919295"
            ]
          },
          "metadata": {
            "tags": []
          },
          "execution_count": 12
        }
      ]
    },
    {
      "cell_type": "code",
      "metadata": {
        "id": "-FJaSnJLKICU",
        "outputId": "4daf587a-5c70-48bc-b563-f14a23b49d0a",
        "colab": {
          "base_uri": "https://localhost:8080/",
          "height": 34
        }
      },
      "source": [
        "# EQM - Erro Quadrático Médio\n",
        "np.mean((lr.predict(X_teste) - y_teste) ** 2) "
      ],
      "execution_count": null,
      "outputs": [
        {
          "output_type": "execute_result",
          "data": {
            "text/plain": [
              "2998.4466244258106"
            ]
          },
          "metadata": {
            "tags": []
          },
          "execution_count": 13
        }
      ]
    },
    {
      "cell_type": "markdown",
      "metadata": {
        "id": "6bVEUSTUPzOj"
      },
      "source": [
        "### Calcular y_pred - os valores preditos de y"
      ]
    },
    {
      "cell_type": "code",
      "metadata": {
        "id": "OjGrNhTNLcr-",
        "outputId": "5577e115-8c38-4451-d10a-d25065e3b9cc",
        "colab": {
          "base_uri": "https://localhost:8080/",
          "height": 907
        }
      },
      "source": [
        "y_pred = lr.predict(X_treinamento)\n",
        "\n",
        "# Predit com statmodels\n",
        "resultado_sm.predict()"
      ],
      "execution_count": null,
      "outputs": [
        {
          "output_type": "execute_result",
          "data": {
            "text/plain": [
              "array([0.41, 0.34, 0.41, 0.35, 0.18, 0.16, 0.34, 0.56, 0.48, 0.26, 0.16,\n",
              "       0.34, 0.19, 0.44, 0.23, 0.32, 0.29, 0.11, 0.59, 0.31, 0.33, 0.46,\n",
              "       0.83, 0.42, 0.16, 0.83, 0.17, 0.40, 0.37, 0.37, 0.35, 0.38, 0.29,\n",
              "       0.57, 0.37, 0.30, 0.53, 0.37, 0.13, 0.42, 0.93, 0.22, 0.32, 0.52,\n",
              "       0.23, 0.49, 0.34, 0.20, 0.10, 0.27, 0.28, 0.35, 0.37, 0.27, 0.42,\n",
              "       0.41, 0.32, 0.54, 0.32, 0.46, 0.32, 0.24, 0.62, 0.49, 0.26, 0.34,\n",
              "       0.84, 0.60, 0.23, 0.44, 0.48, 0.22, 0.19, 0.23, 0.55, 0.35, 0.13,\n",
              "       0.38, 0.27, 0.09, 0.44, 0.18, 0.23, 0.35, 0.30, 0.23, 0.36, 0.30,\n",
              "       0.72, 0.25, 0.24, 0.25, 0.45, 0.75, 0.05, 0.20, 0.67, 0.34, 0.43,\n",
              "       0.35, 0.32, 0.20, 0.15, 0.17, 0.33, 0.44, 0.52, 0.41, 0.49, 0.27,\n",
              "       0.20, 0.33, 0.31, 0.41, 0.49, 0.46, 0.82, 0.68, 0.54, 0.30, 0.19,\n",
              "       0.15, 0.23, 0.38, 0.41, 0.37, 0.32, 0.34, 0.44, 0.17, 0.10, 0.56,\n",
              "       0.50, 0.32, 0.25, 0.24, 0.27, 0.36, 0.69, 0.40, 0.30, 0.55, 0.49,\n",
              "       0.35, 0.44, 0.36, 0.30, 0.18, 0.41, 0.15, 0.23, 0.71, 0.17, 0.15,\n",
              "       0.28, 0.83, 0.56, 0.37, 0.35, 0.32, 0.29, 0.24, 0.27, 0.31, 0.28,\n",
              "       0.35, 0.30, 0.43, 0.25, 0.23, 0.73, 0.26, 0.35, 0.43, 0.22, 0.32,\n",
              "       0.33, 0.47, 0.30, 0.82, 0.19, 0.55, 0.54, 0.19, 0.30, 0.27, 0.23,\n",
              "       0.41, 0.21, 0.61, 0.16, 0.29, 0.34, 0.32, 0.28, 0.24, 0.45, 0.20,\n",
              "       0.26, 0.24, 0.25, 0.17, 0.28, 0.44, 0.32, 0.42, 0.39, 0.31, 0.25,\n",
              "       0.35, 0.20, 0.37, 0.54, 0.32, 0.37, 0.41, 0.31, 0.22, 0.09, 0.27,\n",
              "       0.36, 0.42, 0.19, 0.38, 0.48, 0.42, 0.50, 0.54, 0.31, 0.22, 0.46,\n",
              "       0.32, 0.22, 0.26, 0.42, 0.35, 0.20, 0.22, 0.18, 0.50, 0.46, 0.25,\n",
              "       0.48, 0.20, 0.19, 0.16, 0.49, 0.30, 0.70, 0.24, 0.20, 0.33, 0.15,\n",
              "       0.34, 0.37, 0.14, 0.26, 0.21, 0.91, 0.35, 0.24, 0.20, 0.22, 0.39,\n",
              "       0.43, 0.50, 0.30, 0.83, 0.21, 0.31, 0.51, 0.35, 0.39, 0.42, 0.30,\n",
              "       0.48, 0.76, 0.28, 0.19, 0.26, 0.85, 0.30, 0.26, 0.18, 0.17, 0.18,\n",
              "       0.30, 0.79, 0.57, 0.41, 0.25, 0.27, 0.70, 0.48, 0.56, 0.30, 0.23,\n",
              "       0.23, 0.49, 0.74, 0.36, 0.31, 0.31, 0.44, 0.39, 0.73, 0.41, 0.36,\n",
              "       0.91, 0.19, 0.31, 0.29, 0.55, 0.58, 0.47, 0.53, 0.35, 0.51, 0.29,\n",
              "       0.13, 0.35, 0.52, 0.64, 0.19, 0.24, 0.72, 0.31, 0.42, 0.37, 0.50,\n",
              "       0.26, 0.23, 0.47, 0.56, 0.31, 0.40, 0.56, 0.37, 0.35, 0.32, 0.36,\n",
              "       0.65, 0.43, 0.41, 0.28, 0.57, 0.42, 0.22, 0.47, 0.63, 0.15, 0.58,\n",
              "       0.10, 0.59, 0.16, 0.28, 0.17, 0.43, 0.21, 0.22, 0.22, 0.29, 0.37,\n",
              "       0.76, 0.73, 0.24, 0.64, 0.45, 0.14, 0.34, 0.44, 0.85, 0.29, 0.45,\n",
              "       0.63, 0.35, 0.21, 0.38, 0.45, 0.36, 0.19, 0.62, 0.72, 0.29, 0.46,\n",
              "       0.44, 0.50, 0.26, 0.22, 0.64, 0.26, 0.32, 0.61, 0.67, 0.27, 0.28,\n",
              "       0.22, 0.36, 0.56, 0.24, 0.36, 0.23, 0.37, 0.50, 0.26, 0.59, 0.15,\n",
              "       0.29, 0.35, 0.09, 0.09, 0.29, 0.29, 0.43, 0.44, 0.23, 0.20, 0.42,\n",
              "       0.30, 0.22, 0.19, 0.37, 0.43, 0.29, 0.19, 0.47, 0.26, 0.19, 0.23,\n",
              "       0.26, 0.42, 0.24, 0.30, 0.38, 0.81, 0.88, 0.44, 0.22, 0.33, 0.29,\n",
              "       0.51, 0.23, 0.22, 0.48, 0.35, 0.25, 0.45, 0.28, 0.52, 0.32, 0.45,\n",
              "       0.34, 0.48, 0.46, 0.32, 0.61, 0.26, 0.12, 0.50, 0.48, 0.22, 0.28,\n",
              "       0.61, 0.35, 0.60, 0.31, 0.44, 0.37, 0.29, 0.87, 0.09, 0.41, 0.50,\n",
              "       0.29, 0.16, 0.34, 0.29, 0.24, 0.38, 0.32, 0.39, 0.25, 0.56, 0.28,\n",
              "       0.08, 0.27, 0.37, 0.24, 0.26, 0.35, 0.48, 0.24, 0.33, 0.20, 0.61,\n",
              "       0.14, 0.31, 0.60, 0.53, 0.62, 0.53, 0.54, 0.35, 0.14, 0.31, 0.42,\n",
              "       0.21, 0.64, 0.19, 0.38, 0.41, 0.11, 0.27, 0.26, 0.22, 0.36, 0.28,\n",
              "       0.38, 0.51, 0.08, 0.27, 0.68, 0.38, 0.55, 0.57, 0.49, 0.50, 0.46,\n",
              "       0.20, 0.28, 0.38, 0.44, 0.37, 0.45, 0.45, 0.22, 0.31, 0.33, 0.26,\n",
              "       0.21, 0.25, 0.17, 0.33, 0.30, 0.46, 0.26, 0.36, 0.53, 0.52, 0.27,\n",
              "       0.28, 0.33, 0.27, 0.81, 0.47, 0.27, 0.20, 0.10, 0.27, 0.26, 0.33,\n",
              "       0.66, 0.58, 0.25, 0.25, 0.29, 0.31, 0.24, 0.35, 0.35, 0.29, 0.24,\n",
              "       0.69, 0.22, 0.29, 0.55])"
            ]
          },
          "metadata": {
            "tags": []
          },
          "execution_count": 39
        }
      ]
    },
    {
      "cell_type": "code",
      "metadata": {
        "id": "FolXBGbFFUnE",
        "outputId": "b4e5039d-4e71-40e2-8549-b4bb5f21a7dc",
        "colab": {
          "base_uri": "https://localhost:8080/",
          "height": 605
        }
      },
      "source": [
        "np.array(diabetes['Outcome'])"
      ],
      "execution_count": null,
      "outputs": [
        {
          "output_type": "execute_result",
          "data": {
            "text/plain": [
              "array([1, 0, 1, 0, 1, 0, 1, 0, 1, 1, 0, 1, 0, 1, 1, 1, 1, 1, 0, 1, 0, 0,\n",
              "       1, 1, 1, 1, 1, 0, 0, 0, 0, 1, 0, 0, 0, 0, 0, 1, 1, 1, 0, 0, 0, 1,\n",
              "       0, 1, 0, 0, 1, 0, 0, 0, 0, 1, 0, 0, 1, 0, 0, 0, 0, 1, 0, 0, 1, 0,\n",
              "       1, 0, 0, 0, 1, 0, 1, 0, 0, 0, 0, 0, 1, 0, 0, 0, 0, 0, 1, 0, 0, 0,\n",
              "       1, 0, 0, 0, 0, 1, 0, 0, 0, 0, 0, 1, 1, 0, 0, 0, 0, 0, 0, 0, 0, 1,\n",
              "       1, 1, 0, 0, 1, 1, 1, 0, 0, 0, 1, 0, 0, 0, 1, 1, 0, 0, 1, 1, 1, 1,\n",
              "       1, 0, 0, 0, 0, 0, 0, 0, 0, 0, 0, 1, 0, 0, 0, 0, 0, 0, 0, 0, 1, 0,\n",
              "       1, 1, 0, 0, 0, 1, 0, 0, 0, 0, 1, 1, 0, 0, 0, 0, 1, 1, 0, 0, 0, 1,\n",
              "       0, 1, 0, 1, 0, 0, 0, 0, 0, 1, 1, 1, 1, 1, 0, 0, 1, 1, 0, 1, 0, 1,\n",
              "       1, 1, 0, 0, 0, 0, 0, 0, 1, 1, 0, 1, 0, 0, 0, 1, 1, 1, 1, 0, 1, 1,\n",
              "       1, 1, 0, 0, 0, 0, 0, 1, 0, 0, 1, 1, 0, 0, 0, 1, 1, 1, 1, 0, 0, 0,\n",
              "       1, 1, 0, 1, 0, 0, 0, 0, 0, 0, 0, 0, 1, 1, 0, 0, 0, 1, 0, 1, 0, 0,\n",
              "       1, 0, 1, 0, 0, 1, 1, 0, 0, 0, 0, 0, 1, 0, 0, 0, 1, 0, 0, 1, 1, 0,\n",
              "       0, 1, 0, 0, 0, 1, 1, 1, 0, 0, 1, 0, 1, 0, 1, 1, 0, 1, 0, 0, 1, 0,\n",
              "       1, 1, 0, 0, 1, 0, 1, 0, 0, 1, 0, 1, 0, 1, 1, 1, 0, 0, 1, 0, 1, 0,\n",
              "       0, 0, 1, 0, 0, 0, 0, 1, 1, 1, 0, 0, 0, 0, 0, 0, 0, 0, 0, 1, 0, 0,\n",
              "       0, 0, 0, 1, 1, 1, 0, 1, 1, 0, 0, 1, 0, 0, 1, 0, 0, 1, 1, 0, 0, 0,\n",
              "       0, 1, 0, 0, 1, 0, 0, 0, 0, 0, 0, 0, 1, 1, 1, 0, 0, 1, 0, 0, 1, 0,\n",
              "       0, 1, 0, 1, 1, 0, 1, 0, 1, 0, 1, 0, 1, 1, 0, 0, 0, 0, 1, 1, 0, 1,\n",
              "       0, 1, 0, 0, 0, 0, 1, 1, 0, 1, 0, 1, 0, 0, 0, 0, 0, 1, 0, 0, 0, 0,\n",
              "       1, 0, 0, 1, 1, 1, 0, 0, 1, 0, 0, 1, 0, 0, 0, 1, 0, 0, 1, 0, 0, 0,\n",
              "       0, 0, 0, 0, 0, 0, 1, 0, 0, 0, 0, 0, 0, 0, 1, 0, 0, 0, 1, 0, 0, 0,\n",
              "       1, 1, 0, 0, 0, 0, 0, 0, 0, 1, 0, 0, 0, 0, 1, 0, 0, 0, 1, 0, 0, 0,\n",
              "       1, 0, 0, 0, 1, 0, 0, 0, 0, 1, 1, 0, 0, 0, 0, 0, 0, 1, 0, 0, 0, 0,\n",
              "       0, 0, 0, 0, 0, 0, 0, 1, 0, 0, 0, 1, 1, 1, 1, 0, 0, 1, 1, 0, 0, 0,\n",
              "       0, 0, 0, 0, 0, 0, 0, 0, 0, 0, 1, 1, 0, 0, 0, 0, 0, 0, 0, 1, 0, 0,\n",
              "       0, 0, 0, 0, 0, 1, 0, 1, 1, 0, 0, 0, 1, 0, 1, 0, 1, 0, 1, 0, 1, 0,\n",
              "       0, 1, 0, 0, 1, 0, 0, 0, 0, 1, 1, 0, 1, 0, 0, 0, 0, 1, 1, 0, 1, 0,\n",
              "       0, 0, 1, 1, 0, 0, 0, 0, 0, 0, 0, 0, 0, 0, 1, 0, 0, 0, 0, 1, 0, 0,\n",
              "       1, 0, 0, 0, 1, 0, 0, 0, 1, 1, 1, 0, 0, 0, 0, 0, 0, 1, 0, 0, 0, 1,\n",
              "       0, 1, 1, 1, 1, 0, 1, 1, 0, 0, 0, 0, 0, 0, 0, 1, 1, 0, 1, 0, 0, 1,\n",
              "       0, 1, 0, 0, 0, 0, 0, 1, 0, 1, 0, 1, 0, 1, 1, 0, 0, 0, 0, 1, 1, 0,\n",
              "       0, 0, 1, 0, 1, 1, 0, 0, 1, 0, 0, 1, 1, 0, 0, 1, 0, 0, 1, 0, 0, 0,\n",
              "       0, 0, 0, 0, 1, 1, 1, 0, 0, 0, 0, 0, 0, 1, 1, 0, 0, 1, 0, 0, 1, 0,\n",
              "       1, 1, 1, 0, 0, 1, 1, 1, 0, 1, 0, 1, 0, 1, 0, 0, 0, 0, 1, 0])"
            ]
          },
          "metadata": {
            "tags": []
          },
          "execution_count": 40
        }
      ]
    },
    {
      "cell_type": "code",
      "metadata": {
        "id": "pUxasncIFaw4",
        "outputId": "e799ed76-bcbd-4620-fc98-11b2b998f67f",
        "colab": {
          "base_uri": "https://localhost:8080/",
          "height": 50
        }
      },
      "source": [
        "resultado_sm.pred_table()"
      ],
      "execution_count": null,
      "outputs": [
        {
          "output_type": "execute_result",
          "data": {
            "text/plain": [
              "array([[343.00, 43.00],\n",
              "       [129.00, 61.00]])"
            ]
          },
          "metadata": {
            "tags": []
          },
          "execution_count": 41
        }
      ]
    },
    {
      "cell_type": "code",
      "metadata": {
        "id": "_liLYinwFgch",
        "outputId": "6f5743ab-ae7b-4d4e-d23b-5779be359113",
        "colab": {
          "base_uri": "https://localhost:8080/",
          "height": 106
        }
      },
      "source": [
        "confusion_matrix = pd.DataFrame(resultado_sm.pred_table())\n",
        "confusion_matrix.columns = ['Predicted No Diabetes', 'Predicted Diabetes']\n",
        "confusion_matrix = confusion_matrix.rename(index = {0 : 'Actual No Diabetes', 1 : 'Actual Diabetes'})\n",
        "confusion_matrix"
      ],
      "execution_count": null,
      "outputs": [
        {
          "output_type": "execute_result",
          "data": {
            "text/html": [
              "<div>\n",
              "<style scoped>\n",
              "    .dataframe tbody tr th:only-of-type {\n",
              "        vertical-align: middle;\n",
              "    }\n",
              "\n",
              "    .dataframe tbody tr th {\n",
              "        vertical-align: top;\n",
              "    }\n",
              "\n",
              "    .dataframe thead th {\n",
              "        text-align: right;\n",
              "    }\n",
              "</style>\n",
              "<table border=\"1\" class=\"dataframe\">\n",
              "  <thead>\n",
              "    <tr style=\"text-align: right;\">\n",
              "      <th></th>\n",
              "      <th>Predicted No Diabetes</th>\n",
              "      <th>Predicted Diabetes</th>\n",
              "    </tr>\n",
              "  </thead>\n",
              "  <tbody>\n",
              "    <tr>\n",
              "      <th>Actual No Diabetes</th>\n",
              "      <td>343.0</td>\n",
              "      <td>43.0</td>\n",
              "    </tr>\n",
              "    <tr>\n",
              "      <th>Actual Diabetes</th>\n",
              "      <td>129.0</td>\n",
              "      <td>61.0</td>\n",
              "    </tr>\n",
              "  </tbody>\n",
              "</table>\n",
              "</div>"
            ],
            "text/plain": [
              "                    Predicted No Diabetes  Predicted Diabetes\n",
              "Actual No Diabetes                  343.0                43.0\n",
              "Actual Diabetes                     129.0                61.0"
            ]
          },
          "metadata": {
            "tags": []
          },
          "execution_count": 42
        }
      ]
    },
    {
      "cell_type": "code",
      "metadata": {
        "id": "ceH3MODWFm7S",
        "outputId": "52c6473a-7a20-4eed-ee46-05d1bf460f84",
        "colab": {
          "base_uri": "https://localhost:8080/",
          "height": 34
        }
      },
      "source": [
        "cm = np.array(confusion_matrix)\n",
        "training_accuracy = (cm[0,0] + cm[1,1])/ cm.sum()\n",
        "training_accuracy"
      ],
      "execution_count": null,
      "outputs": [
        {
          "output_type": "execute_result",
          "data": {
            "text/plain": [
              "0.7013888888888888"
            ]
          },
          "metadata": {
            "tags": []
          },
          "execution_count": 43
        }
      ]
    },
    {
      "cell_type": "markdown",
      "metadata": {
        "id": "kfRda6kWFzHZ"
      },
      "source": [
        "### Testando o modelo"
      ]
    },
    {
      "cell_type": "code",
      "metadata": {
        "id": "R0n-pdnkF3MC"
      },
      "source": [
        "test_cleaned = test_data['Outcome']\n",
        "test_data = test_data.drop(['Outcome'], axis = 1)\n",
        "test_data = sm.add_constant(test_data)"
      ],
      "execution_count": null,
      "outputs": []
    },
    {
      "cell_type": "code",
      "metadata": {
        "id": "x5hTgpelF5Pu"
      },
      "source": [
        "def confusion_matrix(data, actual_values, model):\n",
        "    predicted_values = model.predict(data)\n",
        "    bins = np.array ([0, 0.5, 1])\n",
        "    cm = np.histogram2d(actual_values, predicted_values, bins = bins)[0]\n",
        "    accuracy = (cm[0,0] + cm[1,1])/cm.sum()\n",
        "    return cm, accuracy"
      ],
      "execution_count": null,
      "outputs": []
    },
    {
      "cell_type": "code",
      "metadata": {
        "id": "9PBK6M8yF7JE"
      },
      "source": [
        "conf_matrix = confusion_matrix(test_data, test_cleaned, result)\n",
        "conf_matrix"
      ],
      "execution_count": null,
      "outputs": []
    },
    {
      "cell_type": "code",
      "metadata": {
        "id": "EQz6ys7EF854"
      },
      "source": [
        "confusion_matrix = pd.DataFrame(conf_matrix[0])\n",
        "confusion_matrix.columns = ['Predicted No Diabetes', 'Predicted Diabetes']\n",
        "confusion_matrix = confusion_matrix.rename(index = {0 : 'Actual No Diabetes', 1 : 'Actual Diabetes'})\n",
        "confusion_matrix"
      ],
      "execution_count": null,
      "outputs": []
    },
    {
      "cell_type": "markdown",
      "metadata": {
        "id": "4MeuBR4QO1x3"
      },
      "source": [
        "# Regularized Regression Methods \n",
        "## Ridge Regression - Penalized Regression\n",
        "> Reduz a complexidade do modelo através do uso de todas as variáveis de $X$, mas penalizando os coeficientes $w_{i}$ quando estiverem muito longe de zero, forçando-os a serem pequenos de maneira contínua. Dessa forma, diminuímos a complexidade do modelo enquanto mantemos todas as variáveis no modelo.\n",
        "* Menor impacto dos outliers.\n",
        "\n",
        "### Exemplo"
      ]
    },
    {
      "cell_type": "code",
      "metadata": {
        "id": "J1gLVnjXO1x6"
      },
      "source": [
        "from sklearn.linear_model import Ridge\n",
        "ridge = Ridge(alpha = .1)\n",
        "lr = LinearRegression()"
      ],
      "execution_count": null,
      "outputs": []
    },
    {
      "cell_type": "code",
      "metadata": {
        "id": "0neeicWaO1yA"
      },
      "source": [
        "# Matriz de covariáveis do modelo:\n",
        "X_new = [[0, 0], [0, 0], [1, 1]]\n",
        "y_new = [0, .1, 1]"
      ],
      "execution_count": null,
      "outputs": []
    },
    {
      "cell_type": "code",
      "metadata": {
        "id": "CnDB5Bd0O1yE"
      },
      "source": [
        "X_new"
      ],
      "execution_count": null,
      "outputs": []
    },
    {
      "cell_type": "code",
      "metadata": {
        "id": "UldOGKA6O1yJ"
      },
      "source": [
        "y_new"
      ],
      "execution_count": null,
      "outputs": []
    },
    {
      "cell_type": "code",
      "metadata": {
        "id": "GRzwxGWpO1yO"
      },
      "source": [
        "ridge = Ridge(alpha = .1)\n",
        "ridge.fit(X_new, y_new)\n",
        "ridge.coef_"
      ],
      "execution_count": null,
      "outputs": []
    },
    {
      "cell_type": "code",
      "metadata": {
        "id": "FXas7SfCO1yR"
      },
      "source": [
        "# treinando a regressão Ridge\n",
        "ridge.fit(X, y)\n",
        "\n",
        "# treinando a regressão linear simples (OLS)\n",
        "lr.fit(X, y)"
      ],
      "execution_count": null,
      "outputs": []
    },
    {
      "cell_type": "code",
      "metadata": {
        "id": "gvQY7qzBO1yV"
      },
      "source": [
        "ridge.coef_"
      ],
      "execution_count": null,
      "outputs": []
    },
    {
      "cell_type": "code",
      "metadata": {
        "id": "Wg1Z4h5tO1yY"
      },
      "source": [
        "lr.coef_"
      ],
      "execution_count": null,
      "outputs": []
    },
    {
      "cell_type": "code",
      "metadata": {
        "id": "Puj1I_8CO1yd"
      },
      "source": [
        "# Adicionar alguns outliers aos dados\n",
        "outliers = y[950:] - 600\n",
        "outliers"
      ],
      "execution_count": null,
      "outputs": []
    },
    {
      "cell_type": "code",
      "metadata": {
        "id": "Tw4Q3q6lO1yg"
      },
      "source": [
        "import numpy as np\n",
        "y_outlier = np.append(y[:950], outliers)"
      ],
      "execution_count": null,
      "outputs": []
    },
    {
      "cell_type": "code",
      "metadata": {
        "id": "pq7ufBP_O1yk"
      },
      "source": [
        "plt.scatter(X, y_outlier, s=5)"
      ],
      "execution_count": null,
      "outputs": []
    },
    {
      "cell_type": "code",
      "metadata": {
        "id": "Nx07u9aLO1yo"
      },
      "source": [
        "lr = LinearRegression()\n",
        "lr.fit(X, y_outlier)"
      ],
      "execution_count": null,
      "outputs": []
    },
    {
      "cell_type": "code",
      "metadata": {
        "id": "5U_5Oc3TO1ys"
      },
      "source": [
        "y_pred_outliers= lr.predict(X)"
      ],
      "execution_count": null,
      "outputs": []
    },
    {
      "cell_type": "code",
      "metadata": {
        "id": "KsZ_jwBgO1yz"
      },
      "source": [
        "plt.scatter(X, y_outlier,s=5,label='actual')\n",
        "plt.scatter(X, y_pred_outliers,s=5,label='prediction with outliers')\n",
        "plt.scatter(X, y_pred,s=5,c='k', label='prediction sem outlier')\n",
        "plt.legend()\n",
        "plt.title('Linear Regression')"
      ],
      "execution_count": null,
      "outputs": []
    },
    {
      "cell_type": "code",
      "metadata": {
        "id": "4ZJghaE-O1y4"
      },
      "source": [
        "lr.coef_"
      ],
      "execution_count": null,
      "outputs": []
    },
    {
      "cell_type": "code",
      "metadata": {
        "id": "dMYaRMZxO1y8"
      },
      "source": [
        "ridge = Ridge(alpha = 1000)"
      ],
      "execution_count": null,
      "outputs": []
    },
    {
      "cell_type": "code",
      "metadata": {
        "id": "8swmMWrWO1zA"
      },
      "source": [
        "ridge.fit(X, y_outlier)"
      ],
      "execution_count": null,
      "outputs": []
    },
    {
      "cell_type": "code",
      "metadata": {
        "id": "FbrgmNIhO1zE"
      },
      "source": [
        "y_pred_ridge = ridge.predict(X)"
      ],
      "execution_count": null,
      "outputs": []
    },
    {
      "cell_type": "code",
      "metadata": {
        "id": "ZLEEbFHYO1zI"
      },
      "source": [
        "plt.scatter(X, y_outlier, s = 5,label = 'actual')\n",
        "plt.scatter(X, y_pred_outliers, s = 5, c = 'r' ,label = 'LinearRegression with outliers')\n",
        "plt.scatter(X, y_pred_ridge, s = 5, c = 'k', label = 'RidgeRegression with outlier')\n",
        "plt.legend()\n",
        "plt.title('Linear Regression')"
      ],
      "execution_count": null,
      "outputs": []
    },
    {
      "cell_type": "code",
      "metadata": {
        "id": "KL_0cZilO1zO"
      },
      "source": [
        "ridge.coef_"
      ],
      "execution_count": null,
      "outputs": []
    },
    {
      "cell_type": "markdown",
      "metadata": {
        "id": "5Q146_AyO1zS"
      },
      "source": [
        "## Efeito de $\\alpha$ na Regressão Ridge\n",
        "### Exemplo"
      ]
    },
    {
      "cell_type": "code",
      "metadata": {
        "id": "ydZvyvJ3O1zT"
      },
      "source": [
        "X, y, w = make_regression(n_samples = 10, \n",
        "                          n_features = 10, \n",
        "                          coef = True, \n",
        "                          random_state = 1, \n",
        "                          bias = 3.5)"
      ],
      "execution_count": null,
      "outputs": []
    },
    {
      "cell_type": "code",
      "metadata": {
        "id": "z187ZGCqO1zY"
      },
      "source": [
        "w"
      ],
      "execution_count": null,
      "outputs": []
    },
    {
      "cell_type": "markdown",
      "metadata": {
        "id": "h4UEPOD6O1zd"
      },
      "source": [
        "# Lasso\n",
        "* Reduz overfitting;\n",
        "* Se encarrega do Feature Selection, pois descarta variáveis altamente correlacionadas."
      ]
    },
    {
      "cell_type": "code",
      "metadata": {
        "id": "nv4t9GlkO1ze"
      },
      "source": [
        "from sklearn.linear_model import Lasso\n",
        "lasso = Lasso(alpha = .1)\n",
        "lasso.fit([[0, 0], [0, 0], [1, 1]],  [0, .1, 1])"
      ],
      "execution_count": null,
      "outputs": []
    },
    {
      "cell_type": "code",
      "metadata": {
        "id": "uLIbSdeSO1zj"
      },
      "source": [
        "lasso.coef_"
      ],
      "execution_count": null,
      "outputs": []
    },
    {
      "cell_type": "markdown",
      "metadata": {
        "id": "_3AZohS2O1zq"
      },
      "source": [
        "Observe acima que o segundo coeficiente foi estimado como 0 e, desta forma, podemos excluí-lo do ML."
      ]
    },
    {
      "cell_type": "markdown",
      "metadata": {
        "id": "dazegSrTO1zr"
      },
      "source": [
        "# Elastic Net  \n",
        "* Combina o poder de Ridge e LASSO;\n",
        "* Remove variáveis de pouco poder preditivo (LASSO) ou as penaliza (Ridge)."
      ]
    },
    {
      "cell_type": "code",
      "metadata": {
        "id": "SmfRQ4QKO1zs"
      },
      "source": [
        "from sklearn.linear_model import ElasticNet\n",
        "\n",
        "# Instancia o objeto\n",
        "en = ElasticNet(alpha = .1)"
      ],
      "execution_count": null,
      "outputs": []
    },
    {
      "cell_type": "code",
      "metadata": {
        "id": "IwWarH8BO1zv"
      },
      "source": [
        "en.fit([[0, 0], [0, 0], [1, 1]],  [0, .1, 1])"
      ],
      "execution_count": null,
      "outputs": []
    },
    {
      "cell_type": "code",
      "metadata": {
        "id": "R2017DAXO1zz"
      },
      "source": [
        "en.coef_"
      ],
      "execution_count": null,
      "outputs": []
    },
    {
      "cell_type": "markdown",
      "metadata": {
        "id": "zz2uKTAJO1z6"
      },
      "source": [
        "# Exemplo completo: Ridge\n",
        "* Adaptado de [Ridge and Lasso Regression: A Complete Guide with Python Scikit-Learn](https://towardsdatascience.com/ridge-and-lasso-regression-a-complete-guide-with-python-scikit-learn-e20e34bcbf0b)"
      ]
    },
    {
      "cell_type": "code",
      "metadata": {
        "id": "mLUs3Y4lO1z7"
      },
      "source": [
        "from sklearn.datasets import load_boston\n",
        "import numpy as np\n",
        "import pandas as pd\n",
        "import matplotlib.pyplot as plt\n",
        "%matplotlib inline\n",
        "\n",
        "from sklearn.model_selection import train_test_split\n",
        "from sklearn.linear_model import LinearRegression\n",
        "from sklearn.linear_model import Ridge\n",
        "\n",
        "from sklearn.metrics import mean_squared_error"
      ],
      "execution_count": null,
      "outputs": []
    },
    {
      "cell_type": "code",
      "metadata": {
        "id": "IPVmVN83O1z_"
      },
      "source": [
        "boston = load_boston()\n",
        "df_Boston = pd.DataFrame(boston.data, columns = boston.feature_names)"
      ],
      "execution_count": null,
      "outputs": []
    },
    {
      "cell_type": "code",
      "metadata": {
        "id": "Wyf2IO9fO10D"
      },
      "source": [
        "X_boston = boston.data\n",
        "y_boston = boston.target"
      ],
      "execution_count": null,
      "outputs": []
    },
    {
      "cell_type": "code",
      "metadata": {
        "id": "mddJC9UyO10K"
      },
      "source": [
        "X_treinamento, X_teste, y_treinamento, y_teste = train_test_split(X_boston, y_boston, test_size = 0.2, random_state = 20111974)"
      ],
      "execution_count": null,
      "outputs": []
    },
    {
      "cell_type": "code",
      "metadata": {
        "id": "7GoluU_cO10S"
      },
      "source": [
        "lr = LinearRegression()\n",
        "lr.fit(X_treinamento, y_treinamento)"
      ],
      "execution_count": null,
      "outputs": []
    },
    {
      "cell_type": "code",
      "metadata": {
        "id": "kA603LoWO10W"
      },
      "source": [
        "# maior alpha --> mais restrição aos coeficientes; \n",
        "# Menor alpha --> mais generalização, e Ridge se assemelha da OLS\n",
        "rr = Ridge(alpha = 0.01)\n",
        "rr.fit(X_treinamento, y_treinamento)"
      ],
      "execution_count": null,
      "outputs": []
    },
    {
      "cell_type": "code",
      "metadata": {
        "id": "-MvzKjBuO10a"
      },
      "source": [
        "# MSE\n",
        "rr_model=(mean_squared_error(y_true = y_treinamento, y_pred = rr.predict(X_treinamento)))\n",
        "print(rr_model)"
      ],
      "execution_count": null,
      "outputs": []
    },
    {
      "cell_type": "code",
      "metadata": {
        "id": "Hjg0XJPWO10g"
      },
      "source": [
        "rr100 = Ridge(alpha=100)\n",
        "rr100.fit(X_treinamento, y_treinamento)\n",
        "train_score=lr.score(X_treinamento, y_treinamento)\n",
        "test_score=lr.score(X_teste, y_teste)\n",
        "Ridge_treinamento_score = rr.score(X_treinamento,y_treinamento)"
      ],
      "execution_count": null,
      "outputs": []
    },
    {
      "cell_type": "code",
      "metadata": {
        "id": "6XpGG2_xO10j"
      },
      "source": [
        "# MSE\n",
        "rr100_model = (mean_squared_error(y_true = y_treinamento, y_pred = rr100.predict(X_treinamento)))\n",
        "print(rr100_model)"
      ],
      "execution_count": null,
      "outputs": []
    },
    {
      "cell_type": "code",
      "metadata": {
        "id": "F9YF1Jc0O10m"
      },
      "source": [
        "Ridge_teste_score = rr.score(X_teste, y_teste)\n",
        "Ridge_treinamento_score100 = rr100.score(X_treinamento, y_treinamento)\n",
        "Ridge_teste_score100 = rr100.score(X_teste, y_teste)\n",
        "print(\"linear regression train score:\", train_score)\n",
        "print(\"linear regression test score:\", test_score)\n",
        "print(\"ridge regression train score low alpha:\", Ridge_treinamento_score)\n",
        "print(\"ridge regression test score low alpha:\", Ridge_teste_score)\n",
        "print(\"ridge regression train score high alpha:\", Ridge_treinamento_score100)\n",
        "print(\"ridge regression test score high alpha:\", Ridge_teste_score100)"
      ],
      "execution_count": null,
      "outputs": []
    },
    {
      "cell_type": "code",
      "metadata": {
        "id": "qoHzgC53O10q"
      },
      "source": [
        "plt.plot(rr.coef_, \n",
        "         alpha = 0.7, \n",
        "         linestyle = 'none', \n",
        "         marker = '*', \n",
        "         markersize = 5, \n",
        "         color = 'red', \n",
        "         label = r'Ridge; \n",
        "         $\\alpha = 0.01$', \n",
        "         zorder = 7) # zorder for ordering the markers\n",
        "\n",
        "plt.plot(rr100.coef_,alpha = 0.5, \n",
        "         linestyle = 'none', \n",
        "         marker = 'd', \n",
        "         markersize = 6, \n",
        "         color = 'blue', \n",
        "         label = r'Ridge; \n",
        "         $\\alpha = 100$') # alpha here is for transparency\n",
        "\n",
        "plt.plot(lr.coef_, \n",
        "         alpha = 0.4, \n",
        "         linestyle = 'none', \n",
        "         marker = 'o', \n",
        "         markersize = 7, \n",
        "         color = 'green', \n",
        "         label = 'Linear Regression')\n",
        "\n",
        "plt.xlabel('Coefficient Index', fontsize = 16)\n",
        "plt.ylabel('Coefficient Magnitude',fontsize = 16)\n",
        "plt.legend(fontsize = 13, loc = 4)\n",
        "plt.show()"
      ],
      "execution_count": null,
      "outputs": []
    },
    {
      "cell_type": "code",
      "metadata": {
        "id": "GCwp0QRBO10u"
      },
      "source": [
        "from sklearn.metrics import mean_squared_error\n",
        "rr_model=(mean_squared_error(y_true= y, y_pred=regression.predict(X)))\n",
        "print(first_model)"
      ],
      "execution_count": null,
      "outputs": []
    },
    {
      "cell_type": "markdown",
      "metadata": {
        "id": "tPw-VP63O10x"
      },
      "source": [
        "# Exemplo completo - Elastic Net"
      ]
    },
    {
      "cell_type": "code",
      "metadata": {
        "id": "dLu6v8HkO10y"
      },
      "source": [
        "from sklearn.linear_model import ElasticNet\n",
        "from sklearn.model_selection import GridSearchCV\n",
        "\n",
        "# Instancia o objeto:\n",
        "en = ElasticNet(normalize = True)\n",
        "\n",
        "# Otimização dos hiperparâmetros:\n",
        "d_hiperparametros = {'alpha': np.logspace(-5, 2, 8), \n",
        "                     'l1_ratio': [.2, .4, .6, .8]}\n",
        "\n",
        "search = GridSearchCV(estimator = en, \n",
        "                      param_grid = d_hiperparametros, \n",
        "                      scoring = 'neg_mean_squared_error', \n",
        "                      n_jobs = 1,\n",
        "                      refit = True, \n",
        "                      cv = 10)"
      ],
      "execution_count": null,
      "outputs": []
    },
    {
      "cell_type": "code",
      "metadata": {
        "id": "DzirI7FJO101"
      },
      "source": [
        "search.fit(X, y)\n",
        "search.best_params_"
      ],
      "execution_count": null,
      "outputs": []
    },
    {
      "cell_type": "code",
      "metadata": {
        "id": "jqPPkVP5O105"
      },
      "source": [
        "en2 = ElasticNet(normalize = True, alpha = 0.001, l1_ratio = 0.6)\n",
        "en2.fit(X, y)\n",
        "\n",
        "ml2 = (mean_squared_error(y_true = y, y_pred = en2.predict(X)))\n",
        "print(ml2)"
      ],
      "execution_count": null,
      "outputs": []
    },
    {
      "cell_type": "markdown",
      "metadata": {
        "id": "CH_iEuzhO109"
      },
      "source": [
        "# Exercício 1 - Mall_Customers.csv\n",
        "> A variável-target deste dataframe é 'Annual Income'. Desenvolva um modelo de regressão utilizando OLS, Ridge e LASSO e compare os resultados.\n",
        "\n",
        "* Experimente:\n",
        "    * Lasso(alpha = 0.01, max_iter = 10e5);\n",
        "    * Lasso(alpha = 0.0001, max_iter = 10e5);\n",
        "    * Ridge(alpha = 0.01);\n",
        "    * Ridge(alpha = 100);"
      ]
    },
    {
      "cell_type": "code",
      "metadata": {
        "id": "ZfRDEaaRYxFQ"
      },
      "source": [
        "import pandas as pd\n",
        "import numpy as np\n",
        "from sklearn import preprocessing\n",
        "import matplotlib.pyplot as plt \n",
        "plt.rc(\"font\", size=14)\n",
        "from sklearn.linear_model import LogisticRegression\n",
        "from sklearn.model_selection import train_test_split\n",
        "import seaborn as sns\n",
        "sns.set(style=\"white\")\n",
        "sns.set(style=\"whitegrid\", color_codes=True)"
      ],
      "execution_count": null,
      "outputs": []
    },
    {
      "cell_type": "markdown",
      "metadata": {
        "id": "nulrLzUqYxFY"
      },
      "source": [
        "## Data\n",
        "\n",
        "The data is related with direct marketing campaigns (phone calls) of a Portuguese banking institution. The classification goal is to predict if the client will subscribe (1/0) a term deposit (variable y)."
      ]
    },
    {
      "cell_type": "markdown",
      "metadata": {
        "id": "4LdrQCwxYxFY"
      },
      "source": [
        "This dataset provides the customer information. It includes 41188 records and 21 fields."
      ]
    },
    {
      "cell_type": "code",
      "metadata": {
        "id": "qoT6zkoFYxFZ",
        "outputId": "2a1561ef-28cd-445f-d8ec-a2dd8e8e8c20",
        "colab": {
          "base_uri": "https://localhost:8080/",
          "height": 50
        }
      },
      "source": [
        "df_bank = pd.read_csv('https://raw.githubusercontent.com/MathMachado/DataFrames/master/bank-full.csv', header = 0)\n",
        "df_bank = df_bank.dropna()\n",
        "print(df_bank.shape)\n",
        "print(list(df_bank.columns))"
      ],
      "execution_count": null,
      "outputs": [
        {
          "output_type": "stream",
          "text": [
            "(45211, 1)\n",
            "['age;\"job\";\"marital\";\"education\";\"default\";\"balance\";\"housing\";\"loan\";\"contact\";\"day\";\"month\";\"duration\";\"campaign\";\"pdays\";\"previous\";\"poutcome\";\"y\"']\n"
          ],
          "name": "stdout"
        }
      ]
    },
    {
      "cell_type": "code",
      "metadata": {
        "id": "ZD23hMCeYxFc",
        "outputId": "f3f4434d-428c-46fb-d15e-96cf2fa4ad8d",
        "colab": {
          "base_uri": "https://localhost:8080/",
          "height": 195
        }
      },
      "source": [
        "df_bank.head()"
      ],
      "execution_count": null,
      "outputs": [
        {
          "output_type": "execute_result",
          "data": {
            "text/html": [
              "<div>\n",
              "<style scoped>\n",
              "    .dataframe tbody tr th:only-of-type {\n",
              "        vertical-align: middle;\n",
              "    }\n",
              "\n",
              "    .dataframe tbody tr th {\n",
              "        vertical-align: top;\n",
              "    }\n",
              "\n",
              "    .dataframe thead th {\n",
              "        text-align: right;\n",
              "    }\n",
              "</style>\n",
              "<table border=\"1\" class=\"dataframe\">\n",
              "  <thead>\n",
              "    <tr style=\"text-align: right;\">\n",
              "      <th></th>\n",
              "      <th>age;\"job\";\"marital\";\"education\";\"default\";\"balance\";\"housing\";\"loan\";\"contact\";\"day\";\"month\";\"duration\";\"campaign\";\"pdays\";\"previous\";\"poutcome\";\"y\"</th>\n",
              "    </tr>\n",
              "  </thead>\n",
              "  <tbody>\n",
              "    <tr>\n",
              "      <th>0</th>\n",
              "      <td>58;\"management\";\"married\";\"tertiary\";\"no\";2143...</td>\n",
              "    </tr>\n",
              "    <tr>\n",
              "      <th>1</th>\n",
              "      <td>44;\"technician\";\"single\";\"secondary\";\"no\";29;\"...</td>\n",
              "    </tr>\n",
              "    <tr>\n",
              "      <th>2</th>\n",
              "      <td>33;\"entrepreneur\";\"married\";\"secondary\";\"no\";2...</td>\n",
              "    </tr>\n",
              "    <tr>\n",
              "      <th>3</th>\n",
              "      <td>47;\"blue-collar\";\"married\";\"unknown\";\"no\";1506...</td>\n",
              "    </tr>\n",
              "    <tr>\n",
              "      <th>4</th>\n",
              "      <td>33;\"unknown\";\"single\";\"unknown\";\"no\";1;\"no\";\"n...</td>\n",
              "    </tr>\n",
              "  </tbody>\n",
              "</table>\n",
              "</div>"
            ],
            "text/plain": [
              "  age;\"job\";\"marital\";\"education\";\"default\";\"balance\";\"housing\";\"loan\";\"contact\";\"day\";\"month\";\"duration\";\"campaign\";\"pdays\";\"previous\";\"poutcome\";\"y\"\n",
              "0  58;\"management\";\"married\";\"tertiary\";\"no\";2143...                                                                                                  \n",
              "1  44;\"technician\";\"single\";\"secondary\";\"no\";29;\"...                                                                                                  \n",
              "2  33;\"entrepreneur\";\"married\";\"secondary\";\"no\";2...                                                                                                  \n",
              "3  47;\"blue-collar\";\"married\";\"unknown\";\"no\";1506...                                                                                                  \n",
              "4  33;\"unknown\";\"single\";\"unknown\";\"no\";1;\"no\";\"n...                                                                                                  "
            ]
          },
          "metadata": {
            "tags": []
          },
          "execution_count": 185
        }
      ]
    },
    {
      "cell_type": "markdown",
      "metadata": {
        "id": "CtGbim_EYxFh"
      },
      "source": [
        "#### Input variables"
      ]
    },
    {
      "cell_type": "markdown",
      "metadata": {
        "id": "0pJ7ai5ZYxFh"
      },
      "source": [
        "1 - age (numeric)\n",
        "\n",
        "2 - job : type of job (categorical: 'admin.','blue-collar','entrepreneur','housemaid','management','retired','self-employed','services','student','technician','unemployed','unknown')\n",
        "\n",
        "3 - marital : marital status (categorical: 'divorced','married','single','unknown'; note: 'divorced' means divorced or widowed)\n",
        "\n",
        "4 - education (categorical: 'basic.4y','basic.6y','basic.9y','high.school','illiterate','professional.course','university.degree','unknown')\n",
        "\n",
        "5 - default: has credit in default? (categorical: 'no','yes','unknown')\n",
        "\n",
        "6 - housing: has housing loan? (categorical: 'no','yes','unknown')\n",
        "\n",
        "7 - loan: has personal loan? (categorical: 'no','yes','unknown')\n",
        "\n",
        "8 - contact: contact communication type (categorical: 'cellular','telephone')\n",
        "\n",
        "9 - month: last contact month of year (categorical: 'jan', 'feb', 'mar', ..., 'nov', 'dec')\n",
        "\n",
        "10 - day_of_week: last contact day of the week (categorical: 'mon','tue','wed','thu','fri')\n",
        "\n",
        "11 - duration: last contact duration, in seconds (numeric). Important note: this attribute highly affects the output target (e.g., if duration=0 then y='no'). Yet, the duration is not known before a call is performed. Also, after the end of the call y is obviously known. Thus, this input should only be included for benchmark purposes and should be discarded if the intention is to have a realistic predictive model.\n",
        "\n",
        "12 - campaign: number of contacts performed during this campaign and for this client (numeric, includes last contact)\n",
        "\n",
        "13 - pdays: number of days that passed by after the client was last contacted from a previous campaign (numeric; 999 means client was not previously contacted)\n",
        "\n",
        "14 - previous: number of contacts performed before this campaign and for this client (numeric)\n",
        "\n",
        "15 - poutcome: outcome of the previous marketing campaign (categorical: 'failure','nonexistent','success')\n",
        "\n",
        "16 - emp.var.rate: employment variation rate - (numeric)\n",
        "\n",
        "17 - cons.price.idx: consumer price index - (numeric)\n",
        "\n",
        "18 - cons.conf.idx: consumer confidence index - (numeric) \n",
        "\n",
        "19 - euribor3m: euribor 3 month rate - (numeric)\n",
        "\n",
        "20 - nr.employed: number of employees - (numeric)"
      ]
    },
    {
      "cell_type": "markdown",
      "metadata": {
        "id": "YwsaBV_OYxFi"
      },
      "source": [
        "#### Predict variable (desired target):\n",
        "\n",
        "y - has the client subscribed a term deposit? (binary: '1','0')"
      ]
    },
    {
      "cell_type": "markdown",
      "metadata": {
        "id": "2SsNWV_SYxFj"
      },
      "source": [
        "The education column of the dataset has many categories and we need to reduce the categories for a better modelling. The education column has the following categories:"
      ]
    },
    {
      "cell_type": "code",
      "metadata": {
        "id": "6TFbgh3vYxFk",
        "outputId": "ce01e46e-d11a-4192-a4c7-ea57039f185f",
        "colab": {
          "base_uri": "https://localhost:8080/",
          "height": 555
        }
      },
      "source": [
        "df_bank['education'].unique()"
      ],
      "execution_count": null,
      "outputs": [
        {
          "output_type": "error",
          "ename": "KeyError",
          "evalue": "ignored",
          "traceback": [
            "\u001b[0;31m---------------------------------------------------------------------------\u001b[0m",
            "\u001b[0;31mKeyError\u001b[0m                                  Traceback (most recent call last)",
            "\u001b[0;32m/usr/local/lib/python3.6/dist-packages/pandas/core/indexes/base.py\u001b[0m in \u001b[0;36mget_loc\u001b[0;34m(self, key, method, tolerance)\u001b[0m\n\u001b[1;32m   2890\u001b[0m             \u001b[0;32mtry\u001b[0m\u001b[0;34m:\u001b[0m\u001b[0;34m\u001b[0m\u001b[0;34m\u001b[0m\u001b[0m\n\u001b[0;32m-> 2891\u001b[0;31m                 \u001b[0;32mreturn\u001b[0m \u001b[0mself\u001b[0m\u001b[0;34m.\u001b[0m\u001b[0m_engine\u001b[0m\u001b[0;34m.\u001b[0m\u001b[0mget_loc\u001b[0m\u001b[0;34m(\u001b[0m\u001b[0mcasted_key\u001b[0m\u001b[0;34m)\u001b[0m\u001b[0;34m\u001b[0m\u001b[0;34m\u001b[0m\u001b[0m\n\u001b[0m\u001b[1;32m   2892\u001b[0m             \u001b[0;32mexcept\u001b[0m \u001b[0mKeyError\u001b[0m \u001b[0;32mas\u001b[0m \u001b[0merr\u001b[0m\u001b[0;34m:\u001b[0m\u001b[0;34m\u001b[0m\u001b[0;34m\u001b[0m\u001b[0m\n",
            "\u001b[0;32mpandas/_libs/index.pyx\u001b[0m in \u001b[0;36mpandas._libs.index.IndexEngine.get_loc\u001b[0;34m()\u001b[0m\n",
            "\u001b[0;32mpandas/_libs/index.pyx\u001b[0m in \u001b[0;36mpandas._libs.index.IndexEngine.get_loc\u001b[0;34m()\u001b[0m\n",
            "\u001b[0;32mpandas/_libs/hashtable_class_helper.pxi\u001b[0m in \u001b[0;36mpandas._libs.hashtable.PyObjectHashTable.get_item\u001b[0;34m()\u001b[0m\n",
            "\u001b[0;32mpandas/_libs/hashtable_class_helper.pxi\u001b[0m in \u001b[0;36mpandas._libs.hashtable.PyObjectHashTable.get_item\u001b[0;34m()\u001b[0m\n",
            "\u001b[0;31mKeyError\u001b[0m: 'education'",
            "\nThe above exception was the direct cause of the following exception:\n",
            "\u001b[0;31mKeyError\u001b[0m                                  Traceback (most recent call last)",
            "\u001b[0;32m<ipython-input-186-cdaa94fed67e>\u001b[0m in \u001b[0;36m<module>\u001b[0;34m()\u001b[0m\n\u001b[0;32m----> 1\u001b[0;31m \u001b[0mdf_bank\u001b[0m\u001b[0;34m[\u001b[0m\u001b[0;34m'education'\u001b[0m\u001b[0;34m]\u001b[0m\u001b[0;34m.\u001b[0m\u001b[0munique\u001b[0m\u001b[0;34m(\u001b[0m\u001b[0;34m)\u001b[0m\u001b[0;34m\u001b[0m\u001b[0;34m\u001b[0m\u001b[0m\n\u001b[0m",
            "\u001b[0;32m/usr/local/lib/python3.6/dist-packages/pandas/core/frame.py\u001b[0m in \u001b[0;36m__getitem__\u001b[0;34m(self, key)\u001b[0m\n\u001b[1;32m   2900\u001b[0m             \u001b[0;32mif\u001b[0m \u001b[0mself\u001b[0m\u001b[0;34m.\u001b[0m\u001b[0mcolumns\u001b[0m\u001b[0;34m.\u001b[0m\u001b[0mnlevels\u001b[0m \u001b[0;34m>\u001b[0m \u001b[0;36m1\u001b[0m\u001b[0;34m:\u001b[0m\u001b[0;34m\u001b[0m\u001b[0;34m\u001b[0m\u001b[0m\n\u001b[1;32m   2901\u001b[0m                 \u001b[0;32mreturn\u001b[0m \u001b[0mself\u001b[0m\u001b[0;34m.\u001b[0m\u001b[0m_getitem_multilevel\u001b[0m\u001b[0;34m(\u001b[0m\u001b[0mkey\u001b[0m\u001b[0;34m)\u001b[0m\u001b[0;34m\u001b[0m\u001b[0;34m\u001b[0m\u001b[0m\n\u001b[0;32m-> 2902\u001b[0;31m             \u001b[0mindexer\u001b[0m \u001b[0;34m=\u001b[0m \u001b[0mself\u001b[0m\u001b[0;34m.\u001b[0m\u001b[0mcolumns\u001b[0m\u001b[0;34m.\u001b[0m\u001b[0mget_loc\u001b[0m\u001b[0;34m(\u001b[0m\u001b[0mkey\u001b[0m\u001b[0;34m)\u001b[0m\u001b[0;34m\u001b[0m\u001b[0;34m\u001b[0m\u001b[0m\n\u001b[0m\u001b[1;32m   2903\u001b[0m             \u001b[0;32mif\u001b[0m \u001b[0mis_integer\u001b[0m\u001b[0;34m(\u001b[0m\u001b[0mindexer\u001b[0m\u001b[0;34m)\u001b[0m\u001b[0;34m:\u001b[0m\u001b[0;34m\u001b[0m\u001b[0;34m\u001b[0m\u001b[0m\n\u001b[1;32m   2904\u001b[0m                 \u001b[0mindexer\u001b[0m \u001b[0;34m=\u001b[0m \u001b[0;34m[\u001b[0m\u001b[0mindexer\u001b[0m\u001b[0;34m]\u001b[0m\u001b[0;34m\u001b[0m\u001b[0;34m\u001b[0m\u001b[0m\n",
            "\u001b[0;32m/usr/local/lib/python3.6/dist-packages/pandas/core/indexes/base.py\u001b[0m in \u001b[0;36mget_loc\u001b[0;34m(self, key, method, tolerance)\u001b[0m\n\u001b[1;32m   2891\u001b[0m                 \u001b[0;32mreturn\u001b[0m \u001b[0mself\u001b[0m\u001b[0;34m.\u001b[0m\u001b[0m_engine\u001b[0m\u001b[0;34m.\u001b[0m\u001b[0mget_loc\u001b[0m\u001b[0;34m(\u001b[0m\u001b[0mcasted_key\u001b[0m\u001b[0;34m)\u001b[0m\u001b[0;34m\u001b[0m\u001b[0;34m\u001b[0m\u001b[0m\n\u001b[1;32m   2892\u001b[0m             \u001b[0;32mexcept\u001b[0m \u001b[0mKeyError\u001b[0m \u001b[0;32mas\u001b[0m \u001b[0merr\u001b[0m\u001b[0;34m:\u001b[0m\u001b[0;34m\u001b[0m\u001b[0;34m\u001b[0m\u001b[0m\n\u001b[0;32m-> 2893\u001b[0;31m                 \u001b[0;32mraise\u001b[0m \u001b[0mKeyError\u001b[0m\u001b[0;34m(\u001b[0m\u001b[0mkey\u001b[0m\u001b[0;34m)\u001b[0m \u001b[0;32mfrom\u001b[0m \u001b[0merr\u001b[0m\u001b[0;34m\u001b[0m\u001b[0;34m\u001b[0m\u001b[0m\n\u001b[0m\u001b[1;32m   2894\u001b[0m \u001b[0;34m\u001b[0m\u001b[0m\n\u001b[1;32m   2895\u001b[0m         \u001b[0;32mif\u001b[0m \u001b[0mtolerance\u001b[0m \u001b[0;32mis\u001b[0m \u001b[0;32mnot\u001b[0m \u001b[0;32mNone\u001b[0m\u001b[0;34m:\u001b[0m\u001b[0;34m\u001b[0m\u001b[0;34m\u001b[0m\u001b[0m\n",
            "\u001b[0;31mKeyError\u001b[0m: 'education'"
          ]
        }
      ]
    },
    {
      "cell_type": "markdown",
      "metadata": {
        "id": "luv7Bdf_YxFn"
      },
      "source": [
        "Let us group \"basic.4y\", \"basic.9y\" and \"basic.6y\" together and call them \"basic\"."
      ]
    },
    {
      "cell_type": "code",
      "metadata": {
        "id": "gkOlUOs2YxFn"
      },
      "source": [
        "df_bank['education']=np.where(df_bank['education'] =='basic.9y', 'Basic', df_bank['education'])\n",
        "df_bank['education']=np.where(df_bank['education'] =='basic.6y', 'Basic', df_bank['education'])\n",
        "df_bank['education']=np.where(df_bank['education'] =='basic.4y', 'Basic', df_bank['education'])"
      ],
      "execution_count": null,
      "outputs": []
    },
    {
      "cell_type": "markdown",
      "metadata": {
        "id": "H-X1WMv2YxFq"
      },
      "source": [
        "After grouping, this is the columns"
      ]
    },
    {
      "cell_type": "code",
      "metadata": {
        "id": "r9LlgpkjYxFq"
      },
      "source": [
        "df_bank['education'].unique()"
      ],
      "execution_count": null,
      "outputs": []
    },
    {
      "cell_type": "markdown",
      "metadata": {
        "id": "fcnJy3KYYxFt"
      },
      "source": [
        "### Data exploration"
      ]
    },
    {
      "cell_type": "code",
      "metadata": {
        "id": "qUrTMR8BYxFt"
      },
      "source": [
        "df_bank['y'].value_counts()"
      ],
      "execution_count": null,
      "outputs": []
    },
    {
      "cell_type": "code",
      "metadata": {
        "id": "rpzHnzJKYxFx"
      },
      "source": [
        "sns.countplot(x='y',data=df_bank, palette='hls')\n",
        "plt.show()\n",
        "plt.savefig('count_plot')"
      ],
      "execution_count": null,
      "outputs": []
    },
    {
      "cell_type": "markdown",
      "metadata": {
        "id": "C99nOe3mYxF0"
      },
      "source": [
        "There are 36548 no's and 4640 yes's in the outcome variables."
      ]
    },
    {
      "cell_type": "markdown",
      "metadata": {
        "id": "8nGaox_kYxF1"
      },
      "source": [
        "Let's get a sense of the numbers across the two classes"
      ]
    },
    {
      "cell_type": "code",
      "metadata": {
        "id": "sQvzA60bYxF1"
      },
      "source": [
        "df_bank.groupby('y').mean()"
      ],
      "execution_count": null,
      "outputs": []
    },
    {
      "cell_type": "markdown",
      "metadata": {
        "id": "u3xjoceKYxF3"
      },
      "source": [
        "Observations:\n",
        "\n",
        "The average age of customers who bought the term deposit is higher than that of the customers who didn't.\n",
        "The pdays (days since the customer was last contacted) is understandably lower for the customers who bought it. The lower the pdays, the better the memory of the last call and hence the better chances of a sale.\n",
        "Surprisingly, campaigns (number of contacts or calls made during the current campaign) are lower for customers who bought the term deposit."
      ]
    },
    {
      "cell_type": "markdown",
      "metadata": {
        "id": "jvzGMePPYxF4"
      },
      "source": [
        "We can calculate categorical means for other categorical variables such as education and marital status to get a more detailed sense of our data."
      ]
    },
    {
      "cell_type": "code",
      "metadata": {
        "id": "RqLVMjoxYxF5"
      },
      "source": [
        "df_bank.groupby('job').mean()"
      ],
      "execution_count": null,
      "outputs": []
    },
    {
      "cell_type": "code",
      "metadata": {
        "id": "GTUeRJAtYxF7"
      },
      "source": [
        "df_bank.groupby('marital').mean()"
      ],
      "execution_count": null,
      "outputs": []
    },
    {
      "cell_type": "code",
      "metadata": {
        "id": "xsxdFumiYxF9"
      },
      "source": [
        "df_bank.groupby('education').mean()"
      ],
      "execution_count": null,
      "outputs": []
    },
    {
      "cell_type": "markdown",
      "metadata": {
        "id": "3i1DCWV-YxGA"
      },
      "source": [
        "Visualizations"
      ]
    },
    {
      "cell_type": "code",
      "metadata": {
        "id": "OEArHQPbYxGB"
      },
      "source": [
        "%matplotlib inline\n",
        "pd.crosstab(df_bank.job,df_bank.y).plot(kind='bar')\n",
        "plt.title('Purchase Frequency for Job Title')\n",
        "plt.xlabel('Job')\n",
        "plt.ylabel('Frequency of Purchase')\n",
        "plt.savefig('purchase_fre_job')"
      ],
      "execution_count": null,
      "outputs": []
    },
    {
      "cell_type": "markdown",
      "metadata": {
        "id": "PNwo5du_YxGD"
      },
      "source": [
        "The frequency of purchase of the deposit depends a great deal on the job title. Thus, the job title can be a good predictor of the outcome variable."
      ]
    },
    {
      "cell_type": "code",
      "metadata": {
        "id": "eM7CWfAZYxGE"
      },
      "source": [
        "table=pd.crosstab(df_bank.marital,df_bank.y)\n",
        "table.div(table.sum(1).astype(float), axis=0).plot(kind='bar', stacked=True)\n",
        "plt.title('Stacked Bar Chart of Marital Status vs Purchase')\n",
        "plt.xlabel('Marital Status')\n",
        "plt.ylabel('Proportion of Customers')\n",
        "plt.savefig('mariral_vs_pur_stack')"
      ],
      "execution_count": null,
      "outputs": []
    },
    {
      "cell_type": "markdown",
      "metadata": {
        "id": "LWBLh7toYxGG"
      },
      "source": [
        "Hard to see, but the marital status does not seem a strong predictor for the outcome variable."
      ]
    },
    {
      "cell_type": "code",
      "metadata": {
        "id": "vh_u4QphYxGH"
      },
      "source": [
        "table=pd.crosstab(df_bank.education,df_bank.y)\n",
        "table.div(table.sum(1).astype(float), axis=0).plot(kind='bar', stacked=True)\n",
        "plt.title('Stacked Bar Chart of Education vs Purchase')\n",
        "plt.xlabel('Education')\n",
        "plt.ylabel('Proportion of Customers')\n",
        "plt.savefig('edu_vs_pur_stack')"
      ],
      "execution_count": null,
      "outputs": []
    },
    {
      "cell_type": "markdown",
      "metadata": {
        "id": "d9AgJroYYxGK"
      },
      "source": [
        "Education seems a good predictor of the outcome variable."
      ]
    },
    {
      "cell_type": "code",
      "metadata": {
        "id": "dHI2LT-IYxGL"
      },
      "source": [
        "pd.crosstab(df_bank.day_of_week,df_bank.y).plot(kind='bar')\n",
        "plt.title('Purchase Frequency for Day of Week')\n",
        "plt.xlabel('Day of Week')\n",
        "plt.ylabel('Frequency of Purchase')\n",
        "plt.savefig('pur_dayofweek_bar')"
      ],
      "execution_count": null,
      "outputs": []
    },
    {
      "cell_type": "markdown",
      "metadata": {
        "id": "3A2jmS4MYxGR"
      },
      "source": [
        "Day of week may not be a good predictor of the outcome"
      ]
    },
    {
      "cell_type": "code",
      "metadata": {
        "id": "bzafDBHpYxGS"
      },
      "source": [
        "pd.crosstab(df_bank.month,df_bank.y).plot(kind='bar')\n",
        "plt.title('Purchase Frequency for Month')\n",
        "plt.xlabel('Month')\n",
        "plt.ylabel('Frequency of Purchase')\n",
        "plt.savefig('pur_fre_month_bar')"
      ],
      "execution_count": null,
      "outputs": []
    },
    {
      "cell_type": "markdown",
      "metadata": {
        "id": "x5CBtquEYxGW"
      },
      "source": [
        "Month might be a good predictor of the outcome variable"
      ]
    },
    {
      "cell_type": "code",
      "metadata": {
        "id": "tgF_3SqWYxGY"
      },
      "source": [
        "df_bank.age.hist()\n",
        "plt.title('Histogram of Age')\n",
        "plt.xlabel('Age')\n",
        "plt.ylabel('Frequency')\n",
        "plt.savefig('hist_age')"
      ],
      "execution_count": null,
      "outputs": []
    },
    {
      "cell_type": "markdown",
      "metadata": {
        "id": "y0FhKYDsYxGc"
      },
      "source": [
        "The most of the customers of the bank in this dataset are in the age range of 30-40."
      ]
    },
    {
      "cell_type": "code",
      "metadata": {
        "id": "5Nd3yV7DYxGd"
      },
      "source": [
        "pd.crosstab(df_bank.poutcome,df_bank.y).plot(kind='bar')\n",
        "plt.title('Purchase Frequency for Poutcome')\n",
        "plt.xlabel('Poutcome')\n",
        "plt.ylabel('Frequency of Purchase')\n",
        "plt.savefig('pur_fre_pout_bar')"
      ],
      "execution_count": null,
      "outputs": []
    },
    {
      "cell_type": "markdown",
      "metadata": {
        "id": "oRKUAGrjYxGh"
      },
      "source": [
        "Poutcome seems to be a good predictor of the outcome variable."
      ]
    },
    {
      "cell_type": "markdown",
      "metadata": {
        "id": "63RLRI9uYxGi"
      },
      "source": [
        "### Create dummy variables"
      ]
    },
    {
      "cell_type": "code",
      "metadata": {
        "id": "V8S4WUKmYxGj"
      },
      "source": [
        "cat_vars=['job','marital','education','default','housing','loan','contact','month','day_of_week','poutcome']\n",
        "for var in cat_vars:\n",
        "    cat_list='var'+'_'+var\n",
        "    cat_list = pd.get_dummies(df_bank[var], prefix=var)\n",
        "    df_bank1=df_bank.join(cat_list)\n",
        "    data=df_bank1"
      ],
      "execution_count": null,
      "outputs": []
    },
    {
      "cell_type": "code",
      "metadata": {
        "id": "uX3w9i9WYxGl"
      },
      "source": [
        "cat_vars=['job','marital','education','default','housing','loan','contact','month','day_of_week','poutcome']\n",
        "df_bank_vars=df_bank.columns.values.tolist()\n",
        "to_keep=[i for i in df_bank_vars if i not in cat_vars]"
      ],
      "execution_count": null,
      "outputs": []
    },
    {
      "cell_type": "code",
      "metadata": {
        "id": "cMX_82xaYxGq"
      },
      "source": [
        "df_bank_final=df_bank[to_keep]\n",
        "df_bank_final.columns.values"
      ],
      "execution_count": null,
      "outputs": []
    },
    {
      "cell_type": "code",
      "metadata": {
        "id": "LkTjpxYoYxGr"
      },
      "source": [
        "df_bank_final_vars=df_bank_final.columns.values.tolist()\n",
        "y=['y']\n",
        "X=[i for i in df_bank_final_vars if i not in y]"
      ],
      "execution_count": null,
      "outputs": []
    },
    {
      "cell_type": "markdown",
      "metadata": {
        "id": "2QbKaRcsYxGt"
      },
      "source": [
        "### Feature Selection"
      ]
    },
    {
      "cell_type": "code",
      "metadata": {
        "id": "EkxjW1AQYxGu"
      },
      "source": [
        "from sklearn import datasets\n",
        "from sklearn.feature_selection import RFE\n",
        "from sklearn.linear_model import LogisticRegression\n",
        "\n",
        "logreg = LogisticRegression()\n",
        "\n",
        "rfe = RFE(logreg, 18)\n",
        "rfe = rfe.fit(df_bank_final[X], df_bank_final[y] )\n",
        "print(rfe.support_)\n",
        "print(rfe.ranking_)"
      ],
      "execution_count": null,
      "outputs": []
    },
    {
      "cell_type": "markdown",
      "metadata": {
        "id": "2P9hd4jHYxGw"
      },
      "source": [
        "The Recursive Feature Elimination (RFE) has helped us select the following features: \"previous\", \"euribor3m\", \"job_blue-collar\", \"job_retired\", \"job_services\", \"job_student\", \"default_no\", \"month_aug\", \"month_dec\", \"month_jul\", \"month_nov\", \"month_oct\", \"month_sep\", \"day_of_week_fri\", \"day_of_week_wed\", \"poutcome_failure\", \"poutcome_nonexistent\", \"poutcome_success\"."
      ]
    },
    {
      "cell_type": "code",
      "metadata": {
        "id": "5PW8WZX_YxGx"
      },
      "source": [
        "cols=[\"previous\", \"euribor3m\", \"job_blue-collar\", \"job_retired\", \"job_services\", \"job_student\", \"default_no\", \n",
        "      \"month_aug\", \"month_dec\", \"month_jul\", \"month_nov\", \"month_oct\", \"month_sep\", \"day_of_week_fri\", \"day_of_week_wed\", \n",
        "      \"poutcome_failure\", \"poutcome_nonexistent\", \"poutcome_success\"] \n",
        "X=df_bank_final[cols]\n",
        "y=df_bank_final['y']"
      ],
      "execution_count": null,
      "outputs": []
    },
    {
      "cell_type": "markdown",
      "metadata": {
        "id": "Ix0mN9qxYxG0"
      },
      "source": [
        "### Implementing the model"
      ]
    },
    {
      "cell_type": "code",
      "metadata": {
        "id": "Hbx2bwtiYxG0"
      },
      "source": [
        "import statsmodels.api as sm\n",
        "logit_model=sm.Logit(y,X)\n",
        "result=logit_model.fit()\n",
        "print(result.summary())"
      ],
      "execution_count": null,
      "outputs": []
    },
    {
      "cell_type": "markdown",
      "metadata": {
        "id": "HR1ui-UcYxG2"
      },
      "source": [
        "The p-values for most of the variables are very small, therefore, most of them are significant to the model."
      ]
    },
    {
      "cell_type": "markdown",
      "metadata": {
        "id": "9GHhrsaeYxG3"
      },
      "source": [
        "### Logistic Regression Model Fitting"
      ]
    },
    {
      "cell_type": "code",
      "metadata": {
        "id": "MFQnH5MzYxG3"
      },
      "source": [
        "X_train, X_test, y_train, y_test = train_test_split(X, y, test_size=0.3, random_state=0)\n",
        "from sklearn.linear_model import LogisticRegression\n",
        "from sklearn import metrics\n",
        "logreg = LogisticRegression()\n",
        "logreg.fit(X_train, y_train)"
      ],
      "execution_count": null,
      "outputs": []
    },
    {
      "cell_type": "markdown",
      "metadata": {
        "id": "YUa3QL7tYxG6"
      },
      "source": [
        "#### Predicting the test set results and caculating the accuracy"
      ]
    },
    {
      "cell_type": "code",
      "metadata": {
        "id": "SD-y2e33YxG6"
      },
      "source": [
        "y_pred = logreg.predict(X_test)"
      ],
      "execution_count": null,
      "outputs": []
    },
    {
      "cell_type": "code",
      "metadata": {
        "id": "kkPWzos7YxG-"
      },
      "source": [
        "print('Accuracy of logistic regression classifier on test set: {:.2f}'.format(logreg.score(X_test, y_test)))"
      ],
      "execution_count": null,
      "outputs": []
    },
    {
      "cell_type": "markdown",
      "metadata": {
        "id": "kwC3rt_6YxHA"
      },
      "source": [
        "### Cross Validation"
      ]
    },
    {
      "cell_type": "code",
      "metadata": {
        "id": "Muw50oqSYxHB"
      },
      "source": [
        "from sklearn import model_selection\n",
        "from sklearn.model_selection import cross_val_score\n",
        "kfold = model_selection.KFold(n_splits=10, random_state=7)\n",
        "modelCV = LogisticRegression()\n",
        "scoring = 'accuracy'\n",
        "results = model_selection.cross_val_score(modelCV, X_train, y_train, cv=kfold, scoring=scoring)\n",
        "print(\"10-fold cross validation average accuracy: %.3f\" % (results.mean()))"
      ],
      "execution_count": null,
      "outputs": []
    },
    {
      "cell_type": "markdown",
      "metadata": {
        "id": "4y8XCTqoYxHE"
      },
      "source": [
        "### Confusion Matrix"
      ]
    },
    {
      "cell_type": "code",
      "metadata": {
        "id": "BCza9NkVYxHE"
      },
      "source": [
        "from sklearn.metrics import confusion_matrix\n",
        "confusion_matrix = confusion_matrix(y_test, y_pred)\n",
        "print(confusion_matrix)"
      ],
      "execution_count": null,
      "outputs": []
    },
    {
      "cell_type": "markdown",
      "metadata": {
        "id": "X9SapwS2YxHG"
      },
      "source": [
        "The result is telling us that we have 10872+254 correct predictions and 1122+109 incorrect predictions."
      ]
    },
    {
      "cell_type": "markdown",
      "metadata": {
        "id": "6bEWvWScYxHG"
      },
      "source": [
        "#### Accuracy"
      ]
    },
    {
      "cell_type": "code",
      "metadata": {
        "id": "NaH2nESwYxHH"
      },
      "source": [
        "print('Accuracy of logistic regression classifier on test set: {:.2f}'.format(classifier.score(X_test, y_test)))"
      ],
      "execution_count": null,
      "outputs": []
    },
    {
      "cell_type": "markdown",
      "metadata": {
        "id": "C6oxlhbpYxHJ"
      },
      "source": [
        "#### Compute precision, recall, F-measure and support\n",
        "\n",
        "The precision is the ratio tp / (tp + fp) where tp is the number of true positives and fp the number of false positives. The precision is intuitively the ability of the classifier not to label as positive a sample that is negative.\n",
        "\n",
        "The recall is the ratio tp / (tp + fn) where tp is the number of true positives and fn the number of false negatives. The recall is intuitively the ability of the classifier to find all the positive samples.\n",
        "\n",
        "The F-beta score can be interpreted as a weighted harmonic mean of the precision and recall, where an F-beta score reaches its best value at 1 and worst score at 0.\n",
        "\n",
        "The F-beta score weights recall more than precision by a factor of beta. beta == 1.0 means recall and precision are equally important.\n",
        "\n",
        "The support is the number of occurrences of each class in y_test."
      ]
    },
    {
      "cell_type": "code",
      "metadata": {
        "id": "mhN5_p4yYxHK"
      },
      "source": [
        "from sklearn.metrics import classification_report\n",
        "print(classification_report(y_test, y_pred))"
      ],
      "execution_count": null,
      "outputs": []
    },
    {
      "cell_type": "markdown",
      "metadata": {
        "id": "xzSFVEnAYxHP"
      },
      "source": [
        "#### Interpretation: \n",
        "\n",
        "Of the entire test set, 88% of the promoted term deposit were the term deposit that the customers liked. Of the entire test set, 90% of the customer's preferred term deposit were promoted."
      ]
    },
    {
      "cell_type": "markdown",
      "metadata": {
        "id": "NGXJ6g2nYxHQ"
      },
      "source": [
        "### ROC Curvefrom sklearn import metrics\n",
        "from ggplot import *\n",
        "\n",
        "prob = clf1.predict_proba(X_test)[:,1]\n",
        "fpr, sensitivity, _ = metrics.roc_curve(Y_test, prob)\n",
        "\n",
        "df = pd.DataFrame(dict(fpr=fpr, sensitivity=sensitivity))\n",
        "ggplot(df, aes(x='fpr', y='sensitivity')) +\\\n",
        "    geom_line() +\\\n",
        "    geom_abline(linetype='dashed')"
      ]
    },
    {
      "cell_type": "code",
      "metadata": {
        "id": "u9QKDuS0YxHQ"
      },
      "source": [
        "from sklearn.metrics import roc_auc_score\n",
        "from sklearn.metrics import roc_curve\n",
        "logit_roc_auc = roc_auc_score(y_test, logreg.predict(X_test))\n",
        "fpr, tpr, thresholds = roc_curve(y_test, logreg.predict_proba(X_test)[:,1])\n",
        "plt.figure()\n",
        "plt.plot(fpr, tpr, label='Logistic Regression (area = %0.2f)' % logit_roc_auc)\n",
        "plt.plot([0, 1], [0, 1],'r--')\n",
        "plt.xlim([0.0, 1.0])\n",
        "plt.ylim([0.0, 1.05])\n",
        "plt.xlabel('False Positive Rate')\n",
        "plt.ylabel('True Positive Rate')\n",
        "plt.title('Receiver operating characteristic')\n",
        "plt.legend(loc=\"lower right\")\n",
        "plt.savefig('Log_ROC')\n",
        "plt.show()"
      ],
      "execution_count": null,
      "outputs": []
    }
  ]
}